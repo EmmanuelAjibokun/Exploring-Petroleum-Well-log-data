{
 "cells": [
  {
   "cell_type": "code",
   "execution_count": 15,
   "id": "30f12aab",
   "metadata": {},
   "outputs": [],
   "source": [
    "import xgboost as xgb"
   ]
  },
  {
   "cell_type": "code",
   "execution_count": 3,
   "id": "e095554f",
   "metadata": {},
   "outputs": [],
   "source": [
    "import pandas as pd\n",
    "import matplotlib.pyplot as plt\n",
    "import numpy as np\n",
    "import lasio"
   ]
  },
  {
   "cell_type": "code",
   "execution_count": 40,
   "id": "82bced23",
   "metadata": {},
   "outputs": [],
   "source": [
    "# Train data\n",
    "\n",
    "las1 = lasio.read(\"../well-log-data/15_9-13.las\")\n",
    "las2 = lasio.read(\"../well-log-data/16_8-1.las\")\n",
    "las3 = lasio.read(\"../well-log-data/25_11-5.las\")\n",
    "las4 = lasio.read(\"../well-log-data/25_6-3.las\")"
   ]
  },
  {
   "cell_type": "code",
   "execution_count": 41,
   "id": "a880272e",
   "metadata": {},
   "outputs": [],
   "source": [
    "# convert las files to dataframe\n",
    "\n",
    "df1 = las1.df()\n",
    "df2 = las2.df()\n",
    "df3 = las3.df()\n",
    "df4 = las4.df()"
   ]
  },
  {
   "cell_type": "code",
   "execution_count": 23,
   "id": "86f08a33",
   "metadata": {},
   "outputs": [
    {
     "data": {
      "text/html": [
       "<div>\n",
       "<style scoped>\n",
       "    .dataframe tbody tr th:only-of-type {\n",
       "        vertical-align: middle;\n",
       "    }\n",
       "\n",
       "    .dataframe tbody tr th {\n",
       "        vertical-align: top;\n",
       "    }\n",
       "\n",
       "    .dataframe thead th {\n",
       "        text-align: right;\n",
       "    }\n",
       "</style>\n",
       "<table border=\"1\" class=\"dataframe\">\n",
       "  <thead>\n",
       "    <tr style=\"text-align: right;\">\n",
       "      <th></th>\n",
       "      <th>FORCE_2020_LITHOFACIES_CONFIDENCE</th>\n",
       "      <th>FORCE_2020_LITHOFACIES_LITHOLOGY</th>\n",
       "      <th>CALI</th>\n",
       "      <th>BS</th>\n",
       "      <th>MUDWEIGHT</th>\n",
       "      <th>ROP</th>\n",
       "      <th>RDEP</th>\n",
       "      <th>RSHA</th>\n",
       "      <th>RMED</th>\n",
       "      <th>RMIC</th>\n",
       "      <th>SP</th>\n",
       "      <th>DTS</th>\n",
       "      <th>DTC</th>\n",
       "      <th>NPHI</th>\n",
       "      <th>GR</th>\n",
       "      <th>RHOB</th>\n",
       "      <th>DEPTH_MD</th>\n",
       "      <th>X_LOC</th>\n",
       "      <th>Y_LOC</th>\n",
       "      <th>Z_LOC</th>\n",
       "    </tr>\n",
       "    <tr>\n",
       "      <th>DEPT</th>\n",
       "      <th></th>\n",
       "      <th></th>\n",
       "      <th></th>\n",
       "      <th></th>\n",
       "      <th></th>\n",
       "      <th></th>\n",
       "      <th></th>\n",
       "      <th></th>\n",
       "      <th></th>\n",
       "      <th></th>\n",
       "      <th></th>\n",
       "      <th></th>\n",
       "      <th></th>\n",
       "      <th></th>\n",
       "      <th></th>\n",
       "      <th></th>\n",
       "      <th></th>\n",
       "      <th></th>\n",
       "      <th></th>\n",
       "      <th></th>\n",
       "    </tr>\n",
       "  </thead>\n",
       "  <tbody>\n",
       "    <tr>\n",
       "      <th>138.099729</th>\n",
       "      <td>NaN</td>\n",
       "      <td>NaN</td>\n",
       "      <td>NaN</td>\n",
       "      <td>NaN</td>\n",
       "      <td>NaN</td>\n",
       "      <td>32.879009</td>\n",
       "      <td>NaN</td>\n",
       "      <td>NaN</td>\n",
       "      <td>NaN</td>\n",
       "      <td>NaN</td>\n",
       "      <td>NaN</td>\n",
       "      <td>NaN</td>\n",
       "      <td>NaN</td>\n",
       "      <td>NaN</td>\n",
       "      <td>NaN</td>\n",
       "      <td>NaN</td>\n",
       "      <td>NaN</td>\n",
       "      <td>NaN</td>\n",
       "      <td>NaN</td>\n",
       "      <td>NaN</td>\n",
       "    </tr>\n",
       "    <tr>\n",
       "      <th>138.251729</th>\n",
       "      <td>NaN</td>\n",
       "      <td>NaN</td>\n",
       "      <td>NaN</td>\n",
       "      <td>NaN</td>\n",
       "      <td>NaN</td>\n",
       "      <td>32.929207</td>\n",
       "      <td>NaN</td>\n",
       "      <td>NaN</td>\n",
       "      <td>NaN</td>\n",
       "      <td>NaN</td>\n",
       "      <td>NaN</td>\n",
       "      <td>NaN</td>\n",
       "      <td>NaN</td>\n",
       "      <td>NaN</td>\n",
       "      <td>NaN</td>\n",
       "      <td>NaN</td>\n",
       "      <td>NaN</td>\n",
       "      <td>NaN</td>\n",
       "      <td>NaN</td>\n",
       "      <td>NaN</td>\n",
       "    </tr>\n",
       "    <tr>\n",
       "      <th>138.403729</th>\n",
       "      <td>NaN</td>\n",
       "      <td>NaN</td>\n",
       "      <td>NaN</td>\n",
       "      <td>NaN</td>\n",
       "      <td>NaN</td>\n",
       "      <td>32.979416</td>\n",
       "      <td>NaN</td>\n",
       "      <td>NaN</td>\n",
       "      <td>NaN</td>\n",
       "      <td>NaN</td>\n",
       "      <td>NaN</td>\n",
       "      <td>NaN</td>\n",
       "      <td>NaN</td>\n",
       "      <td>NaN</td>\n",
       "      <td>NaN</td>\n",
       "      <td>NaN</td>\n",
       "      <td>NaN</td>\n",
       "      <td>NaN</td>\n",
       "      <td>NaN</td>\n",
       "      <td>NaN</td>\n",
       "    </tr>\n",
       "    <tr>\n",
       "      <th>138.555729</th>\n",
       "      <td>NaN</td>\n",
       "      <td>NaN</td>\n",
       "      <td>NaN</td>\n",
       "      <td>NaN</td>\n",
       "      <td>NaN</td>\n",
       "      <td>33.029613</td>\n",
       "      <td>NaN</td>\n",
       "      <td>NaN</td>\n",
       "      <td>NaN</td>\n",
       "      <td>NaN</td>\n",
       "      <td>NaN</td>\n",
       "      <td>NaN</td>\n",
       "      <td>NaN</td>\n",
       "      <td>NaN</td>\n",
       "      <td>NaN</td>\n",
       "      <td>NaN</td>\n",
       "      <td>NaN</td>\n",
       "      <td>NaN</td>\n",
       "      <td>NaN</td>\n",
       "      <td>NaN</td>\n",
       "    </tr>\n",
       "    <tr>\n",
       "      <th>138.707729</th>\n",
       "      <td>NaN</td>\n",
       "      <td>NaN</td>\n",
       "      <td>NaN</td>\n",
       "      <td>NaN</td>\n",
       "      <td>NaN</td>\n",
       "      <td>33.117496</td>\n",
       "      <td>NaN</td>\n",
       "      <td>NaN</td>\n",
       "      <td>NaN</td>\n",
       "      <td>NaN</td>\n",
       "      <td>NaN</td>\n",
       "      <td>NaN</td>\n",
       "      <td>NaN</td>\n",
       "      <td>NaN</td>\n",
       "      <td>NaN</td>\n",
       "      <td>NaN</td>\n",
       "      <td>NaN</td>\n",
       "      <td>NaN</td>\n",
       "      <td>NaN</td>\n",
       "      <td>NaN</td>\n",
       "    </tr>\n",
       "  </tbody>\n",
       "</table>\n",
       "</div>"
      ],
      "text/plain": [
       "            FORCE_2020_LITHOFACIES_CONFIDENCE  \\\n",
       "DEPT                                            \n",
       "138.099729                                NaN   \n",
       "138.251729                                NaN   \n",
       "138.403729                                NaN   \n",
       "138.555729                                NaN   \n",
       "138.707729                                NaN   \n",
       "\n",
       "            FORCE_2020_LITHOFACIES_LITHOLOGY  CALI  BS  MUDWEIGHT        ROP  \\\n",
       "DEPT                                                                           \n",
       "138.099729                               NaN   NaN NaN        NaN  32.879009   \n",
       "138.251729                               NaN   NaN NaN        NaN  32.929207   \n",
       "138.403729                               NaN   NaN NaN        NaN  32.979416   \n",
       "138.555729                               NaN   NaN NaN        NaN  33.029613   \n",
       "138.707729                               NaN   NaN NaN        NaN  33.117496   \n",
       "\n",
       "            RDEP  RSHA  RMED  RMIC  SP  DTS  DTC  NPHI  GR  RHOB  DEPTH_MD  \\\n",
       "DEPT                                                                         \n",
       "138.099729   NaN   NaN   NaN   NaN NaN  NaN  NaN   NaN NaN   NaN       NaN   \n",
       "138.251729   NaN   NaN   NaN   NaN NaN  NaN  NaN   NaN NaN   NaN       NaN   \n",
       "138.403729   NaN   NaN   NaN   NaN NaN  NaN  NaN   NaN NaN   NaN       NaN   \n",
       "138.555729   NaN   NaN   NaN   NaN NaN  NaN  NaN   NaN NaN   NaN       NaN   \n",
       "138.707729   NaN   NaN   NaN   NaN NaN  NaN  NaN   NaN NaN   NaN       NaN   \n",
       "\n",
       "            X_LOC  Y_LOC  Z_LOC  \n",
       "DEPT                             \n",
       "138.099729    NaN    NaN    NaN  \n",
       "138.251729    NaN    NaN    NaN  \n",
       "138.403729    NaN    NaN    NaN  \n",
       "138.555729    NaN    NaN    NaN  \n",
       "138.707729    NaN    NaN    NaN  "
      ]
     },
     "execution_count": 23,
     "metadata": {},
     "output_type": "execute_result"
    }
   ],
   "source": [
    "df4.head()"
   ]
  },
  {
   "cell_type": "code",
   "execution_count": 42,
   "id": "2305072d",
   "metadata": {},
   "outputs": [
    {
     "name": "stdout",
     "output_type": "stream",
     "text": [
      "df1\n",
      "<class 'pandas.core.frame.DataFrame'>\n",
      "Float64Index: 21441 entries, 25.0 to 3283.88\n",
      "Data columns (total 20 columns):\n",
      " #   Column                             Non-Null Count  Dtype  \n",
      "---  ------                             --------------  -----  \n",
      " 0   FORCE_2020_LITHOFACIES_CONFIDENCE  18277 non-null  float64\n",
      " 1   FORCE_2020_LITHOFACIES_LITHOLOGY   18270 non-null  float64\n",
      " 2   CALI                               18345 non-null  float64\n",
      " 3   MUDWEIGHT                          17520 non-null  float64\n",
      " 4   ROP                                20297 non-null  float64\n",
      " 5   RDEP                               20956 non-null  float64\n",
      " 6   RSHA                               1623 non-null   float64\n",
      " 7   RMED                               20957 non-null  float64\n",
      " 8   RXO                                1627 non-null   float64\n",
      " 9   SP                                 20956 non-null  float64\n",
      " 10  DTC                                21282 non-null  float64\n",
      " 11  NPHI                               14105 non-null  float64\n",
      " 12  PEF                                16446 non-null  float64\n",
      " 13  GR                                 20900 non-null  float64\n",
      " 14  RHOB                               18345 non-null  float64\n",
      " 15  DRHO                               18345 non-null  float64\n",
      " 16  DEPTH_MD                           20956 non-null  float64\n",
      " 17  X_LOC                              20956 non-null  float64\n",
      " 18  Y_LOC                              20956 non-null  float64\n",
      " 19  Z_LOC                              20956 non-null  float64\n",
      "dtypes: float64(20)\n",
      "memory usage: 3.4 MB\n"
     ]
    },
    {
     "data": {
      "text/plain": [
       "None"
      ]
     },
     "metadata": {},
     "output_type": "display_data"
    },
    {
     "name": "stdout",
     "output_type": "stream",
     "text": [
      "/n df2\n",
      "<class 'pandas.core.frame.DataFrame'>\n",
      "Float64Index: 14586 entries, 96.975196838 to 2313.8951968\n",
      "Data columns (total 18 columns):\n",
      " #   Column                             Non-Null Count  Dtype  \n",
      "---  ------                             --------------  -----  \n",
      " 0   FORCE_2020_LITHOFACIES_CONFIDENCE  6700 non-null   float64\n",
      " 1   FORCE_2020_LITHOFACIES_LITHOLOGY   6685 non-null   float64\n",
      " 2   CALI                               6709 non-null   float64\n",
      " 3   MUDWEIGHT                          13706 non-null  float64\n",
      " 4   ROP                                14418 non-null  float64\n",
      " 5   RDEP                               11888 non-null  float64\n",
      " 6   RSHA                               11888 non-null  float64\n",
      " 7   RMED                               11887 non-null  float64\n",
      " 8   SP                                 11888 non-null  float64\n",
      " 9   DTC                                13935 non-null  float64\n",
      " 10  NPHI                               4987 non-null   float64\n",
      " 11  GR                                 14540 non-null  float64\n",
      " 12  RHOB                               6709 non-null   float64\n",
      " 13  DRHO                               6712 non-null   float64\n",
      " 14  DEPTH_MD                           11888 non-null  float64\n",
      " 15  X_LOC                              11888 non-null  float64\n",
      " 16  Y_LOC                              11888 non-null  float64\n",
      " 17  Z_LOC                              11888 non-null  float64\n",
      "dtypes: float64(18)\n",
      "memory usage: 2.1 MB\n"
     ]
    },
    {
     "data": {
      "text/plain": [
       "None"
      ]
     },
     "metadata": {},
     "output_type": "display_data"
    },
    {
     "name": "stdout",
     "output_type": "stream",
     "text": [
      "/n df3\n",
      "<class 'pandas.core.frame.DataFrame'>\n",
      "Float64Index: 13337 entries, 146.60871887 to 2173.6807189\n",
      "Data columns (total 19 columns):\n",
      " #   Column                             Non-Null Count  Dtype  \n",
      "---  ------                             --------------  -----  \n",
      " 0   FORCE_2020_LITHOFACIES_CONFIDENCE  5059 non-null   float64\n",
      " 1   FORCE_2020_LITHOFACIES_LITHOLOGY   5060 non-null   float64\n",
      " 2   CALI                               11777 non-null  float64\n",
      " 3   BS                                 13266 non-null  float64\n",
      " 4   DCAL                               11777 non-null  float64\n",
      " 5   MUDWEIGHT                          12783 non-null  float64\n",
      " 6   ROP                                12807 non-null  float64\n",
      " 7   RDEP                               11730 non-null  float64\n",
      " 8   RMED                               11731 non-null  float64\n",
      " 9   SP                                 11686 non-null  float64\n",
      " 10  DTC                                10571 non-null  float64\n",
      " 11  NPHI                               6660 non-null   float64\n",
      " 12  GR                                 13279 non-null  float64\n",
      " 13  RHOB                               5159 non-null   float64\n",
      " 14  DRHO                               5157 non-null   float64\n",
      " 15  DEPTH_MD                           11730 non-null  float64\n",
      " 16  X_LOC                              11730 non-null  float64\n",
      " 17  Y_LOC                              11730 non-null  float64\n",
      " 18  Z_LOC                              11730 non-null  float64\n",
      "dtypes: float64(19)\n",
      "memory usage: 2.0 MB\n"
     ]
    },
    {
     "data": {
      "text/plain": [
       "None"
      ]
     },
     "metadata": {},
     "output_type": "display_data"
    },
    {
     "name": "stdout",
     "output_type": "stream",
     "text": [
      "/n df4\n",
      "<class 'pandas.core.frame.DataFrame'>\n",
      "Float64Index: 15388 entries, 138.09972888 to 2476.9237289\n",
      "Data columns (total 20 columns):\n",
      " #   Column                             Non-Null Count  Dtype  \n",
      "---  ------                             --------------  -----  \n",
      " 0   FORCE_2020_LITHOFACIES_CONFIDENCE  12009 non-null  float64\n",
      " 1   FORCE_2020_LITHOFACIES_LITHOLOGY   11994 non-null  float64\n",
      " 2   CALI                               12039 non-null  float64\n",
      " 3   BS                                 15060 non-null  float64\n",
      " 4   MUDWEIGHT                          8230 non-null   float64\n",
      " 5   ROP                                15372 non-null  float64\n",
      " 6   RDEP                               15013 non-null  float64\n",
      " 7   RSHA                               8245 non-null   float64\n",
      " 8   RMED                               14972 non-null  float64\n",
      " 9   RMIC                               8246 non-null   float64\n",
      " 10  SP                                 5020 non-null   float64\n",
      " 11  DTS                                12119 non-null  float64\n",
      " 12  DTC                                12170 non-null  float64\n",
      " 13  NPHI                               8221 non-null   float64\n",
      " 14  GR                                 14894 non-null  float64\n",
      " 15  RHOB                               8247 non-null   float64\n",
      " 16  DEPTH_MD                           15013 non-null  float64\n",
      " 17  X_LOC                              15013 non-null  float64\n",
      " 18  Y_LOC                              15013 non-null  float64\n",
      " 19  Z_LOC                              15013 non-null  float64\n",
      "dtypes: float64(20)\n",
      "memory usage: 2.5 MB\n"
     ]
    },
    {
     "data": {
      "text/plain": [
       "None"
      ]
     },
     "metadata": {},
     "output_type": "display_data"
    }
   ],
   "source": [
    "print(\"df1\")\n",
    "display(df1.info())\n",
    "print(\"/n df2\")\n",
    "display(df2.info())\n",
    "print(\"/n df3\")\n",
    "display(df3.info())\n",
    "print(\"/n df4\")\n",
    "display(df4.info())"
   ]
  },
  {
   "cell_type": "code",
   "execution_count": 43,
   "id": "d3f2a37e",
   "metadata": {
    "scrolled": true
   },
   "outputs": [
    {
     "data": {
      "text/plain": [
       "FORCE_2020_LITHOFACIES_CONFIDENCE     3164\n",
       "FORCE_2020_LITHOFACIES_LITHOLOGY      3171\n",
       "CALI                                  3096\n",
       "MUDWEIGHT                             3921\n",
       "ROP                                   1144\n",
       "RDEP                                   485\n",
       "RSHA                                 19818\n",
       "RMED                                   484\n",
       "RXO                                  19814\n",
       "SP                                     485\n",
       "DTC                                    159\n",
       "NPHI                                  7336\n",
       "PEF                                   4995\n",
       "GR                                     541\n",
       "RHOB                                  3096\n",
       "DRHO                                  3096\n",
       "DEPTH_MD                               485\n",
       "X_LOC                                  485\n",
       "Y_LOC                                  485\n",
       "Z_LOC                                  485\n",
       "dtype: int64"
      ]
     },
     "metadata": {},
     "output_type": "display_data"
    },
    {
     "data": {
      "text/plain": [
       "FORCE_2020_LITHOFACIES_CONFIDENCE    7886\n",
       "FORCE_2020_LITHOFACIES_LITHOLOGY     7901\n",
       "CALI                                 7877\n",
       "MUDWEIGHT                             880\n",
       "ROP                                   168\n",
       "RDEP                                 2698\n",
       "RSHA                                 2698\n",
       "RMED                                 2699\n",
       "SP                                   2698\n",
       "DTC                                   651\n",
       "NPHI                                 9599\n",
       "GR                                     46\n",
       "RHOB                                 7877\n",
       "DRHO                                 7874\n",
       "DEPTH_MD                             2698\n",
       "X_LOC                                2698\n",
       "Y_LOC                                2698\n",
       "Z_LOC                                2698\n",
       "dtype: int64"
      ]
     },
     "metadata": {},
     "output_type": "display_data"
    },
    {
     "data": {
      "text/plain": [
       "FORCE_2020_LITHOFACIES_CONFIDENCE    8278\n",
       "FORCE_2020_LITHOFACIES_LITHOLOGY     8277\n",
       "CALI                                 1560\n",
       "BS                                     71\n",
       "DCAL                                 1560\n",
       "MUDWEIGHT                             554\n",
       "ROP                                   530\n",
       "RDEP                                 1607\n",
       "RMED                                 1606\n",
       "SP                                   1651\n",
       "DTC                                  2766\n",
       "NPHI                                 6677\n",
       "GR                                     58\n",
       "RHOB                                 8178\n",
       "DRHO                                 8180\n",
       "DEPTH_MD                             1607\n",
       "X_LOC                                1607\n",
       "Y_LOC                                1607\n",
       "Z_LOC                                1607\n",
       "dtype: int64"
      ]
     },
     "metadata": {},
     "output_type": "display_data"
    },
    {
     "data": {
      "text/plain": [
       "FORCE_2020_LITHOFACIES_CONFIDENCE     3379\n",
       "FORCE_2020_LITHOFACIES_LITHOLOGY      3394\n",
       "CALI                                  3349\n",
       "BS                                     328\n",
       "MUDWEIGHT                             7158\n",
       "ROP                                     16\n",
       "RDEP                                   375\n",
       "RSHA                                  7143\n",
       "RMED                                   416\n",
       "RMIC                                  7142\n",
       "SP                                   10368\n",
       "DTS                                   3269\n",
       "DTC                                   3218\n",
       "NPHI                                  7167\n",
       "GR                                     494\n",
       "RHOB                                  7141\n",
       "DEPTH_MD                               375\n",
       "X_LOC                                  375\n",
       "Y_LOC                                  375\n",
       "Z_LOC                                  375\n",
       "dtype: int64"
      ]
     },
     "metadata": {},
     "output_type": "display_data"
    }
   ],
   "source": [
    "display(df1.isna().sum())\n",
    "display(df2.isna().sum())\n",
    "display(df3.isna().sum())\n",
    "display(df4.isna().sum())"
   ]
  },
  {
   "cell_type": "markdown",
   "id": "8d904834",
   "metadata": {},
   "source": [
    "## Drop curves that have <70% of total entries"
   ]
  },
  {
   "cell_type": "code",
   "execution_count": 44,
   "id": "b2ef8855",
   "metadata": {},
   "outputs": [],
   "source": [
    "df1 = df1.drop([\"RSHA\", \"RXO\", \"RHOB\", \"DRHO\"], axis=1)\n",
    "df2 = df2.drop([\"FORCE_2020_LITHOFACIES_CONFIDENCE\", \"FORCE_2020_LITHOFACIES_LITHOLOGY\", \"RHOB\", \"DRHO\"], axis=1)\n",
    "df3 = df3.drop([\"FORCE_2020_LITHOFACIES_CONFIDENCE\", \"FORCE_2020_LITHOFACIES_LITHOLOGY\", \"RHOB\", \"DRHO\"], axis=1)\n",
    "df4 = df4.drop([\"RSHA\", \"RMIC\", \"RHOB\"], axis=1)"
   ]
  },
  {
   "cell_type": "code",
   "execution_count": 45,
   "id": "113eab6b",
   "metadata": {
    "scrolled": true
   },
   "outputs": [
    {
     "name": "stdout",
     "output_type": "stream",
     "text": [
      "df1\n",
      "<class 'pandas.core.frame.DataFrame'>\n",
      "Float64Index: 21441 entries, 25.0 to 3283.88\n",
      "Data columns (total 16 columns):\n",
      " #   Column                             Non-Null Count  Dtype  \n",
      "---  ------                             --------------  -----  \n",
      " 0   FORCE_2020_LITHOFACIES_CONFIDENCE  18277 non-null  float64\n",
      " 1   FORCE_2020_LITHOFACIES_LITHOLOGY   18270 non-null  float64\n",
      " 2   CALI                               18345 non-null  float64\n",
      " 3   MUDWEIGHT                          17520 non-null  float64\n",
      " 4   ROP                                20297 non-null  float64\n",
      " 5   RDEP                               20956 non-null  float64\n",
      " 6   RMED                               20957 non-null  float64\n",
      " 7   SP                                 20956 non-null  float64\n",
      " 8   DTC                                21282 non-null  float64\n",
      " 9   NPHI                               14105 non-null  float64\n",
      " 10  PEF                                16446 non-null  float64\n",
      " 11  GR                                 20900 non-null  float64\n",
      " 12  DEPTH_MD                           20956 non-null  float64\n",
      " 13  X_LOC                              20956 non-null  float64\n",
      " 14  Y_LOC                              20956 non-null  float64\n",
      " 15  Z_LOC                              20956 non-null  float64\n",
      "dtypes: float64(16)\n",
      "memory usage: 2.8 MB\n"
     ]
    },
    {
     "data": {
      "text/plain": [
       "None"
      ]
     },
     "metadata": {},
     "output_type": "display_data"
    },
    {
     "name": "stdout",
     "output_type": "stream",
     "text": [
      "/n df2\n",
      "<class 'pandas.core.frame.DataFrame'>\n",
      "Float64Index: 14586 entries, 96.975196838 to 2313.8951968\n",
      "Data columns (total 14 columns):\n",
      " #   Column     Non-Null Count  Dtype  \n",
      "---  ------     --------------  -----  \n",
      " 0   CALI       6709 non-null   float64\n",
      " 1   MUDWEIGHT  13706 non-null  float64\n",
      " 2   ROP        14418 non-null  float64\n",
      " 3   RDEP       11888 non-null  float64\n",
      " 4   RSHA       11888 non-null  float64\n",
      " 5   RMED       11887 non-null  float64\n",
      " 6   SP         11888 non-null  float64\n",
      " 7   DTC        13935 non-null  float64\n",
      " 8   NPHI       4987 non-null   float64\n",
      " 9   GR         14540 non-null  float64\n",
      " 10  DEPTH_MD   11888 non-null  float64\n",
      " 11  X_LOC      11888 non-null  float64\n",
      " 12  Y_LOC      11888 non-null  float64\n",
      " 13  Z_LOC      11888 non-null  float64\n",
      "dtypes: float64(14)\n",
      "memory usage: 1.7 MB\n"
     ]
    },
    {
     "data": {
      "text/plain": [
       "None"
      ]
     },
     "metadata": {},
     "output_type": "display_data"
    },
    {
     "name": "stdout",
     "output_type": "stream",
     "text": [
      "/n df3\n",
      "<class 'pandas.core.frame.DataFrame'>\n",
      "Float64Index: 13337 entries, 146.60871887 to 2173.6807189\n",
      "Data columns (total 15 columns):\n",
      " #   Column     Non-Null Count  Dtype  \n",
      "---  ------     --------------  -----  \n",
      " 0   CALI       11777 non-null  float64\n",
      " 1   BS         13266 non-null  float64\n",
      " 2   DCAL       11777 non-null  float64\n",
      " 3   MUDWEIGHT  12783 non-null  float64\n",
      " 4   ROP        12807 non-null  float64\n",
      " 5   RDEP       11730 non-null  float64\n",
      " 6   RMED       11731 non-null  float64\n",
      " 7   SP         11686 non-null  float64\n",
      " 8   DTC        10571 non-null  float64\n",
      " 9   NPHI       6660 non-null   float64\n",
      " 10  GR         13279 non-null  float64\n",
      " 11  DEPTH_MD   11730 non-null  float64\n",
      " 12  X_LOC      11730 non-null  float64\n",
      " 13  Y_LOC      11730 non-null  float64\n",
      " 14  Z_LOC      11730 non-null  float64\n",
      "dtypes: float64(15)\n",
      "memory usage: 1.6 MB\n"
     ]
    },
    {
     "data": {
      "text/plain": [
       "None"
      ]
     },
     "metadata": {},
     "output_type": "display_data"
    },
    {
     "name": "stdout",
     "output_type": "stream",
     "text": [
      "/n df4\n",
      "<class 'pandas.core.frame.DataFrame'>\n",
      "Float64Index: 15388 entries, 138.09972888 to 2476.9237289\n",
      "Data columns (total 17 columns):\n",
      " #   Column                             Non-Null Count  Dtype  \n",
      "---  ------                             --------------  -----  \n",
      " 0   FORCE_2020_LITHOFACIES_CONFIDENCE  12009 non-null  float64\n",
      " 1   FORCE_2020_LITHOFACIES_LITHOLOGY   11994 non-null  float64\n",
      " 2   CALI                               12039 non-null  float64\n",
      " 3   BS                                 15060 non-null  float64\n",
      " 4   MUDWEIGHT                          8230 non-null   float64\n",
      " 5   ROP                                15372 non-null  float64\n",
      " 6   RDEP                               15013 non-null  float64\n",
      " 7   RMED                               14972 non-null  float64\n",
      " 8   SP                                 5020 non-null   float64\n",
      " 9   DTS                                12119 non-null  float64\n",
      " 10  DTC                                12170 non-null  float64\n",
      " 11  NPHI                               8221 non-null   float64\n",
      " 12  GR                                 14894 non-null  float64\n",
      " 13  DEPTH_MD                           15013 non-null  float64\n",
      " 14  X_LOC                              15013 non-null  float64\n",
      " 15  Y_LOC                              15013 non-null  float64\n",
      " 16  Z_LOC                              15013 non-null  float64\n",
      "dtypes: float64(17)\n",
      "memory usage: 2.1 MB\n"
     ]
    },
    {
     "data": {
      "text/plain": [
       "None"
      ]
     },
     "metadata": {},
     "output_type": "display_data"
    }
   ],
   "source": [
    "print(\"df1\")\n",
    "display(df1.info())\n",
    "print(\"/n df2\")\n",
    "display(df2.info())\n",
    "print(\"/n df3\")\n",
    "display(df3.info())\n",
    "print(\"/n df4\")\n",
    "display(df4.info())"
   ]
  },
  {
   "cell_type": "markdown",
   "id": "f0cf7047",
   "metadata": {},
   "source": [
    "## Drop curves that is not present in all datasets"
   ]
  },
  {
   "cell_type": "code",
   "execution_count": 46,
   "id": "23b2960b",
   "metadata": {},
   "outputs": [],
   "source": [
    "df1 = df1.drop([\"FORCE_2020_LITHOFACIES_CONFIDENCE\", \"FORCE_2020_LITHOFACIES_LITHOLOGY\", \"PEF\"], axis=1)\n",
    "df2 = df2.drop([\"RSHA\"], axis=1)\n",
    "df3 = df3.drop([\"BS\", \"DCAL\"], axis=1)\n",
    "df4 = df4.drop([\"FORCE_2020_LITHOFACIES_CONFIDENCE\", \"FORCE_2020_LITHOFACIES_LITHOLOGY\", \"BS\", \"DTS\"], axis=1)"
   ]
  },
  {
   "cell_type": "code",
   "execution_count": 47,
   "id": "4dff51bb",
   "metadata": {
    "scrolled": true
   },
   "outputs": [
    {
     "name": "stdout",
     "output_type": "stream",
     "text": [
      "df1\n",
      "<class 'pandas.core.frame.DataFrame'>\n",
      "Float64Index: 21441 entries, 25.0 to 3283.88\n",
      "Data columns (total 13 columns):\n",
      " #   Column     Non-Null Count  Dtype  \n",
      "---  ------     --------------  -----  \n",
      " 0   CALI       18345 non-null  float64\n",
      " 1   MUDWEIGHT  17520 non-null  float64\n",
      " 2   ROP        20297 non-null  float64\n",
      " 3   RDEP       20956 non-null  float64\n",
      " 4   RMED       20957 non-null  float64\n",
      " 5   SP         20956 non-null  float64\n",
      " 6   DTC        21282 non-null  float64\n",
      " 7   NPHI       14105 non-null  float64\n",
      " 8   GR         20900 non-null  float64\n",
      " 9   DEPTH_MD   20956 non-null  float64\n",
      " 10  X_LOC      20956 non-null  float64\n",
      " 11  Y_LOC      20956 non-null  float64\n",
      " 12  Z_LOC      20956 non-null  float64\n",
      "dtypes: float64(13)\n",
      "memory usage: 2.3 MB\n"
     ]
    },
    {
     "data": {
      "text/plain": [
       "None"
      ]
     },
     "metadata": {},
     "output_type": "display_data"
    },
    {
     "name": "stdout",
     "output_type": "stream",
     "text": [
      "/n df2\n",
      "<class 'pandas.core.frame.DataFrame'>\n",
      "Float64Index: 14586 entries, 96.975196838 to 2313.8951968\n",
      "Data columns (total 13 columns):\n",
      " #   Column     Non-Null Count  Dtype  \n",
      "---  ------     --------------  -----  \n",
      " 0   CALI       6709 non-null   float64\n",
      " 1   MUDWEIGHT  13706 non-null  float64\n",
      " 2   ROP        14418 non-null  float64\n",
      " 3   RDEP       11888 non-null  float64\n",
      " 4   RMED       11887 non-null  float64\n",
      " 5   SP         11888 non-null  float64\n",
      " 6   DTC        13935 non-null  float64\n",
      " 7   NPHI       4987 non-null   float64\n",
      " 8   GR         14540 non-null  float64\n",
      " 9   DEPTH_MD   11888 non-null  float64\n",
      " 10  X_LOC      11888 non-null  float64\n",
      " 11  Y_LOC      11888 non-null  float64\n",
      " 12  Z_LOC      11888 non-null  float64\n",
      "dtypes: float64(13)\n",
      "memory usage: 1.6 MB\n"
     ]
    },
    {
     "data": {
      "text/plain": [
       "None"
      ]
     },
     "metadata": {},
     "output_type": "display_data"
    },
    {
     "name": "stdout",
     "output_type": "stream",
     "text": [
      "/n df3\n",
      "<class 'pandas.core.frame.DataFrame'>\n",
      "Float64Index: 13337 entries, 146.60871887 to 2173.6807189\n",
      "Data columns (total 13 columns):\n",
      " #   Column     Non-Null Count  Dtype  \n",
      "---  ------     --------------  -----  \n",
      " 0   CALI       11777 non-null  float64\n",
      " 1   MUDWEIGHT  12783 non-null  float64\n",
      " 2   ROP        12807 non-null  float64\n",
      " 3   RDEP       11730 non-null  float64\n",
      " 4   RMED       11731 non-null  float64\n",
      " 5   SP         11686 non-null  float64\n",
      " 6   DTC        10571 non-null  float64\n",
      " 7   NPHI       6660 non-null   float64\n",
      " 8   GR         13279 non-null  float64\n",
      " 9   DEPTH_MD   11730 non-null  float64\n",
      " 10  X_LOC      11730 non-null  float64\n",
      " 11  Y_LOC      11730 non-null  float64\n",
      " 12  Z_LOC      11730 non-null  float64\n",
      "dtypes: float64(13)\n",
      "memory usage: 1.4 MB\n"
     ]
    },
    {
     "data": {
      "text/plain": [
       "None"
      ]
     },
     "metadata": {},
     "output_type": "display_data"
    },
    {
     "name": "stdout",
     "output_type": "stream",
     "text": [
      "/n df4\n",
      "<class 'pandas.core.frame.DataFrame'>\n",
      "Float64Index: 15388 entries, 138.09972888 to 2476.9237289\n",
      "Data columns (total 13 columns):\n",
      " #   Column     Non-Null Count  Dtype  \n",
      "---  ------     --------------  -----  \n",
      " 0   CALI       12039 non-null  float64\n",
      " 1   MUDWEIGHT  8230 non-null   float64\n",
      " 2   ROP        15372 non-null  float64\n",
      " 3   RDEP       15013 non-null  float64\n",
      " 4   RMED       14972 non-null  float64\n",
      " 5   SP         5020 non-null   float64\n",
      " 6   DTC        12170 non-null  float64\n",
      " 7   NPHI       8221 non-null   float64\n",
      " 8   GR         14894 non-null  float64\n",
      " 9   DEPTH_MD   15013 non-null  float64\n",
      " 10  X_LOC      15013 non-null  float64\n",
      " 11  Y_LOC      15013 non-null  float64\n",
      " 12  Z_LOC      15013 non-null  float64\n",
      "dtypes: float64(13)\n",
      "memory usage: 1.6 MB\n"
     ]
    },
    {
     "data": {
      "text/plain": [
       "None"
      ]
     },
     "metadata": {},
     "output_type": "display_data"
    }
   ],
   "source": [
    "print(\"df1\")\n",
    "display(df1.info())\n",
    "print(\"/n df2\")\n",
    "display(df2.info())\n",
    "print(\"/n df3\")\n",
    "display(df3.info())\n",
    "print(\"/n df4\")\n",
    "display(df4.info())"
   ]
  },
  {
   "cell_type": "code",
   "execution_count": 48,
   "id": "e6ce2842",
   "metadata": {},
   "outputs": [
    {
     "data": {
      "text/html": [
       "<div>\n",
       "<style scoped>\n",
       "    .dataframe tbody tr th:only-of-type {\n",
       "        vertical-align: middle;\n",
       "    }\n",
       "\n",
       "    .dataframe tbody tr th {\n",
       "        vertical-align: top;\n",
       "    }\n",
       "\n",
       "    .dataframe thead th {\n",
       "        text-align: right;\n",
       "    }\n",
       "</style>\n",
       "<table border=\"1\" class=\"dataframe\">\n",
       "  <thead>\n",
       "    <tr style=\"text-align: right;\">\n",
       "      <th></th>\n",
       "      <th>CALI</th>\n",
       "      <th>MUDWEIGHT</th>\n",
       "      <th>ROP</th>\n",
       "      <th>RDEP</th>\n",
       "      <th>RMED</th>\n",
       "      <th>SP</th>\n",
       "      <th>DTC</th>\n",
       "      <th>NPHI</th>\n",
       "      <th>GR</th>\n",
       "      <th>DEPTH_MD</th>\n",
       "      <th>X_LOC</th>\n",
       "      <th>Y_LOC</th>\n",
       "      <th>Z_LOC</th>\n",
       "    </tr>\n",
       "  </thead>\n",
       "  <tbody>\n",
       "    <tr>\n",
       "      <th>count</th>\n",
       "      <td>18345.000000</td>\n",
       "      <td>17520.000000</td>\n",
       "      <td>20297.000000</td>\n",
       "      <td>20956.000000</td>\n",
       "      <td>20957.000000</td>\n",
       "      <td>20956.000000</td>\n",
       "      <td>21282.000000</td>\n",
       "      <td>14105.000000</td>\n",
       "      <td>20900.000000</td>\n",
       "      <td>20956.000000</td>\n",
       "      <td>20956.000000</td>\n",
       "      <td>2.095600e+04</td>\n",
       "      <td>20956.000000</td>\n",
       "    </tr>\n",
       "    <tr>\n",
       "      <th>mean</th>\n",
       "      <td>14.766734</td>\n",
       "      <td>0.139824</td>\n",
       "      <td>28.554482</td>\n",
       "      <td>1.934587</td>\n",
       "      <td>1.777486</td>\n",
       "      <td>60.649891</td>\n",
       "      <td>132.228668</td>\n",
       "      <td>0.403497</td>\n",
       "      <td>63.127582</td>\n",
       "      <td>1691.300000</td>\n",
       "      <td>437628.925584</td>\n",
       "      <td>6.470978e+06</td>\n",
       "      <td>-1666.082887</td>\n",
       "    </tr>\n",
       "    <tr>\n",
       "      <th>std</th>\n",
       "      <td>4.386417</td>\n",
       "      <td>0.009479</td>\n",
       "      <td>30.589891</td>\n",
       "      <td>2.759186</td>\n",
       "      <td>2.739401</td>\n",
       "      <td>45.827110</td>\n",
       "      <td>33.646244</td>\n",
       "      <td>0.134053</td>\n",
       "      <td>28.701134</td>\n",
       "      <td>919.542309</td>\n",
       "      <td>14.342905</td>\n",
       "      <td>3.677640e+00</td>\n",
       "      <td>919.344110</td>\n",
       "    </tr>\n",
       "    <tr>\n",
       "      <th>min</th>\n",
       "      <td>8.186605</td>\n",
       "      <td>0.129413</td>\n",
       "      <td>0.138586</td>\n",
       "      <td>0.352202</td>\n",
       "      <td>0.116862</td>\n",
       "      <td>-149.232254</td>\n",
       "      <td>55.726753</td>\n",
       "      <td>0.024330</td>\n",
       "      <td>6.191506</td>\n",
       "      <td>98.720001</td>\n",
       "      <td>437592.906250</td>\n",
       "      <td>6.470972e+06</td>\n",
       "      <td>-3257.997803</td>\n",
       "    </tr>\n",
       "    <tr>\n",
       "      <th>25%</th>\n",
       "      <td>12.101601</td>\n",
       "      <td>0.133007</td>\n",
       "      <td>5.249922</td>\n",
       "      <td>0.830621</td>\n",
       "      <td>0.780284</td>\n",
       "      <td>31.746324</td>\n",
       "      <td>95.920670</td>\n",
       "      <td>0.314235</td>\n",
       "      <td>41.265792</td>\n",
       "      <td>895.009979</td>\n",
       "      <td>437616.375000</td>\n",
       "      <td>6.470975e+06</td>\n",
       "      <td>-2462.194214</td>\n",
       "    </tr>\n",
       "    <tr>\n",
       "      <th>50%</th>\n",
       "      <td>13.896447</td>\n",
       "      <td>0.136602</td>\n",
       "      <td>31.011793</td>\n",
       "      <td>1.386364</td>\n",
       "      <td>1.230179</td>\n",
       "      <td>58.188791</td>\n",
       "      <td>144.200439</td>\n",
       "      <td>0.447975</td>\n",
       "      <td>66.990936</td>\n",
       "      <td>1691.299988</td>\n",
       "      <td>437636.234375</td>\n",
       "      <td>6.470978e+06</td>\n",
       "      <td>-1666.196960</td>\n",
       "    </tr>\n",
       "    <tr>\n",
       "      <th>75%</th>\n",
       "      <td>18.301279</td>\n",
       "      <td>0.144990</td>\n",
       "      <td>40.664753</td>\n",
       "      <td>2.047000</td>\n",
       "      <td>1.972084</td>\n",
       "      <td>80.050549</td>\n",
       "      <td>153.726254</td>\n",
       "      <td>0.506147</td>\n",
       "      <td>82.098042</td>\n",
       "      <td>2487.590027</td>\n",
       "      <td>437640.937500</td>\n",
       "      <td>6.470982e+06</td>\n",
       "      <td>-869.973602</td>\n",
       "    </tr>\n",
       "    <tr>\n",
       "      <th>max</th>\n",
       "      <td>23.329569</td>\n",
       "      <td>0.156973</td>\n",
       "      <td>1083.425415</td>\n",
       "      <td>168.014252</td>\n",
       "      <td>142.606338</td>\n",
       "      <td>153.096802</td>\n",
       "      <td>206.225693</td>\n",
       "      <td>0.800262</td>\n",
       "      <td>499.022583</td>\n",
       "      <td>3283.879883</td>\n",
       "      <td>437642.812500</td>\n",
       "      <td>6.470984e+06</td>\n",
       "      <td>-73.719467</td>\n",
       "    </tr>\n",
       "  </tbody>\n",
       "</table>\n",
       "</div>"
      ],
      "text/plain": [
       "               CALI     MUDWEIGHT           ROP          RDEP          RMED  \\\n",
       "count  18345.000000  17520.000000  20297.000000  20956.000000  20957.000000   \n",
       "mean      14.766734      0.139824     28.554482      1.934587      1.777486   \n",
       "std        4.386417      0.009479     30.589891      2.759186      2.739401   \n",
       "min        8.186605      0.129413      0.138586      0.352202      0.116862   \n",
       "25%       12.101601      0.133007      5.249922      0.830621      0.780284   \n",
       "50%       13.896447      0.136602     31.011793      1.386364      1.230179   \n",
       "75%       18.301279      0.144990     40.664753      2.047000      1.972084   \n",
       "max       23.329569      0.156973   1083.425415    168.014252    142.606338   \n",
       "\n",
       "                 SP           DTC          NPHI            GR      DEPTH_MD  \\\n",
       "count  20956.000000  21282.000000  14105.000000  20900.000000  20956.000000   \n",
       "mean      60.649891    132.228668      0.403497     63.127582   1691.300000   \n",
       "std       45.827110     33.646244      0.134053     28.701134    919.542309   \n",
       "min     -149.232254     55.726753      0.024330      6.191506     98.720001   \n",
       "25%       31.746324     95.920670      0.314235     41.265792    895.009979   \n",
       "50%       58.188791    144.200439      0.447975     66.990936   1691.299988   \n",
       "75%       80.050549    153.726254      0.506147     82.098042   2487.590027   \n",
       "max      153.096802    206.225693      0.800262    499.022583   3283.879883   \n",
       "\n",
       "               X_LOC         Y_LOC         Z_LOC  \n",
       "count   20956.000000  2.095600e+04  20956.000000  \n",
       "mean   437628.925584  6.470978e+06  -1666.082887  \n",
       "std        14.342905  3.677640e+00    919.344110  \n",
       "min    437592.906250  6.470972e+06  -3257.997803  \n",
       "25%    437616.375000  6.470975e+06  -2462.194214  \n",
       "50%    437636.234375  6.470978e+06  -1666.196960  \n",
       "75%    437640.937500  6.470982e+06   -869.973602  \n",
       "max    437642.812500  6.470984e+06    -73.719467  "
      ]
     },
     "execution_count": 48,
     "metadata": {},
     "output_type": "execute_result"
    }
   ],
   "source": [
    "df1.describe()"
   ]
  },
  {
   "cell_type": "code",
   "execution_count": 49,
   "id": "037584a9",
   "metadata": {},
   "outputs": [
    {
     "data": {
      "text/plain": [
       "(21441, 13)"
      ]
     },
     "metadata": {},
     "output_type": "display_data"
    },
    {
     "data": {
      "text/plain": [
       "(14586, 13)"
      ]
     },
     "metadata": {},
     "output_type": "display_data"
    },
    {
     "data": {
      "text/plain": [
       "(13337, 13)"
      ]
     },
     "metadata": {},
     "output_type": "display_data"
    },
    {
     "data": {
      "text/plain": [
       "(15388, 13)"
      ]
     },
     "metadata": {},
     "output_type": "display_data"
    }
   ],
   "source": [
    "display(df1.shape,df2.shape,df3.shape, df4.shape)"
   ]
  },
  {
   "cell_type": "code",
   "execution_count": 86,
   "id": "0799d74f",
   "metadata": {},
   "outputs": [
    {
     "data": {
      "text/plain": [
       "(64752, 13)"
      ]
     },
     "execution_count": 86,
     "metadata": {},
     "output_type": "execute_result"
    }
   ],
   "source": [
    "merged_df = pd.concat([df1, df2, df3, df4])\n",
    "merged_df.shape"
   ]
  },
  {
   "cell_type": "code",
   "execution_count": 81,
   "id": "1675eddd",
   "metadata": {},
   "outputs": [
    {
     "name": "stdout",
     "output_type": "stream",
     "text": [
      "<class 'pandas.core.frame.DataFrame'>\n",
      "Float64Index: 64752 entries, 25.0 to 2476.9237289\n",
      "Data columns (total 13 columns):\n",
      " #   Column     Non-Null Count  Dtype  \n",
      "---  ------     --------------  -----  \n",
      " 0   CALI       48870 non-null  float64\n",
      " 1   MUDWEIGHT  52239 non-null  float64\n",
      " 2   ROP        62894 non-null  float64\n",
      " 3   RDEP       59587 non-null  float64\n",
      " 4   RMED       59547 non-null  float64\n",
      " 5   SP         49550 non-null  float64\n",
      " 6   DTC        57958 non-null  float64\n",
      " 7   NPHI       33973 non-null  float64\n",
      " 8   GR         63613 non-null  float64\n",
      " 9   DEPTH_MD   59587 non-null  float64\n",
      " 10  X_LOC      59587 non-null  float64\n",
      " 11  Y_LOC      59587 non-null  float64\n",
      " 12  Z_LOC      59587 non-null  float64\n",
      "dtypes: float64(13)\n",
      "memory usage: 6.9 MB\n"
     ]
    }
   ],
   "source": [
    "merged_df.info()"
   ]
  },
  {
   "cell_type": "code",
   "execution_count": 82,
   "id": "7bb1c4b5",
   "metadata": {},
   "outputs": [
    {
     "data": {
      "text/plain": [
       "CALI         15882\n",
       "MUDWEIGHT    12513\n",
       "ROP           1858\n",
       "RDEP          5165\n",
       "RMED          5205\n",
       "SP           15202\n",
       "DTC           6794\n",
       "NPHI         30779\n",
       "GR            1139\n",
       "DEPTH_MD      5165\n",
       "X_LOC         5165\n",
       "Y_LOC         5165\n",
       "Z_LOC         5165\n",
       "dtype: int64"
      ]
     },
     "execution_count": 82,
     "metadata": {},
     "output_type": "execute_result"
    }
   ],
   "source": [
    "merged_df.isna().sum()"
   ]
  },
  {
   "cell_type": "code",
   "execution_count": 64,
   "id": "9cc5cf7e",
   "metadata": {},
   "outputs": [
    {
     "data": {
      "text/html": [
       "<div>\n",
       "<style scoped>\n",
       "    .dataframe tbody tr th:only-of-type {\n",
       "        vertical-align: middle;\n",
       "    }\n",
       "\n",
       "    .dataframe tbody tr th {\n",
       "        vertical-align: top;\n",
       "    }\n",
       "\n",
       "    .dataframe thead th {\n",
       "        text-align: right;\n",
       "    }\n",
       "</style>\n",
       "<table border=\"1\" class=\"dataframe\">\n",
       "  <thead>\n",
       "    <tr style=\"text-align: right;\">\n",
       "      <th></th>\n",
       "      <th>CALI</th>\n",
       "      <th>MUDWEIGHT</th>\n",
       "      <th>ROP</th>\n",
       "      <th>RDEP</th>\n",
       "      <th>RMED</th>\n",
       "      <th>SP</th>\n",
       "      <th>DTC</th>\n",
       "      <th>NPHI</th>\n",
       "      <th>GR</th>\n",
       "      <th>DEPTH_MD</th>\n",
       "      <th>X_LOC</th>\n",
       "      <th>Y_LOC</th>\n",
       "      <th>Z_LOC</th>\n",
       "    </tr>\n",
       "  </thead>\n",
       "  <tbody>\n",
       "    <tr>\n",
       "      <th>count</th>\n",
       "      <td>48870.000000</td>\n",
       "      <td>52239.000000</td>\n",
       "      <td>62894.000000</td>\n",
       "      <td>59587.000000</td>\n",
       "      <td>59547.000000</td>\n",
       "      <td>49550.000000</td>\n",
       "      <td>57958.000000</td>\n",
       "      <td>33973.000000</td>\n",
       "      <td>63613.000000</td>\n",
       "      <td>59587.000000</td>\n",
       "      <td>59587.000000</td>\n",
       "      <td>5.958700e+04</td>\n",
       "      <td>59587.000000</td>\n",
       "    </tr>\n",
       "    <tr>\n",
       "      <th>mean</th>\n",
       "      <td>12.788625</td>\n",
       "      <td>0.684048</td>\n",
       "      <td>54.393476</td>\n",
       "      <td>1.517735</td>\n",
       "      <td>1.426824</td>\n",
       "      <td>45.390648</td>\n",
       "      <td>135.579075</td>\n",
       "      <td>0.435766</td>\n",
       "      <td>59.023666</td>\n",
       "      <td>1463.878902</td>\n",
       "      <td>463239.391666</td>\n",
       "      <td>6.527961e+06</td>\n",
       "      <td>-1438.956239</td>\n",
       "    </tr>\n",
       "    <tr>\n",
       "      <th>std</th>\n",
       "      <td>3.585482</td>\n",
       "      <td>0.538459</td>\n",
       "      <td>87.445839</td>\n",
       "      <td>2.061031</td>\n",
       "      <td>1.914200</td>\n",
       "      <td>34.981068</td>\n",
       "      <td>27.794104</td>\n",
       "      <td>0.136695</td>\n",
       "      <td>26.662202</td>\n",
       "      <td>736.781811</td>\n",
       "      <td>22338.931773</td>\n",
       "      <td>6.243687e+04</td>\n",
       "      <td>736.529411</td>\n",
       "    </tr>\n",
       "    <tr>\n",
       "      <th>min</th>\n",
       "      <td>7.073111</td>\n",
       "      <td>0.129413</td>\n",
       "      <td>0.138586</td>\n",
       "      <td>0.202688</td>\n",
       "      <td>0.116862</td>\n",
       "      <td>-149.232254</td>\n",
       "      <td>50.758595</td>\n",
       "      <td>-0.032620</td>\n",
       "      <td>0.624403</td>\n",
       "      <td>98.720001</td>\n",
       "      <td>437592.906250</td>\n",
       "      <td>6.470972e+06</td>\n",
       "      <td>-3257.997803</td>\n",
       "    </tr>\n",
       "    <tr>\n",
       "      <th>25%</th>\n",
       "      <td>9.413469</td>\n",
       "      <td>0.144990</td>\n",
       "      <td>7.321400</td>\n",
       "      <td>0.772081</td>\n",
       "      <td>0.767704</td>\n",
       "      <td>34.682085</td>\n",
       "      <td>121.810505</td>\n",
       "      <td>0.339636</td>\n",
       "      <td>39.822582</td>\n",
       "      <td>862.483612</td>\n",
       "      <td>437640.843750</td>\n",
       "      <td>6.470982e+06</td>\n",
       "      <td>-1969.635498</td>\n",
       "    </tr>\n",
       "    <tr>\n",
       "      <th>50%</th>\n",
       "      <td>12.593809</td>\n",
       "      <td>1.042490</td>\n",
       "      <td>31.279211</td>\n",
       "      <td>1.154419</td>\n",
       "      <td>1.121041</td>\n",
       "      <td>41.343777</td>\n",
       "      <td>142.874123</td>\n",
       "      <td>0.451603</td>\n",
       "      <td>59.197601</td>\n",
       "      <td>1428.567993</td>\n",
       "      <td>463756.000000</td>\n",
       "      <td>6.479872e+06</td>\n",
       "      <td>-1403.708740</td>\n",
       "    </tr>\n",
       "    <tr>\n",
       "      <th>75%</th>\n",
       "      <td>14.212363</td>\n",
       "      <td>1.198264</td>\n",
       "      <td>53.346992</td>\n",
       "      <td>1.665462</td>\n",
       "      <td>1.553793</td>\n",
       "      <td>55.820948</td>\n",
       "      <td>151.725235</td>\n",
       "      <td>0.524652</td>\n",
       "      <td>75.684013</td>\n",
       "      <td>1994.620361</td>\n",
       "      <td>495696.468750</td>\n",
       "      <td>6.618248e+06</td>\n",
       "      <td>-837.791046</td>\n",
       "    </tr>\n",
       "    <tr>\n",
       "      <th>max</th>\n",
       "      <td>23.329569</td>\n",
       "      <td>1.389986</td>\n",
       "      <td>1083.425415</td>\n",
       "      <td>168.014252</td>\n",
       "      <td>142.606338</td>\n",
       "      <td>153.096802</td>\n",
       "      <td>206.225693</td>\n",
       "      <td>0.993175</td>\n",
       "      <td>499.022583</td>\n",
       "      <td>3283.879883</td>\n",
       "      <td>495739.343750</td>\n",
       "      <td>6.618270e+06</td>\n",
       "      <td>-73.719467</td>\n",
       "    </tr>\n",
       "  </tbody>\n",
       "</table>\n",
       "</div>"
      ],
      "text/plain": [
       "               CALI     MUDWEIGHT           ROP          RDEP          RMED  \\\n",
       "count  48870.000000  52239.000000  62894.000000  59587.000000  59547.000000   \n",
       "mean      12.788625      0.684048     54.393476      1.517735      1.426824   \n",
       "std        3.585482      0.538459     87.445839      2.061031      1.914200   \n",
       "min        7.073111      0.129413      0.138586      0.202688      0.116862   \n",
       "25%        9.413469      0.144990      7.321400      0.772081      0.767704   \n",
       "50%       12.593809      1.042490     31.279211      1.154419      1.121041   \n",
       "75%       14.212363      1.198264     53.346992      1.665462      1.553793   \n",
       "max       23.329569      1.389986   1083.425415    168.014252    142.606338   \n",
       "\n",
       "                 SP           DTC          NPHI            GR      DEPTH_MD  \\\n",
       "count  49550.000000  57958.000000  33973.000000  63613.000000  59587.000000   \n",
       "mean      45.390648    135.579075      0.435766     59.023666   1463.878902   \n",
       "std       34.981068     27.794104      0.136695     26.662202    736.781811   \n",
       "min     -149.232254     50.758595     -0.032620      0.624403     98.720001   \n",
       "25%       34.682085    121.810505      0.339636     39.822582    862.483612   \n",
       "50%       41.343777    142.874123      0.451603     59.197601   1428.567993   \n",
       "75%       55.820948    151.725235      0.524652     75.684013   1994.620361   \n",
       "max      153.096802    206.225693      0.993175    499.022583   3283.879883   \n",
       "\n",
       "               X_LOC         Y_LOC         Z_LOC  \n",
       "count   59587.000000  5.958700e+04  59587.000000  \n",
       "mean   463239.391666  6.527961e+06  -1438.956239  \n",
       "std     22338.931773  6.243687e+04    736.529411  \n",
       "min    437592.906250  6.470972e+06  -3257.997803  \n",
       "25%    437640.843750  6.470982e+06  -1969.635498  \n",
       "50%    463756.000000  6.479872e+06  -1403.708740  \n",
       "75%    495696.468750  6.618248e+06   -837.791046  \n",
       "max    495739.343750  6.618270e+06    -73.719467  "
      ]
     },
     "execution_count": 64,
     "metadata": {},
     "output_type": "execute_result"
    }
   ],
   "source": [
    "merged_df.describe()"
   ]
  },
  {
   "cell_type": "code",
   "execution_count": 65,
   "id": "f3f4e892",
   "metadata": {},
   "outputs": [
    {
     "data": {
      "text/plain": [
       "Index(['CALI', 'MUDWEIGHT', 'ROP', 'RDEP', 'RMED', 'SP', 'DTC', 'NPHI', 'GR',\n",
       "       'DEPTH_MD', 'X_LOC', 'Y_LOC', 'Z_LOC'],\n",
       "      dtype='object')"
      ]
     },
     "execution_count": 65,
     "metadata": {},
     "output_type": "execute_result"
    }
   ],
   "source": [
    "merged_df.columns"
   ]
  },
  {
   "cell_type": "markdown",
   "id": "9573aecb",
   "metadata": {},
   "source": [
    "## Drop all of the missing values"
   ]
  },
  {
   "cell_type": "code",
   "execution_count": 87,
   "id": "697c05b9",
   "metadata": {},
   "outputs": [],
   "source": [
    "dropped_missing_merged_df = pd.concat([df1, df2, df3, df4])\n",
    "dropped_missing_merged_df.dropna(inplace=True)"
   ]
  },
  {
   "cell_type": "code",
   "execution_count": 91,
   "id": "44c9b2e8",
   "metadata": {},
   "outputs": [
    {
     "data": {
      "text/plain": [
       "CALI         0\n",
       "MUDWEIGHT    0\n",
       "ROP          0\n",
       "RDEP         0\n",
       "RMED         0\n",
       "SP           0\n",
       "DTC          0\n",
       "NPHI         0\n",
       "GR           0\n",
       "DEPTH_MD     0\n",
       "X_LOC        0\n",
       "Y_LOC        0\n",
       "Z_LOC        0\n",
       "dtype: int64"
      ]
     },
     "execution_count": 91,
     "metadata": {},
     "output_type": "execute_result"
    }
   ],
   "source": [
    "dropped_missing_merged_df.isna().sum()"
   ]
  },
  {
   "cell_type": "code",
   "execution_count": 89,
   "id": "a8920c44",
   "metadata": {
    "scrolled": true
   },
   "outputs": [
    {
     "name": "stdout",
     "output_type": "stream",
     "text": [
      "<class 'pandas.core.frame.DataFrame'>\n",
      "Float64Index: 64752 entries, 25.0 to 2476.9237289\n",
      "Data columns (total 13 columns):\n",
      " #   Column     Non-Null Count  Dtype  \n",
      "---  ------     --------------  -----  \n",
      " 0   CALI       48870 non-null  float64\n",
      " 1   MUDWEIGHT  52239 non-null  float64\n",
      " 2   ROP        62894 non-null  float64\n",
      " 3   RDEP       59587 non-null  float64\n",
      " 4   RMED       59547 non-null  float64\n",
      " 5   SP         49550 non-null  float64\n",
      " 6   DTC        57958 non-null  float64\n",
      " 7   NPHI       33973 non-null  float64\n",
      " 8   GR         63613 non-null  float64\n",
      " 9   DEPTH_MD   59587 non-null  float64\n",
      " 10  X_LOC      59587 non-null  float64\n",
      " 11  Y_LOC      59587 non-null  float64\n",
      " 12  Z_LOC      59587 non-null  float64\n",
      "dtypes: float64(13)\n",
      "memory usage: 6.9 MB\n"
     ]
    }
   ],
   "source": [
    "merged_df.info()"
   ]
  },
  {
   "cell_type": "code",
   "execution_count": 90,
   "id": "e91d48db",
   "metadata": {
    "scrolled": true
   },
   "outputs": [
    {
     "name": "stdout",
     "output_type": "stream",
     "text": [
      "<class 'pandas.core.frame.DataFrame'>\n",
      "Float64Index: 25272 entries, 1138.704 to 2159.8487189\n",
      "Data columns (total 13 columns):\n",
      " #   Column     Non-Null Count  Dtype  \n",
      "---  ------     --------------  -----  \n",
      " 0   CALI       25272 non-null  float64\n",
      " 1   MUDWEIGHT  25272 non-null  float64\n",
      " 2   ROP        25272 non-null  float64\n",
      " 3   RDEP       25272 non-null  float64\n",
      " 4   RMED       25272 non-null  float64\n",
      " 5   SP         25272 non-null  float64\n",
      " 6   DTC        25272 non-null  float64\n",
      " 7   NPHI       25272 non-null  float64\n",
      " 8   GR         25272 non-null  float64\n",
      " 9   DEPTH_MD   25272 non-null  float64\n",
      " 10  X_LOC      25272 non-null  float64\n",
      " 11  Y_LOC      25272 non-null  float64\n",
      " 12  Z_LOC      25272 non-null  float64\n",
      "dtypes: float64(13)\n",
      "memory usage: 2.7 MB\n"
     ]
    }
   ],
   "source": [
    "dropped_missing_merged_df.info()"
   ]
  },
  {
   "cell_type": "markdown",
   "id": "32dd5a8b",
   "metadata": {},
   "source": [
    "## Import test dataset"
   ]
  },
  {
   "cell_type": "code",
   "execution_count": 100,
   "id": "837b3116",
   "metadata": {},
   "outputs": [],
   "source": [
    "las5 = lasio.read(\"../well-log-data/31_2-21 S.las\")\n",
    "df5 = las5.df()"
   ]
  },
  {
   "cell_type": "code",
   "execution_count": 95,
   "id": "ebec8a92",
   "metadata": {},
   "outputs": [
    {
     "data": {
      "text/plain": [
       "CALI         15882\n",
       "MUDWEIGHT    12513\n",
       "ROP           1858\n",
       "RDEP          5165\n",
       "RMED          5205\n",
       "SP           15202\n",
       "DTC           6794\n",
       "NPHI         30779\n",
       "GR            1139\n",
       "DEPTH_MD      5165\n",
       "X_LOC         5165\n",
       "Y_LOC         5165\n",
       "Z_LOC         5165\n",
       "dtype: int64"
      ]
     },
     "execution_count": 95,
     "metadata": {},
     "output_type": "execute_result"
    }
   ],
   "source": [
    "merged_df.isna().sum()"
   ]
  },
  {
   "cell_type": "code",
   "execution_count": 101,
   "id": "9badfc1d",
   "metadata": {},
   "outputs": [
    {
     "name": "stdout",
     "output_type": "stream",
     "text": [
      "<class 'pandas.core.frame.DataFrame'>\n",
      "Float64Index: 18731 entries, 372.0084 to 3218.9684\n",
      "Data columns (total 19 columns):\n",
      " #   Column                             Non-Null Count  Dtype  \n",
      "---  ------                             --------------  -----  \n",
      " 0   FORCE_2020_LITHOFACIES_CONFIDENCE  7841 non-null   float64\n",
      " 1   FORCE_2020_LITHOFACIES_LITHOLOGY   7840 non-null   float64\n",
      " 2   CALI                               7842 non-null   float64\n",
      " 3   BS                                 18674 non-null  float64\n",
      " 4   ROPA                               18680 non-null  float64\n",
      " 5   ROP                                18664 non-null  float64\n",
      " 6   RDEP                               18567 non-null  float64\n",
      " 7   RMED                               18524 non-null  float64\n",
      " 8   DTS                                15252 non-null  float64\n",
      " 9   DTC                                18199 non-null  float64\n",
      " 10  NPHI                               7835 non-null   float64\n",
      " 11  PEF                                7800 non-null   float64\n",
      " 12  GR                                 18666 non-null  float64\n",
      " 13  RHOB                               7800 non-null   float64\n",
      " 14  DRHO                               7846 non-null   float64\n",
      " 15  DEPTH_MD                           18567 non-null  float64\n",
      " 16  X_LOC                              18567 non-null  float64\n",
      " 17  Y_LOC                              18567 non-null  float64\n",
      " 18  Z_LOC                              18567 non-null  float64\n",
      "dtypes: float64(19)\n",
      "memory usage: 2.9 MB\n"
     ]
    }
   ],
   "source": [
    "df5.info()"
   ]
  },
  {
   "cell_type": "code",
   "execution_count": 104,
   "id": "796334a9",
   "metadata": {},
   "outputs": [],
   "source": [
    "df5 = df5.drop([\"FORCE_2020_LITHOFACIES_CONFIDENCE\", \"FORCE_2020_LITHOFACIES_LITHOLOGY\", \"BS\", \"DTS\", \"ROPA\", \"DTS\", \"PEF\", \"RHOB\", \"DRHO\"], axis=1)"
   ]
  },
  {
   "cell_type": "code",
   "execution_count": 105,
   "id": "33ad7029",
   "metadata": {},
   "outputs": [
    {
     "name": "stdout",
     "output_type": "stream",
     "text": [
      "<class 'pandas.core.frame.DataFrame'>\n",
      "Float64Index: 18731 entries, 372.0084 to 3218.9684\n",
      "Data columns (total 11 columns):\n",
      " #   Column    Non-Null Count  Dtype  \n",
      "---  ------    --------------  -----  \n",
      " 0   CALI      7842 non-null   float64\n",
      " 1   ROP       18664 non-null  float64\n",
      " 2   RDEP      18567 non-null  float64\n",
      " 3   RMED      18524 non-null  float64\n",
      " 4   DTC       18199 non-null  float64\n",
      " 5   NPHI      7835 non-null   float64\n",
      " 6   GR        18666 non-null  float64\n",
      " 7   DEPTH_MD  18567 non-null  float64\n",
      " 8   X_LOC     18567 non-null  float64\n",
      " 9   Y_LOC     18567 non-null  float64\n",
      " 10  Z_LOC     18567 non-null  float64\n",
      "dtypes: float64(11)\n",
      "memory usage: 1.7 MB\n"
     ]
    }
   ],
   "source": [
    "df5.info()"
   ]
  },
  {
   "cell_type": "code",
   "execution_count": 106,
   "id": "973c6ec9",
   "metadata": {},
   "outputs": [
    {
     "name": "stdout",
     "output_type": "stream",
     "text": [
      "<class 'pandas.core.frame.DataFrame'>\n",
      "Float64Index: 64752 entries, 25.0 to 2476.9237289\n",
      "Data columns (total 13 columns):\n",
      " #   Column     Non-Null Count  Dtype  \n",
      "---  ------     --------------  -----  \n",
      " 0   CALI       48870 non-null  float64\n",
      " 1   MUDWEIGHT  52239 non-null  float64\n",
      " 2   ROP        62894 non-null  float64\n",
      " 3   RDEP       59587 non-null  float64\n",
      " 4   RMED       59547 non-null  float64\n",
      " 5   SP         49550 non-null  float64\n",
      " 6   DTC        57958 non-null  float64\n",
      " 7   NPHI       33973 non-null  float64\n",
      " 8   GR         63613 non-null  float64\n",
      " 9   DEPTH_MD   59587 non-null  float64\n",
      " 10  X_LOC      59587 non-null  float64\n",
      " 11  Y_LOC      59587 non-null  float64\n",
      " 12  Z_LOC      59587 non-null  float64\n",
      "dtypes: float64(13)\n",
      "memory usage: 6.9 MB\n"
     ]
    }
   ],
   "source": [
    "merged_df.info()"
   ]
  },
  {
   "cell_type": "markdown",
   "id": "adb063c1",
   "metadata": {},
   "source": [
    "since df5 doesn't have Mudweight and sp curves, we would need to drop them from the merged_df dataset"
   ]
  },
  {
   "cell_type": "code",
   "execution_count": 108,
   "id": "3e0bb7c0",
   "metadata": {},
   "outputs": [],
   "source": [
    "merged_df = merged_df.drop([\"MUDWEIGHT\", \"SP\"], axis=1)"
   ]
  },
  {
   "cell_type": "code",
   "execution_count": 109,
   "id": "f7a08f0e",
   "metadata": {},
   "outputs": [
    {
     "name": "stdout",
     "output_type": "stream",
     "text": [
      "<class 'pandas.core.frame.DataFrame'>\n",
      "Float64Index: 64752 entries, 25.0 to 2476.9237289\n",
      "Data columns (total 11 columns):\n",
      " #   Column    Non-Null Count  Dtype  \n",
      "---  ------    --------------  -----  \n",
      " 0   CALI      48870 non-null  float64\n",
      " 1   ROP       62894 non-null  float64\n",
      " 2   RDEP      59587 non-null  float64\n",
      " 3   RMED      59547 non-null  float64\n",
      " 4   DTC       57958 non-null  float64\n",
      " 5   NPHI      33973 non-null  float64\n",
      " 6   GR        63613 non-null  float64\n",
      " 7   DEPTH_MD  59587 non-null  float64\n",
      " 8   X_LOC     59587 non-null  float64\n",
      " 9   Y_LOC     59587 non-null  float64\n",
      " 10  Z_LOC     59587 non-null  float64\n",
      "dtypes: float64(11)\n",
      "memory usage: 7.9 MB\n"
     ]
    }
   ],
   "source": [
    "merged_df.info()"
   ]
  },
  {
   "cell_type": "code",
   "execution_count": 110,
   "id": "4c01ace1",
   "metadata": {},
   "outputs": [
    {
     "data": {
      "text/plain": [
       "CALI        15882\n",
       "ROP          1858\n",
       "RDEP         5165\n",
       "RMED         5205\n",
       "DTC          6794\n",
       "NPHI        30779\n",
       "GR           1139\n",
       "DEPTH_MD     5165\n",
       "X_LOC        5165\n",
       "Y_LOC        5165\n",
       "Z_LOC        5165\n",
       "dtype: int64"
      ]
     },
     "execution_count": 110,
     "metadata": {},
     "output_type": "execute_result"
    }
   ],
   "source": [
    "merged_df.isna().sum()"
   ]
  },
  {
   "cell_type": "markdown",
   "id": "2801c016",
   "metadata": {},
   "source": [
    "## drop rows where GR has null values"
   ]
  },
  {
   "cell_type": "code",
   "execution_count": 111,
   "id": "db25aaec",
   "metadata": {},
   "outputs": [],
   "source": [
    "merged_df.dropna(subset=[\"GR\"], inplace=True)"
   ]
  },
  {
   "cell_type": "code",
   "execution_count": 131,
   "id": "3893a627",
   "metadata": {},
   "outputs": [],
   "source": [
    "df5.dropna(subset=[\"GR\"], inplace=True)"
   ]
  },
  {
   "cell_type": "code",
   "execution_count": 112,
   "id": "ab47237e",
   "metadata": {},
   "outputs": [
    {
     "data": {
      "text/plain": [
       "CALI        14892\n",
       "ROP          1227\n",
       "RDEP         4304\n",
       "RMED         4344\n",
       "DTC          6255\n",
       "NPHI        29746\n",
       "GR              0\n",
       "DEPTH_MD     4304\n",
       "X_LOC        4304\n",
       "Y_LOC        4304\n",
       "Z_LOC        4304\n",
       "dtype: int64"
      ]
     },
     "execution_count": 112,
     "metadata": {},
     "output_type": "execute_result"
    }
   ],
   "source": [
    "merged_df.isna().sum()"
   ]
  },
  {
   "cell_type": "markdown",
   "id": "009ccd8b",
   "metadata": {},
   "source": [
    "## Split dataset into X_train and y_train"
   ]
  },
  {
   "cell_type": "code",
   "execution_count": 121,
   "id": "755abe86",
   "metadata": {},
   "outputs": [],
   "source": [
    "X_train = merged_df.drop(\"GR\", axis=1)\n",
    "y_train = merged_df[\"GR\"]"
   ]
  },
  {
   "cell_type": "code",
   "execution_count": 122,
   "id": "8fd75e40",
   "metadata": {
    "scrolled": true
   },
   "outputs": [
    {
     "name": "stdout",
     "output_type": "stream",
     "text": [
      "<class 'pandas.core.series.Series'>\n",
      "Float64Index: 63613 entries, 98.568 to 2450.4757289\n",
      "Series name: GR\n",
      "Non-Null Count  Dtype  \n",
      "--------------  -----  \n",
      "63613 non-null  float64\n",
      "dtypes: float64(1)\n",
      "memory usage: 994.0 KB\n"
     ]
    }
   ],
   "source": [
    "y_train.info()"
   ]
  },
  {
   "cell_type": "markdown",
   "id": "226438c8",
   "metadata": {},
   "source": [
    "## Split dataset into X_test and y_test"
   ]
  },
  {
   "cell_type": "code",
   "execution_count": 132,
   "id": "d867dc55",
   "metadata": {},
   "outputs": [
    {
     "data": {
      "text/plain": [
       "CALI        10824\n",
       "ROP            10\n",
       "RDEP           99\n",
       "RMED          142\n",
       "DTC           467\n",
       "NPHI        10831\n",
       "GR              0\n",
       "DEPTH_MD       99\n",
       "X_LOC          99\n",
       "Y_LOC          99\n",
       "Z_LOC          99\n",
       "dtype: int64"
      ]
     },
     "execution_count": 132,
     "metadata": {},
     "output_type": "execute_result"
    }
   ],
   "source": [
    "df5.isna().sum()"
   ]
  },
  {
   "cell_type": "code",
   "execution_count": 133,
   "id": "82696ce0",
   "metadata": {},
   "outputs": [],
   "source": [
    "X_test = df5.drop(\"GR\", axis=1)\n",
    "y_test = df5[\"GR\"]"
   ]
  },
  {
   "cell_type": "code",
   "execution_count": 134,
   "id": "578e0c71",
   "metadata": {},
   "outputs": [
    {
     "name": "stdout",
     "output_type": "stream",
     "text": [
      "<class 'pandas.core.series.Series'>\n",
      "Float64Index: 18666 entries, 379.9124 to 3216.9924\n",
      "Series name: GR\n",
      "Non-Null Count  Dtype  \n",
      "--------------  -----  \n",
      "18666 non-null  float64\n",
      "dtypes: float64(1)\n",
      "memory usage: 291.7 KB\n"
     ]
    }
   ],
   "source": [
    "y_test.info()"
   ]
  },
  {
   "cell_type": "markdown",
   "id": "93b6e426",
   "metadata": {},
   "source": [
    "## Creating an XGBoost model"
   ]
  },
  {
   "cell_type": "code",
   "execution_count": 127,
   "id": "7f034b95",
   "metadata": {},
   "outputs": [],
   "source": [
    "model = xgb.XGBRegressor()"
   ]
  },
  {
   "cell_type": "code",
   "execution_count": 128,
   "id": "62e5416c",
   "metadata": {},
   "outputs": [
    {
     "data": {
      "text/plain": [
       "XGBRegressor(base_score=None, booster=None, callbacks=None,\n",
       "             colsample_bylevel=None, colsample_bynode=None,\n",
       "             colsample_bytree=None, device=None, early_stopping_rounds=None,\n",
       "             enable_categorical=False, eval_metric=None, feature_types=None,\n",
       "             gamma=None, grow_policy=None, importance_type=None,\n",
       "             interaction_constraints=None, learning_rate=None, max_bin=None,\n",
       "             max_cat_threshold=None, max_cat_to_onehot=None,\n",
       "             max_delta_step=None, max_depth=None, max_leaves=None,\n",
       "             min_child_weight=None, missing=nan, monotone_constraints=None,\n",
       "             multi_strategy=None, n_estimators=None, n_jobs=None,\n",
       "             num_parallel_tree=None, random_state=None, ...)"
      ]
     },
     "execution_count": 128,
     "metadata": {},
     "output_type": "execute_result"
    }
   ],
   "source": [
    "model.fit(X_train, y_train)"
   ]
  },
  {
   "cell_type": "code",
   "execution_count": 135,
   "id": "e09f48c8",
   "metadata": {},
   "outputs": [
    {
     "data": {
      "text/plain": [
       "-0.8246379559603916"
      ]
     },
     "execution_count": 135,
     "metadata": {},
     "output_type": "execute_result"
    }
   ],
   "source": [
    "model.score(X_test, y_test)"
   ]
  },
  {
   "cell_type": "markdown",
   "id": "3edda623",
   "metadata": {},
   "source": [
    "## Create RandomForestRegressor model"
   ]
  },
  {
   "cell_type": "code",
   "execution_count": 139,
   "id": "844132db",
   "metadata": {},
   "outputs": [
    {
     "name": "stdout",
     "output_type": "stream",
     "text": [
      "<class 'pandas.core.frame.DataFrame'>\n",
      "Float64Index: 25272 entries, 1138.704 to 2159.8487189\n",
      "Data columns (total 11 columns):\n",
      " #   Column    Non-Null Count  Dtype  \n",
      "---  ------    --------------  -----  \n",
      " 0   CALI      25272 non-null  float64\n",
      " 1   ROP       25272 non-null  float64\n",
      " 2   RDEP      25272 non-null  float64\n",
      " 3   RMED      25272 non-null  float64\n",
      " 4   DTC       25272 non-null  float64\n",
      " 5   NPHI      25272 non-null  float64\n",
      " 6   GR        25272 non-null  float64\n",
      " 7   DEPTH_MD  25272 non-null  float64\n",
      " 8   X_LOC     25272 non-null  float64\n",
      " 9   Y_LOC     25272 non-null  float64\n",
      " 10  Z_LOC     25272 non-null  float64\n",
      "dtypes: float64(11)\n",
      "memory usage: 2.3 MB\n"
     ]
    }
   ],
   "source": [
    "dropped_missing_merged_df = dropped_missing_merged_df.drop([\"MUDWEIGHT\", \"SP\"], axis=1)\n",
    "dropped_missing_merged_df.info()"
   ]
  },
  {
   "cell_type": "code",
   "execution_count": 140,
   "id": "ba847710",
   "metadata": {},
   "outputs": [],
   "source": [
    "dropped_missing_merged_df\n",
    "X_train_isna = dropped_missing_merged_df.drop(\"GR\", axis=1)\n",
    "y_train_isna = dropped_missing_merged_df[\"GR\"]"
   ]
  },
  {
   "cell_type": "code",
   "execution_count": 143,
   "id": "1d3a295b",
   "metadata": {},
   "outputs": [
    {
     "data": {
      "text/plain": [
       "CALI        0\n",
       "ROP         0\n",
       "RDEP        0\n",
       "RMED        0\n",
       "DTC         0\n",
       "NPHI        0\n",
       "GR          0\n",
       "DEPTH_MD    0\n",
       "X_LOC       0\n",
       "Y_LOC       0\n",
       "Z_LOC       0\n",
       "dtype: int64"
      ]
     },
     "execution_count": 143,
     "metadata": {},
     "output_type": "execute_result"
    }
   ],
   "source": [
    "dropped_missing_df5 = df5\n",
    "dropped_missing_df5.dropna(inplace=True)\n"
   ]
  },
  {
   "cell_type": "code",
   "execution_count": 144,
   "id": "1a09635b",
   "metadata": {},
   "outputs": [],
   "source": [
    "X_test_isna = dropped_missing_df5.drop(\"GR\", axis=1)\n",
    "y_test_isna = dropped_missing_df5[\"GR\"]"
   ]
  },
  {
   "cell_type": "code",
   "execution_count": 141,
   "id": "91adce19",
   "metadata": {},
   "outputs": [
    {
     "data": {
      "text/plain": [
       "RandomForestRegressor()"
      ]
     },
     "execution_count": 141,
     "metadata": {},
     "output_type": "execute_result"
    }
   ],
   "source": [
    "from sklearn.ensemble import RandomForestRegressor\n",
    "reg = RandomForestRegressor()\n",
    "reg.fit(X_train_isna, y_train_isna)"
   ]
  },
  {
   "cell_type": "code",
   "execution_count": 145,
   "id": "aeb61d35",
   "metadata": {},
   "outputs": [
    {
     "data": {
      "text/plain": [
       "-3.0265728679825648"
      ]
     },
     "execution_count": 145,
     "metadata": {},
     "output_type": "execute_result"
    }
   ],
   "source": [
    "reg.score(X_test_isna, y_test_isna)"
   ]
  },
  {
   "cell_type": "code",
   "execution_count": null,
   "id": "7dea8236",
   "metadata": {},
   "outputs": [],
   "source": []
  }
 ],
 "metadata": {
  "kernelspec": {
   "display_name": "Python 3 (ipykernel)",
   "language": "python",
   "name": "python3"
  },
  "language_info": {
   "codemirror_mode": {
    "name": "ipython",
    "version": 3
   },
   "file_extension": ".py",
   "mimetype": "text/x-python",
   "name": "python",
   "nbconvert_exporter": "python",
   "pygments_lexer": "ipython3",
   "version": "3.9.12"
  }
 },
 "nbformat": 4,
 "nbformat_minor": 5
}
