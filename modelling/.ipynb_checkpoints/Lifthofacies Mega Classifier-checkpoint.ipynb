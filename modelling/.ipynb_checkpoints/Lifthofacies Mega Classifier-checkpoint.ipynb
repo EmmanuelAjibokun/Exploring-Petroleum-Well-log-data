{
 "cells": [
  {
   "cell_type": "code",
   "execution_count": 2,
   "id": "6526dfb5",
   "metadata": {},
   "outputs": [],
   "source": [
    "import pandas as pd\n",
    "import matplotlib.pyplot as plt\n",
    "import numpy as np\n",
    "import lasio\n",
    "import os"
   ]
  },
  {
   "cell_type": "code",
   "execution_count": 3,
   "id": "43d18696",
   "metadata": {},
   "outputs": [],
   "source": [
    "las_files_path = \"../train-data\"\n",
    "las_files = [f for f in os.listdir(las_files_path) if f.endswith('.las.txt') ]"
   ]
  },
  {
   "cell_type": "code",
   "execution_count": 4,
   "id": "912cad2f",
   "metadata": {},
   "outputs": [
    {
     "data": {
      "text/plain": [
       "98"
      ]
     },
     "execution_count": 4,
     "metadata": {},
     "output_type": "execute_result"
    }
   ],
   "source": [
    "len(las_files)"
   ]
  },
  {
   "cell_type": "markdown",
   "id": "c73e1f40",
   "metadata": {},
   "source": [
    "### Load and convert each las file to dataframe"
   ]
  },
  {
   "cell_type": "code",
   "execution_count": 5,
   "id": "0351d901",
   "metadata": {},
   "outputs": [],
   "source": [
    "dfs = []\n",
    "mutual_columns = set()\n",
    "\n",
    "for las_file in las_files:\n",
    "    las = lasio.read(os.path.join(las_files_path, las_file))\n",
    "    df = las.df()\n",
    "    dfs.append(df)\n",
    "    \n",
    "    # Update non_mutual_columns\n",
    "    if not mutual_columns:\n",
    "        mutual_columns.update(df.columns)\n",
    "    else:\n",
    "        mutual_columns.intersection_update(df.columns)"
   ]
  },
  {
   "cell_type": "code",
   "execution_count": 6,
   "id": "3c5fac12",
   "metadata": {},
   "outputs": [
    {
     "data": {
      "text/plain": [
       "{'CALI',\n",
       " 'DEPTH_MD',\n",
       " 'DTC',\n",
       " 'FORCE_2020_LITHOFACIES_CONFIDENCE',\n",
       " 'FORCE_2020_LITHOFACIES_LITHOLOGY',\n",
       " 'GR',\n",
       " 'NPHI',\n",
       " 'RDEP',\n",
       " 'RHOB',\n",
       " 'X_LOC',\n",
       " 'Y_LOC',\n",
       " 'Z_LOC'}"
      ]
     },
     "execution_count": 6,
     "metadata": {},
     "output_type": "execute_result"
    }
   ],
   "source": [
    "mutual_columns"
   ]
  },
  {
   "cell_type": "markdown",
   "id": "73b2eedd",
   "metadata": {},
   "source": [
    "### Remove non-mutual columns from each DATAFRAME"
   ]
  },
  {
   "cell_type": "code",
   "execution_count": 7,
   "id": "d8dff439",
   "metadata": {},
   "outputs": [],
   "source": [
    "dfs = [df.drop(columns=list(df.columns.difference(mutual_columns))) for df in dfs]"
   ]
  },
  {
   "cell_type": "markdown",
   "id": "bd4b50b9",
   "metadata": {},
   "source": [
    "### Merge Dataframes"
   ]
  },
  {
   "cell_type": "code",
   "execution_count": 8,
   "id": "2c40cc69",
   "metadata": {},
   "outputs": [],
   "source": [
    "merged_df = pd.concat(dfs, ignore_index=True)"
   ]
  },
  {
   "cell_type": "code",
   "execution_count": 9,
   "id": "c4a11b22",
   "metadata": {},
   "outputs": [
    {
     "data": {
      "text/html": [
       "<div>\n",
       "<style scoped>\n",
       "    .dataframe tbody tr th:only-of-type {\n",
       "        vertical-align: middle;\n",
       "    }\n",
       "\n",
       "    .dataframe tbody tr th {\n",
       "        vertical-align: top;\n",
       "    }\n",
       "\n",
       "    .dataframe thead th {\n",
       "        text-align: right;\n",
       "    }\n",
       "</style>\n",
       "<table border=\"1\" class=\"dataframe\">\n",
       "  <thead>\n",
       "    <tr style=\"text-align: right;\">\n",
       "      <th></th>\n",
       "      <th>FORCE_2020_LITHOFACIES_CONFIDENCE</th>\n",
       "      <th>FORCE_2020_LITHOFACIES_LITHOLOGY</th>\n",
       "      <th>CALI</th>\n",
       "      <th>RDEP</th>\n",
       "      <th>DTC</th>\n",
       "      <th>NPHI</th>\n",
       "      <th>GR</th>\n",
       "      <th>RHOB</th>\n",
       "      <th>DEPTH_MD</th>\n",
       "      <th>X_LOC</th>\n",
       "      <th>Y_LOC</th>\n",
       "      <th>Z_LOC</th>\n",
       "    </tr>\n",
       "  </thead>\n",
       "  <tbody>\n",
       "    <tr>\n",
       "      <th>0</th>\n",
       "      <td>NaN</td>\n",
       "      <td>NaN</td>\n",
       "      <td>NaN</td>\n",
       "      <td>NaN</td>\n",
       "      <td>206.224609</td>\n",
       "      <td>NaN</td>\n",
       "      <td>NaN</td>\n",
       "      <td>NaN</td>\n",
       "      <td>NaN</td>\n",
       "      <td>NaN</td>\n",
       "      <td>NaN</td>\n",
       "      <td>NaN</td>\n",
       "    </tr>\n",
       "    <tr>\n",
       "      <th>1</th>\n",
       "      <td>NaN</td>\n",
       "      <td>NaN</td>\n",
       "      <td>NaN</td>\n",
       "      <td>NaN</td>\n",
       "      <td>206.224625</td>\n",
       "      <td>NaN</td>\n",
       "      <td>NaN</td>\n",
       "      <td>NaN</td>\n",
       "      <td>NaN</td>\n",
       "      <td>NaN</td>\n",
       "      <td>NaN</td>\n",
       "      <td>NaN</td>\n",
       "    </tr>\n",
       "    <tr>\n",
       "      <th>2</th>\n",
       "      <td>NaN</td>\n",
       "      <td>NaN</td>\n",
       "      <td>NaN</td>\n",
       "      <td>NaN</td>\n",
       "      <td>206.224655</td>\n",
       "      <td>NaN</td>\n",
       "      <td>NaN</td>\n",
       "      <td>NaN</td>\n",
       "      <td>NaN</td>\n",
       "      <td>NaN</td>\n",
       "      <td>NaN</td>\n",
       "      <td>NaN</td>\n",
       "    </tr>\n",
       "    <tr>\n",
       "      <th>3</th>\n",
       "      <td>NaN</td>\n",
       "      <td>NaN</td>\n",
       "      <td>NaN</td>\n",
       "      <td>NaN</td>\n",
       "      <td>206.224670</td>\n",
       "      <td>NaN</td>\n",
       "      <td>NaN</td>\n",
       "      <td>NaN</td>\n",
       "      <td>NaN</td>\n",
       "      <td>NaN</td>\n",
       "      <td>NaN</td>\n",
       "      <td>NaN</td>\n",
       "    </tr>\n",
       "    <tr>\n",
       "      <th>4</th>\n",
       "      <td>NaN</td>\n",
       "      <td>NaN</td>\n",
       "      <td>NaN</td>\n",
       "      <td>NaN</td>\n",
       "      <td>206.224701</td>\n",
       "      <td>NaN</td>\n",
       "      <td>NaN</td>\n",
       "      <td>NaN</td>\n",
       "      <td>NaN</td>\n",
       "      <td>NaN</td>\n",
       "      <td>NaN</td>\n",
       "      <td>NaN</td>\n",
       "    </tr>\n",
       "  </tbody>\n",
       "</table>\n",
       "</div>"
      ],
      "text/plain": [
       "   FORCE_2020_LITHOFACIES_CONFIDENCE  FORCE_2020_LITHOFACIES_LITHOLOGY  CALI  \\\n",
       "0                                NaN                               NaN   NaN   \n",
       "1                                NaN                               NaN   NaN   \n",
       "2                                NaN                               NaN   NaN   \n",
       "3                                NaN                               NaN   NaN   \n",
       "4                                NaN                               NaN   NaN   \n",
       "\n",
       "   RDEP         DTC  NPHI  GR  RHOB  DEPTH_MD  X_LOC  Y_LOC  Z_LOC  \n",
       "0   NaN  206.224609   NaN NaN   NaN       NaN    NaN    NaN    NaN  \n",
       "1   NaN  206.224625   NaN NaN   NaN       NaN    NaN    NaN    NaN  \n",
       "2   NaN  206.224655   NaN NaN   NaN       NaN    NaN    NaN    NaN  \n",
       "3   NaN  206.224670   NaN NaN   NaN       NaN    NaN    NaN    NaN  \n",
       "4   NaN  206.224701   NaN NaN   NaN       NaN    NaN    NaN    NaN  "
      ]
     },
     "execution_count": 9,
     "metadata": {},
     "output_type": "execute_result"
    }
   ],
   "source": [
    "merged_df.head()"
   ]
  },
  {
   "cell_type": "code",
   "execution_count": 10,
   "id": "80745d5f",
   "metadata": {},
   "outputs": [
    {
     "name": "stdout",
     "output_type": "stream",
     "text": [
      "<class 'pandas.core.frame.DataFrame'>\n",
      "RangeIndex: 1926414 entries, 0 to 1926413\n",
      "Data columns (total 12 columns):\n",
      " #   Column                             Dtype  \n",
      "---  ------                             -----  \n",
      " 0   FORCE_2020_LITHOFACIES_CONFIDENCE  float64\n",
      " 1   FORCE_2020_LITHOFACIES_LITHOLOGY   float64\n",
      " 2   CALI                               float64\n",
      " 3   RDEP                               float64\n",
      " 4   DTC                                float64\n",
      " 5   NPHI                               float64\n",
      " 6   GR                                 float64\n",
      " 7   RHOB                               float64\n",
      " 8   DEPTH_MD                           float64\n",
      " 9   X_LOC                              float64\n",
      " 10  Y_LOC                              float64\n",
      " 11  Z_LOC                              float64\n",
      "dtypes: float64(12)\n",
      "memory usage: 176.4 MB\n"
     ]
    }
   ],
   "source": [
    "merged_df.info()"
   ]
  },
  {
   "cell_type": "code",
   "execution_count": 11,
   "id": "c169729a",
   "metadata": {},
   "outputs": [
    {
     "data": {
      "text/html": [
       "<div>\n",
       "<style scoped>\n",
       "    .dataframe tbody tr th:only-of-type {\n",
       "        vertical-align: middle;\n",
       "    }\n",
       "\n",
       "    .dataframe tbody tr th {\n",
       "        vertical-align: top;\n",
       "    }\n",
       "\n",
       "    .dataframe thead th {\n",
       "        text-align: right;\n",
       "    }\n",
       "</style>\n",
       "<table border=\"1\" class=\"dataframe\">\n",
       "  <thead>\n",
       "    <tr style=\"text-align: right;\">\n",
       "      <th></th>\n",
       "      <th>FORCE_2020_LITHOFACIES_CONFIDENCE</th>\n",
       "      <th>FORCE_2020_LITHOFACIES_LITHOLOGY</th>\n",
       "      <th>CALI</th>\n",
       "      <th>RDEP</th>\n",
       "      <th>DTC</th>\n",
       "      <th>NPHI</th>\n",
       "      <th>GR</th>\n",
       "      <th>RHOB</th>\n",
       "      <th>DEPTH_MD</th>\n",
       "      <th>X_LOC</th>\n",
       "      <th>Y_LOC</th>\n",
       "      <th>Z_LOC</th>\n",
       "    </tr>\n",
       "  </thead>\n",
       "  <tbody>\n",
       "    <tr>\n",
       "      <th>count</th>\n",
       "      <td>1.235373e+06</td>\n",
       "      <td>1.226648e+06</td>\n",
       "      <td>1.266217e+06</td>\n",
       "      <td>1.821447e+06</td>\n",
       "      <td>1.551056e+06</td>\n",
       "      <td>862976.000000</td>\n",
       "      <td>1.895183e+06</td>\n",
       "      <td>1.200510e+06</td>\n",
       "      <td>1.824116e+06</td>\n",
       "      <td>1.824116e+06</td>\n",
       "      <td>1.824116e+06</td>\n",
       "      <td>1.824116e+06</td>\n",
       "    </tr>\n",
       "    <tr>\n",
       "      <th>mean</th>\n",
       "      <td>1.155601e+00</td>\n",
       "      <td>6.153145e+04</td>\n",
       "      <td>1.332202e+01</td>\n",
       "      <td>9.284806e+00</td>\n",
       "      <td>1.184558e+02</td>\n",
       "      <td>0.339204</td>\n",
       "      <td>6.878315e+01</td>\n",
       "      <td>2.224463e+00</td>\n",
       "      <td>1.900224e+03</td>\n",
       "      <td>4.761019e+05</td>\n",
       "      <td>6.675222e+06</td>\n",
       "      <td>-1.854604e+03</td>\n",
       "    </tr>\n",
       "    <tr>\n",
       "      <th>std</th>\n",
       "      <td>4.398883e-01</td>\n",
       "      <td>1.415136e+04</td>\n",
       "      <td>3.700112e+00</td>\n",
       "      <td>9.900559e+01</td>\n",
       "      <td>3.204021e+01</td>\n",
       "      <td>0.133612</td>\n",
       "      <td>3.465592e+01</td>\n",
       "      <td>3.915355e-01</td>\n",
       "      <td>1.059969e+03</td>\n",
       "      <td>3.048136e+04</td>\n",
       "      <td>1.349903e+05</td>\n",
       "      <td>1.030665e+03</td>\n",
       "    </tr>\n",
       "    <tr>\n",
       "      <th>min</th>\n",
       "      <td>1.000000e+00</td>\n",
       "      <td>3.000000e+04</td>\n",
       "      <td>2.340806e+00</td>\n",
       "      <td>1.000000e-04</td>\n",
       "      <td>0.000000e+00</td>\n",
       "      <td>-0.037328</td>\n",
       "      <td>-1.562818e+01</td>\n",
       "      <td>0.000000e+00</td>\n",
       "      <td>9.872000e+01</td>\n",
       "      <td>4.232375e+05</td>\n",
       "      <td>6.429286e+06</td>\n",
       "      <td>-5.435889e+03</td>\n",
       "    </tr>\n",
       "    <tr>\n",
       "      <th>25%</th>\n",
       "      <td>1.000000e+00</td>\n",
       "      <td>6.500000e+04</td>\n",
       "      <td>1.043815e+01</td>\n",
       "      <td>8.951903e-01</td>\n",
       "      <td>9.225804e+01</td>\n",
       "      <td>0.246330</td>\n",
       "      <td>4.517743e+01</td>\n",
       "      <td>2.070150e+00</td>\n",
       "      <td>1.043532e+03</td>\n",
       "      <td>4.509588e+05</td>\n",
       "      <td>6.560991e+06</td>\n",
       "      <td>-2.588457e+03</td>\n",
       "    </tr>\n",
       "    <tr>\n",
       "      <th>50%</th>\n",
       "      <td>1.000000e+00</td>\n",
       "      <td>6.500000e+04</td>\n",
       "      <td>1.261052e+01</td>\n",
       "      <td>1.387843e+00</td>\n",
       "      <td>1.202946e+02</td>\n",
       "      <td>0.333831</td>\n",
       "      <td>6.661869e+01</td>\n",
       "      <td>2.270564e+00</td>\n",
       "      <td>1.771801e+03</td>\n",
       "      <td>4.744099e+05</td>\n",
       "      <td>6.728316e+06</td>\n",
       "      <td>-1.738921e+03</td>\n",
       "    </tr>\n",
       "    <tr>\n",
       "      <th>75%</th>\n",
       "      <td>1.000000e+00</td>\n",
       "      <td>6.500000e+04</td>\n",
       "      <td>1.660755e+01</td>\n",
       "      <td>2.244801e+00</td>\n",
       "      <td>1.449926e+02</td>\n",
       "      <td>0.438474</td>\n",
       "      <td>8.820755e+01</td>\n",
       "      <td>2.465437e+00</td>\n",
       "      <td>2.626626e+03</td>\n",
       "      <td>4.906490e+05</td>\n",
       "      <td>6.787700e+06</td>\n",
       "      <td>-1.017924e+03</td>\n",
       "    </tr>\n",
       "    <tr>\n",
       "      <th>max</th>\n",
       "      <td>3.000000e+00</td>\n",
       "      <td>9.900000e+04</td>\n",
       "      <td>3.211106e+01</td>\n",
       "      <td>1.999997e+03</td>\n",
       "      <td>3.204789e+02</td>\n",
       "      <td>0.999570</td>\n",
       "      <td>1.141292e+03</td>\n",
       "      <td>3.457820e+00</td>\n",
       "      <td>5.477672e+03</td>\n",
       "      <td>5.726328e+05</td>\n",
       "      <td>6.853526e+06</td>\n",
       "      <td>-7.265216e+01</td>\n",
       "    </tr>\n",
       "  </tbody>\n",
       "</table>\n",
       "</div>"
      ],
      "text/plain": [
       "       FORCE_2020_LITHOFACIES_CONFIDENCE  FORCE_2020_LITHOFACIES_LITHOLOGY  \\\n",
       "count                       1.235373e+06                      1.226648e+06   \n",
       "mean                        1.155601e+00                      6.153145e+04   \n",
       "std                         4.398883e-01                      1.415136e+04   \n",
       "min                         1.000000e+00                      3.000000e+04   \n",
       "25%                         1.000000e+00                      6.500000e+04   \n",
       "50%                         1.000000e+00                      6.500000e+04   \n",
       "75%                         1.000000e+00                      6.500000e+04   \n",
       "max                         3.000000e+00                      9.900000e+04   \n",
       "\n",
       "               CALI          RDEP           DTC           NPHI            GR  \\\n",
       "count  1.266217e+06  1.821447e+06  1.551056e+06  862976.000000  1.895183e+06   \n",
       "mean   1.332202e+01  9.284806e+00  1.184558e+02       0.339204  6.878315e+01   \n",
       "std    3.700112e+00  9.900559e+01  3.204021e+01       0.133612  3.465592e+01   \n",
       "min    2.340806e+00  1.000000e-04  0.000000e+00      -0.037328 -1.562818e+01   \n",
       "25%    1.043815e+01  8.951903e-01  9.225804e+01       0.246330  4.517743e+01   \n",
       "50%    1.261052e+01  1.387843e+00  1.202946e+02       0.333831  6.661869e+01   \n",
       "75%    1.660755e+01  2.244801e+00  1.449926e+02       0.438474  8.820755e+01   \n",
       "max    3.211106e+01  1.999997e+03  3.204789e+02       0.999570  1.141292e+03   \n",
       "\n",
       "               RHOB      DEPTH_MD         X_LOC         Y_LOC         Z_LOC  \n",
       "count  1.200510e+06  1.824116e+06  1.824116e+06  1.824116e+06  1.824116e+06  \n",
       "mean   2.224463e+00  1.900224e+03  4.761019e+05  6.675222e+06 -1.854604e+03  \n",
       "std    3.915355e-01  1.059969e+03  3.048136e+04  1.349903e+05  1.030665e+03  \n",
       "min    0.000000e+00  9.872000e+01  4.232375e+05  6.429286e+06 -5.435889e+03  \n",
       "25%    2.070150e+00  1.043532e+03  4.509588e+05  6.560991e+06 -2.588457e+03  \n",
       "50%    2.270564e+00  1.771801e+03  4.744099e+05  6.728316e+06 -1.738921e+03  \n",
       "75%    2.465437e+00  2.626626e+03  4.906490e+05  6.787700e+06 -1.017924e+03  \n",
       "max    3.457820e+00  5.477672e+03  5.726328e+05  6.853526e+06 -7.265216e+01  "
      ]
     },
     "execution_count": 11,
     "metadata": {},
     "output_type": "execute_result"
    }
   ],
   "source": [
    "merged_df.describe()"
   ]
  },
  {
   "cell_type": "code",
   "execution_count": 12,
   "id": "80e901b9",
   "metadata": {},
   "outputs": [
    {
     "data": {
      "text/plain": [
       "FORCE_2020_LITHOFACIES_CONFIDENCE     691041\n",
       "FORCE_2020_LITHOFACIES_LITHOLOGY      699766\n",
       "CALI                                  660197\n",
       "RDEP                                  104967\n",
       "DTC                                   375358\n",
       "NPHI                                 1063438\n",
       "GR                                     31231\n",
       "RHOB                                  725904\n",
       "DEPTH_MD                              102298\n",
       "X_LOC                                 102298\n",
       "Y_LOC                                 102298\n",
       "Z_LOC                                 102298\n",
       "dtype: int64"
      ]
     },
     "execution_count": 12,
     "metadata": {},
     "output_type": "execute_result"
    }
   ],
   "source": [
    "merged_df.isna().sum()"
   ]
  },
  {
   "cell_type": "markdown",
   "id": "9bbb0de0",
   "metadata": {},
   "source": [
    "### Visualize percentage of missing entries\n",
    "..."
   ]
  },
  {
   "cell_type": "markdown",
   "id": "798bf40b",
   "metadata": {},
   "source": [
    "## Clean Dataset\n",
    "### Drop column with <50% data entry"
   ]
  },
  {
   "cell_type": "code",
   "execution_count": 13,
   "id": "079689c4",
   "metadata": {},
   "outputs": [],
   "source": [
    "merged_df.drop('NPHI', axis=1, inplace=True)"
   ]
  },
  {
   "cell_type": "code",
   "execution_count": 14,
   "id": "6004b0d8",
   "metadata": {},
   "outputs": [
    {
     "data": {
      "text/plain": [
       "FORCE_2020_LITHOFACIES_CONFIDENCE    691041\n",
       "FORCE_2020_LITHOFACIES_LITHOLOGY     699766\n",
       "CALI                                 660197\n",
       "RDEP                                 104967\n",
       "DTC                                  375358\n",
       "GR                                    31231\n",
       "RHOB                                 725904\n",
       "DEPTH_MD                             102298\n",
       "X_LOC                                102298\n",
       "Y_LOC                                102298\n",
       "Z_LOC                                102298\n",
       "dtype: int64"
      ]
     },
     "execution_count": 14,
     "metadata": {},
     "output_type": "execute_result"
    }
   ],
   "source": [
    "merged_df.isna().sum()"
   ]
  },
  {
   "attachments": {
    "lithology.jpg": {
     "image/jpeg": "[encoded data removed]"
    }
   },
   "cell_type": "markdown",
   "id": "68bb8e3d",
   "metadata": {},
   "source": [
    "![lithology.jpg](attachment:lithology.jpg)"
   ]
  },
  {
   "cell_type": "code",
   "execution_count": 15,
   "id": "258845c0",
   "metadata": {},
   "outputs": [],
   "source": [
    "#Create a lithology dictionary\n",
    "lithologies=  {30000: [0, \"Sandstone\"],\n",
    "    65000: [1, \"Shale\"],\n",
    "    65030: [2, \"Sandstone/Stone\"],\n",
    "    70000: [3, \"Limestone\"],\n",
    "    70032: [4, \"Chalk\"],\n",
    "    74000: [5, \"Dolomite\"],\n",
    "    80000: [6, \"Marl\"],\n",
    "    99000: [7, \"Tuff\"],\n",
    "    90000: [8, \"Coal\"],\n",
    "    86000: [9, \"Anhydrite\"],\n",
    "    88000: [10, \"Halite\"],\n",
    "    93000: [11, \"Basement\"]}"
   ]
  },
  {
   "cell_type": "code",
   "execution_count": 16,
   "id": "681a0431",
   "metadata": {},
   "outputs": [],
   "source": [
    "for key, value in lithologies.items():\n",
    "        merged_df.loc[merged_df[\"FORCE_2020_LITHOFACIES_LITHOLOGY\"] == key, \"FORCE_2020_LITHOFACIES_LITHOLOGY\"] = lithologies[key][0]"
   ]
  },
  {
   "cell_type": "code",
   "execution_count": 17,
   "id": "ca8e243b",
   "metadata": {},
   "outputs": [
    {
     "data": {
      "text/plain": [
       "array([nan,  1.,  0.,  2.,  3.,  7.,  6.,  9.,  5.,  4.,  8., 10., 11.])"
      ]
     },
     "execution_count": 17,
     "metadata": {},
     "output_type": "execute_result"
    }
   ],
   "source": [
    "merged_df[\"FORCE_2020_LITHOFACIES_LITHOLOGY\"].unique()"
   ]
  },
  {
   "cell_type": "code",
   "execution_count": 18,
   "id": "9dd971dc",
   "metadata": {},
   "outputs": [
    {
     "data": {
      "text/plain": [
       "array([nan,  1.,  0.,  2.,  3.,  7.,  6.,  9.,  5.,  4.,  8., 10., 11.])"
      ]
     },
     "execution_count": 18,
     "metadata": {},
     "output_type": "execute_result"
    }
   ],
   "source": [
    "merged_df[\"FORCE_2020_LITHOFACIES_LITHOLOGY\"].unique()"
   ]
  },
  {
   "cell_type": "markdown",
   "id": "ed1c25ab",
   "metadata": {},
   "source": [
    "## Prepare Test Data"
   ]
  },
  {
   "cell_type": "code",
   "execution_count": 50,
   "id": "1f3a7965",
   "metadata": {},
   "outputs": [],
   "source": [
    "las_test = lasio.read(\"../test-data/35_11-13.las.txt\")\n",
    "test_df1 = las_test.df()"
   ]
  },
  {
   "cell_type": "code",
   "execution_count": 51,
   "id": "2f38b54b",
   "metadata": {},
   "outputs": [
    {
     "name": "stdout",
     "output_type": "stream",
     "text": [
      "<class 'pandas.core.frame.DataFrame'>\n",
      "Float64Index: 19119 entries, 386.078 to 3292.014\n",
      "Data columns (total 20 columns):\n",
      " #   Column                             Non-Null Count  Dtype  \n",
      "---  ------                             --------------  -----  \n",
      " 0   FORCE_2020_LITHOFACIES_CONFIDENCE  2425 non-null   float64\n",
      " 1   FORCE_2020_LITHOFACIES_LITHOLOGY   2430 non-null   float64\n",
      " 2   CALI                               2430 non-null   float64\n",
      " 3   BS                                 19112 non-null  float64\n",
      " 4   ROPA                               19103 non-null  float64\n",
      " 5   ROP                                18584 non-null  float64\n",
      " 6   RDEP                               18534 non-null  float64\n",
      " 7   RMED                               18374 non-null  float64\n",
      " 8   RMIC                               2195 non-null   float64\n",
      " 9   DTS                                4892 non-null   float64\n",
      " 10  DTC                                4190 non-null   float64\n",
      " 11  NPHI                               5827 non-null   float64\n",
      " 12  PEF                                2201 non-null   float64\n",
      " 13  GR                                 18812 non-null  float64\n",
      " 14  RHOB                               2201 non-null   float64\n",
      " 15  DRHO                               2430 non-null   float64\n",
      " 16  DEPTH_MD                           18534 non-null  float64\n",
      " 17  X_LOC                              18534 non-null  float64\n",
      " 18  Y_LOC                              18534 non-null  float64\n",
      " 19  Z_LOC                              18534 non-null  float64\n",
      "dtypes: float64(20)\n",
      "memory usage: 3.1 MB\n"
     ]
    }
   ],
   "source": [
    "test_df1.info()"
   ]
  },
  {
   "cell_type": "markdown",
   "id": "071c931b",
   "metadata": {},
   "source": [
    "#### Clean test data"
   ]
  },
  {
   "cell_type": "code",
   "execution_count": null,
   "id": "941c3f7c",
   "metadata": {},
   "outputs": [],
   "source": []
  },
  {
   "cell_type": "code",
   "execution_count": 21,
   "id": "a76105f4",
   "metadata": {},
   "outputs": [],
   "source": [
    "# Remove columns that are not in merged_df\n",
    "\n",
    "# Get commot columns\n",
    "common_columns = merged_df.columns.intersection(test_df.columns)"
   ]
  },
  {
   "cell_type": "code",
   "execution_count": 22,
   "id": "f3ffd484",
   "metadata": {},
   "outputs": [
    {
     "data": {
      "text/plain": [
       "Index(['FORCE_2020_LITHOFACIES_CONFIDENCE', 'FORCE_2020_LITHOFACIES_LITHOLOGY',\n",
       "       'CALI', 'RDEP', 'DTC', 'GR', 'RHOB', 'DEPTH_MD', 'X_LOC', 'Y_LOC',\n",
       "       'Z_LOC'],\n",
       "      dtype='object')"
      ]
     },
     "execution_count": 22,
     "metadata": {},
     "output_type": "execute_result"
    }
   ],
   "source": [
    "common_columns"
   ]
  },
  {
   "cell_type": "code",
   "execution_count": 23,
   "id": "527dab47",
   "metadata": {},
   "outputs": [],
   "source": [
    "test_df = test_df[common_columns]"
   ]
  },
  {
   "cell_type": "code",
   "execution_count": 24,
   "id": "686131cb",
   "metadata": {},
   "outputs": [
    {
     "name": "stdout",
     "output_type": "stream",
     "text": [
      "<class 'pandas.core.frame.DataFrame'>\n",
      "Float64Index: 19119 entries, 386.078 to 3292.014\n",
      "Data columns (total 11 columns):\n",
      " #   Column                             Non-Null Count  Dtype  \n",
      "---  ------                             --------------  -----  \n",
      " 0   FORCE_2020_LITHOFACIES_CONFIDENCE  2425 non-null   float64\n",
      " 1   FORCE_2020_LITHOFACIES_LITHOLOGY   2430 non-null   float64\n",
      " 2   CALI                               2430 non-null   float64\n",
      " 3   RDEP                               18534 non-null  float64\n",
      " 4   DTC                                4190 non-null   float64\n",
      " 5   GR                                 18812 non-null  float64\n",
      " 6   RHOB                               2201 non-null   float64\n",
      " 7   DEPTH_MD                           18534 non-null  float64\n",
      " 8   X_LOC                              18534 non-null  float64\n",
      " 9   Y_LOC                              18534 non-null  float64\n",
      " 10  Z_LOC                              18534 non-null  float64\n",
      "dtypes: float64(11)\n",
      "memory usage: 1.8 MB\n"
     ]
    }
   ],
   "source": [
    "test_df.info()"
   ]
  },
  {
   "cell_type": "code",
   "execution_count": 52,
   "id": "7a54b55e",
   "metadata": {},
   "outputs": [
    {
     "data": {
      "text/plain": [
       "array([   nan, 65000., 65030., 30000., 70000.])"
      ]
     },
     "execution_count": 52,
     "metadata": {},
     "output_type": "execute_result"
    }
   ],
   "source": [
    "test_df1[\"FORCE_2020_LITHOFACIES_LITHOLOGY\"].unique()"
   ]
  },
  {
   "cell_type": "code",
   "execution_count": 53,
   "id": "e8ad3c53",
   "metadata": {},
   "outputs": [
    {
     "data": {
      "text/plain": [
       "FORCE_2020_LITHOFACIES_CONFIDENCE    16694\n",
       "FORCE_2020_LITHOFACIES_LITHOLOGY     16689\n",
       "CALI                                 16689\n",
       "BS                                       7\n",
       "ROPA                                    16\n",
       "ROP                                    535\n",
       "RDEP                                   585\n",
       "RMED                                   745\n",
       "RMIC                                 16924\n",
       "DTS                                  14227\n",
       "DTC                                  14929\n",
       "NPHI                                 13292\n",
       "PEF                                  16918\n",
       "GR                                     307\n",
       "RHOB                                 16918\n",
       "DRHO                                 16689\n",
       "DEPTH_MD                               585\n",
       "X_LOC                                  585\n",
       "Y_LOC                                  585\n",
       "Z_LOC                                  585\n",
       "dtype: int64"
      ]
     },
     "execution_count": 53,
     "metadata": {},
     "output_type": "execute_result"
    }
   ],
   "source": [
    "test_df1.isna().sum()"
   ]
  },
  {
   "cell_type": "markdown",
   "id": "f29d9f39",
   "metadata": {},
   "source": [
    "#### Import a new test dataset\n",
    "    since the missing value for our target is way more than the non missing, we then have to import an additional dataset"
   ]
  },
  {
   "cell_type": "code",
   "execution_count": 27,
   "id": "492e27cb",
   "metadata": {},
   "outputs": [
    {
     "name": "stdout",
     "output_type": "stream",
     "text": [
      "<class 'pandas.core.frame.DataFrame'>\n",
      "Float64Index: 18832 entries, 390.0404 to 3252.3524\n",
      "Data columns (total 22 columns):\n",
      " #   Column                             Non-Null Count  Dtype  \n",
      "---  ------                             --------------  -----  \n",
      " 0   FORCE_2020_LITHOFACIES_CONFIDENCE  2598 non-null   float64\n",
      " 1   FORCE_2020_LITHOFACIES_LITHOLOGY   2596 non-null   float64\n",
      " 2   CALI                               2599 non-null   float64\n",
      " 3   BS                                 18377 non-null  float64\n",
      " 4   ROPA                               18739 non-null  float64\n",
      " 5   ROP                                18314 non-null  float64\n",
      " 6   RDEP                               18175 non-null  float64\n",
      " 7   RMED                               18004 non-null  float64\n",
      " 8   RXO                                2730 non-null   float64\n",
      " 9   RMIC                               2228 non-null   float64\n",
      " 10  DTS                                2647 non-null   float64\n",
      " 11  DTC                                4868 non-null   float64\n",
      " 12  NPHI                               2656 non-null   float64\n",
      " 13  PEF                                2229 non-null   float64\n",
      " 14  GR                                 18252 non-null  float64\n",
      " 15  RHOB                               2228 non-null   float64\n",
      " 16  DRHO                               2228 non-null   float64\n",
      " 17  SGR                                2627 non-null   float64\n",
      " 18  DEPTH_MD                           18175 non-null  float64\n",
      " 19  X_LOC                              18175 non-null  float64\n",
      " 20  Y_LOC                              18175 non-null  float64\n",
      " 21  Z_LOC                              18175 non-null  float64\n",
      "dtypes: float64(22)\n",
      "memory usage: 3.3 MB\n"
     ]
    }
   ],
   "source": [
    "las_test2 = lasio.read(\"../test-data/35_11-15 S.las.txt\")\n",
    "test_df2 = las_test2.df()\n",
    "test_df2.info()"
   ]
  },
  {
   "cell_type": "code",
   "execution_count": 28,
   "id": "62505e6f",
   "metadata": {},
   "outputs": [
    {
     "name": "stdout",
     "output_type": "stream",
     "text": [
      "<class 'pandas.core.frame.DataFrame'>\n",
      "Float64Index: 18832 entries, 390.0404 to 3252.3524\n",
      "Data columns (total 11 columns):\n",
      " #   Column                             Non-Null Count  Dtype  \n",
      "---  ------                             --------------  -----  \n",
      " 0   FORCE_2020_LITHOFACIES_CONFIDENCE  2598 non-null   float64\n",
      " 1   FORCE_2020_LITHOFACIES_LITHOLOGY   2596 non-null   float64\n",
      " 2   CALI                               2599 non-null   float64\n",
      " 3   RDEP                               18175 non-null  float64\n",
      " 4   DTC                                4868 non-null   float64\n",
      " 5   GR                                 18252 non-null  float64\n",
      " 6   RHOB                               2228 non-null   float64\n",
      " 7   DEPTH_MD                           18175 non-null  float64\n",
      " 8   X_LOC                              18175 non-null  float64\n",
      " 9   Y_LOC                              18175 non-null  float64\n",
      " 10  Z_LOC                              18175 non-null  float64\n",
      "dtypes: float64(11)\n",
      "memory usage: 1.7 MB\n"
     ]
    }
   ],
   "source": [
    "# Remove columns that are not in merged_df\n",
    "\n",
    "# Get commot columns\n",
    "common_columns = merged_df.columns.intersection(test_df2.columns)\n",
    "test_df2 = test_df2[common_columns]\n",
    "test_df2.info()"
   ]
  },
  {
   "cell_type": "code",
   "execution_count": 54,
   "id": "5d408041",
   "metadata": {},
   "outputs": [],
   "source": [
    "test_df = pd.concat([test_df1, test_df2])"
   ]
  },
  {
   "cell_type": "code",
   "execution_count": 55,
   "id": "18e672e4",
   "metadata": {},
   "outputs": [
    {
     "data": {
      "text/plain": [
       "FORCE_2020_LITHOFACIES_CONFIDENCE    32928\n",
       "FORCE_2020_LITHOFACIES_LITHOLOGY     32925\n",
       "CALI                                 32922\n",
       "BS                                   18839\n",
       "ROPA                                 18848\n",
       "ROP                                  19367\n",
       "RDEP                                  1242\n",
       "RMED                                 19577\n",
       "RMIC                                 35756\n",
       "DTS                                  33059\n",
       "DTC                                  28893\n",
       "NPHI                                 32124\n",
       "PEF                                  35750\n",
       "GR                                     887\n",
       "RHOB                                 33522\n",
       "DRHO                                 35521\n",
       "DEPTH_MD                              1242\n",
       "X_LOC                                 1242\n",
       "Y_LOC                                 1242\n",
       "Z_LOC                                 1242\n",
       "dtype: int64"
      ]
     },
     "execution_count": 55,
     "metadata": {},
     "output_type": "execute_result"
    }
   ],
   "source": [
    "test_df.isna().sum()"
   ]
  },
  {
   "cell_type": "markdown",
   "id": "99bcd777",
   "metadata": {},
   "source": [
    "#### Drop rows with missing values"
   ]
  },
  {
   "cell_type": "code",
   "execution_count": 31,
   "id": "e4e8d4b8",
   "metadata": {},
   "outputs": [
    {
     "data": {
      "text/plain": [
       "FORCE_2020_LITHOFACIES_CONFIDENCE    0\n",
       "FORCE_2020_LITHOFACIES_LITHOLOGY     0\n",
       "CALI                                 0\n",
       "RDEP                                 0\n",
       "DTC                                  0\n",
       "GR                                   0\n",
       "RHOB                                 0\n",
       "DEPTH_MD                             0\n",
       "X_LOC                                0\n",
       "Y_LOC                                0\n",
       "Z_LOC                                0\n",
       "dtype: int64"
      ]
     },
     "execution_count": 31,
     "metadata": {},
     "output_type": "execute_result"
    }
   ],
   "source": [
    "merged_df.dropna(inplace=True)\n",
    "merged_df.isna().sum()"
   ]
  },
  {
   "cell_type": "code",
   "execution_count": 57,
   "id": "0bb0bbce",
   "metadata": {},
   "outputs": [
    {
     "data": {
      "text/plain": [
       "FORCE_2020_LITHOFACIES_CONFIDENCE    0\n",
       "FORCE_2020_LITHOFACIES_LITHOLOGY     0\n",
       "CALI                                 0\n",
       "BS                                   0\n",
       "ROPA                                 0\n",
       "ROP                                  0\n",
       "RDEP                                 0\n",
       "RMED                                 0\n",
       "RMIC                                 0\n",
       "DTS                                  0\n",
       "DTC                                  0\n",
       "NPHI                                 0\n",
       "PEF                                  0\n",
       "GR                                   0\n",
       "RHOB                                 0\n",
       "DRHO                                 0\n",
       "DEPTH_MD                             0\n",
       "X_LOC                                0\n",
       "Y_LOC                                0\n",
       "Z_LOC                                0\n",
       "dtype: int64"
      ]
     },
     "execution_count": 57,
     "metadata": {},
     "output_type": "execute_result"
    }
   ],
   "source": [
    "test_df.dropna(inplace=True)\n",
    "test_df.isna().sum()"
   ]
  },
  {
   "cell_type": "code",
   "execution_count": 33,
   "id": "e99e8160",
   "metadata": {},
   "outputs": [],
   "source": [
    "merged_df[\"FORCE_2020_LITHOFACIES_LITHOLOGY\"] = merged_df[\"FORCE_2020_LITHOFACIES_LITHOLOGY\"].astype(int)"
   ]
  },
  {
   "cell_type": "code",
   "execution_count": 34,
   "id": "834d3d25",
   "metadata": {},
   "outputs": [],
   "source": [
    "test_df[\"FORCE_2020_LITHOFACIES_LITHOLOGY\"] = test_df[\"FORCE_2020_LITHOFACIES_LITHOLOGY\"].astype(int)"
   ]
  },
  {
   "cell_type": "code",
   "execution_count": 35,
   "id": "d6a6c019",
   "metadata": {},
   "outputs": [],
   "source": [
    "# Replace column's entries with corresponding discrete values for test data sets\n",
    "for key, value in lithologies.items():\n",
    "    test_df.loc[test_df[\"FORCE_2020_LITHOFACIES_LITHOLOGY\"] == key, \"FORCE_2020_LITHOFACIES_LITHOLOGY\"] = lithologies[key][0]"
   ]
  },
  {
   "cell_type": "code",
   "execution_count": 36,
   "id": "18fb8bbf",
   "metadata": {},
   "outputs": [
    {
     "data": {
      "text/plain": [
       "array([1, 2, 0, 3, 8])"
      ]
     },
     "execution_count": 36,
     "metadata": {},
     "output_type": "execute_result"
    }
   ],
   "source": [
    "test_df[\"FORCE_2020_LITHOFACIES_LITHOLOGY\"].unique()"
   ]
  },
  {
   "cell_type": "code",
   "execution_count": 37,
   "id": "d8674671",
   "metadata": {},
   "outputs": [],
   "source": [
    "from sklearn.metrics import accuracy_score, precision_score, recall_score, f1_score\n",
    "\n",
    "\n",
    "def evaluate_preds(y_true, y_preds):\n",
    "    \"\"\"\n",
    "    Performs evaluation comparison on y_true labels vs. y_pred\n",
    "    \"\"\"\n",
    "    \n",
    "    accuracy = accuracy_score(y_true, y_preds)\n",
    "    precision = precision_score(y_true, y_preds, average='micro')\n",
    "    recall = recall_score(y_true, y_preds, average='micro')\n",
    "    f1 = f1_score(y_true, y_preds, average='micro')\n",
    "    metric_dict = {\"accuracy\": round(accuracy, 2),\n",
    "                  \"precision\": round(precision, 2),\n",
    "                  \"recall\": round(recall, 2),\n",
    "                  \"f1\": round(f1, 2)}\n",
    "    print(f\"Acc: {accuracy * 100:.2f}%\")\n",
    "    print(f\"Precision: {precision:.2f}\")\n",
    "    print(f\"Recall: {recall:.2f}\")\n",
    "    print(f\"F1 score: {f1:.2f}\")\n",
    "    \n",
    "    return metric_dict"
   ]
  },
  {
   "cell_type": "markdown",
   "id": "c18e233d",
   "metadata": {},
   "source": [
    "## Select a Model"
   ]
  },
  {
   "cell_type": "code",
   "execution_count": 38,
   "id": "272df5a4",
   "metadata": {},
   "outputs": [],
   "source": [
    "#We'll be working with RandomForestClassifier\n",
    "from sklearn.ensemble import RandomForestClassifier\n",
    "np.random.seed(42)\n",
    "\n",
    "#initialize model\n",
    "model=RandomForestClassifier()"
   ]
  },
  {
   "cell_type": "code",
   "execution_count": 41,
   "id": "8bdc567e",
   "metadata": {},
   "outputs": [
    {
     "data": {
      "text/plain": [
       "RandomForestClassifier()"
      ]
     },
     "execution_count": 41,
     "metadata": {},
     "output_type": "execute_result"
    }
   ],
   "source": [
    "#split data to features and target\n",
    "\n",
    "X_train= merged_df.drop([\"FORCE_2020_LITHOFACIES_LITHOLOGY\"], axis=1)\n",
    "y_train=merged_df[\"FORCE_2020_LITHOFACIES_LITHOLOGY\"]\n",
    "\n",
    "#fit model\n",
    "model.fit(X_train, y_train)"
   ]
  },
  {
   "cell_type": "markdown",
   "id": "a8d8397c",
   "metadata": {},
   "source": [
    "Score model"
   ]
  },
  {
   "cell_type": "code",
   "execution_count": 42,
   "id": "4dceaa77",
   "metadata": {},
   "outputs": [
    {
     "data": {
      "text/plain": [
       "0.5759162303664922"
      ]
     },
     "execution_count": 42,
     "metadata": {},
     "output_type": "execute_result"
    }
   ],
   "source": [
    "X=test_df.drop([\"FORCE_2020_LITHOFACIES_LITHOLOGY\"], axis=1)\n",
    "y=test_df[\"FORCE_2020_LITHOFACIES_LITHOLOGY\"]\n",
    "\n",
    "X_test, y_test=(X,y)\n",
    "\n",
    "model.score(X_test, y_test)"
   ]
  },
  {
   "cell_type": "code",
   "execution_count": 59,
   "id": "dc383115",
   "metadata": {},
   "outputs": [],
   "source": [
    "test_df1.dropna(inplace=True)\n",
    "test_df1.isna().sum()\n",
    "test_df1[\"FORCE_2020_LITHOFACIES_LITHOLOGY\"] = test_df1[\"FORCE_2020_LITHOFACIES_LITHOLOGY\"].astype(int)"
   ]
  },
  {
   "cell_type": "code",
   "execution_count": 63,
   "id": "b29454b7",
   "metadata": {},
   "outputs": [],
   "source": [
    "common_columns = merged_df.columns.intersection(test_df1.columns)\n",
    "test_df1 = test_df1[common_columns]\n",
    "\n",
    "# Replace column's entries with corresponding discrete values for test data sets\n",
    "for key, value in lithologies.items():\n",
    "    test_df.loc[test_df[\"FORCE_2020_LITHOFACIES_LITHOLOGY\"] == key, \"FORCE_2020_LITHOFACIES_LITHOLOGY\"] = lithologies[key][0]\n"
   ]
  },
  {
   "cell_type": "code",
   "execution_count": 64,
   "id": "b83c10e5",
   "metadata": {},
   "outputs": [
    {
     "data": {
      "text/plain": [
       "0.6882480957562568"
      ]
     },
     "execution_count": 64,
     "metadata": {},
     "output_type": "execute_result"
    }
   ],
   "source": [
    "common_columns = merged_df.columns.intersection(test_df1.columns)\n",
    "test_df1 = test_df1[common_columns]\n",
    "\n",
    "# Replace column's entries with corresponding discrete values for test data sets\n",
    "for key, value in lithologies.items():\n",
    "    test_df1.loc[test_df1[\"FORCE_2020_LITHOFACIES_LITHOLOGY\"] == key, \"FORCE_2020_LITHOFACIES_LITHOLOGY\"] = lithologies[key][0]\n",
    "\n",
    "X_test1=test_df1.drop([\"FORCE_2020_LITHOFACIES_LITHOLOGY\"], axis=1)\n",
    "y_test1=test_df1[\"FORCE_2020_LITHOFACIES_LITHOLOGY\"]\n",
    "\n",
    "model.score(X_test1, y_test1)"
   ]
  },
  {
   "cell_type": "code",
   "execution_count": 65,
   "id": "649a64f1",
   "metadata": {
    "scrolled": false
   },
   "outputs": [
    {
     "data": {
      "text/plain": [
       "<sklearn.metrics._plot.confusion_matrix.ConfusionMatrixDisplay at 0x200030d7af0>"
      ]
     },
     "execution_count": 65,
     "metadata": {},
     "output_type": "execute_result"
    },
    {
     "data": {
      "image/png": "[encoded data removed]",
      "text/plain": [
       "<Figure size 432x288 with 2 Axes>"
      ]
     },
     "metadata": {
      "needs_background": "light"
     },
     "output_type": "display_data"
    }
   ],
   "source": [
    "y_preds1 = model.predict(X_test1)\n",
    "from sklearn.metrics import ConfusionMatrixDisplay\n",
    "\n",
    "ConfusionMatrixDisplay.from_predictions(y_true=y_test1,\n",
    "                                       y_pred=y_preds1)"
   ]
  },
  {
   "cell_type": "code",
   "execution_count": 74,
   "id": "2cd14285",
   "metadata": {},
   "outputs": [
    {
     "data": {
      "text/plain": [
       "RandomForestClassifier(max_depth=10, max_features=None, min_samples_leaf=75)"
      ]
     },
     "execution_count": 74,
     "metadata": {},
     "output_type": "execute_result"
    }
   ],
   "source": [
    "alt = RandomForestClassifier(max_depth= 10,\n",
    "                               max_features= None,\n",
    "                               min_samples_leaf= 75,\n",
    "                               n_estimators=100)\n",
    "alt.fit(X_train, y_train)\n"
   ]
  },
  {
   "cell_type": "code",
   "execution_count": 76,
   "id": "86bf19ac",
   "metadata": {},
   "outputs": [
    {
     "data": {
      "text/plain": [
       "0.7100108813928183"
      ]
     },
     "execution_count": 76,
     "metadata": {},
     "output_type": "execute_result"
    }
   ],
   "source": [
    "alt.score(X_test1, y_test1)"
   ]
  },
  {
   "cell_type": "code",
   "execution_count": 77,
   "id": "d7c7fc7a",
   "metadata": {},
   "outputs": [
    {
     "data": {
      "text/plain": [
       "0.758016458569807"
      ]
     },
     "execution_count": 77,
     "metadata": {},
     "output_type": "execute_result"
    }
   ],
   "source": [
    "las_test = lasio.read(\"../test-data/35_4-1.las.txt\")\n",
    "test_df3 = las_test.df()\n",
    "test_df3.dropna(inplace=True)\n",
    "test_df3[\"FORCE_2020_LITHOFACIES_LITHOLOGY\"] = test_df3[\"FORCE_2020_LITHOFACIES_LITHOLOGY\"].astype(int)\n",
    "\n",
    "common_columns = merged_df.columns.intersection(test_df3.columns)\n",
    "test_df3 = test_df3[common_columns]\n",
    "\n",
    "# Replace column's entries with corresponding discrete values for test data sets\n",
    "for key, value in lithologies.items():\n",
    "    test_df3.loc[test_df3[\"FORCE_2020_LITHOFACIES_LITHOLOGY\"] == key, \"FORCE_2020_LITHOFACIES_LITHOLOGY\"] = lithologies[key][0]\n",
    "\n",
    "X_test3=test_df3.drop([\"FORCE_2020_LITHOFACIES_LITHOLOGY\"], axis=1)\n",
    "y_test3=test_df3[\"FORCE_2020_LITHOFACIES_LITHOLOGY\"]\n",
    "\n",
    "model.score(X_test3, y_test3)\n"
   ]
  },
  {
   "cell_type": "code",
   "execution_count": 78,
   "id": "2cb86d3f",
   "metadata": {},
   "outputs": [
    {
     "data": {
      "text/plain": [
       "0.7001986379114642"
      ]
     },
     "execution_count": 78,
     "metadata": {},
     "output_type": "execute_result"
    }
   ],
   "source": [
    "alt.score(X_test3, y_test3)"
   ]
  },
  {
   "cell_type": "code",
   "execution_count": 79,
   "id": "258c28fb",
   "metadata": {},
   "outputs": [
    {
     "data": {
      "text/plain": [
       "0.5998178921010698"
      ]
     },
     "execution_count": 79,
     "metadata": {},
     "output_type": "execute_result"
    }
   ],
   "source": [
    "alt.score(X_test, y_test)"
   ]
  },
  {
   "cell_type": "code",
   "execution_count": 48,
   "id": "bfe841a2",
   "metadata": {},
   "outputs": [
    {
     "data": {
      "text/plain": [
       "<sklearn.metrics._plot.confusion_matrix.ConfusionMatrixDisplay at 0x2006182aeb0>"
      ]
     },
     "execution_count": 48,
     "metadata": {},
     "output_type": "execute_result"
    },
    {
     "data": {
      "image/png": "[encoded data removed]",
      "text/plain": [
       "<Figure size 432x288 with 2 Axes>"
      ]
     },
     "metadata": {
      "needs_background": "light"
     },
     "output_type": "display_data"
    }
   ],
   "source": [
    "y_preds = model.predict(X_test)\n",
    "from sklearn.metrics import ConfusionMatrixDisplay\n",
    "\n",
    "ConfusionMatrixDisplay.from_predictions(y_true=y_test,\n",
    "                                       y_pred=y_preds)"
   ]
  },
  {
   "cell_type": "markdown",
   "id": "a56d22ce",
   "metadata": {},
   "source": [
    "## Tune classifiers hyper parameters by hand"
   ]
  },
  {
   "cell_type": "code",
   "execution_count": 68,
   "id": "63098c45",
   "metadata": {},
   "outputs": [],
   "source": [
    "clf_2 = RandomForestClassifier(n_estimators=100,\n",
    "                              max_depth=10)\n",
    "\n",
    "clf_2.fit(X_train, y_train)\n",
    "clf_2_y_preds = clf_2.predict(X_test)"
   ]
  },
  {
   "cell_type": "code",
   "execution_count": 69,
   "id": "21cedfcb",
   "metadata": {},
   "outputs": [
    {
     "name": "stdout",
     "output_type": "stream",
     "text": [
      "Acc: 58.25%\n",
      "Precision: 0.58\n",
      "Recall: 0.58\n",
      "F1 score: 0.58\n"
     ]
    },
    {
     "data": {
      "text/plain": [
       "0.5825176417027088"
      ]
     },
     "execution_count": 69,
     "metadata": {},
     "output_type": "execute_result"
    }
   ],
   "source": [
    "clf_2_metrics = evaluate_preds(y_test, clf_2_y_preds)\n",
    "clf_2.score(X_test, y_test)"
   ]
  },
  {
   "cell_type": "code",
   "execution_count": 70,
   "id": "e01a8410",
   "metadata": {},
   "outputs": [
    {
     "data": {
      "text/plain": [
       "0.6855277475516867"
      ]
     },
     "execution_count": 70,
     "metadata": {},
     "output_type": "execute_result"
    }
   ],
   "source": [
    "clf_2.score(X_test1, y_test1)"
   ]
  },
  {
   "cell_type": "code",
   "execution_count": 83,
   "id": "2b3655c5",
   "metadata": {},
   "outputs": [
    {
     "data": {
      "text/plain": [
       "0.7270856980703746"
      ]
     },
     "execution_count": 83,
     "metadata": {},
     "output_type": "execute_result"
    }
   ],
   "source": [
    "clf_2.score(X_test3, y_test3)"
   ]
  },
  {
   "cell_type": "markdown",
   "id": "ce7c51bc",
   "metadata": {},
   "source": [
    "## Tune Hyper parameters using RandomSearchCV"
   ]
  },
  {
   "cell_type": "code",
   "execution_count": 63,
   "id": "ec78a7df",
   "metadata": {},
   "outputs": [],
   "source": [
    "from sklearn.model_selection import RandomizedSearchCV, GridSearchCV\n",
    "grid = {\"n_estimators\": [10, 100, 200, 500, 1000, 1200],\n",
    "       \"max_depth\": [None, 5, 10, 20, 30],\n",
    "       \"max_features\": [\"auto\", \"sqrt\"],\n",
    "       \"min_samples_split\": [2, 4, 6],\n",
    "       \"min_samples_leaf\": [1, 2, 4]}\n",
    "np.random.seed(42)"
   ]
  },
  {
   "cell_type": "code",
   "execution_count": null,
   "id": "d2a58cf4",
   "metadata": {},
   "outputs": [
    {
     "name": "stdout",
     "output_type": "stream",
     "text": [
      "Fitting 5 folds for each of 5 candidates, totalling 25 fits\n"
     ]
    }
   ],
   "source": [
    "clf_3 = RandomizedSearchCV(RandomForestClassifier(), param_distributions=grid, n_iter=5, scoring=\"roc_auc\", n_jobs=-1, cv=5, verbose=3)\n",
    "clf_3.fit(X_train, y_train)\n",
    "clf_3_y_preds = clf_3.predict(X_test)\n",
    "clf_3_metrics = evaluate_preds(y_test, clf_3_y_preds)"
   ]
  },
  {
   "cell_type": "code",
   "execution_count": 39,
   "id": "a893f9e3",
   "metadata": {
    "collapsed": true
   },
   "outputs": [
    {
     "data": {
      "text/plain": [
       "0    1696\n",
       "2    1562\n",
       "1    1068\n",
       "3      54\n",
       "8      13\n",
       "Name: FORCE_2020_LITHOFACIES_LITHOLOGY, dtype: int64"
      ]
     },
     "execution_count": 39,
     "metadata": {},
     "output_type": "execute_result"
    }
   ],
   "source": [
    "test_df[\"FORCE_2020_LITHOFACIES_LITHOLOGY\"].value_counts()"
   ]
  },
  {
   "cell_type": "code",
   "execution_count": 40,
   "id": "47d0fe82",
   "metadata": {},
   "outputs": [
    {
     "data": {
      "text/plain": [
       "1     602069\n",
       "0     151362\n",
       "2     124798\n",
       "3      57936\n",
       "6      31047\n",
       "7      12557\n",
       "4       8831\n",
       "10      5430\n",
       "8       4288\n",
       "5       1733\n",
       "9       1357\n",
       "11        93\n",
       "Name: FORCE_2020_LITHOFACIES_LITHOLOGY, dtype: int64"
      ]
     },
     "execution_count": 40,
     "metadata": {},
     "output_type": "execute_result"
    }
   ],
   "source": [
    "merged_df[\"FORCE_2020_LITHOFACIES_LITHOLOGY\"].value_counts()"
   ]
  },
  {
   "cell_type": "code",
   "execution_count": 46,
   "id": "e1e3f3ae",
   "metadata": {},
   "outputs": [
    {
     "name": "stdout",
     "output_type": "stream",
     "text": [
      "100%|██████████████| 50/50 [1:24:12<00:00, 101.06s/trial, best loss: -0.3705895743227863]\n",
      "Best Hyperparameters: {'max_depth': 13, 'max_features': 3, 'min_samples_leaf': 0.21314848440673473, 'min_samples_split': 0.5104333332299061, 'n_estimators': 161}\n"
     ]
    }
   ],
   "source": [
    "# This function is to help use get the best combination of hyperparameter to get the best results on our model\n",
    "\n",
    "from hyperopt import fmin, tpe, hp\n",
    "from sklearn.metrics import accuracy_score\n",
    "\n",
    "\n",
    "# Define the search space\n",
    "space = {\n",
    "    'n_estimators': hp.choice('n_estimators', range(10, 200)),\n",
    "    'max_depth': hp.choice('max_depth', range(1, 20)),\n",
    "    'min_samples_split': hp.uniform('min_samples_split', 0.1, 1.0),\n",
    "    'min_samples_leaf': hp.uniform('min_samples_leaf', 0.1, 0.5),\n",
    "    'max_features': hp.choice('max_features', ['auto', 'sqrt', 'log2', None])\n",
    "}\n",
    "\n",
    "# Define the objective function\n",
    "def objective(params):\n",
    "    # Instantiate RandomForestClassifier with hyperparameters\n",
    "    clf = RandomForestClassifier(\n",
    "        n_estimators=params['n_estimators'],\n",
    "        max_depth=params['max_depth'],\n",
    "        min_samples_split=params['min_samples_split'],\n",
    "        min_samples_leaf=params['min_samples_leaf'],\n",
    "        max_features=params['max_features'],\n",
    "        random_state=42  # Set a seed for reproducibility\n",
    "    )\n",
    "\n",
    "    # Train and evaluate the model\n",
    "    clf.fit(X_train, y_train)\n",
    "    y_pred = clf.predict(X_test)\n",
    "    accuracy = accuracy_score(y_test, y_pred)\n",
    "\n",
    "    # Return the negative accuracy (minimize negative accuracy = maximize accuracy)\n",
    "    return -accuracy\n",
    "\n",
    "# Run Bayesian optimization\n",
    "best = fmin(fn=objective, space=space, algo=tpe.suggest, max_evals=50)\n",
    "\n",
    "# 'best' will contain the best set of hyperparameters found\n",
    "print(\"Best Hyperparameters:\", best)"
   ]
  },
  {
   "cell_type": "code",
   "execution_count": 49,
   "id": "86e9ae14",
   "metadata": {},
   "outputs": [
    {
     "name": "stdout",
     "output_type": "stream",
     "text": [
      "Acc: 24.31%\n",
      "Precision: 0.24\n",
      "Recall: 0.24\n",
      "F1 score: 0.24\n"
     ]
    },
    {
     "data": {
      "text/plain": [
       "0.24311404507170498"
      ]
     },
     "execution_count": 49,
     "metadata": {},
     "output_type": "execute_result"
    }
   ],
   "source": [
    "clf_3 = RandomForestClassifier(max_depth= 13,\n",
    "                               max_features= 3,\n",
    "                               min_samples_leaf= 0.21314848440673473,\n",
    "                               min_samples_split=0.5104333332299061,\n",
    "                               n_estimators=161)\n",
    "\n",
    "clf_3.fit(X_train, y_train)\n",
    "clf_3_y_preds = clf_3.predict(X_test)\n",
    "clf_3_metrics = evaluate_preds(y_test, clf_3_y_preds)\n",
    "clf_3.score(X_test, y_test)"
   ]
  },
  {
   "cell_type": "code",
   "execution_count": 80,
   "id": "ea390b98",
   "metadata": {},
   "outputs": [
    {
     "data": {
      "text/plain": [
       "XGBClassifier(base_score=None, booster=None, callbacks=None,\n",
       "              colsample_bylevel=None, colsample_bynode=None,\n",
       "              colsample_bytree=None, device=None, early_stopping_rounds=None,\n",
       "              enable_categorical=False, eval_metric=None, feature_types=None,\n",
       "              gamma=None, grow_policy=None, importance_type=None,\n",
       "              interaction_constraints=None, learning_rate=None, max_bin=None,\n",
       "              max_cat_threshold=None, max_cat_to_onehot=None,\n",
       "              max_delta_step=None, max_depth=None, max_leaves=None,\n",
       "              min_child_weight=None, missing=nan, monotone_constraints=None,\n",
       "              multi_strategy=None, n_estimators=None, n_jobs=None,\n",
       "              num_parallel_tree=None, objective='multi:softprob', ...)"
      ]
     },
     "execution_count": 80,
     "metadata": {},
     "output_type": "execute_result"
    }
   ],
   "source": [
    "import xgboost as xgb\n",
    "xgbc = xgb.XGBClassifier()\n",
    "xgbc.fit(X_train, y_train)"
   ]
  },
  {
   "cell_type": "code",
   "execution_count": 86,
   "id": "248b51f4",
   "metadata": {},
   "outputs": [
    {
     "data": {
      "text/plain": [
       "XGBClassifier(base_score=None, booster=None, callbacks=None,\n",
       "              colsample_bylevel=None, colsample_bynode=None,\n",
       "              colsample_bytree=None, device=None, early_stopping_rounds=None,\n",
       "              enable_categorical=False, eval_metric=None, feature_types=None,\n",
       "              gamma=None, grow_policy=None, importance_type=None,\n",
       "              interaction_constraints=None, learning_rate=None, max_bin=None,\n",
       "              max_cat_threshold=None, max_cat_to_onehot=None,\n",
       "              max_delta_step=None, max_depth=10, max_leaves=None,\n",
       "              min_child_weight=None, missing=nan, monotone_constraints=None,\n",
       "              multi_strategy=None, n_estimators=100, n_jobs=None,\n",
       "              num_parallel_tree=None, objective='multi:softprob', ...)"
      ]
     },
     "execution_count": 86,
     "metadata": {},
     "output_type": "execute_result"
    }
   ],
   "source": [
    "import xgboost as xgb\n",
    "xgb_clf_2 = xgb.XGBClassifier(max_depth=10, n_estimators=100)\n",
    "xgb_clf_2.fit(X_train, y_train)"
   ]
  },
  {
   "cell_type": "code",
   "execution_count": null,
   "id": "63363c8b",
   "metadata": {},
   "outputs": [],
   "source": [
    "## Detail on each model\n",
    "    - xgbc: xgb.XGBClassifier()\n",
    "    - xgbc: xgb.XGBClassifier(max_depth=10, n_estimators=100)\n",
    "    - model: RandomForestClassifier()\n",
    "    - clf_2: RandomForestClassifier(n_estimators=100, max_depth=10)\n",
    "        \n",
    "## Detail on the each test data\n",
    "    - test: merged 2 different datasets\n",
    "    - test1: a random datasets loaded for test\n",
    "    - test3: the exact same datasets Love used in testing her model. hence, why we arrived at the same accuracy score"
   ]
  },
  {
   "cell_type": "code",
   "execution_count": 90,
   "id": "03f375dd",
   "metadata": {},
   "outputs": [
    {
     "name": "stdout",
     "output_type": "stream",
     "text": [
      "0.5936717505121785\n",
      "0.7078346028291621\n",
      "0.6081867196367764\n"
     ]
    }
   ],
   "source": [
    "print(xgbc.score(X_test, y_test))\n",
    "print(xgbc.score(X_test1, y_test1))\n",
    "print(xgbc.score(X_test3, y_test3))"
   ]
  },
  {
   "cell_type": "code",
   "execution_count": 91,
   "id": "ee4ddc3c",
   "metadata": {},
   "outputs": [
    {
     "name": "stdout",
     "output_type": "stream",
     "text": [
      "0.5713635328932393\n",
      "0.6708378672470077\n",
      "0.6683456299659478\n"
     ]
    }
   ],
   "source": [
    "print(xgb_clf_2.score(X_test, y_test))\n",
    "print(xgb_clf_2.score(X_test1, y_test1))\n",
    "print(xgb_clf_2.score(X_test3, y_test3))"
   ]
  },
  {
   "cell_type": "code",
   "execution_count": 92,
   "id": "705301de",
   "metadata": {},
   "outputs": [
    {
     "name": "stdout",
     "output_type": "stream",
     "text": [
      "0.5759162303664922\n",
      "0.6882480957562568\n",
      "0.758016458569807\n"
     ]
    }
   ],
   "source": [
    "print(model.score(X_test, y_test))\n",
    "print(model.score(X_test1, y_test1))\n",
    "print(model.score(X_test3, y_test3))"
   ]
  },
  {
   "cell_type": "code",
   "execution_count": 93,
   "id": "800883a6",
   "metadata": {},
   "outputs": [
    {
     "name": "stdout",
     "output_type": "stream",
     "text": [
      "0.5825176417027088\n",
      "0.6855277475516867\n",
      "0.7270856980703746\n"
     ]
    }
   ],
   "source": [
    "print(clf_2.score(X_test, y_test))\n",
    "print(clf_2.score(X_test1, y_test1))\n",
    "print(clf_2.score(X_test3, y_test3))"
   ]
  },
  {
   "cell_type": "code",
   "execution_count": null,
   "id": "4d7ddf40",
   "metadata": {},
   "outputs": [],
   "source": []
  }
 ],
 "metadata": {
  "kernelspec": {
   "display_name": "Python 3 (ipykernel)",
   "language": "python",
   "name": "python3"
  },
  "language_info": {
   "codemirror_mode": {
    "name": "ipython",
    "version": 3
   },
   "file_extension": ".py",
   "mimetype": "text/x-python",
   "name": "python",
   "nbconvert_exporter": "python",
   "pygments_lexer": "ipython3",
   "version": "3.9.12"
  }
 },
 "nbformat": 4,
 "nbformat_minor": 5
}
