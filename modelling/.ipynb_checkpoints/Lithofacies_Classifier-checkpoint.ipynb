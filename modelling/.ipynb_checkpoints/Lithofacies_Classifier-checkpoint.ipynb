{
 "cells": [
  {
   "cell_type": "markdown",
   "id": "d2461e5d",
   "metadata": {},
   "source": [
    "Goal: \n",
    "    To classify Lithofacies Lithology"
   ]
  },
  {
   "cell_type": "code",
   "execution_count": 1,
   "id": "a9009745",
   "metadata": {},
   "outputs": [],
   "source": [
    "import pandas as pd\n",
    "import matplotlib.pyplot as plt\n",
    "import numpy as np\n",
    "import lasio"
   ]
  },
  {
   "cell_type": "code",
   "execution_count": 2,
   "id": "0eb62d21",
   "metadata": {},
   "outputs": [],
   "source": [
    "# Train data\n",
    "\n",
    "las1 = lasio.read(\"../well-log-data/15_9-13.las\")\n",
    "las2 = lasio.read(\"../well-log-data/16_8-1.las\")\n",
    "las3 = lasio.read(\"../well-log-data/25_11-5.las\")\n",
    "las4 = lasio.read(\"../well-log-data/25_6-3.las\")"
   ]
  },
  {
   "cell_type": "code",
   "execution_count": 3,
   "id": "5cc91680",
   "metadata": {},
   "outputs": [],
   "source": [
    "# convert las files to dataframe\n",
    "\n",
    "df1 = las1.df()\n",
    "df2 = las2.df()\n",
    "df3 = las3.df()\n",
    "df4 = las4.df()"
   ]
  },
  {
   "cell_type": "code",
   "execution_count": 4,
   "id": "6d9590de",
   "metadata": {},
   "outputs": [
    {
     "data": {
      "text/html": [
       "<div>\n",
       "<style scoped>\n",
       "    .dataframe tbody tr th:only-of-type {\n",
       "        vertical-align: middle;\n",
       "    }\n",
       "\n",
       "    .dataframe tbody tr th {\n",
       "        vertical-align: top;\n",
       "    }\n",
       "\n",
       "    .dataframe thead th {\n",
       "        text-align: right;\n",
       "    }\n",
       "</style>\n",
       "<table border=\"1\" class=\"dataframe\">\n",
       "  <thead>\n",
       "    <tr style=\"text-align: right;\">\n",
       "      <th></th>\n",
       "      <th>FORCE_2020_LITHOFACIES_CONFIDENCE</th>\n",
       "      <th>FORCE_2020_LITHOFACIES_LITHOLOGY</th>\n",
       "      <th>CALI</th>\n",
       "      <th>MUDWEIGHT</th>\n",
       "      <th>ROP</th>\n",
       "      <th>RDEP</th>\n",
       "      <th>RSHA</th>\n",
       "      <th>RMED</th>\n",
       "      <th>RXO</th>\n",
       "      <th>SP</th>\n",
       "      <th>DTC</th>\n",
       "      <th>NPHI</th>\n",
       "      <th>PEF</th>\n",
       "      <th>GR</th>\n",
       "      <th>RHOB</th>\n",
       "      <th>DRHO</th>\n",
       "      <th>DEPTH_MD</th>\n",
       "      <th>X_LOC</th>\n",
       "      <th>Y_LOC</th>\n",
       "      <th>Z_LOC</th>\n",
       "    </tr>\n",
       "    <tr>\n",
       "      <th>DEPT</th>\n",
       "      <th></th>\n",
       "      <th></th>\n",
       "      <th></th>\n",
       "      <th></th>\n",
       "      <th></th>\n",
       "      <th></th>\n",
       "      <th></th>\n",
       "      <th></th>\n",
       "      <th></th>\n",
       "      <th></th>\n",
       "      <th></th>\n",
       "      <th></th>\n",
       "      <th></th>\n",
       "      <th></th>\n",
       "      <th></th>\n",
       "      <th></th>\n",
       "      <th></th>\n",
       "      <th></th>\n",
       "      <th></th>\n",
       "      <th></th>\n",
       "    </tr>\n",
       "  </thead>\n",
       "  <tbody>\n",
       "    <tr>\n",
       "      <th>25.000</th>\n",
       "      <td>NaN</td>\n",
       "      <td>NaN</td>\n",
       "      <td>NaN</td>\n",
       "      <td>NaN</td>\n",
       "      <td>NaN</td>\n",
       "      <td>NaN</td>\n",
       "      <td>NaN</td>\n",
       "      <td>NaN</td>\n",
       "      <td>NaN</td>\n",
       "      <td>NaN</td>\n",
       "      <td>206.224609</td>\n",
       "      <td>NaN</td>\n",
       "      <td>NaN</td>\n",
       "      <td>NaN</td>\n",
       "      <td>NaN</td>\n",
       "      <td>NaN</td>\n",
       "      <td>NaN</td>\n",
       "      <td>NaN</td>\n",
       "      <td>NaN</td>\n",
       "      <td>NaN</td>\n",
       "    </tr>\n",
       "    <tr>\n",
       "      <th>25.152</th>\n",
       "      <td>NaN</td>\n",
       "      <td>NaN</td>\n",
       "      <td>NaN</td>\n",
       "      <td>NaN</td>\n",
       "      <td>NaN</td>\n",
       "      <td>NaN</td>\n",
       "      <td>NaN</td>\n",
       "      <td>NaN</td>\n",
       "      <td>NaN</td>\n",
       "      <td>NaN</td>\n",
       "      <td>206.224625</td>\n",
       "      <td>NaN</td>\n",
       "      <td>NaN</td>\n",
       "      <td>NaN</td>\n",
       "      <td>NaN</td>\n",
       "      <td>NaN</td>\n",
       "      <td>NaN</td>\n",
       "      <td>NaN</td>\n",
       "      <td>NaN</td>\n",
       "      <td>NaN</td>\n",
       "    </tr>\n",
       "    <tr>\n",
       "      <th>25.304</th>\n",
       "      <td>NaN</td>\n",
       "      <td>NaN</td>\n",
       "      <td>NaN</td>\n",
       "      <td>NaN</td>\n",
       "      <td>NaN</td>\n",
       "      <td>NaN</td>\n",
       "      <td>NaN</td>\n",
       "      <td>NaN</td>\n",
       "      <td>NaN</td>\n",
       "      <td>NaN</td>\n",
       "      <td>206.224655</td>\n",
       "      <td>NaN</td>\n",
       "      <td>NaN</td>\n",
       "      <td>NaN</td>\n",
       "      <td>NaN</td>\n",
       "      <td>NaN</td>\n",
       "      <td>NaN</td>\n",
       "      <td>NaN</td>\n",
       "      <td>NaN</td>\n",
       "      <td>NaN</td>\n",
       "    </tr>\n",
       "    <tr>\n",
       "      <th>25.456</th>\n",
       "      <td>NaN</td>\n",
       "      <td>NaN</td>\n",
       "      <td>NaN</td>\n",
       "      <td>NaN</td>\n",
       "      <td>NaN</td>\n",
       "      <td>NaN</td>\n",
       "      <td>NaN</td>\n",
       "      <td>NaN</td>\n",
       "      <td>NaN</td>\n",
       "      <td>NaN</td>\n",
       "      <td>206.224670</td>\n",
       "      <td>NaN</td>\n",
       "      <td>NaN</td>\n",
       "      <td>NaN</td>\n",
       "      <td>NaN</td>\n",
       "      <td>NaN</td>\n",
       "      <td>NaN</td>\n",
       "      <td>NaN</td>\n",
       "      <td>NaN</td>\n",
       "      <td>NaN</td>\n",
       "    </tr>\n",
       "    <tr>\n",
       "      <th>25.608</th>\n",
       "      <td>NaN</td>\n",
       "      <td>NaN</td>\n",
       "      <td>NaN</td>\n",
       "      <td>NaN</td>\n",
       "      <td>NaN</td>\n",
       "      <td>NaN</td>\n",
       "      <td>NaN</td>\n",
       "      <td>NaN</td>\n",
       "      <td>NaN</td>\n",
       "      <td>NaN</td>\n",
       "      <td>206.224701</td>\n",
       "      <td>NaN</td>\n",
       "      <td>NaN</td>\n",
       "      <td>NaN</td>\n",
       "      <td>NaN</td>\n",
       "      <td>NaN</td>\n",
       "      <td>NaN</td>\n",
       "      <td>NaN</td>\n",
       "      <td>NaN</td>\n",
       "      <td>NaN</td>\n",
       "    </tr>\n",
       "  </tbody>\n",
       "</table>\n",
       "</div>"
      ],
      "text/plain": [
       "        FORCE_2020_LITHOFACIES_CONFIDENCE  FORCE_2020_LITHOFACIES_LITHOLOGY  \\\n",
       "DEPT                                                                          \n",
       "25.000                                NaN                               NaN   \n",
       "25.152                                NaN                               NaN   \n",
       "25.304                                NaN                               NaN   \n",
       "25.456                                NaN                               NaN   \n",
       "25.608                                NaN                               NaN   \n",
       "\n",
       "        CALI  MUDWEIGHT  ROP  RDEP  RSHA  RMED  RXO  SP         DTC  NPHI  \\\n",
       "DEPT                                                                        \n",
       "25.000   NaN        NaN  NaN   NaN   NaN   NaN  NaN NaN  206.224609   NaN   \n",
       "25.152   NaN        NaN  NaN   NaN   NaN   NaN  NaN NaN  206.224625   NaN   \n",
       "25.304   NaN        NaN  NaN   NaN   NaN   NaN  NaN NaN  206.224655   NaN   \n",
       "25.456   NaN        NaN  NaN   NaN   NaN   NaN  NaN NaN  206.224670   NaN   \n",
       "25.608   NaN        NaN  NaN   NaN   NaN   NaN  NaN NaN  206.224701   NaN   \n",
       "\n",
       "        PEF  GR  RHOB  DRHO  DEPTH_MD  X_LOC  Y_LOC  Z_LOC  \n",
       "DEPT                                                        \n",
       "25.000  NaN NaN   NaN   NaN       NaN    NaN    NaN    NaN  \n",
       "25.152  NaN NaN   NaN   NaN       NaN    NaN    NaN    NaN  \n",
       "25.304  NaN NaN   NaN   NaN       NaN    NaN    NaN    NaN  \n",
       "25.456  NaN NaN   NaN   NaN       NaN    NaN    NaN    NaN  \n",
       "25.608  NaN NaN   NaN   NaN       NaN    NaN    NaN    NaN  "
      ]
     },
     "execution_count": 4,
     "metadata": {},
     "output_type": "execute_result"
    }
   ],
   "source": [
    "df1.head()"
   ]
  },
  {
   "cell_type": "code",
   "execution_count": 5,
   "id": "ce46c5b2",
   "metadata": {},
   "outputs": [
    {
     "name": "stdout",
     "output_type": "stream",
     "text": [
      "[   nan 65000. 30000. 65030. 70000. 99000. 80000. 86000. 74000.]\n",
      "[   nan 65000. 65030. 70000. 74000. 99000. 30000. 80000. 70032.]\n",
      "[   nan 65000. 30000. 70032. 80000. 70000. 65030.]\n",
      "[   nan 65000. 65030. 30000. 70000. 99000. 80000.]\n"
     ]
    }
   ],
   "source": [
    "print(df1[\"FORCE_2020_LITHOFACIES_LITHOLOGY\"].unique())\n",
    "print(df2[\"FORCE_2020_LITHOFACIES_LITHOLOGY\"].unique())\n",
    "print(df3[\"FORCE_2020_LITHOFACIES_LITHOLOGY\"].unique())\n",
    "print(df4[\"FORCE_2020_LITHOFACIES_LITHOLOGY\"].unique())"
   ]
  },
  {
   "cell_type": "code",
   "execution_count": 6,
   "id": "925658be",
   "metadata": {},
   "outputs": [],
   "source": [
    "# Import test data\n",
    "\n",
    "las5 = lasio.read(\"../well-log-data/31_2-21 S.las\")"
   ]
  },
  {
   "cell_type": "code",
   "execution_count": 7,
   "id": "689c4495",
   "metadata": {},
   "outputs": [],
   "source": [
    "test_df = las5.df()"
   ]
  },
  {
   "cell_type": "code",
   "execution_count": 8,
   "id": "78458f5f",
   "metadata": {},
   "outputs": [
    {
     "name": "stdout",
     "output_type": "stream",
     "text": [
      "[   nan 70000. 80000. 65000. 65030. 30000. 90000.]\n"
     ]
    }
   ],
   "source": [
    "print(test_df[\"FORCE_2020_LITHOFACIES_LITHOLOGY\"].unique())"
   ]
  },
  {
   "cell_type": "markdown",
   "id": "483a4f4e",
   "metadata": {},
   "source": [
    "## Preparation of Data\n",
    "### Preparing Train Dataset"
   ]
  },
  {
   "cell_type": "code",
   "execution_count": 9,
   "id": "da144dcf",
   "metadata": {},
   "outputs": [
    {
     "name": "stdout",
     "output_type": "stream",
     "text": [
      "df1\n",
      "<class 'pandas.core.frame.DataFrame'>\n",
      "Float64Index: 21441 entries, 25.0 to 3283.88\n",
      "Data columns (total 20 columns):\n",
      " #   Column                             Non-Null Count  Dtype  \n",
      "---  ------                             --------------  -----  \n",
      " 0   FORCE_2020_LITHOFACIES_CONFIDENCE  18277 non-null  float64\n",
      " 1   FORCE_2020_LITHOFACIES_LITHOLOGY   18270 non-null  float64\n",
      " 2   CALI                               18345 non-null  float64\n",
      " 3   MUDWEIGHT                          17520 non-null  float64\n",
      " 4   ROP                                20297 non-null  float64\n",
      " 5   RDEP                               20956 non-null  float64\n",
      " 6   RSHA                               1623 non-null   float64\n",
      " 7   RMED                               20957 non-null  float64\n",
      " 8   RXO                                1627 non-null   float64\n",
      " 9   SP                                 20956 non-null  float64\n",
      " 10  DTC                                21282 non-null  float64\n",
      " 11  NPHI                               14105 non-null  float64\n",
      " 12  PEF                                16446 non-null  float64\n",
      " 13  GR                                 20900 non-null  float64\n",
      " 14  RHOB                               18345 non-null  float64\n",
      " 15  DRHO                               18345 non-null  float64\n",
      " 16  DEPTH_MD                           20956 non-null  float64\n",
      " 17  X_LOC                              20956 non-null  float64\n",
      " 18  Y_LOC                              20956 non-null  float64\n",
      " 19  Z_LOC                              20956 non-null  float64\n",
      "dtypes: float64(20)\n",
      "memory usage: 3.4 MB\n"
     ]
    },
    {
     "data": {
      "text/plain": [
       "None"
      ]
     },
     "metadata": {},
     "output_type": "display_data"
    },
    {
     "name": "stdout",
     "output_type": "stream",
     "text": [
      "/n df2\n",
      "<class 'pandas.core.frame.DataFrame'>\n",
      "Float64Index: 14586 entries, 96.975196838 to 2313.8951968\n",
      "Data columns (total 18 columns):\n",
      " #   Column                             Non-Null Count  Dtype  \n",
      "---  ------                             --------------  -----  \n",
      " 0   FORCE_2020_LITHOFACIES_CONFIDENCE  6700 non-null   float64\n",
      " 1   FORCE_2020_LITHOFACIES_LITHOLOGY   6685 non-null   float64\n",
      " 2   CALI                               6709 non-null   float64\n",
      " 3   MUDWEIGHT                          13706 non-null  float64\n",
      " 4   ROP                                14418 non-null  float64\n",
      " 5   RDEP                               11888 non-null  float64\n",
      " 6   RSHA                               11888 non-null  float64\n",
      " 7   RMED                               11887 non-null  float64\n",
      " 8   SP                                 11888 non-null  float64\n",
      " 9   DTC                                13935 non-null  float64\n",
      " 10  NPHI                               4987 non-null   float64\n",
      " 11  GR                                 14540 non-null  float64\n",
      " 12  RHOB                               6709 non-null   float64\n",
      " 13  DRHO                               6712 non-null   float64\n",
      " 14  DEPTH_MD                           11888 non-null  float64\n",
      " 15  X_LOC                              11888 non-null  float64\n",
      " 16  Y_LOC                              11888 non-null  float64\n",
      " 17  Z_LOC                              11888 non-null  float64\n",
      "dtypes: float64(18)\n",
      "memory usage: 2.1 MB\n"
     ]
    },
    {
     "data": {
      "text/plain": [
       "None"
      ]
     },
     "metadata": {},
     "output_type": "display_data"
    },
    {
     "name": "stdout",
     "output_type": "stream",
     "text": [
      "/n df3\n",
      "<class 'pandas.core.frame.DataFrame'>\n",
      "Float64Index: 13337 entries, 146.60871887 to 2173.6807189\n",
      "Data columns (total 19 columns):\n",
      " #   Column                             Non-Null Count  Dtype  \n",
      "---  ------                             --------------  -----  \n",
      " 0   FORCE_2020_LITHOFACIES_CONFIDENCE  5059 non-null   float64\n",
      " 1   FORCE_2020_LITHOFACIES_LITHOLOGY   5060 non-null   float64\n",
      " 2   CALI                               11777 non-null  float64\n",
      " 3   BS                                 13266 non-null  float64\n",
      " 4   DCAL                               11777 non-null  float64\n",
      " 5   MUDWEIGHT                          12783 non-null  float64\n",
      " 6   ROP                                12807 non-null  float64\n",
      " 7   RDEP                               11730 non-null  float64\n",
      " 8   RMED                               11731 non-null  float64\n",
      " 9   SP                                 11686 non-null  float64\n",
      " 10  DTC                                10571 non-null  float64\n",
      " 11  NPHI                               6660 non-null   float64\n",
      " 12  GR                                 13279 non-null  float64\n",
      " 13  RHOB                               5159 non-null   float64\n",
      " 14  DRHO                               5157 non-null   float64\n",
      " 15  DEPTH_MD                           11730 non-null  float64\n",
      " 16  X_LOC                              11730 non-null  float64\n",
      " 17  Y_LOC                              11730 non-null  float64\n",
      " 18  Z_LOC                              11730 non-null  float64\n",
      "dtypes: float64(19)\n",
      "memory usage: 2.0 MB\n"
     ]
    },
    {
     "data": {
      "text/plain": [
       "None"
      ]
     },
     "metadata": {},
     "output_type": "display_data"
    },
    {
     "name": "stdout",
     "output_type": "stream",
     "text": [
      "/n df4\n",
      "<class 'pandas.core.frame.DataFrame'>\n",
      "Float64Index: 15388 entries, 138.09972888 to 2476.9237289\n",
      "Data columns (total 20 columns):\n",
      " #   Column                             Non-Null Count  Dtype  \n",
      "---  ------                             --------------  -----  \n",
      " 0   FORCE_2020_LITHOFACIES_CONFIDENCE  12009 non-null  float64\n",
      " 1   FORCE_2020_LITHOFACIES_LITHOLOGY   11994 non-null  float64\n",
      " 2   CALI                               12039 non-null  float64\n",
      " 3   BS                                 15060 non-null  float64\n",
      " 4   MUDWEIGHT                          8230 non-null   float64\n",
      " 5   ROP                                15372 non-null  float64\n",
      " 6   RDEP                               15013 non-null  float64\n",
      " 7   RSHA                               8245 non-null   float64\n",
      " 8   RMED                               14972 non-null  float64\n",
      " 9   RMIC                               8246 non-null   float64\n",
      " 10  SP                                 5020 non-null   float64\n",
      " 11  DTS                                12119 non-null  float64\n",
      " 12  DTC                                12170 non-null  float64\n",
      " 13  NPHI                               8221 non-null   float64\n",
      " 14  GR                                 14894 non-null  float64\n",
      " 15  RHOB                               8247 non-null   float64\n",
      " 16  DEPTH_MD                           15013 non-null  float64\n",
      " 17  X_LOC                              15013 non-null  float64\n",
      " 18  Y_LOC                              15013 non-null  float64\n",
      " 19  Z_LOC                              15013 non-null  float64\n",
      "dtypes: float64(20)\n",
      "memory usage: 2.5 MB\n"
     ]
    },
    {
     "data": {
      "text/plain": [
       "None"
      ]
     },
     "metadata": {},
     "output_type": "display_data"
    }
   ],
   "source": [
    "print(\"df1\")\n",
    "display(df1.info())\n",
    "print(\"/n df2\")\n",
    "display(df2.info())\n",
    "print(\"/n df3\")\n",
    "display(df3.info())\n",
    "print(\"/n df4\")\n",
    "display(df4.info())"
   ]
  },
  {
   "cell_type": "code",
   "execution_count": 10,
   "id": "cfa0d257",
   "metadata": {
    "scrolled": true
   },
   "outputs": [
    {
     "data": {
      "text/plain": [
       "FORCE_2020_LITHOFACIES_CONFIDENCE     3164\n",
       "FORCE_2020_LITHOFACIES_LITHOLOGY      3171\n",
       "CALI                                  3096\n",
       "MUDWEIGHT                             3921\n",
       "ROP                                   1144\n",
       "RDEP                                   485\n",
       "RSHA                                 19818\n",
       "RMED                                   484\n",
       "RXO                                  19814\n",
       "SP                                     485\n",
       "DTC                                    159\n",
       "NPHI                                  7336\n",
       "PEF                                   4995\n",
       "GR                                     541\n",
       "RHOB                                  3096\n",
       "DRHO                                  3096\n",
       "DEPTH_MD                               485\n",
       "X_LOC                                  485\n",
       "Y_LOC                                  485\n",
       "Z_LOC                                  485\n",
       "dtype: int64"
      ]
     },
     "metadata": {},
     "output_type": "display_data"
    },
    {
     "data": {
      "text/plain": [
       "FORCE_2020_LITHOFACIES_CONFIDENCE    7886\n",
       "FORCE_2020_LITHOFACIES_LITHOLOGY     7901\n",
       "CALI                                 7877\n",
       "MUDWEIGHT                             880\n",
       "ROP                                   168\n",
       "RDEP                                 2698\n",
       "RSHA                                 2698\n",
       "RMED                                 2699\n",
       "SP                                   2698\n",
       "DTC                                   651\n",
       "NPHI                                 9599\n",
       "GR                                     46\n",
       "RHOB                                 7877\n",
       "DRHO                                 7874\n",
       "DEPTH_MD                             2698\n",
       "X_LOC                                2698\n",
       "Y_LOC                                2698\n",
       "Z_LOC                                2698\n",
       "dtype: int64"
      ]
     },
     "metadata": {},
     "output_type": "display_data"
    },
    {
     "data": {
      "text/plain": [
       "FORCE_2020_LITHOFACIES_CONFIDENCE    8278\n",
       "FORCE_2020_LITHOFACIES_LITHOLOGY     8277\n",
       "CALI                                 1560\n",
       "BS                                     71\n",
       "DCAL                                 1560\n",
       "MUDWEIGHT                             554\n",
       "ROP                                   530\n",
       "RDEP                                 1607\n",
       "RMED                                 1606\n",
       "SP                                   1651\n",
       "DTC                                  2766\n",
       "NPHI                                 6677\n",
       "GR                                     58\n",
       "RHOB                                 8178\n",
       "DRHO                                 8180\n",
       "DEPTH_MD                             1607\n",
       "X_LOC                                1607\n",
       "Y_LOC                                1607\n",
       "Z_LOC                                1607\n",
       "dtype: int64"
      ]
     },
     "metadata": {},
     "output_type": "display_data"
    },
    {
     "data": {
      "text/plain": [
       "FORCE_2020_LITHOFACIES_CONFIDENCE     3379\n",
       "FORCE_2020_LITHOFACIES_LITHOLOGY      3394\n",
       "CALI                                  3349\n",
       "BS                                     328\n",
       "MUDWEIGHT                             7158\n",
       "ROP                                     16\n",
       "RDEP                                   375\n",
       "RSHA                                  7143\n",
       "RMED                                   416\n",
       "RMIC                                  7142\n",
       "SP                                   10368\n",
       "DTS                                   3269\n",
       "DTC                                   3218\n",
       "NPHI                                  7167\n",
       "GR                                     494\n",
       "RHOB                                  7141\n",
       "DEPTH_MD                               375\n",
       "X_LOC                                  375\n",
       "Y_LOC                                  375\n",
       "Z_LOC                                  375\n",
       "dtype: int64"
      ]
     },
     "metadata": {},
     "output_type": "display_data"
    }
   ],
   "source": [
    "display(df1.isna().sum())\n",
    "display(df2.isna().sum())\n",
    "display(df3.isna().sum())\n",
    "display(df4.isna().sum())"
   ]
  },
  {
   "cell_type": "markdown",
   "id": "1f0c412b",
   "metadata": {},
   "source": [
    "#### Drop columns that are <70%"
   ]
  },
  {
   "cell_type": "code",
   "execution_count": 11,
   "id": "cc285365",
   "metadata": {},
   "outputs": [],
   "source": [
    "df1 = df1.drop([\"RSHA\", \"RXO\"], axis=1)\n",
    "df2 = df2.drop([\"RHOB\", \"DRHO\"], axis=1)\n",
    "df3 = df3.drop([\"RHOB\", \"DRHO\"], axis=1)\n",
    "df4 = df4.drop([\"RHOB\"], axis=1)"
   ]
  },
  {
   "cell_type": "markdown",
   "id": "8151956d",
   "metadata": {},
   "source": [
    "#### Drop columns that are not mutually included in all dataset"
   ]
  },
  {
   "cell_type": "code",
   "execution_count": 12,
   "id": "4b983dc6",
   "metadata": {},
   "outputs": [
    {
     "name": "stdout",
     "output_type": "stream",
     "text": [
      "df1\n",
      "<class 'pandas.core.frame.DataFrame'>\n",
      "Float64Index: 21441 entries, 25.0 to 3283.88\n",
      "Data columns (total 18 columns):\n",
      " #   Column                             Non-Null Count  Dtype  \n",
      "---  ------                             --------------  -----  \n",
      " 0   FORCE_2020_LITHOFACIES_CONFIDENCE  18277 non-null  float64\n",
      " 1   FORCE_2020_LITHOFACIES_LITHOLOGY   18270 non-null  float64\n",
      " 2   CALI                               18345 non-null  float64\n",
      " 3   MUDWEIGHT                          17520 non-null  float64\n",
      " 4   ROP                                20297 non-null  float64\n",
      " 5   RDEP                               20956 non-null  float64\n",
      " 6   RMED                               20957 non-null  float64\n",
      " 7   SP                                 20956 non-null  float64\n",
      " 8   DTC                                21282 non-null  float64\n",
      " 9   NPHI                               14105 non-null  float64\n",
      " 10  PEF                                16446 non-null  float64\n",
      " 11  GR                                 20900 non-null  float64\n",
      " 12  RHOB                               18345 non-null  float64\n",
      " 13  DRHO                               18345 non-null  float64\n",
      " 14  DEPTH_MD                           20956 non-null  float64\n",
      " 15  X_LOC                              20956 non-null  float64\n",
      " 16  Y_LOC                              20956 non-null  float64\n",
      " 17  Z_LOC                              20956 non-null  float64\n",
      "dtypes: float64(18)\n",
      "memory usage: 3.1 MB\n"
     ]
    },
    {
     "data": {
      "text/plain": [
       "None"
      ]
     },
     "metadata": {},
     "output_type": "display_data"
    },
    {
     "name": "stdout",
     "output_type": "stream",
     "text": [
      "/n df2\n",
      "<class 'pandas.core.frame.DataFrame'>\n",
      "Float64Index: 14586 entries, 96.975196838 to 2313.8951968\n",
      "Data columns (total 16 columns):\n",
      " #   Column                             Non-Null Count  Dtype  \n",
      "---  ------                             --------------  -----  \n",
      " 0   FORCE_2020_LITHOFACIES_CONFIDENCE  6700 non-null   float64\n",
      " 1   FORCE_2020_LITHOFACIES_LITHOLOGY   6685 non-null   float64\n",
      " 2   CALI                               6709 non-null   float64\n",
      " 3   MUDWEIGHT                          13706 non-null  float64\n",
      " 4   ROP                                14418 non-null  float64\n",
      " 5   RDEP                               11888 non-null  float64\n",
      " 6   RSHA                               11888 non-null  float64\n",
      " 7   RMED                               11887 non-null  float64\n",
      " 8   SP                                 11888 non-null  float64\n",
      " 9   DTC                                13935 non-null  float64\n",
      " 10  NPHI                               4987 non-null   float64\n",
      " 11  GR                                 14540 non-null  float64\n",
      " 12  DEPTH_MD                           11888 non-null  float64\n",
      " 13  X_LOC                              11888 non-null  float64\n",
      " 14  Y_LOC                              11888 non-null  float64\n",
      " 15  Z_LOC                              11888 non-null  float64\n",
      "dtypes: float64(16)\n",
      "memory usage: 1.9 MB\n"
     ]
    },
    {
     "data": {
      "text/plain": [
       "None"
      ]
     },
     "metadata": {},
     "output_type": "display_data"
    },
    {
     "name": "stdout",
     "output_type": "stream",
     "text": [
      "/n df3\n",
      "<class 'pandas.core.frame.DataFrame'>\n",
      "Float64Index: 13337 entries, 146.60871887 to 2173.6807189\n",
      "Data columns (total 17 columns):\n",
      " #   Column                             Non-Null Count  Dtype  \n",
      "---  ------                             --------------  -----  \n",
      " 0   FORCE_2020_LITHOFACIES_CONFIDENCE  5059 non-null   float64\n",
      " 1   FORCE_2020_LITHOFACIES_LITHOLOGY   5060 non-null   float64\n",
      " 2   CALI                               11777 non-null  float64\n",
      " 3   BS                                 13266 non-null  float64\n",
      " 4   DCAL                               11777 non-null  float64\n",
      " 5   MUDWEIGHT                          12783 non-null  float64\n",
      " 6   ROP                                12807 non-null  float64\n",
      " 7   RDEP                               11730 non-null  float64\n",
      " 8   RMED                               11731 non-null  float64\n",
      " 9   SP                                 11686 non-null  float64\n",
      " 10  DTC                                10571 non-null  float64\n",
      " 11  NPHI                               6660 non-null   float64\n",
      " 12  GR                                 13279 non-null  float64\n",
      " 13  DEPTH_MD                           11730 non-null  float64\n",
      " 14  X_LOC                              11730 non-null  float64\n",
      " 15  Y_LOC                              11730 non-null  float64\n",
      " 16  Z_LOC                              11730 non-null  float64\n",
      "dtypes: float64(17)\n",
      "memory usage: 1.8 MB\n"
     ]
    },
    {
     "data": {
      "text/plain": [
       "None"
      ]
     },
     "metadata": {},
     "output_type": "display_data"
    },
    {
     "name": "stdout",
     "output_type": "stream",
     "text": [
      "/n df4\n",
      "<class 'pandas.core.frame.DataFrame'>\n",
      "Float64Index: 15388 entries, 138.09972888 to 2476.9237289\n",
      "Data columns (total 19 columns):\n",
      " #   Column                             Non-Null Count  Dtype  \n",
      "---  ------                             --------------  -----  \n",
      " 0   FORCE_2020_LITHOFACIES_CONFIDENCE  12009 non-null  float64\n",
      " 1   FORCE_2020_LITHOFACIES_LITHOLOGY   11994 non-null  float64\n",
      " 2   CALI                               12039 non-null  float64\n",
      " 3   BS                                 15060 non-null  float64\n",
      " 4   MUDWEIGHT                          8230 non-null   float64\n",
      " 5   ROP                                15372 non-null  float64\n",
      " 6   RDEP                               15013 non-null  float64\n",
      " 7   RSHA                               8245 non-null   float64\n",
      " 8   RMED                               14972 non-null  float64\n",
      " 9   RMIC                               8246 non-null   float64\n",
      " 10  SP                                 5020 non-null   float64\n",
      " 11  DTS                                12119 non-null  float64\n",
      " 12  DTC                                12170 non-null  float64\n",
      " 13  NPHI                               8221 non-null   float64\n",
      " 14  GR                                 14894 non-null  float64\n",
      " 15  DEPTH_MD                           15013 non-null  float64\n",
      " 16  X_LOC                              15013 non-null  float64\n",
      " 17  Y_LOC                              15013 non-null  float64\n",
      " 18  Z_LOC                              15013 non-null  float64\n",
      "dtypes: float64(19)\n",
      "memory usage: 2.3 MB\n"
     ]
    },
    {
     "data": {
      "text/plain": [
       "None"
      ]
     },
     "metadata": {},
     "output_type": "display_data"
    }
   ],
   "source": [
    "print(\"df1\")\n",
    "display(df1.info())\n",
    "print(\"/n df2\")\n",
    "display(df2.info())\n",
    "print(\"/n df3\")\n",
    "display(df3.info())\n",
    "print(\"/n df4\")\n",
    "display(df4.info())"
   ]
  },
  {
   "cell_type": "code",
   "execution_count": 13,
   "id": "60525635",
   "metadata": {},
   "outputs": [],
   "source": [
    "df1 = df1.drop([\"PEF\", \"DRHO\", \"RHOB\"], axis=1)\n",
    "df2 = df2.drop([\"RSHA\"], axis=1)\n",
    "df3 = df3.drop([\"BS\", \"DCAL\"], axis=1)\n",
    "df4 = df4.drop([\"DTS\", \"RSHA\", \"RMIC\", \"BS\"], axis=1)"
   ]
  },
  {
   "cell_type": "code",
   "execution_count": 14,
   "id": "21da44ae",
   "metadata": {
    "scrolled": true
   },
   "outputs": [
    {
     "name": "stdout",
     "output_type": "stream",
     "text": [
      "df1\n",
      "<class 'pandas.core.frame.DataFrame'>\n",
      "Float64Index: 21441 entries, 25.0 to 3283.88\n",
      "Data columns (total 15 columns):\n",
      " #   Column                             Non-Null Count  Dtype  \n",
      "---  ------                             --------------  -----  \n",
      " 0   FORCE_2020_LITHOFACIES_CONFIDENCE  18277 non-null  float64\n",
      " 1   FORCE_2020_LITHOFACIES_LITHOLOGY   18270 non-null  float64\n",
      " 2   CALI                               18345 non-null  float64\n",
      " 3   MUDWEIGHT                          17520 non-null  float64\n",
      " 4   ROP                                20297 non-null  float64\n",
      " 5   RDEP                               20956 non-null  float64\n",
      " 6   RMED                               20957 non-null  float64\n",
      " 7   SP                                 20956 non-null  float64\n",
      " 8   DTC                                21282 non-null  float64\n",
      " 9   NPHI                               14105 non-null  float64\n",
      " 10  GR                                 20900 non-null  float64\n",
      " 11  DEPTH_MD                           20956 non-null  float64\n",
      " 12  X_LOC                              20956 non-null  float64\n",
      " 13  Y_LOC                              20956 non-null  float64\n",
      " 14  Z_LOC                              20956 non-null  float64\n",
      "dtypes: float64(15)\n",
      "memory usage: 2.6 MB\n"
     ]
    },
    {
     "data": {
      "text/plain": [
       "None"
      ]
     },
     "metadata": {},
     "output_type": "display_data"
    },
    {
     "name": "stdout",
     "output_type": "stream",
     "text": [
      "/n df2\n",
      "<class 'pandas.core.frame.DataFrame'>\n",
      "Float64Index: 14586 entries, 96.975196838 to 2313.8951968\n",
      "Data columns (total 15 columns):\n",
      " #   Column                             Non-Null Count  Dtype  \n",
      "---  ------                             --------------  -----  \n",
      " 0   FORCE_2020_LITHOFACIES_CONFIDENCE  6700 non-null   float64\n",
      " 1   FORCE_2020_LITHOFACIES_LITHOLOGY   6685 non-null   float64\n",
      " 2   CALI                               6709 non-null   float64\n",
      " 3   MUDWEIGHT                          13706 non-null  float64\n",
      " 4   ROP                                14418 non-null  float64\n",
      " 5   RDEP                               11888 non-null  float64\n",
      " 6   RMED                               11887 non-null  float64\n",
      " 7   SP                                 11888 non-null  float64\n",
      " 8   DTC                                13935 non-null  float64\n",
      " 9   NPHI                               4987 non-null   float64\n",
      " 10  GR                                 14540 non-null  float64\n",
      " 11  DEPTH_MD                           11888 non-null  float64\n",
      " 12  X_LOC                              11888 non-null  float64\n",
      " 13  Y_LOC                              11888 non-null  float64\n",
      " 14  Z_LOC                              11888 non-null  float64\n",
      "dtypes: float64(15)\n",
      "memory usage: 1.8 MB\n"
     ]
    },
    {
     "data": {
      "text/plain": [
       "None"
      ]
     },
     "metadata": {},
     "output_type": "display_data"
    },
    {
     "name": "stdout",
     "output_type": "stream",
     "text": [
      "/n df3\n",
      "<class 'pandas.core.frame.DataFrame'>\n",
      "Float64Index: 13337 entries, 146.60871887 to 2173.6807189\n",
      "Data columns (total 15 columns):\n",
      " #   Column                             Non-Null Count  Dtype  \n",
      "---  ------                             --------------  -----  \n",
      " 0   FORCE_2020_LITHOFACIES_CONFIDENCE  5059 non-null   float64\n",
      " 1   FORCE_2020_LITHOFACIES_LITHOLOGY   5060 non-null   float64\n",
      " 2   CALI                               11777 non-null  float64\n",
      " 3   MUDWEIGHT                          12783 non-null  float64\n",
      " 4   ROP                                12807 non-null  float64\n",
      " 5   RDEP                               11730 non-null  float64\n",
      " 6   RMED                               11731 non-null  float64\n",
      " 7   SP                                 11686 non-null  float64\n",
      " 8   DTC                                10571 non-null  float64\n",
      " 9   NPHI                               6660 non-null   float64\n",
      " 10  GR                                 13279 non-null  float64\n",
      " 11  DEPTH_MD                           11730 non-null  float64\n",
      " 12  X_LOC                              11730 non-null  float64\n",
      " 13  Y_LOC                              11730 non-null  float64\n",
      " 14  Z_LOC                              11730 non-null  float64\n",
      "dtypes: float64(15)\n",
      "memory usage: 1.6 MB\n"
     ]
    },
    {
     "data": {
      "text/plain": [
       "None"
      ]
     },
     "metadata": {},
     "output_type": "display_data"
    },
    {
     "name": "stdout",
     "output_type": "stream",
     "text": [
      "/n df4\n",
      "<class 'pandas.core.frame.DataFrame'>\n",
      "Float64Index: 15388 entries, 138.09972888 to 2476.9237289\n",
      "Data columns (total 15 columns):\n",
      " #   Column                             Non-Null Count  Dtype  \n",
      "---  ------                             --------------  -----  \n",
      " 0   FORCE_2020_LITHOFACIES_CONFIDENCE  12009 non-null  float64\n",
      " 1   FORCE_2020_LITHOFACIES_LITHOLOGY   11994 non-null  float64\n",
      " 2   CALI                               12039 non-null  float64\n",
      " 3   MUDWEIGHT                          8230 non-null   float64\n",
      " 4   ROP                                15372 non-null  float64\n",
      " 5   RDEP                               15013 non-null  float64\n",
      " 6   RMED                               14972 non-null  float64\n",
      " 7   SP                                 5020 non-null   float64\n",
      " 8   DTC                                12170 non-null  float64\n",
      " 9   NPHI                               8221 non-null   float64\n",
      " 10  GR                                 14894 non-null  float64\n",
      " 11  DEPTH_MD                           15013 non-null  float64\n",
      " 12  X_LOC                              15013 non-null  float64\n",
      " 13  Y_LOC                              15013 non-null  float64\n",
      " 14  Z_LOC                              15013 non-null  float64\n",
      "dtypes: float64(15)\n",
      "memory usage: 1.9 MB\n"
     ]
    },
    {
     "data": {
      "text/plain": [
       "None"
      ]
     },
     "metadata": {},
     "output_type": "display_data"
    }
   ],
   "source": [
    "print(\"df1\")\n",
    "display(df1.info())\n",
    "print(\"/n df2\")\n",
    "display(df2.info())\n",
    "print(\"/n df3\")\n",
    "display(df3.info())\n",
    "print(\"/n df4\")\n",
    "display(df4.info())"
   ]
  },
  {
   "cell_type": "code",
   "execution_count": 15,
   "id": "dd626c3e",
   "metadata": {},
   "outputs": [
    {
     "data": {
      "text/plain": [
       "(21441, 15)"
      ]
     },
     "metadata": {},
     "output_type": "display_data"
    },
    {
     "data": {
      "text/plain": [
       "(14586, 15)"
      ]
     },
     "metadata": {},
     "output_type": "display_data"
    },
    {
     "data": {
      "text/plain": [
       "(13337, 15)"
      ]
     },
     "metadata": {},
     "output_type": "display_data"
    },
    {
     "data": {
      "text/plain": [
       "(15388, 15)"
      ]
     },
     "metadata": {},
     "output_type": "display_data"
    }
   ],
   "source": [
    "display(df1.shape,df2.shape,df3.shape, df4.shape)"
   ]
  },
  {
   "cell_type": "code",
   "execution_count": 16,
   "id": "c6661e6b",
   "metadata": {},
   "outputs": [
    {
     "data": {
      "text/plain": [
       "(64752, 15)"
      ]
     },
     "execution_count": 16,
     "metadata": {},
     "output_type": "execute_result"
    }
   ],
   "source": [
    "merged_df = pd.concat([df1, df2, df3, df4])\n",
    "merged_df.shape"
   ]
  },
  {
   "cell_type": "code",
   "execution_count": 17,
   "id": "9f86a831",
   "metadata": {
    "scrolled": true
   },
   "outputs": [
    {
     "data": {
      "text/plain": [
       "array([   nan, 65000., 30000., 65030., 70000., 99000., 80000., 86000.,\n",
       "       74000., 70032.])"
      ]
     },
     "execution_count": 17,
     "metadata": {},
     "output_type": "execute_result"
    }
   ],
   "source": [
    "merged_df[\"FORCE_2020_LITHOFACIES_LITHOLOGY\"].unique()"
   ]
  },
  {
   "attachments": {
    "lithology.jpg": {
     "image/jpeg": "[encoded data removed]"
    }
   },
   "cell_type": "markdown",
   "id": "de6f22a9",
   "metadata": {},
   "source": [
    "![lithology.jpg](attachment:lithology.jpg)"
   ]
  },
  {
   "cell_type": "code",
   "execution_count": 18,
   "id": "868ff904",
   "metadata": {
    "scrolled": false
   },
   "outputs": [],
   "source": [
    "lithology = {\n",
    "    30000: [0, \"Sandstone\"],\n",
    "    65000: [1, \"Shale\"],\n",
    "    65030: [2, \"Sandstone/Stone\"],\n",
    "    70000: [3, \"Limestone\"],\n",
    "    70032: [4, \"Chalk\"],\n",
    "    74000: [5, \"Dolomite\"],\n",
    "    80000: [6, \"Marl\"],\n",
    "    86000: [7, \"Anhydrite\"],\n",
    "    99000: [8, \"Tuff\"],\n",
    "    90000: [9, \"Coal\"]\n",
    "}"
   ]
  },
  {
   "cell_type": "code",
   "execution_count": 19,
   "id": "275e39b5",
   "metadata": {},
   "outputs": [
    {
     "data": {
      "text/plain": [
       "'Sandstone'"
      ]
     },
     "execution_count": 19,
     "metadata": {},
     "output_type": "execute_result"
    }
   ],
   "source": [
    "lithology[30000][1]"
   ]
  },
  {
   "cell_type": "markdown",
   "id": "d2d74427",
   "metadata": {},
   "source": [
    "#### Replace column's entries with corresponding discrete values"
   ]
  },
  {
   "cell_type": "code",
   "execution_count": 20,
   "id": "337ece35",
   "metadata": {},
   "outputs": [],
   "source": [
    "for key, value in lithology.items():\n",
    "        merged_df.loc[merged_df[\"FORCE_2020_LITHOFACIES_LITHOLOGY\"] == key, \"FORCE_2020_LITHOFACIES_LITHOLOGY\"] = lithology[key][0]"
   ]
  },
  {
   "cell_type": "code",
   "execution_count": 21,
   "id": "672b2343",
   "metadata": {},
   "outputs": [
    {
     "name": "stdout",
     "output_type": "stream",
     "text": [
      "<class 'pandas.core.frame.DataFrame'>\n",
      "Float64Index: 64752 entries, 25.0 to 2476.9237289\n",
      "Data columns (total 15 columns):\n",
      " #   Column                             Non-Null Count  Dtype  \n",
      "---  ------                             --------------  -----  \n",
      " 0   FORCE_2020_LITHOFACIES_CONFIDENCE  42045 non-null  float64\n",
      " 1   FORCE_2020_LITHOFACIES_LITHOLOGY   42009 non-null  float64\n",
      " 2   CALI                               48870 non-null  float64\n",
      " 3   MUDWEIGHT                          52239 non-null  float64\n",
      " 4   ROP                                62894 non-null  float64\n",
      " 5   RDEP                               59587 non-null  float64\n",
      " 6   RMED                               59547 non-null  float64\n",
      " 7   SP                                 49550 non-null  float64\n",
      " 8   DTC                                57958 non-null  float64\n",
      " 9   NPHI                               33973 non-null  float64\n",
      " 10  GR                                 63613 non-null  float64\n",
      " 11  DEPTH_MD                           59587 non-null  float64\n",
      " 12  X_LOC                              59587 non-null  float64\n",
      " 13  Y_LOC                              59587 non-null  float64\n",
      " 14  Z_LOC                              59587 non-null  float64\n",
      "dtypes: float64(15)\n",
      "memory usage: 7.9 MB\n"
     ]
    }
   ],
   "source": [
    "merged_df.info()"
   ]
  },
  {
   "cell_type": "code",
   "execution_count": 22,
   "id": "5fb786c1",
   "metadata": {},
   "outputs": [
    {
     "data": {
      "text/plain": [
       "array([nan,  1.,  0.,  2.,  3.,  8.,  6.,  7.,  5.,  4.])"
      ]
     },
     "execution_count": 22,
     "metadata": {},
     "output_type": "execute_result"
    }
   ],
   "source": [
    "merged_df[\"FORCE_2020_LITHOFACIES_LITHOLOGY\"].unique()"
   ]
  },
  {
   "cell_type": "markdown",
   "id": "09b963ae",
   "metadata": {},
   "source": [
    "### Preparing Test Dataset"
   ]
  },
  {
   "cell_type": "code",
   "execution_count": 23,
   "id": "a5c3a359",
   "metadata": {},
   "outputs": [
    {
     "name": "stdout",
     "output_type": "stream",
     "text": [
      "<class 'pandas.core.frame.DataFrame'>\n",
      "Float64Index: 18731 entries, 372.0084 to 3218.9684\n",
      "Data columns (total 19 columns):\n",
      " #   Column                             Non-Null Count  Dtype  \n",
      "---  ------                             --------------  -----  \n",
      " 0   FORCE_2020_LITHOFACIES_CONFIDENCE  7841 non-null   float64\n",
      " 1   FORCE_2020_LITHOFACIES_LITHOLOGY   7840 non-null   float64\n",
      " 2   CALI                               7842 non-null   float64\n",
      " 3   BS                                 18674 non-null  float64\n",
      " 4   ROPA                               18680 non-null  float64\n",
      " 5   ROP                                18664 non-null  float64\n",
      " 6   RDEP                               18567 non-null  float64\n",
      " 7   RMED                               18524 non-null  float64\n",
      " 8   DTS                                15252 non-null  float64\n",
      " 9   DTC                                18199 non-null  float64\n",
      " 10  NPHI                               7835 non-null   float64\n",
      " 11  PEF                                7800 non-null   float64\n",
      " 12  GR                                 18666 non-null  float64\n",
      " 13  RHOB                               7800 non-null   float64\n",
      " 14  DRHO                               7846 non-null   float64\n",
      " 15  DEPTH_MD                           18567 non-null  float64\n",
      " 16  X_LOC                              18567 non-null  float64\n",
      " 17  Y_LOC                              18567 non-null  float64\n",
      " 18  Z_LOC                              18567 non-null  float64\n",
      "dtypes: float64(19)\n",
      "memory usage: 2.9 MB\n"
     ]
    }
   ],
   "source": [
    "test_df.info()"
   ]
  },
  {
   "cell_type": "code",
   "execution_count": 24,
   "id": "c1a907fb",
   "metadata": {
    "scrolled": true
   },
   "outputs": [
    {
     "name": "stdout",
     "output_type": "stream",
     "text": [
      "<class 'pandas.core.frame.DataFrame'>\n",
      "Float64Index: 18731 entries, 372.0084 to 3218.9684\n",
      "Data columns (total 13 columns):\n",
      " #   Column                             Non-Null Count  Dtype  \n",
      "---  ------                             --------------  -----  \n",
      " 0   FORCE_2020_LITHOFACIES_CONFIDENCE  7841 non-null   float64\n",
      " 1   FORCE_2020_LITHOFACIES_LITHOLOGY   7840 non-null   float64\n",
      " 2   CALI                               7842 non-null   float64\n",
      " 3   ROP                                18664 non-null  float64\n",
      " 4   RDEP                               18567 non-null  float64\n",
      " 5   RMED                               18524 non-null  float64\n",
      " 6   DTC                                18199 non-null  float64\n",
      " 7   NPHI                               7835 non-null   float64\n",
      " 8   GR                                 18666 non-null  float64\n",
      " 9   DEPTH_MD                           18567 non-null  float64\n",
      " 10  X_LOC                              18567 non-null  float64\n",
      " 11  Y_LOC                              18567 non-null  float64\n",
      " 12  Z_LOC                              18567 non-null  float64\n",
      "dtypes: float64(13)\n",
      "memory usage: 2.0 MB\n"
     ]
    }
   ],
   "source": [
    "test_df.drop([\"BS\", \"ROPA\", \"DTS\", \"PEF\", \"RHOB\", \"DRHO\"], axis=1, inplace=True)\n",
    "test_df.info()"
   ]
  },
  {
   "cell_type": "markdown",
   "id": "facb717c",
   "metadata": {},
   "source": [
    "Looking at our test dataset, we can see that the columns available here doesn't match the ones in our merged dataset. \n",
    "we would be drop the columns in the merged df that are not in the test df"
   ]
  },
  {
   "cell_type": "code",
   "execution_count": 25,
   "id": "a481a206",
   "metadata": {},
   "outputs": [
    {
     "name": "stdout",
     "output_type": "stream",
     "text": [
      "<class 'pandas.core.frame.DataFrame'>\n",
      "Float64Index: 64752 entries, 25.0 to 2476.9237289\n",
      "Data columns (total 13 columns):\n",
      " #   Column                             Non-Null Count  Dtype  \n",
      "---  ------                             --------------  -----  \n",
      " 0   FORCE_2020_LITHOFACIES_CONFIDENCE  42045 non-null  float64\n",
      " 1   FORCE_2020_LITHOFACIES_LITHOLOGY   42009 non-null  float64\n",
      " 2   CALI                               48870 non-null  float64\n",
      " 3   ROP                                62894 non-null  float64\n",
      " 4   RDEP                               59587 non-null  float64\n",
      " 5   RMED                               59547 non-null  float64\n",
      " 6   DTC                                57958 non-null  float64\n",
      " 7   NPHI                               33973 non-null  float64\n",
      " 8   GR                                 63613 non-null  float64\n",
      " 9   DEPTH_MD                           59587 non-null  float64\n",
      " 10  X_LOC                              59587 non-null  float64\n",
      " 11  Y_LOC                              59587 non-null  float64\n",
      " 12  Z_LOC                              59587 non-null  float64\n",
      "dtypes: float64(13)\n",
      "memory usage: 6.9 MB\n"
     ]
    }
   ],
   "source": [
    "merged_df.drop([\"MUDWEIGHT\", \"SP\"], axis=1, inplace=True)\n",
    "merged_df.info()"
   ]
  },
  {
   "cell_type": "code",
   "execution_count": 26,
   "id": "64b9c65f",
   "metadata": {},
   "outputs": [
    {
     "name": "stdout",
     "output_type": "stream",
     "text": [
      "<class 'pandas.core.frame.DataFrame'>\n",
      "Float64Index: 18731 entries, 372.0084 to 3218.9684\n",
      "Data columns (total 13 columns):\n",
      " #   Column                             Non-Null Count  Dtype  \n",
      "---  ------                             --------------  -----  \n",
      " 0   FORCE_2020_LITHOFACIES_CONFIDENCE  7841 non-null   float64\n",
      " 1   FORCE_2020_LITHOFACIES_LITHOLOGY   7840 non-null   float64\n",
      " 2   CALI                               7842 non-null   float64\n",
      " 3   ROP                                18664 non-null  float64\n",
      " 4   RDEP                               18567 non-null  float64\n",
      " 5   RMED                               18524 non-null  float64\n",
      " 6   DTC                                18199 non-null  float64\n",
      " 7   NPHI                               7835 non-null   float64\n",
      " 8   GR                                 18666 non-null  float64\n",
      " 9   DEPTH_MD                           18567 non-null  float64\n",
      " 10  X_LOC                              18567 non-null  float64\n",
      " 11  Y_LOC                              18567 non-null  float64\n",
      " 12  Z_LOC                              18567 non-null  float64\n",
      "dtypes: float64(13)\n",
      "memory usage: 2.0 MB\n"
     ]
    }
   ],
   "source": [
    "test_df.info()"
   ]
  },
  {
   "cell_type": "code",
   "execution_count": 27,
   "id": "1a02903c",
   "metadata": {},
   "outputs": [
    {
     "data": {
      "text/plain": [
       "array([   nan, 70000., 80000., 65000., 65030., 30000., 90000.])"
      ]
     },
     "execution_count": 27,
     "metadata": {},
     "output_type": "execute_result"
    }
   ],
   "source": [
    "test_df[\"FORCE_2020_LITHOFACIES_LITHOLOGY\"].unique()"
   ]
  },
  {
   "cell_type": "code",
   "execution_count": 28,
   "id": "70305b72",
   "metadata": {},
   "outputs": [],
   "source": [
    "# change columns datatype from float64 to int64\n",
    "test_df[\"FORCE_2020_LITHOFACIES_LITHOLOGY\"] = test_df[\"FORCE_2020_LITHOFACIES_LITHOLOGY\"].astype(\"Int64\")"
   ]
  },
  {
   "cell_type": "code",
   "execution_count": 29,
   "id": "8a2007ec",
   "metadata": {},
   "outputs": [
    {
     "name": "stdout",
     "output_type": "stream",
     "text": [
      "<class 'pandas.core.frame.DataFrame'>\n",
      "Float64Index: 64752 entries, 25.0 to 2476.9237289\n",
      "Data columns (total 13 columns):\n",
      " #   Column                             Non-Null Count  Dtype  \n",
      "---  ------                             --------------  -----  \n",
      " 0   FORCE_2020_LITHOFACIES_CONFIDENCE  42045 non-null  float64\n",
      " 1   FORCE_2020_LITHOFACIES_LITHOLOGY   42009 non-null  float64\n",
      " 2   CALI                               48870 non-null  float64\n",
      " 3   ROP                                62894 non-null  float64\n",
      " 4   RDEP                               59587 non-null  float64\n",
      " 5   RMED                               59547 non-null  float64\n",
      " 6   DTC                                57958 non-null  float64\n",
      " 7   NPHI                               33973 non-null  float64\n",
      " 8   GR                                 63613 non-null  float64\n",
      " 9   DEPTH_MD                           59587 non-null  float64\n",
      " 10  X_LOC                              59587 non-null  float64\n",
      " 11  Y_LOC                              59587 non-null  float64\n",
      " 12  Z_LOC                              59587 non-null  float64\n",
      "dtypes: float64(13)\n",
      "memory usage: 6.9 MB\n"
     ]
    }
   ],
   "source": [
    "merged_df.info()"
   ]
  },
  {
   "cell_type": "code",
   "execution_count": 30,
   "id": "550e7099",
   "metadata": {},
   "outputs": [],
   "source": [
    "merged_df[\"FORCE_2020_LITHOFACIES_LITHOLOGY\"] = merged_df[\"FORCE_2020_LITHOFACIES_LITHOLOGY\"].astype(\"Int64\")"
   ]
  },
  {
   "cell_type": "code",
   "execution_count": 31,
   "id": "e71c06bd",
   "metadata": {},
   "outputs": [
    {
     "data": {
      "text/plain": [
       "<IntegerArray>\n",
       "[<NA>, 1, 0, 2, 3, 8, 6, 7, 5, 4]\n",
       "Length: 10, dtype: Int64"
      ]
     },
     "execution_count": 31,
     "metadata": {},
     "output_type": "execute_result"
    }
   ],
   "source": [
    "merged_df[\"FORCE_2020_LITHOFACIES_LITHOLOGY\"].unique()"
   ]
  },
  {
   "cell_type": "code",
   "execution_count": 32,
   "id": "c5ec1608",
   "metadata": {},
   "outputs": [
    {
     "data": {
      "text/plain": [
       "<IntegerArray>\n",
       "[<NA>, 70000, 80000, 65000, 65030, 30000, 90000]\n",
       "Length: 7, dtype: Int64"
      ]
     },
     "execution_count": 32,
     "metadata": {},
     "output_type": "execute_result"
    }
   ],
   "source": [
    "test_df[\"FORCE_2020_LITHOFACIES_LITHOLOGY\"].unique()"
   ]
  },
  {
   "cell_type": "markdown",
   "id": "9965490c",
   "metadata": {},
   "source": [
    "#### Replace column's entries with corresponding discrete values"
   ]
  },
  {
   "cell_type": "code",
   "execution_count": 33,
   "id": "2d3411ae",
   "metadata": {},
   "outputs": [],
   "source": [
    "for key, value in lithology.items():\n",
    "    test_df.loc[test_df[\"FORCE_2020_LITHOFACIES_LITHOLOGY\"] == key, \"FORCE_2020_LITHOFACIES_LITHOLOGY\"] = lithology[key][0]"
   ]
  },
  {
   "cell_type": "code",
   "execution_count": 34,
   "id": "412e7ef9",
   "metadata": {},
   "outputs": [
    {
     "data": {
      "text/plain": [
       "<IntegerArray>\n",
       "[<NA>, 3, 6, 1, 2, 0, 9]\n",
       "Length: 7, dtype: Int64"
      ]
     },
     "execution_count": 34,
     "metadata": {},
     "output_type": "execute_result"
    }
   ],
   "source": [
    "test_df[\"FORCE_2020_LITHOFACIES_LITHOLOGY\"].unique()"
   ]
  },
  {
   "cell_type": "code",
   "execution_count": 35,
   "id": "55a201cf",
   "metadata": {},
   "outputs": [
    {
     "data": {
      "text/html": [
       "<div>\n",
       "<style scoped>\n",
       "    .dataframe tbody tr th:only-of-type {\n",
       "        vertical-align: middle;\n",
       "    }\n",
       "\n",
       "    .dataframe tbody tr th {\n",
       "        vertical-align: top;\n",
       "    }\n",
       "\n",
       "    .dataframe thead th {\n",
       "        text-align: right;\n",
       "    }\n",
       "</style>\n",
       "<table border=\"1\" class=\"dataframe\">\n",
       "  <thead>\n",
       "    <tr style=\"text-align: right;\">\n",
       "      <th></th>\n",
       "      <th>FORCE_2020_LITHOFACIES_CONFIDENCE</th>\n",
       "      <th>FORCE_2020_LITHOFACIES_LITHOLOGY</th>\n",
       "      <th>CALI</th>\n",
       "      <th>ROP</th>\n",
       "      <th>RDEP</th>\n",
       "      <th>RMED</th>\n",
       "      <th>DTC</th>\n",
       "      <th>NPHI</th>\n",
       "      <th>GR</th>\n",
       "      <th>DEPTH_MD</th>\n",
       "      <th>X_LOC</th>\n",
       "      <th>Y_LOC</th>\n",
       "      <th>Z_LOC</th>\n",
       "    </tr>\n",
       "  </thead>\n",
       "  <tbody>\n",
       "    <tr>\n",
       "      <th>count</th>\n",
       "      <td>7841.000000</td>\n",
       "      <td>7840.000000</td>\n",
       "      <td>7842.000000</td>\n",
       "      <td>18664.000000</td>\n",
       "      <td>18567.000000</td>\n",
       "      <td>18524.000000</td>\n",
       "      <td>18199.000000</td>\n",
       "      <td>7835.000000</td>\n",
       "      <td>18666.000000</td>\n",
       "      <td>18567.000000</td>\n",
       "      <td>18567.000000</td>\n",
       "      <td>1.856700e+04</td>\n",
       "      <td>18567.000000</td>\n",
       "    </tr>\n",
       "    <tr>\n",
       "      <th>mean</th>\n",
       "      <td>1.007014</td>\n",
       "      <td>1.127041</td>\n",
       "      <td>8.645759</td>\n",
       "      <td>30.832899</td>\n",
       "      <td>2.620270</td>\n",
       "      <td>2.552476</td>\n",
       "      <td>113.930604</td>\n",
       "      <td>0.282503</td>\n",
       "      <td>88.059741</td>\n",
       "      <td>1790.928400</td>\n",
       "      <td>525234.926210</td>\n",
       "      <td>6.759899e+06</td>\n",
       "      <td>-1697.212986</td>\n",
       "    </tr>\n",
       "    <tr>\n",
       "      <th>std</th>\n",
       "      <td>0.083463</td>\n",
       "      <td>1.125013</td>\n",
       "      <td>0.354859</td>\n",
       "      <td>22.168637</td>\n",
       "      <td>10.496727</td>\n",
       "      <td>8.401663</td>\n",
       "      <td>33.930530</td>\n",
       "      <td>0.079752</td>\n",
       "      <td>28.029797</td>\n",
       "      <td>814.716285</td>\n",
       "      <td>152.418737</td>\n",
       "      <td>1.216211e+02</td>\n",
       "      <td>752.738270</td>\n",
       "    </tr>\n",
       "    <tr>\n",
       "      <th>min</th>\n",
       "      <td>1.000000</td>\n",
       "      <td>0.000000</td>\n",
       "      <td>8.350532</td>\n",
       "      <td>0.000000</td>\n",
       "      <td>0.196063</td>\n",
       "      <td>0.218748</td>\n",
       "      <td>51.216694</td>\n",
       "      <td>0.005246</td>\n",
       "      <td>9.397405</td>\n",
       "      <td>379.912415</td>\n",
       "      <td>524869.937500</td>\n",
       "      <td>6.759756e+06</td>\n",
       "      <td>-2964.480713</td>\n",
       "    </tr>\n",
       "    <tr>\n",
       "      <th>25%</th>\n",
       "      <td>1.000000</td>\n",
       "      <td>1.000000</td>\n",
       "      <td>8.485698</td>\n",
       "      <td>16.759844</td>\n",
       "      <td>0.962309</td>\n",
       "      <td>0.942606</td>\n",
       "      <td>83.164452</td>\n",
       "      <td>0.239417</td>\n",
       "      <td>72.368660</td>\n",
       "      <td>1085.420410</td>\n",
       "      <td>525136.281250</td>\n",
       "      <td>6.759822e+06</td>\n",
       "      <td>-2349.475097</td>\n",
       "    </tr>\n",
       "    <tr>\n",
       "      <th>50%</th>\n",
       "      <td>1.000000</td>\n",
       "      <td>1.000000</td>\n",
       "      <td>8.536774</td>\n",
       "      <td>27.777618</td>\n",
       "      <td>1.429376</td>\n",
       "      <td>1.405266</td>\n",
       "      <td>103.830116</td>\n",
       "      <td>0.289869</td>\n",
       "      <td>89.986179</td>\n",
       "      <td>1790.928345</td>\n",
       "      <td>525287.062500</td>\n",
       "      <td>6.759851e+06</td>\n",
       "      <td>-1730.521484</td>\n",
       "    </tr>\n",
       "    <tr>\n",
       "      <th>75%</th>\n",
       "      <td>1.000000</td>\n",
       "      <td>1.000000</td>\n",
       "      <td>8.642059</td>\n",
       "      <td>42.716022</td>\n",
       "      <td>3.237903</td>\n",
       "      <td>3.178944</td>\n",
       "      <td>148.459099</td>\n",
       "      <td>0.327477</td>\n",
       "      <td>100.472012</td>\n",
       "      <td>2496.436401</td>\n",
       "      <td>525345.437500</td>\n",
       "      <td>6.759974e+06</td>\n",
       "      <td>-1053.585938</td>\n",
       "    </tr>\n",
       "    <tr>\n",
       "      <th>max</th>\n",
       "      <td>2.000000</td>\n",
       "      <td>9.000000</td>\n",
       "      <td>12.631611</td>\n",
       "      <td>1270.482178</td>\n",
       "      <td>1122.036377</td>\n",
       "      <td>679.883728</td>\n",
       "      <td>183.871933</td>\n",
       "      <td>0.906257</td>\n",
       "      <td>243.851028</td>\n",
       "      <td>3201.944336</td>\n",
       "      <td>525414.312500</td>\n",
       "      <td>6.760192e+06</td>\n",
       "      <td>-348.912415</td>\n",
       "    </tr>\n",
       "  </tbody>\n",
       "</table>\n",
       "</div>"
      ],
      "text/plain": [
       "       FORCE_2020_LITHOFACIES_CONFIDENCE  FORCE_2020_LITHOFACIES_LITHOLOGY  \\\n",
       "count                        7841.000000                       7840.000000   \n",
       "mean                            1.007014                          1.127041   \n",
       "std                             0.083463                          1.125013   \n",
       "min                             1.000000                          0.000000   \n",
       "25%                             1.000000                          1.000000   \n",
       "50%                             1.000000                          1.000000   \n",
       "75%                             1.000000                          1.000000   \n",
       "max                             2.000000                          9.000000   \n",
       "\n",
       "              CALI           ROP          RDEP          RMED           DTC  \\\n",
       "count  7842.000000  18664.000000  18567.000000  18524.000000  18199.000000   \n",
       "mean      8.645759     30.832899      2.620270      2.552476    113.930604   \n",
       "std       0.354859     22.168637     10.496727      8.401663     33.930530   \n",
       "min       8.350532      0.000000      0.196063      0.218748     51.216694   \n",
       "25%       8.485698     16.759844      0.962309      0.942606     83.164452   \n",
       "50%       8.536774     27.777618      1.429376      1.405266    103.830116   \n",
       "75%       8.642059     42.716022      3.237903      3.178944    148.459099   \n",
       "max      12.631611   1270.482178   1122.036377    679.883728    183.871933   \n",
       "\n",
       "              NPHI            GR      DEPTH_MD          X_LOC         Y_LOC  \\\n",
       "count  7835.000000  18666.000000  18567.000000   18567.000000  1.856700e+04   \n",
       "mean      0.282503     88.059741   1790.928400  525234.926210  6.759899e+06   \n",
       "std       0.079752     28.029797    814.716285     152.418737  1.216211e+02   \n",
       "min       0.005246      9.397405    379.912415  524869.937500  6.759756e+06   \n",
       "25%       0.239417     72.368660   1085.420410  525136.281250  6.759822e+06   \n",
       "50%       0.289869     89.986179   1790.928345  525287.062500  6.759851e+06   \n",
       "75%       0.327477    100.472012   2496.436401  525345.437500  6.759974e+06   \n",
       "max       0.906257    243.851028   3201.944336  525414.312500  6.760192e+06   \n",
       "\n",
       "              Z_LOC  \n",
       "count  18567.000000  \n",
       "mean   -1697.212986  \n",
       "std      752.738270  \n",
       "min    -2964.480713  \n",
       "25%    -2349.475097  \n",
       "50%    -1730.521484  \n",
       "75%    -1053.585938  \n",
       "max     -348.912415  "
      ]
     },
     "execution_count": 35,
     "metadata": {},
     "output_type": "execute_result"
    }
   ],
   "source": [
    "test_df.describe()"
   ]
  },
  {
   "cell_type": "markdown",
   "id": "aa296a6a",
   "metadata": {},
   "source": [
    "### drop rows where FORCE_2020_LITHOFACIES_LITHOLOGY is nan"
   ]
  },
  {
   "cell_type": "code",
   "execution_count": 36,
   "id": "4b8b5de8",
   "metadata": {},
   "outputs": [],
   "source": [
    "merged_df.dropna(subset=[\"FORCE_2020_LITHOFACIES_LITHOLOGY\"], inplace=True)"
   ]
  },
  {
   "cell_type": "code",
   "execution_count": 37,
   "id": "746c1211",
   "metadata": {},
   "outputs": [],
   "source": [
    "test_df.dropna(subset=[\"FORCE_2020_LITHOFACIES_LITHOLOGY\"], inplace=True)"
   ]
  },
  {
   "cell_type": "code",
   "execution_count": 38,
   "id": "950c4d52",
   "metadata": {},
   "outputs": [
    {
     "data": {
      "text/plain": [
       "FORCE_2020_LITHOFACIES_CONFIDENCE      0\n",
       "FORCE_2020_LITHOFACIES_LITHOLOGY       0\n",
       "CALI                                   0\n",
       "ROP                                    0\n",
       "RDEP                                   0\n",
       "RMED                                   0\n",
       "DTC                                  154\n",
       "NPHI                                  28\n",
       "GR                                     0\n",
       "DEPTH_MD                               0\n",
       "X_LOC                                  0\n",
       "Y_LOC                                  0\n",
       "Z_LOC                                  0\n",
       "dtype: int64"
      ]
     },
     "execution_count": 38,
     "metadata": {},
     "output_type": "execute_result"
    }
   ],
   "source": [
    "test_df.isna().sum()"
   ]
  },
  {
   "cell_type": "code",
   "execution_count": 39,
   "id": "326b0cab",
   "metadata": {},
   "outputs": [
    {
     "data": {
      "text/plain": [
       "FORCE_2020_LITHOFACIES_CONFIDENCE       6\n",
       "FORCE_2020_LITHOFACIES_LITHOLOGY        0\n",
       "CALI                                    0\n",
       "ROP                                   179\n",
       "RDEP                                    0\n",
       "RMED                                   41\n",
       "DTC                                   193\n",
       "NPHI                                 9731\n",
       "GR                                      9\n",
       "DEPTH_MD                                0\n",
       "X_LOC                                   0\n",
       "Y_LOC                                   0\n",
       "Z_LOC                                   0\n",
       "dtype: int64"
      ]
     },
     "execution_count": 39,
     "metadata": {},
     "output_type": "execute_result"
    }
   ],
   "source": [
    "merged_df.isna().sum()"
   ]
  },
  {
   "cell_type": "markdown",
   "id": "ca5365d2",
   "metadata": {},
   "source": [
    "# Building the XGBoost Machine learning model"
   ]
  },
  {
   "cell_type": "code",
   "execution_count": 40,
   "id": "3586b78b",
   "metadata": {},
   "outputs": [],
   "source": [
    "import xgboost as xgb"
   ]
  },
  {
   "cell_type": "code",
   "execution_count": 41,
   "id": "af89199c",
   "metadata": {},
   "outputs": [],
   "source": [
    "model = xgb.XGBClassifier()"
   ]
  },
  {
   "cell_type": "markdown",
   "id": "e3d0c077",
   "metadata": {},
   "source": [
    "### Split dataset into X_train and y_train"
   ]
  },
  {
   "cell_type": "code",
   "execution_count": 42,
   "id": "e19a7f2f",
   "metadata": {},
   "outputs": [],
   "source": [
    "X_train = merged_df.drop(\"FORCE_2020_LITHOFACIES_LITHOLOGY\", axis=1)\n",
    "y_train = merged_df[\"FORCE_2020_LITHOFACIES_LITHOLOGY\"]"
   ]
  },
  {
   "cell_type": "code",
   "execution_count": 43,
   "id": "261c25a5",
   "metadata": {},
   "outputs": [],
   "source": [
    "X_test = test_df.drop(\"FORCE_2020_LITHOFACIES_LITHOLOGY\", axis=1)\n",
    "y_test = test_df[\"FORCE_2020_LITHOFACIES_LITHOLOGY\"]"
   ]
  },
  {
   "cell_type": "code",
   "execution_count": 44,
   "id": "e81a01fe",
   "metadata": {},
   "outputs": [
    {
     "name": "stdout",
     "output_type": "stream",
     "text": [
      "<class 'pandas.core.series.Series'>\n",
      "Float64Index: 42009 entries, 494.528 to 2451.5397289\n",
      "Series name: FORCE_2020_LITHOFACIES_LITHOLOGY\n",
      "Non-Null Count  Dtype\n",
      "--------------  -----\n",
      "42009 non-null  Int64\n",
      "dtypes: Int64(1)\n",
      "memory usage: 697.4 KB\n"
     ]
    }
   ],
   "source": [
    "y_train.info()"
   ]
  },
  {
   "cell_type": "code",
   "execution_count": 45,
   "id": "1e654194",
   "metadata": {},
   "outputs": [
    {
     "data": {
      "text/plain": [
       "XGBClassifier(base_score=None, booster=None, callbacks=None,\n",
       "              colsample_bylevel=None, colsample_bynode=None,\n",
       "              colsample_bytree=None, device=None, early_stopping_rounds=None,\n",
       "              enable_categorical=False, eval_metric=None, feature_types=None,\n",
       "              gamma=None, grow_policy=None, importance_type=None,\n",
       "              interaction_constraints=None, learning_rate=None, max_bin=None,\n",
       "              max_cat_threshold=None, max_cat_to_onehot=None,\n",
       "              max_delta_step=None, max_depth=None, max_leaves=None,\n",
       "              min_child_weight=None, missing=nan, monotone_constraints=None,\n",
       "              multi_strategy=None, n_estimators=None, n_jobs=None,\n",
       "              num_parallel_tree=None, objective='multi:softprob', ...)"
      ]
     },
     "execution_count": 45,
     "metadata": {},
     "output_type": "execute_result"
    }
   ],
   "source": [
    "model.fit(X_train, y_train)"
   ]
  },
  {
   "cell_type": "code",
   "execution_count": 46,
   "id": "2ddba4e6",
   "metadata": {
    "scrolled": true
   },
   "outputs": [
    {
     "ename": "ValueError",
     "evalue": "Classification metrics can't handle a mix of unknown and multiclass targets",
     "output_type": "error",
     "traceback": [
      "\u001b[1;31m---------------------------------------------------------------------------\u001b[0m",
      "\u001b[1;31mValueError\u001b[0m                                Traceback (most recent call last)",
      "Input \u001b[1;32mIn [46]\u001b[0m, in \u001b[0;36m<cell line: 1>\u001b[1;34m()\u001b[0m\n\u001b[1;32m----> 1\u001b[0m \u001b[43mmodel\u001b[49m\u001b[38;5;241;43m.\u001b[39;49m\u001b[43mscore\u001b[49m\u001b[43m(\u001b[49m\u001b[43mX_test\u001b[49m\u001b[43m,\u001b[49m\u001b[43m \u001b[49m\u001b[43my_test\u001b[49m\u001b[43m)\u001b[49m\n",
      "File \u001b[1;32m~\\anaconda3\\lib\\site-packages\\sklearn\\base.py:651\u001b[0m, in \u001b[0;36mClassifierMixin.score\u001b[1;34m(self, X, y, sample_weight)\u001b[0m\n\u001b[0;32m    626\u001b[0m \u001b[38;5;124;03m\"\"\"\u001b[39;00m\n\u001b[0;32m    627\u001b[0m \u001b[38;5;124;03mReturn the mean accuracy on the given test data and labels.\u001b[39;00m\n\u001b[0;32m    628\u001b[0m \n\u001b[1;32m   (...)\u001b[0m\n\u001b[0;32m    647\u001b[0m \u001b[38;5;124;03m    Mean accuracy of ``self.predict(X)`` wrt. `y`.\u001b[39;00m\n\u001b[0;32m    648\u001b[0m \u001b[38;5;124;03m\"\"\"\u001b[39;00m\n\u001b[0;32m    649\u001b[0m \u001b[38;5;28;01mfrom\u001b[39;00m \u001b[38;5;21;01m.\u001b[39;00m\u001b[38;5;21;01mmetrics\u001b[39;00m \u001b[38;5;28;01mimport\u001b[39;00m accuracy_score\n\u001b[1;32m--> 651\u001b[0m \u001b[38;5;28;01mreturn\u001b[39;00m \u001b[43maccuracy_score\u001b[49m\u001b[43m(\u001b[49m\u001b[43my\u001b[49m\u001b[43m,\u001b[49m\u001b[43m \u001b[49m\u001b[38;5;28;43mself\u001b[39;49m\u001b[38;5;241;43m.\u001b[39;49m\u001b[43mpredict\u001b[49m\u001b[43m(\u001b[49m\u001b[43mX\u001b[49m\u001b[43m)\u001b[49m\u001b[43m,\u001b[49m\u001b[43m \u001b[49m\u001b[43msample_weight\u001b[49m\u001b[38;5;241;43m=\u001b[39;49m\u001b[43msample_weight\u001b[49m\u001b[43m)\u001b[49m\n",
      "File \u001b[1;32m~\\anaconda3\\lib\\site-packages\\sklearn\\metrics\\_classification.py:211\u001b[0m, in \u001b[0;36maccuracy_score\u001b[1;34m(y_true, y_pred, normalize, sample_weight)\u001b[0m\n\u001b[0;32m    145\u001b[0m \u001b[38;5;124;03m\"\"\"Accuracy classification score.\u001b[39;00m\n\u001b[0;32m    146\u001b[0m \n\u001b[0;32m    147\u001b[0m \u001b[38;5;124;03mIn multilabel classification, this function computes subset accuracy:\u001b[39;00m\n\u001b[1;32m   (...)\u001b[0m\n\u001b[0;32m    207\u001b[0m \u001b[38;5;124;03m0.5\u001b[39;00m\n\u001b[0;32m    208\u001b[0m \u001b[38;5;124;03m\"\"\"\u001b[39;00m\n\u001b[0;32m    210\u001b[0m \u001b[38;5;66;03m# Compute accuracy for each possible representation\u001b[39;00m\n\u001b[1;32m--> 211\u001b[0m y_type, y_true, y_pred \u001b[38;5;241m=\u001b[39m \u001b[43m_check_targets\u001b[49m\u001b[43m(\u001b[49m\u001b[43my_true\u001b[49m\u001b[43m,\u001b[49m\u001b[43m \u001b[49m\u001b[43my_pred\u001b[49m\u001b[43m)\u001b[49m\n\u001b[0;32m    212\u001b[0m check_consistent_length(y_true, y_pred, sample_weight)\n\u001b[0;32m    213\u001b[0m \u001b[38;5;28;01mif\u001b[39;00m y_type\u001b[38;5;241m.\u001b[39mstartswith(\u001b[38;5;124m\"\u001b[39m\u001b[38;5;124mmultilabel\u001b[39m\u001b[38;5;124m\"\u001b[39m):\n",
      "File \u001b[1;32m~\\anaconda3\\lib\\site-packages\\sklearn\\metrics\\_classification.py:93\u001b[0m, in \u001b[0;36m_check_targets\u001b[1;34m(y_true, y_pred)\u001b[0m\n\u001b[0;32m     90\u001b[0m     y_type \u001b[38;5;241m=\u001b[39m {\u001b[38;5;124m\"\u001b[39m\u001b[38;5;124mmulticlass\u001b[39m\u001b[38;5;124m\"\u001b[39m}\n\u001b[0;32m     92\u001b[0m \u001b[38;5;28;01mif\u001b[39;00m \u001b[38;5;28mlen\u001b[39m(y_type) \u001b[38;5;241m>\u001b[39m \u001b[38;5;241m1\u001b[39m:\n\u001b[1;32m---> 93\u001b[0m     \u001b[38;5;28;01mraise\u001b[39;00m \u001b[38;5;167;01mValueError\u001b[39;00m(\n\u001b[0;32m     94\u001b[0m         \u001b[38;5;124m\"\u001b[39m\u001b[38;5;124mClassification metrics can\u001b[39m\u001b[38;5;124m'\u001b[39m\u001b[38;5;124mt handle a mix of \u001b[39m\u001b[38;5;132;01m{0}\u001b[39;00m\u001b[38;5;124m and \u001b[39m\u001b[38;5;132;01m{1}\u001b[39;00m\u001b[38;5;124m targets\u001b[39m\u001b[38;5;124m\"\u001b[39m\u001b[38;5;241m.\u001b[39mformat(\n\u001b[0;32m     95\u001b[0m             type_true, type_pred\n\u001b[0;32m     96\u001b[0m         )\n\u001b[0;32m     97\u001b[0m     )\n\u001b[0;32m     99\u001b[0m \u001b[38;5;66;03m# We can't have more than one value on y_type => The set is no more needed\u001b[39;00m\n\u001b[0;32m    100\u001b[0m y_type \u001b[38;5;241m=\u001b[39m y_type\u001b[38;5;241m.\u001b[39mpop()\n",
      "\u001b[1;31mValueError\u001b[0m: Classification metrics can't handle a mix of unknown and multiclass targets"
     ]
    }
   ],
   "source": [
    "model.score(X_test, y_test)"
   ]
  },
  {
   "cell_type": "code",
   "execution_count": null,
   "id": "fcd4299a",
   "metadata": {},
   "outputs": [],
   "source": []
  },
  {
   "cell_type": "markdown",
   "id": "f5851995",
   "metadata": {},
   "source": [
    "### Feature Engineering\n",
    "After failed attempt at testing our model, the error message seems to be from our target values not being properly represented\n",
    "we would be using the `pd.dummies` to encode the entire column"
   ]
  },
  {
   "cell_type": "code",
   "execution_count": 47,
   "id": "e13adb89",
   "metadata": {},
   "outputs": [
    {
     "data": {
      "text/html": [
       "<div>\n",
       "<style scoped>\n",
       "    .dataframe tbody tr th:only-of-type {\n",
       "        vertical-align: middle;\n",
       "    }\n",
       "\n",
       "    .dataframe tbody tr th {\n",
       "        vertical-align: top;\n",
       "    }\n",
       "\n",
       "    .dataframe thead th {\n",
       "        text-align: right;\n",
       "    }\n",
       "</style>\n",
       "<table border=\"1\" class=\"dataframe\">\n",
       "  <thead>\n",
       "    <tr style=\"text-align: right;\">\n",
       "      <th></th>\n",
       "      <th>0</th>\n",
       "      <th>1</th>\n",
       "      <th>2</th>\n",
       "      <th>3</th>\n",
       "      <th>4</th>\n",
       "      <th>5</th>\n",
       "      <th>6</th>\n",
       "      <th>7</th>\n",
       "      <th>8</th>\n",
       "    </tr>\n",
       "    <tr>\n",
       "      <th>DEPT</th>\n",
       "      <th></th>\n",
       "      <th></th>\n",
       "      <th></th>\n",
       "      <th></th>\n",
       "      <th></th>\n",
       "      <th></th>\n",
       "      <th></th>\n",
       "      <th></th>\n",
       "      <th></th>\n",
       "    </tr>\n",
       "  </thead>\n",
       "  <tbody>\n",
       "    <tr>\n",
       "      <th>494.528000</th>\n",
       "      <td>0</td>\n",
       "      <td>1</td>\n",
       "      <td>0</td>\n",
       "      <td>0</td>\n",
       "      <td>0</td>\n",
       "      <td>0</td>\n",
       "      <td>0</td>\n",
       "      <td>0</td>\n",
       "      <td>0</td>\n",
       "    </tr>\n",
       "    <tr>\n",
       "      <th>494.680000</th>\n",
       "      <td>0</td>\n",
       "      <td>1</td>\n",
       "      <td>0</td>\n",
       "      <td>0</td>\n",
       "      <td>0</td>\n",
       "      <td>0</td>\n",
       "      <td>0</td>\n",
       "      <td>0</td>\n",
       "      <td>0</td>\n",
       "    </tr>\n",
       "    <tr>\n",
       "      <th>494.832000</th>\n",
       "      <td>0</td>\n",
       "      <td>1</td>\n",
       "      <td>0</td>\n",
       "      <td>0</td>\n",
       "      <td>0</td>\n",
       "      <td>0</td>\n",
       "      <td>0</td>\n",
       "      <td>0</td>\n",
       "      <td>0</td>\n",
       "    </tr>\n",
       "    <tr>\n",
       "      <th>494.984000</th>\n",
       "      <td>0</td>\n",
       "      <td>1</td>\n",
       "      <td>0</td>\n",
       "      <td>0</td>\n",
       "      <td>0</td>\n",
       "      <td>0</td>\n",
       "      <td>0</td>\n",
       "      <td>0</td>\n",
       "      <td>0</td>\n",
       "    </tr>\n",
       "    <tr>\n",
       "      <th>495.136000</th>\n",
       "      <td>0</td>\n",
       "      <td>1</td>\n",
       "      <td>0</td>\n",
       "      <td>0</td>\n",
       "      <td>0</td>\n",
       "      <td>0</td>\n",
       "      <td>0</td>\n",
       "      <td>0</td>\n",
       "      <td>0</td>\n",
       "    </tr>\n",
       "    <tr>\n",
       "      <th>...</th>\n",
       "      <td>...</td>\n",
       "      <td>...</td>\n",
       "      <td>...</td>\n",
       "      <td>...</td>\n",
       "      <td>...</td>\n",
       "      <td>...</td>\n",
       "      <td>...</td>\n",
       "      <td>...</td>\n",
       "      <td>...</td>\n",
       "    </tr>\n",
       "    <tr>\n",
       "      <th>2450.931729</th>\n",
       "      <td>0</td>\n",
       "      <td>0</td>\n",
       "      <td>0</td>\n",
       "      <td>0</td>\n",
       "      <td>0</td>\n",
       "      <td>0</td>\n",
       "      <td>1</td>\n",
       "      <td>0</td>\n",
       "      <td>0</td>\n",
       "    </tr>\n",
       "    <tr>\n",
       "      <th>2451.083729</th>\n",
       "      <td>0</td>\n",
       "      <td>0</td>\n",
       "      <td>0</td>\n",
       "      <td>0</td>\n",
       "      <td>0</td>\n",
       "      <td>0</td>\n",
       "      <td>1</td>\n",
       "      <td>0</td>\n",
       "      <td>0</td>\n",
       "    </tr>\n",
       "    <tr>\n",
       "      <th>2451.235729</th>\n",
       "      <td>0</td>\n",
       "      <td>0</td>\n",
       "      <td>0</td>\n",
       "      <td>0</td>\n",
       "      <td>0</td>\n",
       "      <td>0</td>\n",
       "      <td>1</td>\n",
       "      <td>0</td>\n",
       "      <td>0</td>\n",
       "    </tr>\n",
       "    <tr>\n",
       "      <th>2451.387729</th>\n",
       "      <td>0</td>\n",
       "      <td>0</td>\n",
       "      <td>0</td>\n",
       "      <td>0</td>\n",
       "      <td>0</td>\n",
       "      <td>0</td>\n",
       "      <td>1</td>\n",
       "      <td>0</td>\n",
       "      <td>0</td>\n",
       "    </tr>\n",
       "    <tr>\n",
       "      <th>2451.539729</th>\n",
       "      <td>0</td>\n",
       "      <td>0</td>\n",
       "      <td>0</td>\n",
       "      <td>0</td>\n",
       "      <td>0</td>\n",
       "      <td>0</td>\n",
       "      <td>1</td>\n",
       "      <td>0</td>\n",
       "      <td>0</td>\n",
       "    </tr>\n",
       "  </tbody>\n",
       "</table>\n",
       "<p>42009 rows × 9 columns</p>\n",
       "</div>"
      ],
      "text/plain": [
       "             0  1  2  3  4  5  6  7  8\n",
       "DEPT                                  \n",
       "494.528000   0  1  0  0  0  0  0  0  0\n",
       "494.680000   0  1  0  0  0  0  0  0  0\n",
       "494.832000   0  1  0  0  0  0  0  0  0\n",
       "494.984000   0  1  0  0  0  0  0  0  0\n",
       "495.136000   0  1  0  0  0  0  0  0  0\n",
       "...         .. .. .. .. .. .. .. .. ..\n",
       "2450.931729  0  0  0  0  0  0  1  0  0\n",
       "2451.083729  0  0  0  0  0  0  1  0  0\n",
       "2451.235729  0  0  0  0  0  0  1  0  0\n",
       "2451.387729  0  0  0  0  0  0  1  0  0\n",
       "2451.539729  0  0  0  0  0  0  1  0  0\n",
       "\n",
       "[42009 rows x 9 columns]"
      ]
     },
     "execution_count": 47,
     "metadata": {},
     "output_type": "execute_result"
    }
   ],
   "source": [
    "dummies = pd.get_dummies(merged_df[\"FORCE_2020_LITHOFACIES_LITHOLOGY\"])\n",
    "dummies"
   ]
  },
  {
   "cell_type": "code",
   "execution_count": 48,
   "id": "0589c59e",
   "metadata": {},
   "outputs": [
    {
     "name": "stdout",
     "output_type": "stream",
     "text": [
      "<class 'pandas.core.frame.DataFrame'>\n",
      "Float64Index: 42009 entries, 494.528 to 2451.5397289\n",
      "Data columns (total 9 columns):\n",
      " #   Column  Non-Null Count  Dtype\n",
      "---  ------  --------------  -----\n",
      " 0   0       42009 non-null  uint8\n",
      " 1   1       42009 non-null  uint8\n",
      " 2   2       42009 non-null  uint8\n",
      " 3   3       42009 non-null  uint8\n",
      " 4   4       42009 non-null  uint8\n",
      " 5   5       42009 non-null  uint8\n",
      " 6   6       42009 non-null  uint8\n",
      " 7   7       42009 non-null  uint8\n",
      " 8   8       42009 non-null  uint8\n",
      "dtypes: uint8(9)\n",
      "memory usage: 697.4 KB\n"
     ]
    }
   ],
   "source": [
    "dummies.info()"
   ]
  },
  {
   "cell_type": "markdown",
   "id": "40dfeeb0",
   "metadata": {},
   "source": [
    "Drop one of the dummie variable columns, to avoid getting in a dummy variable trap"
   ]
  },
  {
   "cell_type": "code",
   "execution_count": 49,
   "id": "e4f07771",
   "metadata": {},
   "outputs": [],
   "source": [
    "new_merged_df = pd.concat([merged_df, dummies], axis=1)"
   ]
  },
  {
   "cell_type": "code",
   "execution_count": 50,
   "id": "2aa83de4",
   "metadata": {},
   "outputs": [],
   "source": [
    "new_merged_df = new_merged_df.drop([\"FORCE_2020_LITHOFACIES_LITHOLOGY\", 8], axis=1)"
   ]
  },
  {
   "cell_type": "code",
   "execution_count": 51,
   "id": "4da63126",
   "metadata": {},
   "outputs": [],
   "source": [
    "X_train = new_merged_df.drop([0, 1, 2, 3, 4, 5, 6, 7], axis=1)\n",
    "y_train = new_merged_df[[0, 1, 2, 3, 4, 5, 6, 7]]"
   ]
  },
  {
   "cell_type": "code",
   "execution_count": 52,
   "id": "95277485",
   "metadata": {},
   "outputs": [
    {
     "name": "stdout",
     "output_type": "stream",
     "text": [
      "<class 'pandas.core.frame.DataFrame'>\n",
      "Float64Index: 42009 entries, 494.528 to 2451.5397289\n",
      "Data columns (total 12 columns):\n",
      " #   Column                             Non-Null Count  Dtype  \n",
      "---  ------                             --------------  -----  \n",
      " 0   FORCE_2020_LITHOFACIES_CONFIDENCE  42003 non-null  float64\n",
      " 1   CALI                               42009 non-null  float64\n",
      " 2   ROP                                41830 non-null  float64\n",
      " 3   RDEP                               42009 non-null  float64\n",
      " 4   RMED                               41968 non-null  float64\n",
      " 5   DTC                                41816 non-null  float64\n",
      " 6   NPHI                               32278 non-null  float64\n",
      " 7   GR                                 42000 non-null  float64\n",
      " 8   DEPTH_MD                           42009 non-null  float64\n",
      " 9   X_LOC                              42009 non-null  float64\n",
      " 10  Y_LOC                              42009 non-null  float64\n",
      " 11  Z_LOC                              42009 non-null  float64\n",
      "dtypes: float64(12)\n",
      "memory usage: 4.2 MB\n"
     ]
    }
   ],
   "source": [
    "X_train.info()"
   ]
  },
  {
   "cell_type": "code",
   "execution_count": 53,
   "id": "7d790338",
   "metadata": {},
   "outputs": [
    {
     "name": "stdout",
     "output_type": "stream",
     "text": [
      "<class 'pandas.core.frame.DataFrame'>\n",
      "Float64Index: 42009 entries, 494.528 to 2451.5397289\n",
      "Data columns (total 8 columns):\n",
      " #   Column  Non-Null Count  Dtype\n",
      "---  ------  --------------  -----\n",
      " 0   0       42009 non-null  uint8\n",
      " 1   1       42009 non-null  uint8\n",
      " 2   2       42009 non-null  uint8\n",
      " 3   3       42009 non-null  uint8\n",
      " 4   4       42009 non-null  uint8\n",
      " 5   5       42009 non-null  uint8\n",
      " 6   6       42009 non-null  uint8\n",
      " 7   7       42009 non-null  uint8\n",
      "dtypes: uint8(8)\n",
      "memory usage: 656.4 KB\n"
     ]
    }
   ],
   "source": [
    "y_train.info()"
   ]
  },
  {
   "cell_type": "code",
   "execution_count": 54,
   "id": "57fe6126",
   "metadata": {
    "scrolled": true
   },
   "outputs": [
    {
     "data": {
      "text/plain": [
       "XGBClassifier(base_score=None, booster=None, callbacks=None,\n",
       "              colsample_bylevel=None, colsample_bynode=None,\n",
       "              colsample_bytree=None, device=None, early_stopping_rounds=None,\n",
       "              enable_categorical=False, eval_metric=None, feature_types=None,\n",
       "              gamma=None, grow_policy=None, importance_type=None,\n",
       "              interaction_constraints=None, learning_rate=None, max_bin=None,\n",
       "              max_cat_threshold=None, max_cat_to_onehot=None,\n",
       "              max_delta_step=None, max_depth=None, max_leaves=None,\n",
       "              min_child_weight=None, missing=nan, monotone_constraints=None,\n",
       "              multi_strategy=None, n_estimators=None, n_jobs=None,\n",
       "              num_parallel_tree=None, random_state=None, ...)"
      ]
     },
     "execution_count": 54,
     "metadata": {},
     "output_type": "execute_result"
    }
   ],
   "source": [
    "encoded_model = xgb.XGBClassifier()\n",
    "encoded_model.fit(X_train, y_train)"
   ]
  },
  {
   "cell_type": "code",
   "execution_count": 55,
   "id": "4131c99a",
   "metadata": {
    "scrolled": true
   },
   "outputs": [
    {
     "data": {
      "text/html": [
       "<div>\n",
       "<style scoped>\n",
       "    .dataframe tbody tr th:only-of-type {\n",
       "        vertical-align: middle;\n",
       "    }\n",
       "\n",
       "    .dataframe tbody tr th {\n",
       "        vertical-align: top;\n",
       "    }\n",
       "\n",
       "    .dataframe thead th {\n",
       "        text-align: right;\n",
       "    }\n",
       "</style>\n",
       "<table border=\"1\" class=\"dataframe\">\n",
       "  <thead>\n",
       "    <tr style=\"text-align: right;\">\n",
       "      <th></th>\n",
       "      <th>0</th>\n",
       "      <th>1</th>\n",
       "      <th>2</th>\n",
       "      <th>3</th>\n",
       "      <th>6</th>\n",
       "      <th>9</th>\n",
       "    </tr>\n",
       "    <tr>\n",
       "      <th>DEPT</th>\n",
       "      <th></th>\n",
       "      <th></th>\n",
       "      <th></th>\n",
       "      <th></th>\n",
       "      <th></th>\n",
       "      <th></th>\n",
       "    </tr>\n",
       "  </thead>\n",
       "  <tbody>\n",
       "    <tr>\n",
       "      <th>1999.9284</th>\n",
       "      <td>0</td>\n",
       "      <td>0</td>\n",
       "      <td>0</td>\n",
       "      <td>1</td>\n",
       "      <td>0</td>\n",
       "      <td>0</td>\n",
       "    </tr>\n",
       "    <tr>\n",
       "      <th>2000.0804</th>\n",
       "      <td>0</td>\n",
       "      <td>0</td>\n",
       "      <td>0</td>\n",
       "      <td>1</td>\n",
       "      <td>0</td>\n",
       "      <td>0</td>\n",
       "    </tr>\n",
       "    <tr>\n",
       "      <th>2000.2324</th>\n",
       "      <td>0</td>\n",
       "      <td>0</td>\n",
       "      <td>0</td>\n",
       "      <td>1</td>\n",
       "      <td>0</td>\n",
       "      <td>0</td>\n",
       "    </tr>\n",
       "    <tr>\n",
       "      <th>2000.3844</th>\n",
       "      <td>0</td>\n",
       "      <td>0</td>\n",
       "      <td>0</td>\n",
       "      <td>1</td>\n",
       "      <td>0</td>\n",
       "      <td>0</td>\n",
       "    </tr>\n",
       "    <tr>\n",
       "      <th>2000.5364</th>\n",
       "      <td>0</td>\n",
       "      <td>0</td>\n",
       "      <td>0</td>\n",
       "      <td>1</td>\n",
       "      <td>0</td>\n",
       "      <td>0</td>\n",
       "    </tr>\n",
       "    <tr>\n",
       "      <th>...</th>\n",
       "      <td>...</td>\n",
       "      <td>...</td>\n",
       "      <td>...</td>\n",
       "      <td>...</td>\n",
       "      <td>...</td>\n",
       "      <td>...</td>\n",
       "    </tr>\n",
       "    <tr>\n",
       "      <th>3191.0004</th>\n",
       "      <td>1</td>\n",
       "      <td>0</td>\n",
       "      <td>0</td>\n",
       "      <td>0</td>\n",
       "      <td>0</td>\n",
       "      <td>0</td>\n",
       "    </tr>\n",
       "    <tr>\n",
       "      <th>3191.1524</th>\n",
       "      <td>1</td>\n",
       "      <td>0</td>\n",
       "      <td>0</td>\n",
       "      <td>0</td>\n",
       "      <td>0</td>\n",
       "      <td>0</td>\n",
       "    </tr>\n",
       "    <tr>\n",
       "      <th>3191.3044</th>\n",
       "      <td>1</td>\n",
       "      <td>0</td>\n",
       "      <td>0</td>\n",
       "      <td>0</td>\n",
       "      <td>0</td>\n",
       "      <td>0</td>\n",
       "    </tr>\n",
       "    <tr>\n",
       "      <th>3191.4564</th>\n",
       "      <td>1</td>\n",
       "      <td>0</td>\n",
       "      <td>0</td>\n",
       "      <td>0</td>\n",
       "      <td>0</td>\n",
       "      <td>0</td>\n",
       "    </tr>\n",
       "    <tr>\n",
       "      <th>3191.6084</th>\n",
       "      <td>1</td>\n",
       "      <td>0</td>\n",
       "      <td>0</td>\n",
       "      <td>0</td>\n",
       "      <td>0</td>\n",
       "      <td>0</td>\n",
       "    </tr>\n",
       "  </tbody>\n",
       "</table>\n",
       "<p>7840 rows × 6 columns</p>\n",
       "</div>"
      ],
      "text/plain": [
       "           0  1  2  3  6  9\n",
       "DEPT                       \n",
       "1999.9284  0  0  0  1  0  0\n",
       "2000.0804  0  0  0  1  0  0\n",
       "2000.2324  0  0  0  1  0  0\n",
       "2000.3844  0  0  0  1  0  0\n",
       "2000.5364  0  0  0  1  0  0\n",
       "...       .. .. .. .. .. ..\n",
       "3191.0004  1  0  0  0  0  0\n",
       "3191.1524  1  0  0  0  0  0\n",
       "3191.3044  1  0  0  0  0  0\n",
       "3191.4564  1  0  0  0  0  0\n",
       "3191.6084  1  0  0  0  0  0\n",
       "\n",
       "[7840 rows x 6 columns]"
      ]
     },
     "execution_count": 55,
     "metadata": {},
     "output_type": "execute_result"
    }
   ],
   "source": [
    "# encoding for the test set\n",
    "dummies = pd.get_dummies(test_df[\"FORCE_2020_LITHOFACIES_LITHOLOGY\"])\n",
    "dummies"
   ]
  },
  {
   "cell_type": "code",
   "execution_count": 56,
   "id": "b37f7615",
   "metadata": {},
   "outputs": [],
   "source": [
    "new_test_df = pd.concat([test_df, dummies], axis=1)\n",
    "new_test_df = new_test_df.drop([\"FORCE_2020_LITHOFACIES_LITHOLOGY\", 9], axis=1)"
   ]
  },
  {
   "cell_type": "code",
   "execution_count": 57,
   "id": "be579179",
   "metadata": {},
   "outputs": [],
   "source": [
    "X_test = new_test_df.drop([0, 1, 2, 3, 6], axis=1)\n",
    "y_test = new_test_df[[0, 1, 2, 3, 6]]"
   ]
  },
  {
   "cell_type": "code",
   "execution_count": 58,
   "id": "5fd6062f",
   "metadata": {},
   "outputs": [
    {
     "data": {
      "text/plain": [
       "(7840, 5)"
      ]
     },
     "execution_count": 58,
     "metadata": {},
     "output_type": "execute_result"
    }
   ],
   "source": [
    "y_test.shape"
   ]
  },
  {
   "cell_type": "code",
   "execution_count": 59,
   "id": "ec032800",
   "metadata": {},
   "outputs": [
    {
     "data": {
      "text/plain": [
       "(42009, 8)"
      ]
     },
     "execution_count": 59,
     "metadata": {},
     "output_type": "execute_result"
    }
   ],
   "source": [
    "y_train.shape"
   ]
  },
  {
   "cell_type": "code",
   "execution_count": 60,
   "id": "e78faf80",
   "metadata": {
    "scrolled": true
   },
   "outputs": [
    {
     "ename": "ValueError",
     "evalue": "inconsistent shapes",
     "output_type": "error",
     "traceback": [
      "\u001b[1;31m---------------------------------------------------------------------------\u001b[0m",
      "\u001b[1;31mValueError\u001b[0m                                Traceback (most recent call last)",
      "Input \u001b[1;32mIn [60]\u001b[0m, in \u001b[0;36m<cell line: 1>\u001b[1;34m()\u001b[0m\n\u001b[1;32m----> 1\u001b[0m \u001b[43mencoded_model\u001b[49m\u001b[38;5;241;43m.\u001b[39;49m\u001b[43mscore\u001b[49m\u001b[43m(\u001b[49m\u001b[43mX_test\u001b[49m\u001b[43m,\u001b[49m\u001b[43m \u001b[49m\u001b[43my_test\u001b[49m\u001b[43m)\u001b[49m\n",
      "File \u001b[1;32m~\\anaconda3\\lib\\site-packages\\sklearn\\base.py:651\u001b[0m, in \u001b[0;36mClassifierMixin.score\u001b[1;34m(self, X, y, sample_weight)\u001b[0m\n\u001b[0;32m    626\u001b[0m \u001b[38;5;124;03m\"\"\"\u001b[39;00m\n\u001b[0;32m    627\u001b[0m \u001b[38;5;124;03mReturn the mean accuracy on the given test data and labels.\u001b[39;00m\n\u001b[0;32m    628\u001b[0m \n\u001b[1;32m   (...)\u001b[0m\n\u001b[0;32m    647\u001b[0m \u001b[38;5;124;03m    Mean accuracy of ``self.predict(X)`` wrt. `y`.\u001b[39;00m\n\u001b[0;32m    648\u001b[0m \u001b[38;5;124;03m\"\"\"\u001b[39;00m\n\u001b[0;32m    649\u001b[0m \u001b[38;5;28;01mfrom\u001b[39;00m \u001b[38;5;21;01m.\u001b[39;00m\u001b[38;5;21;01mmetrics\u001b[39;00m \u001b[38;5;28;01mimport\u001b[39;00m accuracy_score\n\u001b[1;32m--> 651\u001b[0m \u001b[38;5;28;01mreturn\u001b[39;00m \u001b[43maccuracy_score\u001b[49m\u001b[43m(\u001b[49m\u001b[43my\u001b[49m\u001b[43m,\u001b[49m\u001b[43m \u001b[49m\u001b[38;5;28;43mself\u001b[39;49m\u001b[38;5;241;43m.\u001b[39;49m\u001b[43mpredict\u001b[49m\u001b[43m(\u001b[49m\u001b[43mX\u001b[49m\u001b[43m)\u001b[49m\u001b[43m,\u001b[49m\u001b[43m \u001b[49m\u001b[43msample_weight\u001b[49m\u001b[38;5;241;43m=\u001b[39;49m\u001b[43msample_weight\u001b[49m\u001b[43m)\u001b[49m\n",
      "File \u001b[1;32m~\\anaconda3\\lib\\site-packages\\sklearn\\metrics\\_classification.py:214\u001b[0m, in \u001b[0;36maccuracy_score\u001b[1;34m(y_true, y_pred, normalize, sample_weight)\u001b[0m\n\u001b[0;32m    212\u001b[0m check_consistent_length(y_true, y_pred, sample_weight)\n\u001b[0;32m    213\u001b[0m \u001b[38;5;28;01mif\u001b[39;00m y_type\u001b[38;5;241m.\u001b[39mstartswith(\u001b[38;5;124m\"\u001b[39m\u001b[38;5;124mmultilabel\u001b[39m\u001b[38;5;124m\"\u001b[39m):\n\u001b[1;32m--> 214\u001b[0m     differing_labels \u001b[38;5;241m=\u001b[39m count_nonzero(\u001b[43my_true\u001b[49m\u001b[43m \u001b[49m\u001b[38;5;241;43m-\u001b[39;49m\u001b[43m \u001b[49m\u001b[43my_pred\u001b[49m, axis\u001b[38;5;241m=\u001b[39m\u001b[38;5;241m1\u001b[39m)\n\u001b[0;32m    215\u001b[0m     score \u001b[38;5;241m=\u001b[39m differing_labels \u001b[38;5;241m==\u001b[39m \u001b[38;5;241m0\u001b[39m\n\u001b[0;32m    216\u001b[0m \u001b[38;5;28;01melse\u001b[39;00m:\n",
      "File \u001b[1;32m~\\anaconda3\\lib\\site-packages\\scipy\\sparse\\base.py:433\u001b[0m, in \u001b[0;36mspmatrix.__sub__\u001b[1;34m(self, other)\u001b[0m\n\u001b[0;32m    431\u001b[0m \u001b[38;5;28;01melif\u001b[39;00m isspmatrix(other):\n\u001b[0;32m    432\u001b[0m     \u001b[38;5;28;01mif\u001b[39;00m other\u001b[38;5;241m.\u001b[39mshape \u001b[38;5;241m!=\u001b[39m \u001b[38;5;28mself\u001b[39m\u001b[38;5;241m.\u001b[39mshape:\n\u001b[1;32m--> 433\u001b[0m         \u001b[38;5;28;01mraise\u001b[39;00m \u001b[38;5;167;01mValueError\u001b[39;00m(\u001b[38;5;124m\"\u001b[39m\u001b[38;5;124minconsistent shapes\u001b[39m\u001b[38;5;124m\"\u001b[39m)\n\u001b[0;32m    434\u001b[0m     \u001b[38;5;28;01mreturn\u001b[39;00m \u001b[38;5;28mself\u001b[39m\u001b[38;5;241m.\u001b[39m_sub_sparse(other)\n\u001b[0;32m    435\u001b[0m \u001b[38;5;28;01melif\u001b[39;00m isdense(other):\n",
      "\u001b[1;31mValueError\u001b[0m: inconsistent shapes"
     ]
    }
   ],
   "source": [
    "encoded_model.score(X_test, y_test)"
   ]
  },
  {
   "cell_type": "code",
   "execution_count": 61,
   "id": "384fab8c",
   "metadata": {},
   "outputs": [
    {
     "data": {
      "text/html": [
       "<div>\n",
       "<style scoped>\n",
       "    .dataframe tbody tr th:only-of-type {\n",
       "        vertical-align: middle;\n",
       "    }\n",
       "\n",
       "    .dataframe tbody tr th {\n",
       "        vertical-align: top;\n",
       "    }\n",
       "\n",
       "    .dataframe thead th {\n",
       "        text-align: right;\n",
       "    }\n",
       "</style>\n",
       "<table border=\"1\" class=\"dataframe\">\n",
       "  <thead>\n",
       "    <tr style=\"text-align: right;\">\n",
       "      <th></th>\n",
       "      <th>0</th>\n",
       "      <th>1</th>\n",
       "      <th>2</th>\n",
       "      <th>3</th>\n",
       "      <th>6</th>\n",
       "    </tr>\n",
       "    <tr>\n",
       "      <th>DEPT</th>\n",
       "      <th></th>\n",
       "      <th></th>\n",
       "      <th></th>\n",
       "      <th></th>\n",
       "      <th></th>\n",
       "    </tr>\n",
       "  </thead>\n",
       "  <tbody>\n",
       "    <tr>\n",
       "      <th>1999.9284</th>\n",
       "      <td>0</td>\n",
       "      <td>0</td>\n",
       "      <td>0</td>\n",
       "      <td>1</td>\n",
       "      <td>0</td>\n",
       "    </tr>\n",
       "    <tr>\n",
       "      <th>2000.0804</th>\n",
       "      <td>0</td>\n",
       "      <td>0</td>\n",
       "      <td>0</td>\n",
       "      <td>1</td>\n",
       "      <td>0</td>\n",
       "    </tr>\n",
       "    <tr>\n",
       "      <th>2000.2324</th>\n",
       "      <td>0</td>\n",
       "      <td>0</td>\n",
       "      <td>0</td>\n",
       "      <td>1</td>\n",
       "      <td>0</td>\n",
       "    </tr>\n",
       "    <tr>\n",
       "      <th>2000.3844</th>\n",
       "      <td>0</td>\n",
       "      <td>0</td>\n",
       "      <td>0</td>\n",
       "      <td>1</td>\n",
       "      <td>0</td>\n",
       "    </tr>\n",
       "    <tr>\n",
       "      <th>2000.5364</th>\n",
       "      <td>0</td>\n",
       "      <td>0</td>\n",
       "      <td>0</td>\n",
       "      <td>1</td>\n",
       "      <td>0</td>\n",
       "    </tr>\n",
       "  </tbody>\n",
       "</table>\n",
       "</div>"
      ],
      "text/plain": [
       "           0  1  2  3  6\n",
       "DEPT                    \n",
       "1999.9284  0  0  0  1  0\n",
       "2000.0804  0  0  0  1  0\n",
       "2000.2324  0  0  0  1  0\n",
       "2000.3844  0  0  0  1  0\n",
       "2000.5364  0  0  0  1  0"
      ]
     },
     "execution_count": 61,
     "metadata": {},
     "output_type": "execute_result"
    }
   ],
   "source": [
    "y_test.head()"
   ]
  },
  {
   "cell_type": "code",
   "execution_count": 62,
   "id": "f7a1a55b",
   "metadata": {},
   "outputs": [
    {
     "data": {
      "text/html": [
       "<div>\n",
       "<style scoped>\n",
       "    .dataframe tbody tr th:only-of-type {\n",
       "        vertical-align: middle;\n",
       "    }\n",
       "\n",
       "    .dataframe tbody tr th {\n",
       "        vertical-align: top;\n",
       "    }\n",
       "\n",
       "    .dataframe thead th {\n",
       "        text-align: right;\n",
       "    }\n",
       "</style>\n",
       "<table border=\"1\" class=\"dataframe\">\n",
       "  <thead>\n",
       "    <tr style=\"text-align: right;\">\n",
       "      <th></th>\n",
       "      <th>0</th>\n",
       "      <th>1</th>\n",
       "      <th>2</th>\n",
       "      <th>3</th>\n",
       "      <th>4</th>\n",
       "      <th>5</th>\n",
       "      <th>6</th>\n",
       "      <th>7</th>\n",
       "    </tr>\n",
       "    <tr>\n",
       "      <th>DEPT</th>\n",
       "      <th></th>\n",
       "      <th></th>\n",
       "      <th></th>\n",
       "      <th></th>\n",
       "      <th></th>\n",
       "      <th></th>\n",
       "      <th></th>\n",
       "      <th></th>\n",
       "    </tr>\n",
       "  </thead>\n",
       "  <tbody>\n",
       "    <tr>\n",
       "      <th>494.528</th>\n",
       "      <td>0</td>\n",
       "      <td>1</td>\n",
       "      <td>0</td>\n",
       "      <td>0</td>\n",
       "      <td>0</td>\n",
       "      <td>0</td>\n",
       "      <td>0</td>\n",
       "      <td>0</td>\n",
       "    </tr>\n",
       "    <tr>\n",
       "      <th>494.680</th>\n",
       "      <td>0</td>\n",
       "      <td>1</td>\n",
       "      <td>0</td>\n",
       "      <td>0</td>\n",
       "      <td>0</td>\n",
       "      <td>0</td>\n",
       "      <td>0</td>\n",
       "      <td>0</td>\n",
       "    </tr>\n",
       "    <tr>\n",
       "      <th>494.832</th>\n",
       "      <td>0</td>\n",
       "      <td>1</td>\n",
       "      <td>0</td>\n",
       "      <td>0</td>\n",
       "      <td>0</td>\n",
       "      <td>0</td>\n",
       "      <td>0</td>\n",
       "      <td>0</td>\n",
       "    </tr>\n",
       "    <tr>\n",
       "      <th>494.984</th>\n",
       "      <td>0</td>\n",
       "      <td>1</td>\n",
       "      <td>0</td>\n",
       "      <td>0</td>\n",
       "      <td>0</td>\n",
       "      <td>0</td>\n",
       "      <td>0</td>\n",
       "      <td>0</td>\n",
       "    </tr>\n",
       "    <tr>\n",
       "      <th>495.136</th>\n",
       "      <td>0</td>\n",
       "      <td>1</td>\n",
       "      <td>0</td>\n",
       "      <td>0</td>\n",
       "      <td>0</td>\n",
       "      <td>0</td>\n",
       "      <td>0</td>\n",
       "      <td>0</td>\n",
       "    </tr>\n",
       "  </tbody>\n",
       "</table>\n",
       "</div>"
      ],
      "text/plain": [
       "         0  1  2  3  4  5  6  7\n",
       "DEPT                           \n",
       "494.528  0  1  0  0  0  0  0  0\n",
       "494.680  0  1  0  0  0  0  0  0\n",
       "494.832  0  1  0  0  0  0  0  0\n",
       "494.984  0  1  0  0  0  0  0  0\n",
       "495.136  0  1  0  0  0  0  0  0"
      ]
     },
     "execution_count": 62,
     "metadata": {},
     "output_type": "execute_result"
    }
   ],
   "source": [
    "y_train.head()"
   ]
  },
  {
   "cell_type": "code",
   "execution_count": 63,
   "id": "822a052c",
   "metadata": {},
   "outputs": [
    {
     "name": "stderr",
     "output_type": "stream",
     "text": [
      "C:\\Users\\Manny\\AppData\\Local\\Temp\\ipykernel_12104\\2469534406.py:3: SettingWithCopyWarning: \n",
      "A value is trying to be set on a copy of a slice from a DataFrame.\n",
      "Try using .loc[row_indexer,col_indexer] = value instead\n",
      "\n",
      "See the caveats in the documentation: https://pandas.pydata.org/pandas-docs/stable/user_guide/indexing.html#returning-a-view-versus-a-copy\n",
      "  y_test[col] = 0  # Fill new columns with zeros\n",
      "C:\\Users\\Manny\\AppData\\Local\\Temp\\ipykernel_12104\\2469534406.py:3: SettingWithCopyWarning: \n",
      "A value is trying to be set on a copy of a slice from a DataFrame.\n",
      "Try using .loc[row_indexer,col_indexer] = value instead\n",
      "\n",
      "See the caveats in the documentation: https://pandas.pydata.org/pandas-docs/stable/user_guide/indexing.html#returning-a-view-versus-a-copy\n",
      "  y_test[col] = 0  # Fill new columns with zeros\n",
      "C:\\Users\\Manny\\AppData\\Local\\Temp\\ipykernel_12104\\2469534406.py:3: SettingWithCopyWarning: \n",
      "A value is trying to be set on a copy of a slice from a DataFrame.\n",
      "Try using .loc[row_indexer,col_indexer] = value instead\n",
      "\n",
      "See the caveats in the documentation: https://pandas.pydata.org/pandas-docs/stable/user_guide/indexing.html#returning-a-view-versus-a-copy\n",
      "  y_test[col] = 0  # Fill new columns with zeros\n"
     ]
    }
   ],
   "source": [
    "new_cols = [4, 5, 7]\n",
    "for col in new_cols:\n",
    "    y_test[col] = 0  # Fill new columns with zeros"
   ]
  },
  {
   "cell_type": "code",
   "execution_count": 64,
   "id": "b4654fb6",
   "metadata": {},
   "outputs": [
    {
     "name": "stdout",
     "output_type": "stream",
     "text": [
      "<class 'pandas.core.frame.DataFrame'>\n",
      "Float64Index: 7840 entries, 1999.9284 to 3191.6084\n",
      "Data columns (total 8 columns):\n",
      " #   Column  Non-Null Count  Dtype\n",
      "---  ------  --------------  -----\n",
      " 0   0       7840 non-null   uint8\n",
      " 1   1       7840 non-null   uint8\n",
      " 2   2       7840 non-null   uint8\n",
      " 3   3       7840 non-null   uint8\n",
      " 4   6       7840 non-null   uint8\n",
      " 5   4       7840 non-null   int64\n",
      " 6   5       7840 non-null   int64\n",
      " 7   7       7840 non-null   int64\n",
      "dtypes: int64(3), uint8(5)\n",
      "memory usage: 283.3 KB\n"
     ]
    }
   ],
   "source": [
    "y_test.info()"
   ]
  },
  {
   "cell_type": "code",
   "execution_count": 65,
   "id": "57a8b62a",
   "metadata": {},
   "outputs": [
    {
     "data": {
      "text/plain": [
       "(7840, 8)"
      ]
     },
     "execution_count": 65,
     "metadata": {},
     "output_type": "execute_result"
    }
   ],
   "source": [
    "y_test.shape"
   ]
  },
  {
   "cell_type": "code",
   "execution_count": 66,
   "id": "03808a45",
   "metadata": {},
   "outputs": [
    {
     "data": {
      "text/plain": [
       "0.6933673469387756"
      ]
     },
     "execution_count": 66,
     "metadata": {},
     "output_type": "execute_result"
    }
   ],
   "source": [
    "encoded_model.score(X_test, y_test)"
   ]
  },
  {
   "cell_type": "code",
   "execution_count": 67,
   "id": "7bf08af8",
   "metadata": {},
   "outputs": [],
   "source": [
    "y_preds = encoded_model.predict(X_test)"
   ]
  },
  {
   "cell_type": "code",
   "execution_count": 68,
   "id": "6e72d629",
   "metadata": {},
   "outputs": [],
   "source": [
    "from sklearn.metrics import accuracy_score, precision_score, recall_score, f1_score"
   ]
  },
  {
   "cell_type": "code",
   "execution_count": 69,
   "id": "ba8fa78d",
   "metadata": {},
   "outputs": [],
   "source": [
    "def evaluate_preds(y_true, y_preds):\n",
    "    \"\"\"\n",
    "    Performs evaluation comparison on y_true labels vs. y_pred\n",
    "    \"\"\"\n",
    "    \n",
    "    accuracy = accuracy_score(y_true, y_preds)\n",
    "    precision = precision_score(y_true, y_preds, average='micro')\n",
    "    recall = recall_score(y_true, y_preds, average='micro')\n",
    "    f1 = f1_score(y_true, y_preds, average='micro')\n",
    "    metric_dict = {\"accuracy\": round(accuracy, 2),\n",
    "                  \"precision\": round(precision, 2),\n",
    "                  \"recall\": round(recall, 2),\n",
    "                  \"f1\": round(f1, 2)}\n",
    "    print(f\"Acc: {accuracy * 100:.2f}%\")\n",
    "    print(f\"Precision: {precision:.2f}\")\n",
    "    print(f\"Recall: {recall:.2f}\")\n",
    "    print(f\"F1 score: {f1:.2f}\")\n",
    "    \n",
    "    return metric_dict"
   ]
  },
  {
   "cell_type": "code",
   "execution_count": 70,
   "id": "7c00f8b4",
   "metadata": {},
   "outputs": [
    {
     "name": "stdout",
     "output_type": "stream",
     "text": [
      "Acc: 69.34%\n",
      "Precision: 0.80\n",
      "Recall: 0.73\n",
      "F1 score: 0.76\n"
     ]
    },
    {
     "data": {
      "text/plain": [
       "{'accuracy': 0.69, 'precision': 0.8, 'recall': 0.73, 'f1': 0.76}"
      ]
     },
     "execution_count": 70,
     "metadata": {},
     "output_type": "execute_result"
    }
   ],
   "source": [
    "baseline_metrics = evaluate_preds(y_test, y_preds)\n",
    "baseline_metrics"
   ]
  },
  {
   "cell_type": "markdown",
   "id": "430db969",
   "metadata": {},
   "source": [
    "### Adjust Hyper Parameter for new model"
   ]
  },
  {
   "cell_type": "code",
   "execution_count": 71,
   "id": "2a9a7984",
   "metadata": {},
   "outputs": [],
   "source": [
    "xgb_clf_2 = xgb.XGBClassifier(max_depth=10, n_estimators=100)"
   ]
  },
  {
   "cell_type": "code",
   "execution_count": 72,
   "id": "255ab7e5",
   "metadata": {
    "scrolled": true
   },
   "outputs": [],
   "source": [
    "xgb_clf_2.fit(X_train, y_train)\n",
    "y_preds_2 = xgb_clf_2.predict(X_test)"
   ]
  },
  {
   "cell_type": "code",
   "execution_count": 73,
   "id": "ed4cbe9c",
   "metadata": {},
   "outputs": [
    {
     "name": "stdout",
     "output_type": "stream",
     "text": [
      "Acc: 49.23%\n",
      "Precision: 0.68\n",
      "Recall: 0.61\n",
      "F1 score: 0.64\n"
     ]
    },
    {
     "data": {
      "text/plain": [
       "{'accuracy': 0.49, 'precision': 0.68, 'recall': 0.61, 'f1': 0.64}"
      ]
     },
     "execution_count": 73,
     "metadata": {},
     "output_type": "execute_result"
    }
   ],
   "source": [
    "clf_2_metrics = evaluate_preds(y_test, y_preds_2)\n",
    "clf_2_metrics"
   ]
  },
  {
   "cell_type": "markdown",
   "id": "01de25a0",
   "metadata": {},
   "source": [
    "## Hyper Parameter Optimization"
   ]
  },
  {
   "cell_type": "code",
   "execution_count": 74,
   "id": "5b17d4ec",
   "metadata": {},
   "outputs": [],
   "source": [
    "params={\n",
    "    \"learning_rate\": [0.05, 0.10, 0.15, 0.20, 0.25, 0.30 ],\n",
    "    \"max_depth\": [ 3, 4, 5, 6, 8, 10, 12, 15],\n",
    "    \"min_child_weight\": [ 1, 3, 5, 7 ],\n",
    "    \"gamma\": [ 0.0, 0.1, 0.2 , 0.3, 0.4 ],\n",
    "    \"colsample_bytree\": [ 0.3, 0.4, 0.5 , 0.7 ]\n",
    "}"
   ]
  },
  {
   "cell_type": "markdown",
   "id": "9c24af24",
   "metadata": {},
   "source": [
    "### Using RandomizedSearchCV to highlight the best params combination"
   ]
  },
  {
   "cell_type": "code",
   "execution_count": 75,
   "id": "d6548188",
   "metadata": {},
   "outputs": [],
   "source": [
    "from sklearn.model_selection import RandomizedSearchCV, GridSearchCV"
   ]
  },
  {
   "cell_type": "code",
   "execution_count": 76,
   "id": "997cf8d8",
   "metadata": {},
   "outputs": [],
   "source": [
    "random_search = RandomizedSearchCV(encoded_model, param_distributions=params, n_iter=5, scoring=\"roc_auc\", n_jobs=-1, cv=5, verbose=3)"
   ]
  },
  {
   "cell_type": "code",
   "execution_count": 77,
   "id": "a4b444b8",
   "metadata": {},
   "outputs": [
    {
     "data": {
      "text/plain": [
       "RandomizedSearchCV(cv=5,\n",
       "                   estimator=XGBClassifier(base_score=None, booster=None,\n",
       "                                           callbacks=None,\n",
       "                                           colsample_bylevel=None,\n",
       "                                           colsample_bynode=None,\n",
       "                                           colsample_bytree=None, device=None,\n",
       "                                           early_stopping_rounds=None,\n",
       "                                           enable_categorical=False,\n",
       "                                           eval_metric=None, feature_types=None,\n",
       "                                           gamma=None, grow_policy=None,\n",
       "                                           importance_type=None,\n",
       "                                           interaction_constraints=None,\n",
       "                                           learning_rate...\n",
       "                                           monotone_constraints=None,\n",
       "                                           multi_strategy=None,\n",
       "                                           n_estimators=None, n_jobs=None,\n",
       "                                           num_parallel_tree=None,\n",
       "                                           random_state=None, ...),\n",
       "                   n_iter=5, n_jobs=-1,\n",
       "                   param_distributions={'colsample_bytree': [0.3, 0.4, 0.5,\n",
       "                                                             0.7],\n",
       "                                        'gamma': [0.0, 0.1, 0.2, 0.3, 0.4],\n",
       "                                        'learning_rate': [0.05, 0.1, 0.15, 0.2,\n",
       "                                                          0.25, 0.3],\n",
       "                                        'max_depth': [3, 4, 5, 6, 8, 10, 12,\n",
       "                                                      15],\n",
       "                                        'min_child_weight': [1, 3, 5, 7]},\n",
       "                   scoring='roc_auc', verbose=3)"
      ]
     },
     "execution_count": 77,
     "metadata": {},
     "output_type": "execute_result"
    }
   ],
   "source": [
    "random_search"
   ]
  },
  {
   "cell_type": "code",
   "execution_count": 78,
   "id": "fc984570",
   "metadata": {},
   "outputs": [
    {
     "name": "stdout",
     "output_type": "stream",
     "text": [
      "Fitting 5 folds for each of 5 candidates, totalling 25 fits\n"
     ]
    },
    {
     "name": "stderr",
     "output_type": "stream",
     "text": [
      "C:\\Users\\Manny\\anaconda3\\lib\\site-packages\\sklearn\\model_selection\\_search.py:969: UserWarning: One or more of the test scores are non-finite: [nan nan nan nan nan]\n",
      "  warnings.warn(\n"
     ]
    },
    {
     "data": {
      "text/plain": [
       "RandomizedSearchCV(cv=5,\n",
       "                   estimator=XGBClassifier(base_score=None, booster=None,\n",
       "                                           callbacks=None,\n",
       "                                           colsample_bylevel=None,\n",
       "                                           colsample_bynode=None,\n",
       "                                           colsample_bytree=None, device=None,\n",
       "                                           early_stopping_rounds=None,\n",
       "                                           enable_categorical=False,\n",
       "                                           eval_metric=None, feature_types=None,\n",
       "                                           gamma=None, grow_policy=None,\n",
       "                                           importance_type=None,\n",
       "                                           interaction_constraints=None,\n",
       "                                           learning_rate...\n",
       "                                           monotone_constraints=None,\n",
       "                                           multi_strategy=None,\n",
       "                                           n_estimators=None, n_jobs=None,\n",
       "                                           num_parallel_tree=None,\n",
       "                                           random_state=None, ...),\n",
       "                   n_iter=5, n_jobs=-1,\n",
       "                   param_distributions={'colsample_bytree': [0.3, 0.4, 0.5,\n",
       "                                                             0.7],\n",
       "                                        'gamma': [0.0, 0.1, 0.2, 0.3, 0.4],\n",
       "                                        'learning_rate': [0.05, 0.1, 0.15, 0.2,\n",
       "                                                          0.25, 0.3],\n",
       "                                        'max_depth': [3, 4, 5, 6, 8, 10, 12,\n",
       "                                                      15],\n",
       "                                        'min_child_weight': [1, 3, 5, 7]},\n",
       "                   scoring='roc_auc', verbose=3)"
      ]
     },
     "execution_count": 78,
     "metadata": {},
     "output_type": "execute_result"
    }
   ],
   "source": [
    "random_search.fit(X_train, y_train)"
   ]
  },
  {
   "cell_type": "code",
   "execution_count": 79,
   "id": "901712d3",
   "metadata": {},
   "outputs": [
    {
     "data": {
      "text/plain": [
       "{'min_child_weight': 7,\n",
       " 'max_depth': 5,\n",
       " 'learning_rate': 0.25,\n",
       " 'gamma': 0.3,\n",
       " 'colsample_bytree': 0.4}"
      ]
     },
     "execution_count": 79,
     "metadata": {},
     "output_type": "execute_result"
    }
   ],
   "source": [
    "random_search.best_params_"
   ]
  },
  {
   "cell_type": "code",
   "execution_count": 80,
   "id": "f16e5618",
   "metadata": {},
   "outputs": [
    {
     "name": "stdout",
     "output_type": "stream",
     "text": [
      "Acc: 68.65%\n",
      "Precision: 0.83\n",
      "Recall: 0.71\n",
      "F1 score: 0.77\n"
     ]
    }
   ],
   "source": [
    "rs_y_preds = random_search.predict(X_test)\n",
    "rs_metrics = evaluate_preds(y_test, rs_y_preds)"
   ]
  },
  {
   "cell_type": "code",
   "execution_count": 81,
   "id": "29c2631f",
   "metadata": {},
   "outputs": [
    {
     "data": {
      "text/html": [
       "<div>\n",
       "<style scoped>\n",
       "    .dataframe tbody tr th:only-of-type {\n",
       "        vertical-align: middle;\n",
       "    }\n",
       "\n",
       "    .dataframe tbody tr th {\n",
       "        vertical-align: top;\n",
       "    }\n",
       "\n",
       "    .dataframe thead th {\n",
       "        text-align: right;\n",
       "    }\n",
       "</style>\n",
       "<table border=\"1\" class=\"dataframe\">\n",
       "  <thead>\n",
       "    <tr style=\"text-align: right;\">\n",
       "      <th></th>\n",
       "      <th>FORCE_2020_LITHOFACIES_CONFIDENCE</th>\n",
       "      <th>FORCE_2020_LITHOFACIES_LITHOLOGY</th>\n",
       "      <th>CALI</th>\n",
       "      <th>ROP</th>\n",
       "      <th>RDEP</th>\n",
       "      <th>RMED</th>\n",
       "      <th>DTC</th>\n",
       "      <th>NPHI</th>\n",
       "      <th>GR</th>\n",
       "      <th>DEPTH_MD</th>\n",
       "      <th>X_LOC</th>\n",
       "      <th>Y_LOC</th>\n",
       "      <th>Z_LOC</th>\n",
       "    </tr>\n",
       "    <tr>\n",
       "      <th>DEPT</th>\n",
       "      <th></th>\n",
       "      <th></th>\n",
       "      <th></th>\n",
       "      <th></th>\n",
       "      <th></th>\n",
       "      <th></th>\n",
       "      <th></th>\n",
       "      <th></th>\n",
       "      <th></th>\n",
       "      <th></th>\n",
       "      <th></th>\n",
       "      <th></th>\n",
       "      <th></th>\n",
       "    </tr>\n",
       "  </thead>\n",
       "  <tbody>\n",
       "    <tr>\n",
       "      <th>494.528</th>\n",
       "      <td>1.0</td>\n",
       "      <td>1</td>\n",
       "      <td>19.480835</td>\n",
       "      <td>34.636410</td>\n",
       "      <td>1.798681</td>\n",
       "      <td>1.611410</td>\n",
       "      <td>161.131180</td>\n",
       "      <td>NaN</td>\n",
       "      <td>80.200851</td>\n",
       "      <td>494.528015</td>\n",
       "      <td>437641.96875</td>\n",
       "      <td>6470972.5</td>\n",
       "      <td>-469.501831</td>\n",
       "    </tr>\n",
       "    <tr>\n",
       "      <th>494.680</th>\n",
       "      <td>1.0</td>\n",
       "      <td>1</td>\n",
       "      <td>19.468800</td>\n",
       "      <td>34.636410</td>\n",
       "      <td>1.795641</td>\n",
       "      <td>1.618070</td>\n",
       "      <td>160.603470</td>\n",
       "      <td>NaN</td>\n",
       "      <td>79.262886</td>\n",
       "      <td>494.679993</td>\n",
       "      <td>437641.96875</td>\n",
       "      <td>6470972.5</td>\n",
       "      <td>-469.653809</td>\n",
       "    </tr>\n",
       "    <tr>\n",
       "      <th>494.832</th>\n",
       "      <td>1.0</td>\n",
       "      <td>1</td>\n",
       "      <td>19.468800</td>\n",
       "      <td>34.779556</td>\n",
       "      <td>1.800733</td>\n",
       "      <td>1.626459</td>\n",
       "      <td>160.173615</td>\n",
       "      <td>NaN</td>\n",
       "      <td>74.821999</td>\n",
       "      <td>494.832001</td>\n",
       "      <td>437641.96875</td>\n",
       "      <td>6470972.5</td>\n",
       "      <td>-469.805786</td>\n",
       "    </tr>\n",
       "    <tr>\n",
       "      <th>494.984</th>\n",
       "      <td>1.0</td>\n",
       "      <td>1</td>\n",
       "      <td>19.459282</td>\n",
       "      <td>39.965164</td>\n",
       "      <td>1.801517</td>\n",
       "      <td>1.621594</td>\n",
       "      <td>160.149429</td>\n",
       "      <td>NaN</td>\n",
       "      <td>72.878922</td>\n",
       "      <td>494.984009</td>\n",
       "      <td>437641.96875</td>\n",
       "      <td>6470972.5</td>\n",
       "      <td>-469.957794</td>\n",
       "    </tr>\n",
       "    <tr>\n",
       "      <th>495.136</th>\n",
       "      <td>1.0</td>\n",
       "      <td>1</td>\n",
       "      <td>19.453100</td>\n",
       "      <td>57.483765</td>\n",
       "      <td>1.795299</td>\n",
       "      <td>1.602679</td>\n",
       "      <td>160.128342</td>\n",
       "      <td>NaN</td>\n",
       "      <td>71.729141</td>\n",
       "      <td>495.135986</td>\n",
       "      <td>437641.96875</td>\n",
       "      <td>6470972.5</td>\n",
       "      <td>-470.109772</td>\n",
       "    </tr>\n",
       "  </tbody>\n",
       "</table>\n",
       "</div>"
      ],
      "text/plain": [
       "         FORCE_2020_LITHOFACIES_CONFIDENCE  FORCE_2020_LITHOFACIES_LITHOLOGY  \\\n",
       "DEPT                                                                           \n",
       "494.528                                1.0                                 1   \n",
       "494.680                                1.0                                 1   \n",
       "494.832                                1.0                                 1   \n",
       "494.984                                1.0                                 1   \n",
       "495.136                                1.0                                 1   \n",
       "\n",
       "              CALI        ROP      RDEP      RMED         DTC  NPHI  \\\n",
       "DEPT                                                                  \n",
       "494.528  19.480835  34.636410  1.798681  1.611410  161.131180   NaN   \n",
       "494.680  19.468800  34.636410  1.795641  1.618070  160.603470   NaN   \n",
       "494.832  19.468800  34.779556  1.800733  1.626459  160.173615   NaN   \n",
       "494.984  19.459282  39.965164  1.801517  1.621594  160.149429   NaN   \n",
       "495.136  19.453100  57.483765  1.795299  1.602679  160.128342   NaN   \n",
       "\n",
       "                GR    DEPTH_MD         X_LOC      Y_LOC       Z_LOC  \n",
       "DEPT                                                                 \n",
       "494.528  80.200851  494.528015  437641.96875  6470972.5 -469.501831  \n",
       "494.680  79.262886  494.679993  437641.96875  6470972.5 -469.653809  \n",
       "494.832  74.821999  494.832001  437641.96875  6470972.5 -469.805786  \n",
       "494.984  72.878922  494.984009  437641.96875  6470972.5 -469.957794  \n",
       "495.136  71.729141  495.135986  437641.96875  6470972.5 -470.109772  "
      ]
     },
     "execution_count": 81,
     "metadata": {},
     "output_type": "execute_result"
    }
   ],
   "source": [
    "merged_df.head()"
   ]
  },
  {
   "cell_type": "code",
   "execution_count": 82,
   "id": "9022c97b",
   "metadata": {},
   "outputs": [
    {
     "data": {
      "text/plain": [
       "<IntegerArray>\n",
       "[1, 0, 2, 3, 8, 6, 7, 5, 4]\n",
       "Length: 9, dtype: Int64"
      ]
     },
     "execution_count": 82,
     "metadata": {},
     "output_type": "execute_result"
    }
   ],
   "source": [
    "merged_df[\"FORCE_2020_LITHOFACIES_LITHOLOGY\"].unique()"
   ]
  },
  {
   "cell_type": "markdown",
   "id": "743c193e",
   "metadata": {},
   "source": [
    "## Import RandomForestClassifier model"
   ]
  },
  {
   "cell_type": "code",
   "execution_count": 83,
   "id": "84c76f73",
   "metadata": {},
   "outputs": [],
   "source": [
    "from sklearn.ensemble import RandomForestClassifier"
   ]
  },
  {
   "cell_type": "code",
   "execution_count": 84,
   "id": "824a450e",
   "metadata": {},
   "outputs": [],
   "source": [
    "clf = RandomForestClassifier(n_estimators=100)"
   ]
  },
  {
   "cell_type": "code",
   "execution_count": 85,
   "id": "1f12ede7",
   "metadata": {},
   "outputs": [],
   "source": [
    "### Split into train and test dataset"
   ]
  },
  {
   "cell_type": "code",
   "execution_count": 86,
   "id": "90832c33",
   "metadata": {},
   "outputs": [
    {
     "data": {
      "text/plain": [
       "(42009, 13)"
      ]
     },
     "execution_count": 86,
     "metadata": {},
     "output_type": "execute_result"
    }
   ],
   "source": [
    "merged_df.shape"
   ]
  },
  {
   "cell_type": "code",
   "execution_count": 87,
   "id": "fdd455ff",
   "metadata": {},
   "outputs": [
    {
     "data": {
      "text/plain": [
       "(7840, 13)"
      ]
     },
     "execution_count": 87,
     "metadata": {},
     "output_type": "execute_result"
    }
   ],
   "source": [
    "test_df.shape"
   ]
  },
  {
   "cell_type": "code",
   "execution_count": 88,
   "id": "405dfb50",
   "metadata": {},
   "outputs": [
    {
     "data": {
      "text/plain": [
       "FORCE_2020_LITHOFACIES_CONFIDENCE       6\n",
       "FORCE_2020_LITHOFACIES_LITHOLOGY        0\n",
       "CALI                                    0\n",
       "ROP                                   179\n",
       "RDEP                                    0\n",
       "RMED                                   41\n",
       "DTC                                   193\n",
       "NPHI                                 9731\n",
       "GR                                      9\n",
       "DEPTH_MD                                0\n",
       "X_LOC                                   0\n",
       "Y_LOC                                   0\n",
       "Z_LOC                                   0\n",
       "dtype: int64"
      ]
     },
     "execution_count": 88,
     "metadata": {},
     "output_type": "execute_result"
    }
   ],
   "source": [
    "merged_df.isna().sum()"
   ]
  },
  {
   "cell_type": "code",
   "execution_count": 89,
   "id": "e3fa50fc",
   "metadata": {},
   "outputs": [
    {
     "data": {
      "text/plain": [
       "FORCE_2020_LITHOFACIES_CONFIDENCE      0\n",
       "FORCE_2020_LITHOFACIES_LITHOLOGY       0\n",
       "CALI                                   0\n",
       "ROP                                    0\n",
       "RDEP                                   0\n",
       "RMED                                   0\n",
       "DTC                                  154\n",
       "NPHI                                  28\n",
       "GR                                     0\n",
       "DEPTH_MD                               0\n",
       "X_LOC                                  0\n",
       "Y_LOC                                  0\n",
       "Z_LOC                                  0\n",
       "dtype: int64"
      ]
     },
     "execution_count": 89,
     "metadata": {},
     "output_type": "execute_result"
    }
   ],
   "source": [
    "test_df.isna().sum()"
   ]
  },
  {
   "cell_type": "code",
   "execution_count": 90,
   "id": "42655d78",
   "metadata": {},
   "outputs": [
    {
     "data": {
      "text/plain": [
       "FORCE_2020_LITHOFACIES_CONFIDENCE    0\n",
       "FORCE_2020_LITHOFACIES_LITHOLOGY     0\n",
       "CALI                                 0\n",
       "ROP                                  0\n",
       "RDEP                                 0\n",
       "RMED                                 0\n",
       "DTC                                  0\n",
       "NPHI                                 0\n",
       "GR                                   0\n",
       "DEPTH_MD                             0\n",
       "X_LOC                                0\n",
       "Y_LOC                                0\n",
       "Z_LOC                                0\n",
       "dtype: int64"
      ]
     },
     "execution_count": 90,
     "metadata": {},
     "output_type": "execute_result"
    }
   ],
   "source": [
    "merged_df.dropna(inplace=True)\n",
    "merged_df.isna().sum()"
   ]
  },
  {
   "cell_type": "code",
   "execution_count": 91,
   "id": "6a62b9d1",
   "metadata": {},
   "outputs": [
    {
     "data": {
      "text/plain": [
       "FORCE_2020_LITHOFACIES_CONFIDENCE    0\n",
       "FORCE_2020_LITHOFACIES_LITHOLOGY     0\n",
       "CALI                                 0\n",
       "ROP                                  0\n",
       "RDEP                                 0\n",
       "RMED                                 0\n",
       "DTC                                  0\n",
       "NPHI                                 0\n",
       "GR                                   0\n",
       "DEPTH_MD                             0\n",
       "X_LOC                                0\n",
       "Y_LOC                                0\n",
       "Z_LOC                                0\n",
       "dtype: int64"
      ]
     },
     "execution_count": 91,
     "metadata": {},
     "output_type": "execute_result"
    }
   ],
   "source": [
    "test_df.dropna(inplace=True)\n",
    "test_df.isna().sum()"
   ]
  },
  {
   "cell_type": "markdown",
   "id": "e2e95b38",
   "metadata": {},
   "source": [
    "### Split dataset into X_train and y_train"
   ]
  },
  {
   "cell_type": "code",
   "execution_count": 92,
   "id": "b9c08ae2",
   "metadata": {},
   "outputs": [],
   "source": [
    "X_train = merged_df.drop(\"FORCE_2020_LITHOFACIES_LITHOLOGY\", axis=1)\n",
    "y_train = merged_df[\"FORCE_2020_LITHOFACIES_LITHOLOGY\"]"
   ]
  },
  {
   "cell_type": "code",
   "execution_count": 93,
   "id": "12640989",
   "metadata": {},
   "outputs": [],
   "source": [
    "X_test = test_df.drop(\"FORCE_2020_LITHOFACIES_LITHOLOGY\", axis=1)\n",
    "y_test = test_df[\"FORCE_2020_LITHOFACIES_LITHOLOGY\"]"
   ]
  },
  {
   "cell_type": "code",
   "execution_count": 94,
   "id": "4da587f2",
   "metadata": {},
   "outputs": [
    {
     "name": "stdout",
     "output_type": "stream",
     "text": [
      "<class 'pandas.core.series.Series'>\n",
      "Float64Index: 31934 entries, 1138.704 to 2450.4757289\n",
      "Series name: FORCE_2020_LITHOFACIES_LITHOLOGY\n",
      "Non-Null Count  Dtype\n",
      "--------------  -----\n",
      "31934 non-null  Int64\n",
      "dtypes: Int64(1)\n",
      "memory usage: 530.2 KB\n"
     ]
    }
   ],
   "source": [
    "y_train.info()"
   ]
  },
  {
   "cell_type": "code",
   "execution_count": 95,
   "id": "eb93078d",
   "metadata": {},
   "outputs": [],
   "source": [
    "y_train = y_train.astype('int')"
   ]
  },
  {
   "cell_type": "code",
   "execution_count": 96,
   "id": "cf591b68",
   "metadata": {},
   "outputs": [],
   "source": [
    "y_test = y_test.astype('int')"
   ]
  },
  {
   "cell_type": "code",
   "execution_count": 97,
   "id": "fb9f44c7",
   "metadata": {},
   "outputs": [
    {
     "name": "stdout",
     "output_type": "stream",
     "text": [
      "<class 'pandas.core.series.Series'>\n",
      "Float64Index: 7682 entries, 1999.9284 to 3168.2004\n",
      "Series name: FORCE_2020_LITHOFACIES_LITHOLOGY\n",
      "Non-Null Count  Dtype\n",
      "--------------  -----\n",
      "7682 non-null   int32\n",
      "dtypes: int32(1)\n",
      "memory usage: 90.0 KB\n"
     ]
    }
   ],
   "source": [
    "y_test.info()"
   ]
  },
  {
   "cell_type": "code",
   "execution_count": 98,
   "id": "f04d3c22",
   "metadata": {
    "scrolled": false
   },
   "outputs": [
    {
     "data": {
      "text/plain": [
       "RandomForestClassifier()"
      ]
     },
     "execution_count": 98,
     "metadata": {},
     "output_type": "execute_result"
    }
   ],
   "source": [
    "clf.fit(X_train, y_train)"
   ]
  },
  {
   "cell_type": "code",
   "execution_count": 99,
   "id": "42b64f9f",
   "metadata": {},
   "outputs": [
    {
     "data": {
      "text/plain": [
       "0.7567039833376725"
      ]
     },
     "execution_count": 99,
     "metadata": {},
     "output_type": "execute_result"
    }
   ],
   "source": [
    "clf.score(X_test, y_test)"
   ]
  },
  {
   "cell_type": "code",
   "execution_count": 100,
   "id": "7e47c733",
   "metadata": {},
   "outputs": [],
   "source": [
    "clf_y_preds = clf.predict(X_test)"
   ]
  },
  {
   "cell_type": "code",
   "execution_count": 101,
   "id": "1338d552",
   "metadata": {},
   "outputs": [
    {
     "name": "stdout",
     "output_type": "stream",
     "text": [
      "Acc: 75.67%\n",
      "Precision: 0.76\n",
      "Recall: 0.76\n",
      "F1 score: 0.76\n"
     ]
    }
   ],
   "source": [
    "baseline_metrics = evaluate_preds(y_test, clf_y_preds)"
   ]
  },
  {
   "cell_type": "markdown",
   "id": "cb7fa8b1",
   "metadata": {},
   "source": [
    "#### tune classifiers hyper parameters by hand"
   ]
  },
  {
   "cell_type": "code",
   "execution_count": 102,
   "id": "285a1e0a",
   "metadata": {},
   "outputs": [
    {
     "name": "stdout",
     "output_type": "stream",
     "text": [
      "Acc: 77.41%\n",
      "Precision: 0.77\n",
      "Recall: 0.77\n",
      "F1 score: 0.77\n"
     ]
    }
   ],
   "source": [
    "clf_2 = RandomForestClassifier(n_estimators=100,\n",
    "                              max_depth=10)\n",
    "clf_2.fit(X_train, y_train)\n",
    "clf_2_y_preds = clf_2.predict(X_test)\n",
    "clf_2_metrics = evaluate_preds(y_test, clf_2_y_preds)"
   ]
  },
  {
   "cell_type": "markdown",
   "id": "9de22a0e",
   "metadata": {},
   "source": [
    "### Tune Hyper parameters using RandomSearchCV"
   ]
  },
  {
   "cell_type": "code",
   "execution_count": 103,
   "id": "da205856",
   "metadata": {},
   "outputs": [],
   "source": [
    "grid = {\"n_estimators\": [10, 100, 200, 500, 1000, 1200],\n",
    "       \"max_depth\": [None, 5, 10, 20, 30],\n",
    "       \"max_features\": [\"auto\", \"sqrt\"],\n",
    "       \"min_samples_split\": [2, 4, 6],\n",
    "       \"min_samples_leaf\": [1, 2, 4]}\n",
    "np.random.seed(42)"
   ]
  },
  {
   "cell_type": "code",
   "execution_count": 104,
   "id": "3766b288",
   "metadata": {},
   "outputs": [
    {
     "name": "stdout",
     "output_type": "stream",
     "text": [
      "Fitting 5 folds for each of 5 candidates, totalling 25 fits\n"
     ]
    },
    {
     "name": "stderr",
     "output_type": "stream",
     "text": [
      "C:\\Users\\Manny\\anaconda3\\lib\\site-packages\\sklearn\\model_selection\\_search.py:969: UserWarning: One or more of the test scores are non-finite: [nan nan nan nan nan]\n",
      "  warnings.warn(\n"
     ]
    },
    {
     "name": "stdout",
     "output_type": "stream",
     "text": [
      "Acc: 55.36%\n",
      "Precision: 0.55\n",
      "Recall: 0.55\n",
      "F1 score: 0.55\n"
     ]
    }
   ],
   "source": [
    "clf_3 = RandomizedSearchCV(clf, param_distributions=grid, n_iter=5, scoring=\"roc_auc\", n_jobs=-1, cv=5, verbose=3)\n",
    "clf_3.fit(X_train, y_train)\n",
    "clf_3_y_preds = clf_3.predict(X_test)\n",
    "clf_3_metrics = evaluate_preds(y_test, clf_3_y_preds)"
   ]
  },
  {
   "cell_type": "markdown",
   "id": "e164ac9d",
   "metadata": {},
   "source": [
    "### Using the Confusion Matrix on the clf_2 model\n",
    "\"Confusion Matrix\":  It is a quick way to compare the labels a model predicts and the actual labels it was supposed to predict. In essence, giving you an idea of where the model is getting confused"
   ]
  },
  {
   "cell_type": "code",
   "execution_count": 105,
   "id": "6c29c165",
   "metadata": {},
   "outputs": [
    {
     "data": {
      "text/plain": [
       "array([[ 819,  129,    2,  434,    0,    0,    0],\n",
       "       [   3, 4767,    1,  302,    0,    0,    0],\n",
       "       [  34,  544,   23,  126,    0,    0,    0],\n",
       "       [   0,   18,    0,  335,   10,    7,    0],\n",
       "       [   0,    0,    0,    0,    0,    0,    0],\n",
       "       [   0,   51,    0,    1,    0,    3,    0],\n",
       "       [   4,   65,    0,    4,    0,    0,    0]], dtype=int64)"
      ]
     },
     "execution_count": 105,
     "metadata": {},
     "output_type": "execute_result"
    }
   ],
   "source": [
    "from sklearn.metrics import confusion_matrix\n",
    "confusion_matrix(y_test, clf_2_y_preds)"
   ]
  },
  {
   "cell_type": "code",
   "execution_count": 106,
   "id": "9c190d61",
   "metadata": {},
   "outputs": [
    {
     "data": {
      "text/html": [
       "<div>\n",
       "<style scoped>\n",
       "    .dataframe tbody tr th:only-of-type {\n",
       "        vertical-align: middle;\n",
       "    }\n",
       "\n",
       "    .dataframe tbody tr th {\n",
       "        vertical-align: top;\n",
       "    }\n",
       "\n",
       "    .dataframe thead th {\n",
       "        text-align: right;\n",
       "    }\n",
       "</style>\n",
       "<table border=\"1\" class=\"dataframe\">\n",
       "  <thead>\n",
       "    <tr style=\"text-align: right;\">\n",
       "      <th>Predicted Labels</th>\n",
       "      <th>0</th>\n",
       "      <th>1</th>\n",
       "      <th>2</th>\n",
       "      <th>3</th>\n",
       "      <th>4</th>\n",
       "      <th>6</th>\n",
       "    </tr>\n",
       "    <tr>\n",
       "      <th>Actual Labels</th>\n",
       "      <th></th>\n",
       "      <th></th>\n",
       "      <th></th>\n",
       "      <th></th>\n",
       "      <th></th>\n",
       "      <th></th>\n",
       "    </tr>\n",
       "  </thead>\n",
       "  <tbody>\n",
       "    <tr>\n",
       "      <th>0</th>\n",
       "      <td>819</td>\n",
       "      <td>129</td>\n",
       "      <td>2</td>\n",
       "      <td>434</td>\n",
       "      <td>0</td>\n",
       "      <td>0</td>\n",
       "    </tr>\n",
       "    <tr>\n",
       "      <th>1</th>\n",
       "      <td>3</td>\n",
       "      <td>4767</td>\n",
       "      <td>1</td>\n",
       "      <td>302</td>\n",
       "      <td>0</td>\n",
       "      <td>0</td>\n",
       "    </tr>\n",
       "    <tr>\n",
       "      <th>2</th>\n",
       "      <td>34</td>\n",
       "      <td>544</td>\n",
       "      <td>23</td>\n",
       "      <td>126</td>\n",
       "      <td>0</td>\n",
       "      <td>0</td>\n",
       "    </tr>\n",
       "    <tr>\n",
       "      <th>3</th>\n",
       "      <td>0</td>\n",
       "      <td>18</td>\n",
       "      <td>0</td>\n",
       "      <td>335</td>\n",
       "      <td>10</td>\n",
       "      <td>7</td>\n",
       "    </tr>\n",
       "    <tr>\n",
       "      <th>6</th>\n",
       "      <td>0</td>\n",
       "      <td>51</td>\n",
       "      <td>0</td>\n",
       "      <td>1</td>\n",
       "      <td>0</td>\n",
       "      <td>3</td>\n",
       "    </tr>\n",
       "    <tr>\n",
       "      <th>9</th>\n",
       "      <td>4</td>\n",
       "      <td>65</td>\n",
       "      <td>0</td>\n",
       "      <td>4</td>\n",
       "      <td>0</td>\n",
       "      <td>0</td>\n",
       "    </tr>\n",
       "  </tbody>\n",
       "</table>\n",
       "</div>"
      ],
      "text/plain": [
       "Predicted Labels    0     1   2    3   4  6\n",
       "Actual Labels                              \n",
       "0                 819   129   2  434   0  0\n",
       "1                   3  4767   1  302   0  0\n",
       "2                  34   544  23  126   0  0\n",
       "3                   0    18   0  335  10  7\n",
       "6                   0    51   0    1   0  3\n",
       "9                   4    65   0    4   0  0"
      ]
     },
     "execution_count": 106,
     "metadata": {},
     "output_type": "execute_result"
    }
   ],
   "source": [
    "# Visualize confustion matrix with pd.crosstab\n",
    "pd.crosstab(y_test,\n",
    "           clf_2_y_preds,\n",
    "           rownames=[\"Actual Labels\"],\n",
    "           colnames=[\"Predicted Labels\"])"
   ]
  },
  {
   "cell_type": "markdown",
   "id": "f08717c4",
   "metadata": {},
   "source": [
    "### Creating a confusion matrix using Scikit-learn\n",
    "To use the new method of creating a confusion matrix with Scikit-learn you will need sklearn version 1.0+"
   ]
  },
  {
   "cell_type": "code",
   "execution_count": 107,
   "id": "a8799b1f",
   "metadata": {},
   "outputs": [
    {
     "data": {
      "text/plain": [
       "'1.0.2'"
      ]
     },
     "execution_count": 107,
     "metadata": {},
     "output_type": "execute_result"
    }
   ],
   "source": [
    "import sklearn\n",
    "sklearn.__version__"
   ]
  },
  {
   "cell_type": "code",
   "execution_count": 108,
   "id": "77ec64a2",
   "metadata": {},
   "outputs": [
    {
     "data": {
      "text/plain": [
       "<sklearn.metrics._plot.confusion_matrix.ConfusionMatrixDisplay at 0x1079f543400>"
      ]
     },
     "execution_count": 108,
     "metadata": {},
     "output_type": "execute_result"
    },
    {
     "data": {
      "image/png": "[encoded data removed]",
      "text/plain": [
       "<Figure size 432x288 with 2 Axes>"
      ]
     },
     "metadata": {
      "needs_background": "light"
     },
     "output_type": "display_data"
    }
   ],
   "source": [
    "from sklearn.metrics import ConfusionMatrixDisplay\n",
    "\n",
    "ConfusionMatrixDisplay.from_predictions(y_true=y_test,\n",
    "                                       y_pred=clf_2_y_preds)"
   ]
  },
  {
   "cell_type": "markdown",
   "id": "bf9c0ae0",
   "metadata": {},
   "source": [
    "## Helper function to visualize the lithology curve"
   ]
  },
  {
   "cell_type": "markdown",
   "id": "c74602ae",
   "metadata": {},
   "source": [
    "### Never run this cell\n",
    "lithology = {\n",
    "    30000: [0, \"Sandstone\"],\n",
    "    65000: [1, \"Shale\"],\n",
    "    65030: [2, \"Sandstone/Stone\"],\n",
    "    70000: [3, \"Limestone\"],\n",
    "    70032: [4, \"Chalk\"],\n",
    "    74000: [5, \"Dolomite\"],\n",
    "    80000: [6, \"Marl\"],\n",
    "    86000: [7, \"Anhydrite\"],\n",
    "    99000: [8, \"Tuff\"],\n",
    "    90000: [9, \"Coal\"]\n",
    "}\n",
    "[1, 0, 2, 3, 8, 6, 7, 5, 4]\n",
    "[\"Sandstone\", \"Shale\", \"Sandstone/Stone\", \"Limestone\", \"Tuff\", \"Marl\", \"Anhydrite\", \"Dolomite\", \"Chalk\", \"Coal\"]"
   ]
  },
  {
   "cell_type": "code",
   "execution_count": 120,
   "id": "c5414ba8",
   "metadata": {},
   "outputs": [],
   "source": [
    "test_df[\"Predicted_Lithofacies\"] = clf_2_y_preds"
   ]
  },
  {
   "cell_type": "code",
   "execution_count": 119,
   "id": "a8e32539",
   "metadata": {
    "scrolled": true
   },
   "outputs": [
    {
     "data": {
      "text/plain": [
       "<IntegerArray>\n",
       "[3, 6, 1, 2, 0, 9]\n",
       "Length: 6, dtype: Int64"
      ]
     },
     "execution_count": 119,
     "metadata": {},
     "output_type": "execute_result"
    }
   ],
   "source": [
    "test_df[\"FORCE_2020_LITHOFACIES_LITHOLOGY\"].unique()"
   ]
  },
  {
   "cell_type": "code",
   "execution_count": 121,
   "id": "530fde67",
   "metadata": {},
   "outputs": [
    {
     "data": {
      "text/plain": [
       "array([6, 3, 1, 4, 0, 2])"
      ]
     },
     "execution_count": 121,
     "metadata": {},
     "output_type": "execute_result"
    }
   ],
   "source": [
    "test_df[\"Predicted_Lithofacies\"].unique()"
   ]
  },
  {
   "cell_type": "code",
   "execution_count": 130,
   "id": "698f22f6",
   "metadata": {},
   "outputs": [],
   "source": [
    "def make_facies_log_plot(logs, x1, x2, x3, x4, x5, Depth=False):\n",
    "\n",
    "    logs = logs.fillna(0)\n",
    "    if Depth == False:\n",
    "        logs['Depth'] = logs.index\n",
    "        Depth = 'Depth'\n",
    "        ztop=logs.Depth.min(); zbot=logs.Depth.max()\n",
    "    \n",
    "    else:\n",
    "        logs['Depth'] = logs[Depth]\n",
    "        Depth = 'Depth'\n",
    "        ztop=logs.Depth.min(); zbot=logs.Depth.max()\n",
    "        \n",
    "    logs = logs.sort_values(by='Depth', ascending=True)\n",
    "\n",
    "    facies_colors = [\n",
    "        '#196F3D', '#FF0000', '#00FFFF', '#000000', '#ff9900', '#00cc00', '#660099', '#ff8100', '#7400b6', \"#0099ff\"\n",
    "    ]\n",
    "\n",
    "    facies_labels = [\n",
    "        \"Sandstone\", \"Shale\", \"Sandstone/Stone\", \"Limestone\", \"Marl\", \"Coal\"\n",
    "    ]\n",
    "\n",
    "    facies_colormap = {}\n",
    "    for ind, label in enumerate(facies_labels):\n",
    "        facies_colormap[label] = facies_colors[ind]\n",
    "\n",
    "    no = 6\n",
    "    #no = len(list(dict(logs[target].value_counts())))\n",
    "    cmap_facies = colors.ListedColormap(\n",
    "            facies_colors[0 : no], 'indexed'\n",
    "            )\n",
    "\n",
    "    cluster=np.repeat(np.expand_dims(logs[\"FORCE_2020_LITHOFACIES_LITHOLOGY\"].astype(float).values,1), 100, 1)\n",
    "    cluster1=np.repeat(np.expand_dims(logs[\"Predicted_Lithofacies\"].astype(float).values,1), 100, 1)\n",
    "    \n",
    "    f, ax = plt.subplots(nrows=1, ncols=7, figsize=(12, 12))\n",
    "    ax[0].plot(logs[x1], logs.Depth, '-g')\n",
    "    ax[1].plot(logs[x2], logs.Depth, '-')\n",
    "    ax[2].plot(logs[x3], logs.Depth, '-', color='0.5')\n",
    "    ax[3].plot(logs[x4], logs.Depth, '-', color='r')\n",
    "    ax[4].plot(logs[x5], logs.Depth, '-', color='black')\n",
    "    im=ax[5].imshow(cluster, interpolation='none', aspect='auto',\n",
    "                    cmap=cmap_facies,vmin=0,vmax=4)\n",
    "    im1=ax[6].imshow(cluster1, interpolation='none', aspect='auto',\n",
    "                    cmap=cmap_facies,vmin=0,vmax=4)\n",
    "    \n",
    "    divider = make_axes_locatable(ax[6])\n",
    "    cax = divider.append_axes(\"right\", size=\"20%\", pad=0.05)\n",
    "    cbar=plt.colorbar(im, cax=cax)\n",
    "    cbar.set_label((15*' ').join([\n",
    "        \"Sandstone\", \"Shale\", \"Sandstone/Stone\", \"Limestone\", \"Marl\", \"Coal\"\n",
    "    ]))\n",
    "    cbar.set_ticks(range(0,1)); cbar.set_ticklabels('')\n",
    "    cbar1=plt.colorbar(im1, cax=cax)\n",
    "    cbar1.set_label((15*' ').join([\n",
    "        \"Sandstone\", \"Shale\", \"Sandstone/Stone\", \"Limestone\", \"Marl\", \"Coal\"\n",
    "    ]))\n",
    "    cbar1.set_ticks(range(0,1)); cbar1.set_ticklabels('')\n",
    "    \n",
    "    for i in range(len(ax)-2):\n",
    "        ax[i].set_ylim(ztop,zbot)\n",
    "        ax[i].invert_yaxis()\n",
    "        ax[i].grid()\n",
    "        ax[i].locator_params(axis='x', nbins=3)\n",
    "    \n",
    "    ax[0].set_xlabel(x1)\n",
    "    ax[0].set_xlim(0, logs[x1].max())\n",
    "    ax[1].set_xlabel(x2)\n",
    "    ax[1].set_xlim(1.8, logs[x2].max())\n",
    "    ax[2].set_xlabel(x3)\n",
    "    ax[2].set_xlim(0, logs[x3].max())\n",
    "    ax[3].set_xlabel(x4)\n",
    "    ax[3].set_xlim(0, logs[x4].max())\n",
    "    ax[4].set_xlabel(x5)\n",
    "    ax[4].set_xscale('log')\n",
    "    ax[4].set_xlim(logs[x5].min(), logs[x5].max())\n",
    "    ax[5].set_xlabel('Actual Lithofacies')\n",
    "    ax[6].set_xlabel('Predicted Lithofacies')\n",
    "    \n",
    "    ax[1].set_yticklabels([]); ax[2].set_yticklabels([]); ax[3].set_yticklabels([])\n",
    "    ax[4].set_yticklabels([]); ax[5].set_yticklabels([]); ax[6].set_yticklabels([])\n",
    "    ax[5].set_xticklabels([]), ax[6].set_xticklabels([])\n",
    "    f.suptitle('Well: NNNNN 05', fontsize=14,y=0.94)"
   ]
  },
  {
   "cell_type": "code",
   "execution_count": 110,
   "id": "2b8bf201",
   "metadata": {},
   "outputs": [],
   "source": [
    "import matplotlib.colors as colors"
   ]
  },
  {
   "cell_type": "code",
   "execution_count": 111,
   "id": "6fe03c37",
   "metadata": {},
   "outputs": [],
   "source": [
    "from mpl_toolkits.axes_grid1 import make_axes_locatable"
   ]
  },
  {
   "cell_type": "code",
   "execution_count": 112,
   "id": "6408622e",
   "metadata": {
    "collapsed": true
   },
   "outputs": [
    {
     "ename": "KeyError",
     "evalue": "'FLUIDTYPES'",
     "output_type": "error",
     "traceback": [
      "\u001b[1;31m---------------------------------------------------------------------------\u001b[0m",
      "\u001b[1;31mKeyError\u001b[0m                                  Traceback (most recent call last)",
      "File \u001b[1;32m~\\anaconda3\\lib\\site-packages\\pandas\\core\\indexes\\base.py:3621\u001b[0m, in \u001b[0;36mIndex.get_loc\u001b[1;34m(self, key, method, tolerance)\u001b[0m\n\u001b[0;32m   3620\u001b[0m \u001b[38;5;28;01mtry\u001b[39;00m:\n\u001b[1;32m-> 3621\u001b[0m     \u001b[38;5;28;01mreturn\u001b[39;00m \u001b[38;5;28;43mself\u001b[39;49m\u001b[38;5;241;43m.\u001b[39;49m\u001b[43m_engine\u001b[49m\u001b[38;5;241;43m.\u001b[39;49m\u001b[43mget_loc\u001b[49m\u001b[43m(\u001b[49m\u001b[43mcasted_key\u001b[49m\u001b[43m)\u001b[49m\n\u001b[0;32m   3622\u001b[0m \u001b[38;5;28;01mexcept\u001b[39;00m \u001b[38;5;167;01mKeyError\u001b[39;00m \u001b[38;5;28;01mas\u001b[39;00m err:\n",
      "File \u001b[1;32m~\\anaconda3\\lib\\site-packages\\pandas\\_libs\\index.pyx:136\u001b[0m, in \u001b[0;36mpandas._libs.index.IndexEngine.get_loc\u001b[1;34m()\u001b[0m\n",
      "File \u001b[1;32m~\\anaconda3\\lib\\site-packages\\pandas\\_libs\\index.pyx:163\u001b[0m, in \u001b[0;36mpandas._libs.index.IndexEngine.get_loc\u001b[1;34m()\u001b[0m\n",
      "File \u001b[1;32mpandas\\_libs\\hashtable_class_helper.pxi:5198\u001b[0m, in \u001b[0;36mpandas._libs.hashtable.PyObjectHashTable.get_item\u001b[1;34m()\u001b[0m\n",
      "File \u001b[1;32mpandas\\_libs\\hashtable_class_helper.pxi:5206\u001b[0m, in \u001b[0;36mpandas._libs.hashtable.PyObjectHashTable.get_item\u001b[1;34m()\u001b[0m\n",
      "\u001b[1;31mKeyError\u001b[0m: 'FLUIDTYPES'",
      "\nThe above exception was the direct cause of the following exception:\n",
      "\u001b[1;31mKeyError\u001b[0m                                  Traceback (most recent call last)",
      "Input \u001b[1;32mIn [112]\u001b[0m, in \u001b[0;36m<cell line: 1>\u001b[1;34m()\u001b[0m\n\u001b[1;32m----> 1\u001b[0m \u001b[43mmake_facies_log_plot\u001b[49m\u001b[43m(\u001b[49m\u001b[43mtest_df\u001b[49m\u001b[43m,\u001b[49m\u001b[43m \u001b[49m\u001b[43mtest_df\u001b[49m\u001b[43m[\u001b[49m\u001b[38;5;124;43m\"\u001b[39;49m\u001b[38;5;124;43mGR\u001b[39;49m\u001b[38;5;124;43m\"\u001b[39;49m\u001b[43m]\u001b[49m\u001b[43m,\u001b[49m\u001b[43m \u001b[49m\u001b[43mtest_df\u001b[49m\u001b[43m[\u001b[49m\u001b[38;5;124;43m\"\u001b[39;49m\u001b[38;5;124;43mGR\u001b[39;49m\u001b[38;5;124;43m\"\u001b[39;49m\u001b[43m]\u001b[49m\u001b[43m,\u001b[49m\u001b[43m \u001b[49m\u001b[43mtest_df\u001b[49m\u001b[43m[\u001b[49m\u001b[38;5;124;43m\"\u001b[39;49m\u001b[38;5;124;43mGR\u001b[39;49m\u001b[38;5;124;43m\"\u001b[39;49m\u001b[43m]\u001b[49m\u001b[43m,\u001b[49m\u001b[43m \u001b[49m\u001b[43mtest_df\u001b[49m\u001b[43m[\u001b[49m\u001b[38;5;124;43m\"\u001b[39;49m\u001b[38;5;124;43mGR\u001b[39;49m\u001b[38;5;124;43m\"\u001b[39;49m\u001b[43m]\u001b[49m\u001b[43m,\u001b[49m\u001b[43m \u001b[49m\u001b[43mtest_df\u001b[49m\u001b[43m[\u001b[49m\u001b[38;5;124;43m\"\u001b[39;49m\u001b[38;5;124;43mGR\u001b[39;49m\u001b[38;5;124;43m\"\u001b[39;49m\u001b[43m]\u001b[49m\u001b[43m)\u001b[49m\n",
      "Input \u001b[1;32mIn [109]\u001b[0m, in \u001b[0;36mmake_facies_log_plot\u001b[1;34m(logs, x1, x2, x3, x4, x5, Depth)\u001b[0m\n\u001b[0;32m     29\u001b[0m \u001b[38;5;66;03m#no = len(list(dict(logs[target].value_counts())))\u001b[39;00m\n\u001b[0;32m     30\u001b[0m cmap_facies \u001b[38;5;241m=\u001b[39m colors\u001b[38;5;241m.\u001b[39mListedColormap(\n\u001b[0;32m     31\u001b[0m         facies_colors[\u001b[38;5;241m0\u001b[39m : no], \u001b[38;5;124m'\u001b[39m\u001b[38;5;124mindexed\u001b[39m\u001b[38;5;124m'\u001b[39m\n\u001b[0;32m     32\u001b[0m         )\n\u001b[1;32m---> 34\u001b[0m cluster\u001b[38;5;241m=\u001b[39mnp\u001b[38;5;241m.\u001b[39mrepeat(np\u001b[38;5;241m.\u001b[39mexpand_dims(\u001b[43mlogs\u001b[49m\u001b[43m[\u001b[49m\u001b[38;5;124;43m'\u001b[39;49m\u001b[38;5;124;43mFLUIDTYPES\u001b[39;49m\u001b[38;5;124;43m'\u001b[39;49m\u001b[43m]\u001b[49m\u001b[38;5;241m.\u001b[39mastype(\u001b[38;5;28mfloat\u001b[39m)\u001b[38;5;241m.\u001b[39mvalues,\u001b[38;5;241m1\u001b[39m), \u001b[38;5;241m100\u001b[39m, \u001b[38;5;241m1\u001b[39m)\n\u001b[0;32m     35\u001b[0m cluster1\u001b[38;5;241m=\u001b[39mnp\u001b[38;5;241m.\u001b[39mrepeat(np\u001b[38;5;241m.\u001b[39mexpand_dims(logs[\u001b[38;5;124m'\u001b[39m\u001b[38;5;124mPredicted_Fluid\u001b[39m\u001b[38;5;124m'\u001b[39m]\u001b[38;5;241m.\u001b[39mastype(\u001b[38;5;28mfloat\u001b[39m)\u001b[38;5;241m.\u001b[39mvalues,\u001b[38;5;241m1\u001b[39m), \u001b[38;5;241m100\u001b[39m, \u001b[38;5;241m1\u001b[39m)\n\u001b[0;32m     37\u001b[0m f, ax \u001b[38;5;241m=\u001b[39m plt\u001b[38;5;241m.\u001b[39msubplots(nrows\u001b[38;5;241m=\u001b[39m\u001b[38;5;241m1\u001b[39m, ncols\u001b[38;5;241m=\u001b[39m\u001b[38;5;241m7\u001b[39m, figsize\u001b[38;5;241m=\u001b[39m(\u001b[38;5;241m12\u001b[39m, \u001b[38;5;241m12\u001b[39m))\n",
      "File \u001b[1;32m~\\anaconda3\\lib\\site-packages\\pandas\\core\\frame.py:3505\u001b[0m, in \u001b[0;36mDataFrame.__getitem__\u001b[1;34m(self, key)\u001b[0m\n\u001b[0;32m   3503\u001b[0m \u001b[38;5;28;01mif\u001b[39;00m \u001b[38;5;28mself\u001b[39m\u001b[38;5;241m.\u001b[39mcolumns\u001b[38;5;241m.\u001b[39mnlevels \u001b[38;5;241m>\u001b[39m \u001b[38;5;241m1\u001b[39m:\n\u001b[0;32m   3504\u001b[0m     \u001b[38;5;28;01mreturn\u001b[39;00m \u001b[38;5;28mself\u001b[39m\u001b[38;5;241m.\u001b[39m_getitem_multilevel(key)\n\u001b[1;32m-> 3505\u001b[0m indexer \u001b[38;5;241m=\u001b[39m \u001b[38;5;28;43mself\u001b[39;49m\u001b[38;5;241;43m.\u001b[39;49m\u001b[43mcolumns\u001b[49m\u001b[38;5;241;43m.\u001b[39;49m\u001b[43mget_loc\u001b[49m\u001b[43m(\u001b[49m\u001b[43mkey\u001b[49m\u001b[43m)\u001b[49m\n\u001b[0;32m   3506\u001b[0m \u001b[38;5;28;01mif\u001b[39;00m is_integer(indexer):\n\u001b[0;32m   3507\u001b[0m     indexer \u001b[38;5;241m=\u001b[39m [indexer]\n",
      "File \u001b[1;32m~\\anaconda3\\lib\\site-packages\\pandas\\core\\indexes\\base.py:3623\u001b[0m, in \u001b[0;36mIndex.get_loc\u001b[1;34m(self, key, method, tolerance)\u001b[0m\n\u001b[0;32m   3621\u001b[0m     \u001b[38;5;28;01mreturn\u001b[39;00m \u001b[38;5;28mself\u001b[39m\u001b[38;5;241m.\u001b[39m_engine\u001b[38;5;241m.\u001b[39mget_loc(casted_key)\n\u001b[0;32m   3622\u001b[0m \u001b[38;5;28;01mexcept\u001b[39;00m \u001b[38;5;167;01mKeyError\u001b[39;00m \u001b[38;5;28;01mas\u001b[39;00m err:\n\u001b[1;32m-> 3623\u001b[0m     \u001b[38;5;28;01mraise\u001b[39;00m \u001b[38;5;167;01mKeyError\u001b[39;00m(key) \u001b[38;5;28;01mfrom\u001b[39;00m \u001b[38;5;21;01merr\u001b[39;00m\n\u001b[0;32m   3624\u001b[0m \u001b[38;5;28;01mexcept\u001b[39;00m \u001b[38;5;167;01mTypeError\u001b[39;00m:\n\u001b[0;32m   3625\u001b[0m     \u001b[38;5;66;03m# If we have a listlike key, _check_indexing_error will raise\u001b[39;00m\n\u001b[0;32m   3626\u001b[0m     \u001b[38;5;66;03m#  InvalidIndexError. Otherwise we fall through and re-raise\u001b[39;00m\n\u001b[0;32m   3627\u001b[0m     \u001b[38;5;66;03m#  the TypeError.\u001b[39;00m\n\u001b[0;32m   3628\u001b[0m     \u001b[38;5;28mself\u001b[39m\u001b[38;5;241m.\u001b[39m_check_indexing_error(key)\n",
      "\u001b[1;31mKeyError\u001b[0m: 'FLUIDTYPES'"
     ]
    }
   ],
   "source": [
    "make_facies_log_plot(test_df, test_df[\"GR\"], test_df[\"GR\"], test_df[\"GR\"], test_df[\"GR\"], test_df[\"GR\"])"
   ]
  },
  {
   "cell_type": "code",
   "execution_count": 113,
   "id": "3d585faa",
   "metadata": {},
   "outputs": [
    {
     "data": {
      "text/html": [
       "<div>\n",
       "<style scoped>\n",
       "    .dataframe tbody tr th:only-of-type {\n",
       "        vertical-align: middle;\n",
       "    }\n",
       "\n",
       "    .dataframe tbody tr th {\n",
       "        vertical-align: top;\n",
       "    }\n",
       "\n",
       "    .dataframe thead th {\n",
       "        text-align: right;\n",
       "    }\n",
       "</style>\n",
       "<table border=\"1\" class=\"dataframe\">\n",
       "  <thead>\n",
       "    <tr style=\"text-align: right;\">\n",
       "      <th></th>\n",
       "      <th>FORCE_2020_LITHOFACIES_CONFIDENCE</th>\n",
       "      <th>FORCE_2020_LITHOFACIES_LITHOLOGY</th>\n",
       "      <th>CALI</th>\n",
       "      <th>ROP</th>\n",
       "      <th>RDEP</th>\n",
       "      <th>RMED</th>\n",
       "      <th>DTC</th>\n",
       "      <th>NPHI</th>\n",
       "      <th>GR</th>\n",
       "      <th>DEPTH_MD</th>\n",
       "      <th>X_LOC</th>\n",
       "      <th>Y_LOC</th>\n",
       "      <th>Z_LOC</th>\n",
       "    </tr>\n",
       "    <tr>\n",
       "      <th>DEPT</th>\n",
       "      <th></th>\n",
       "      <th></th>\n",
       "      <th></th>\n",
       "      <th></th>\n",
       "      <th></th>\n",
       "      <th></th>\n",
       "      <th></th>\n",
       "      <th></th>\n",
       "      <th></th>\n",
       "      <th></th>\n",
       "      <th></th>\n",
       "      <th></th>\n",
       "      <th></th>\n",
       "    </tr>\n",
       "  </thead>\n",
       "  <tbody>\n",
       "    <tr>\n",
       "      <th>1999.9284</th>\n",
       "      <td>1.0</td>\n",
       "      <td>3</td>\n",
       "      <td>12.446494</td>\n",
       "      <td>12.684583</td>\n",
       "      <td>1.824490</td>\n",
       "      <td>1.794651</td>\n",
       "      <td>105.549255</td>\n",
       "      <td>0.334225</td>\n",
       "      <td>53.532814</td>\n",
       "      <td>1999.928345</td>\n",
       "      <td>525330.8125</td>\n",
       "      <td>6759815.0</td>\n",
       "      <td>-1921.228271</td>\n",
       "    </tr>\n",
       "    <tr>\n",
       "      <th>2000.0804</th>\n",
       "      <td>1.0</td>\n",
       "      <td>3</td>\n",
       "      <td>12.148028</td>\n",
       "      <td>10.646811</td>\n",
       "      <td>1.908298</td>\n",
       "      <td>1.853996</td>\n",
       "      <td>103.992126</td>\n",
       "      <td>0.322990</td>\n",
       "      <td>44.329887</td>\n",
       "      <td>2000.080444</td>\n",
       "      <td>525330.7500</td>\n",
       "      <td>6759815.0</td>\n",
       "      <td>-1921.359497</td>\n",
       "    </tr>\n",
       "    <tr>\n",
       "      <th>2000.2324</th>\n",
       "      <td>1.0</td>\n",
       "      <td>3</td>\n",
       "      <td>12.027576</td>\n",
       "      <td>9.677869</td>\n",
       "      <td>1.954117</td>\n",
       "      <td>1.866419</td>\n",
       "      <td>91.609131</td>\n",
       "      <td>0.257752</td>\n",
       "      <td>34.112160</td>\n",
       "      <td>2000.232422</td>\n",
       "      <td>525330.6875</td>\n",
       "      <td>6759815.0</td>\n",
       "      <td>-1921.490723</td>\n",
       "    </tr>\n",
       "    <tr>\n",
       "      <th>2000.3844</th>\n",
       "      <td>1.0</td>\n",
       "      <td>3</td>\n",
       "      <td>11.981487</td>\n",
       "      <td>9.384845</td>\n",
       "      <td>2.019079</td>\n",
       "      <td>1.919980</td>\n",
       "      <td>80.371117</td>\n",
       "      <td>0.201049</td>\n",
       "      <td>31.661253</td>\n",
       "      <td>2000.384399</td>\n",
       "      <td>525330.6250</td>\n",
       "      <td>6759815.5</td>\n",
       "      <td>-1921.621948</td>\n",
       "    </tr>\n",
       "    <tr>\n",
       "      <th>2000.5364</th>\n",
       "      <td>1.0</td>\n",
       "      <td>3</td>\n",
       "      <td>11.972757</td>\n",
       "      <td>9.796011</td>\n",
       "      <td>2.112739</td>\n",
       "      <td>2.040248</td>\n",
       "      <td>72.607491</td>\n",
       "      <td>0.195642</td>\n",
       "      <td>33.186008</td>\n",
       "      <td>2000.536377</td>\n",
       "      <td>525330.5625</td>\n",
       "      <td>6759815.5</td>\n",
       "      <td>-1921.753174</td>\n",
       "    </tr>\n",
       "  </tbody>\n",
       "</table>\n",
       "</div>"
      ],
      "text/plain": [
       "           FORCE_2020_LITHOFACIES_CONFIDENCE  \\\n",
       "DEPT                                           \n",
       "1999.9284                                1.0   \n",
       "2000.0804                                1.0   \n",
       "2000.2324                                1.0   \n",
       "2000.3844                                1.0   \n",
       "2000.5364                                1.0   \n",
       "\n",
       "           FORCE_2020_LITHOFACIES_LITHOLOGY       CALI        ROP      RDEP  \\\n",
       "DEPT                                                                          \n",
       "1999.9284                                 3  12.446494  12.684583  1.824490   \n",
       "2000.0804                                 3  12.148028  10.646811  1.908298   \n",
       "2000.2324                                 3  12.027576   9.677869  1.954117   \n",
       "2000.3844                                 3  11.981487   9.384845  2.019079   \n",
       "2000.5364                                 3  11.972757   9.796011  2.112739   \n",
       "\n",
       "               RMED         DTC      NPHI         GR     DEPTH_MD  \\\n",
       "DEPT                                                                \n",
       "1999.9284  1.794651  105.549255  0.334225  53.532814  1999.928345   \n",
       "2000.0804  1.853996  103.992126  0.322990  44.329887  2000.080444   \n",
       "2000.2324  1.866419   91.609131  0.257752  34.112160  2000.232422   \n",
       "2000.3844  1.919980   80.371117  0.201049  31.661253  2000.384399   \n",
       "2000.5364  2.040248   72.607491  0.195642  33.186008  2000.536377   \n",
       "\n",
       "                 X_LOC      Y_LOC        Z_LOC  \n",
       "DEPT                                            \n",
       "1999.9284  525330.8125  6759815.0 -1921.228271  \n",
       "2000.0804  525330.7500  6759815.0 -1921.359497  \n",
       "2000.2324  525330.6875  6759815.0 -1921.490723  \n",
       "2000.3844  525330.6250  6759815.5 -1921.621948  \n",
       "2000.5364  525330.5625  6759815.5 -1921.753174  "
      ]
     },
     "execution_count": 113,
     "metadata": {},
     "output_type": "execute_result"
    }
   ],
   "source": [
    "test_df.head()"
   ]
  },
  {
   "cell_type": "markdown",
   "id": "1bef4a37",
   "metadata": {},
   "source": [
    "From the error message above, we can see that our df doesn't include the fluidtypes variable name"
   ]
  },
  {
   "cell_type": "code",
   "execution_count": 114,
   "id": "38e2f436",
   "metadata": {},
   "outputs": [],
   "source": [
    "test_df[\"FLUIDTYPES\"] = test_df[\"FORCE_2020_LITHOFACIES_LITHOLOGY\"]"
   ]
  },
  {
   "cell_type": "code",
   "execution_count": 115,
   "id": "e94fa9ae",
   "metadata": {},
   "outputs": [
    {
     "data": {
      "text/html": [
       "<div>\n",
       "<style scoped>\n",
       "    .dataframe tbody tr th:only-of-type {\n",
       "        vertical-align: middle;\n",
       "    }\n",
       "\n",
       "    .dataframe tbody tr th {\n",
       "        vertical-align: top;\n",
       "    }\n",
       "\n",
       "    .dataframe thead th {\n",
       "        text-align: right;\n",
       "    }\n",
       "</style>\n",
       "<table border=\"1\" class=\"dataframe\">\n",
       "  <thead>\n",
       "    <tr style=\"text-align: right;\">\n",
       "      <th></th>\n",
       "      <th>FORCE_2020_LITHOFACIES_CONFIDENCE</th>\n",
       "      <th>FORCE_2020_LITHOFACIES_LITHOLOGY</th>\n",
       "      <th>CALI</th>\n",
       "      <th>ROP</th>\n",
       "      <th>RDEP</th>\n",
       "      <th>RMED</th>\n",
       "      <th>DTC</th>\n",
       "      <th>NPHI</th>\n",
       "      <th>GR</th>\n",
       "      <th>DEPTH_MD</th>\n",
       "      <th>X_LOC</th>\n",
       "      <th>Y_LOC</th>\n",
       "      <th>Z_LOC</th>\n",
       "      <th>FLUIDTYPES</th>\n",
       "    </tr>\n",
       "    <tr>\n",
       "      <th>DEPT</th>\n",
       "      <th></th>\n",
       "      <th></th>\n",
       "      <th></th>\n",
       "      <th></th>\n",
       "      <th></th>\n",
       "      <th></th>\n",
       "      <th></th>\n",
       "      <th></th>\n",
       "      <th></th>\n",
       "      <th></th>\n",
       "      <th></th>\n",
       "      <th></th>\n",
       "      <th></th>\n",
       "      <th></th>\n",
       "    </tr>\n",
       "  </thead>\n",
       "  <tbody>\n",
       "    <tr>\n",
       "      <th>1999.9284</th>\n",
       "      <td>1.0</td>\n",
       "      <td>3</td>\n",
       "      <td>12.446494</td>\n",
       "      <td>12.684583</td>\n",
       "      <td>1.824490</td>\n",
       "      <td>1.794651</td>\n",
       "      <td>105.549255</td>\n",
       "      <td>0.334225</td>\n",
       "      <td>53.532814</td>\n",
       "      <td>1999.928345</td>\n",
       "      <td>525330.8125</td>\n",
       "      <td>6759815.0</td>\n",
       "      <td>-1921.228271</td>\n",
       "      <td>3</td>\n",
       "    </tr>\n",
       "    <tr>\n",
       "      <th>2000.0804</th>\n",
       "      <td>1.0</td>\n",
       "      <td>3</td>\n",
       "      <td>12.148028</td>\n",
       "      <td>10.646811</td>\n",
       "      <td>1.908298</td>\n",
       "      <td>1.853996</td>\n",
       "      <td>103.992126</td>\n",
       "      <td>0.322990</td>\n",
       "      <td>44.329887</td>\n",
       "      <td>2000.080444</td>\n",
       "      <td>525330.7500</td>\n",
       "      <td>6759815.0</td>\n",
       "      <td>-1921.359497</td>\n",
       "      <td>3</td>\n",
       "    </tr>\n",
       "    <tr>\n",
       "      <th>2000.2324</th>\n",
       "      <td>1.0</td>\n",
       "      <td>3</td>\n",
       "      <td>12.027576</td>\n",
       "      <td>9.677869</td>\n",
       "      <td>1.954117</td>\n",
       "      <td>1.866419</td>\n",
       "      <td>91.609131</td>\n",
       "      <td>0.257752</td>\n",
       "      <td>34.112160</td>\n",
       "      <td>2000.232422</td>\n",
       "      <td>525330.6875</td>\n",
       "      <td>6759815.0</td>\n",
       "      <td>-1921.490723</td>\n",
       "      <td>3</td>\n",
       "    </tr>\n",
       "    <tr>\n",
       "      <th>2000.3844</th>\n",
       "      <td>1.0</td>\n",
       "      <td>3</td>\n",
       "      <td>11.981487</td>\n",
       "      <td>9.384845</td>\n",
       "      <td>2.019079</td>\n",
       "      <td>1.919980</td>\n",
       "      <td>80.371117</td>\n",
       "      <td>0.201049</td>\n",
       "      <td>31.661253</td>\n",
       "      <td>2000.384399</td>\n",
       "      <td>525330.6250</td>\n",
       "      <td>6759815.5</td>\n",
       "      <td>-1921.621948</td>\n",
       "      <td>3</td>\n",
       "    </tr>\n",
       "    <tr>\n",
       "      <th>2000.5364</th>\n",
       "      <td>1.0</td>\n",
       "      <td>3</td>\n",
       "      <td>11.972757</td>\n",
       "      <td>9.796011</td>\n",
       "      <td>2.112739</td>\n",
       "      <td>2.040248</td>\n",
       "      <td>72.607491</td>\n",
       "      <td>0.195642</td>\n",
       "      <td>33.186008</td>\n",
       "      <td>2000.536377</td>\n",
       "      <td>525330.5625</td>\n",
       "      <td>6759815.5</td>\n",
       "      <td>-1921.753174</td>\n",
       "      <td>3</td>\n",
       "    </tr>\n",
       "  </tbody>\n",
       "</table>\n",
       "</div>"
      ],
      "text/plain": [
       "           FORCE_2020_LITHOFACIES_CONFIDENCE  \\\n",
       "DEPT                                           \n",
       "1999.9284                                1.0   \n",
       "2000.0804                                1.0   \n",
       "2000.2324                                1.0   \n",
       "2000.3844                                1.0   \n",
       "2000.5364                                1.0   \n",
       "\n",
       "           FORCE_2020_LITHOFACIES_LITHOLOGY       CALI        ROP      RDEP  \\\n",
       "DEPT                                                                          \n",
       "1999.9284                                 3  12.446494  12.684583  1.824490   \n",
       "2000.0804                                 3  12.148028  10.646811  1.908298   \n",
       "2000.2324                                 3  12.027576   9.677869  1.954117   \n",
       "2000.3844                                 3  11.981487   9.384845  2.019079   \n",
       "2000.5364                                 3  11.972757   9.796011  2.112739   \n",
       "\n",
       "               RMED         DTC      NPHI         GR     DEPTH_MD  \\\n",
       "DEPT                                                                \n",
       "1999.9284  1.794651  105.549255  0.334225  53.532814  1999.928345   \n",
       "2000.0804  1.853996  103.992126  0.322990  44.329887  2000.080444   \n",
       "2000.2324  1.866419   91.609131  0.257752  34.112160  2000.232422   \n",
       "2000.3844  1.919980   80.371117  0.201049  31.661253  2000.384399   \n",
       "2000.5364  2.040248   72.607491  0.195642  33.186008  2000.536377   \n",
       "\n",
       "                 X_LOC      Y_LOC        Z_LOC  FLUIDTYPES  \n",
       "DEPT                                                        \n",
       "1999.9284  525330.8125  6759815.0 -1921.228271           3  \n",
       "2000.0804  525330.7500  6759815.0 -1921.359497           3  \n",
       "2000.2324  525330.6875  6759815.0 -1921.490723           3  \n",
       "2000.3844  525330.6250  6759815.5 -1921.621948           3  \n",
       "2000.5364  525330.5625  6759815.5 -1921.753174           3  "
      ]
     },
     "execution_count": 115,
     "metadata": {},
     "output_type": "execute_result"
    }
   ],
   "source": [
    "test_df.head()"
   ]
  },
  {
   "cell_type": "code",
   "execution_count": null,
   "id": "538f0b98",
   "metadata": {
    "scrolled": true
   },
   "outputs": [],
   "source": []
  },
  {
   "cell_type": "markdown",
   "id": "e4477fe7",
   "metadata": {},
   "source": [
    "To fix the error above, we would need to create a column for our predicted values, saved as 'Predicted_fluid'"
   ]
  },
  {
   "cell_type": "code",
   "execution_count": 116,
   "id": "f9f84984",
   "metadata": {},
   "outputs": [],
   "source": [
    "test_df[\"Predicted_Fluid\"] = clf_2_y_preds"
   ]
  },
  {
   "cell_type": "code",
   "execution_count": 117,
   "id": "bde2d9c1",
   "metadata": {
    "scrolled": false
   },
   "outputs": [
    {
     "data": {
      "image/png": "[encoded data removed]",
      "text/plain": [
       "<Figure size 864x864 with 8 Axes>"
      ]
     },
     "metadata": {
      "needs_background": "light"
     },
     "output_type": "display_data"
    }
   ],
   "source": [
    "make_facies_log_plot(test_df, \"GR\", \"GR\", \"GR\", \"GR\", \"GR\")"
   ]
  },
  {
   "cell_type": "code",
   "execution_count": 129,
   "id": "828c9eed",
   "metadata": {
    "scrolled": false
   },
   "outputs": [
    {
     "data": {
      "image/png": "[encoded data removed]",
      "text/plain": [
       "<Figure size 864x864 with 8 Axes>"
      ]
     },
     "metadata": {
      "needs_background": "light"
     },
     "output_type": "display_data"
    }
   ],
   "source": [
    "make_facies_log_plot(test_df, \"GR\", \"GR\", \"GR\", \"GR\", \"GR\")"
   ]
  },
  {
   "cell_type": "code",
   "execution_count": null,
   "id": "b9fa14f7",
   "metadata": {},
   "outputs": [],
   "source": []
  },
  {
   "cell_type": "code",
   "execution_count": null,
   "id": "63ab2bc9",
   "metadata": {},
   "outputs": [],
   "source": []
  }
 ],
 "metadata": {
  "kernelspec": {
   "display_name": "Python 3 (ipykernel)",
   "language": "python",
   "name": "python3"
  },
  "language_info": {
   "codemirror_mode": {
    "name": "ipython",
    "version": 3
   },
   "file_extension": ".py",
   "mimetype": "text/x-python",
   "name": "python",
   "nbconvert_exporter": "python",
   "pygments_lexer": "ipython3",
   "version": "3.9.12"
  }
 },
 "nbformat": 4,
 "nbformat_minor": 5
}
