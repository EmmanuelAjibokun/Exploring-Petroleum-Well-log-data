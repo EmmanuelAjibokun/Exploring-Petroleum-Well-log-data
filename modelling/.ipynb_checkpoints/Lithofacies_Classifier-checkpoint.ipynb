{
 "cells": [
  {
   "cell_type": "markdown",
   "id": "1f6d2492",
   "metadata": {},
   "source": [
    "Goal: \n",
    "    To classify Lithofacies Lithology"
   ]
  },
  {
   "cell_type": "code",
   "execution_count": 1,
   "id": "abd4e7c4",
   "metadata": {},
   "outputs": [],
   "source": [
    "import pandas as pd\n",
    "import matplotlib.pyplot as plt\n",
    "import numpy as np\n",
    "import lasio"
   ]
  },
  {
   "cell_type": "code",
   "execution_count": 2,
   "id": "bbcc0c6e",
   "metadata": {},
   "outputs": [],
   "source": [
    "# Train data\n",
    "\n",
    "las1 = lasio.read(\"../well-log-data/15_9-13.las\")\n",
    "las2 = lasio.read(\"../well-log-data/16_8-1.las\")\n",
    "las3 = lasio.read(\"../well-log-data/25_11-5.las\")\n",
    "las4 = lasio.read(\"../well-log-data/25_6-3.las\")"
   ]
  },
  {
   "cell_type": "code",
   "execution_count": 3,
   "id": "04883216",
   "metadata": {},
   "outputs": [],
   "source": [
    "# convert las files to dataframe\n",
    "\n",
    "df1 = las1.df()\n",
    "df2 = las2.df()\n",
    "df3 = las3.df()\n",
    "df4 = las4.df()"
   ]
  },
  {
   "cell_type": "code",
   "execution_count": 4,
   "id": "3059de92",
   "metadata": {},
   "outputs": [
    {
     "data": {
      "text/html": [
       "<div>\n",
       "<style scoped>\n",
       "    .dataframe tbody tr th:only-of-type {\n",
       "        vertical-align: middle;\n",
       "    }\n",
       "\n",
       "    .dataframe tbody tr th {\n",
       "        vertical-align: top;\n",
       "    }\n",
       "\n",
       "    .dataframe thead th {\n",
       "        text-align: right;\n",
       "    }\n",
       "</style>\n",
       "<table border=\"1\" class=\"dataframe\">\n",
       "  <thead>\n",
       "    <tr style=\"text-align: right;\">\n",
       "      <th></th>\n",
       "      <th>FORCE_2020_LITHOFACIES_CONFIDENCE</th>\n",
       "      <th>FORCE_2020_LITHOFACIES_LITHOLOGY</th>\n",
       "      <th>CALI</th>\n",
       "      <th>MUDWEIGHT</th>\n",
       "      <th>ROP</th>\n",
       "      <th>RDEP</th>\n",
       "      <th>RSHA</th>\n",
       "      <th>RMED</th>\n",
       "      <th>RXO</th>\n",
       "      <th>SP</th>\n",
       "      <th>DTC</th>\n",
       "      <th>NPHI</th>\n",
       "      <th>PEF</th>\n",
       "      <th>GR</th>\n",
       "      <th>RHOB</th>\n",
       "      <th>DRHO</th>\n",
       "      <th>DEPTH_MD</th>\n",
       "      <th>X_LOC</th>\n",
       "      <th>Y_LOC</th>\n",
       "      <th>Z_LOC</th>\n",
       "    </tr>\n",
       "    <tr>\n",
       "      <th>DEPT</th>\n",
       "      <th></th>\n",
       "      <th></th>\n",
       "      <th></th>\n",
       "      <th></th>\n",
       "      <th></th>\n",
       "      <th></th>\n",
       "      <th></th>\n",
       "      <th></th>\n",
       "      <th></th>\n",
       "      <th></th>\n",
       "      <th></th>\n",
       "      <th></th>\n",
       "      <th></th>\n",
       "      <th></th>\n",
       "      <th></th>\n",
       "      <th></th>\n",
       "      <th></th>\n",
       "      <th></th>\n",
       "      <th></th>\n",
       "      <th></th>\n",
       "    </tr>\n",
       "  </thead>\n",
       "  <tbody>\n",
       "    <tr>\n",
       "      <th>25.000</th>\n",
       "      <td>NaN</td>\n",
       "      <td>NaN</td>\n",
       "      <td>NaN</td>\n",
       "      <td>NaN</td>\n",
       "      <td>NaN</td>\n",
       "      <td>NaN</td>\n",
       "      <td>NaN</td>\n",
       "      <td>NaN</td>\n",
       "      <td>NaN</td>\n",
       "      <td>NaN</td>\n",
       "      <td>206.224609</td>\n",
       "      <td>NaN</td>\n",
       "      <td>NaN</td>\n",
       "      <td>NaN</td>\n",
       "      <td>NaN</td>\n",
       "      <td>NaN</td>\n",
       "      <td>NaN</td>\n",
       "      <td>NaN</td>\n",
       "      <td>NaN</td>\n",
       "      <td>NaN</td>\n",
       "    </tr>\n",
       "    <tr>\n",
       "      <th>25.152</th>\n",
       "      <td>NaN</td>\n",
       "      <td>NaN</td>\n",
       "      <td>NaN</td>\n",
       "      <td>NaN</td>\n",
       "      <td>NaN</td>\n",
       "      <td>NaN</td>\n",
       "      <td>NaN</td>\n",
       "      <td>NaN</td>\n",
       "      <td>NaN</td>\n",
       "      <td>NaN</td>\n",
       "      <td>206.224625</td>\n",
       "      <td>NaN</td>\n",
       "      <td>NaN</td>\n",
       "      <td>NaN</td>\n",
       "      <td>NaN</td>\n",
       "      <td>NaN</td>\n",
       "      <td>NaN</td>\n",
       "      <td>NaN</td>\n",
       "      <td>NaN</td>\n",
       "      <td>NaN</td>\n",
       "    </tr>\n",
       "    <tr>\n",
       "      <th>25.304</th>\n",
       "      <td>NaN</td>\n",
       "      <td>NaN</td>\n",
       "      <td>NaN</td>\n",
       "      <td>NaN</td>\n",
       "      <td>NaN</td>\n",
       "      <td>NaN</td>\n",
       "      <td>NaN</td>\n",
       "      <td>NaN</td>\n",
       "      <td>NaN</td>\n",
       "      <td>NaN</td>\n",
       "      <td>206.224655</td>\n",
       "      <td>NaN</td>\n",
       "      <td>NaN</td>\n",
       "      <td>NaN</td>\n",
       "      <td>NaN</td>\n",
       "      <td>NaN</td>\n",
       "      <td>NaN</td>\n",
       "      <td>NaN</td>\n",
       "      <td>NaN</td>\n",
       "      <td>NaN</td>\n",
       "    </tr>\n",
       "    <tr>\n",
       "      <th>25.456</th>\n",
       "      <td>NaN</td>\n",
       "      <td>NaN</td>\n",
       "      <td>NaN</td>\n",
       "      <td>NaN</td>\n",
       "      <td>NaN</td>\n",
       "      <td>NaN</td>\n",
       "      <td>NaN</td>\n",
       "      <td>NaN</td>\n",
       "      <td>NaN</td>\n",
       "      <td>NaN</td>\n",
       "      <td>206.224670</td>\n",
       "      <td>NaN</td>\n",
       "      <td>NaN</td>\n",
       "      <td>NaN</td>\n",
       "      <td>NaN</td>\n",
       "      <td>NaN</td>\n",
       "      <td>NaN</td>\n",
       "      <td>NaN</td>\n",
       "      <td>NaN</td>\n",
       "      <td>NaN</td>\n",
       "    </tr>\n",
       "    <tr>\n",
       "      <th>25.608</th>\n",
       "      <td>NaN</td>\n",
       "      <td>NaN</td>\n",
       "      <td>NaN</td>\n",
       "      <td>NaN</td>\n",
       "      <td>NaN</td>\n",
       "      <td>NaN</td>\n",
       "      <td>NaN</td>\n",
       "      <td>NaN</td>\n",
       "      <td>NaN</td>\n",
       "      <td>NaN</td>\n",
       "      <td>206.224701</td>\n",
       "      <td>NaN</td>\n",
       "      <td>NaN</td>\n",
       "      <td>NaN</td>\n",
       "      <td>NaN</td>\n",
       "      <td>NaN</td>\n",
       "      <td>NaN</td>\n",
       "      <td>NaN</td>\n",
       "      <td>NaN</td>\n",
       "      <td>NaN</td>\n",
       "    </tr>\n",
       "  </tbody>\n",
       "</table>\n",
       "</div>"
      ],
      "text/plain": [
       "        FORCE_2020_LITHOFACIES_CONFIDENCE  FORCE_2020_LITHOFACIES_LITHOLOGY  \\\n",
       "DEPT                                                                          \n",
       "25.000                                NaN                               NaN   \n",
       "25.152                                NaN                               NaN   \n",
       "25.304                                NaN                               NaN   \n",
       "25.456                                NaN                               NaN   \n",
       "25.608                                NaN                               NaN   \n",
       "\n",
       "        CALI  MUDWEIGHT  ROP  RDEP  RSHA  RMED  RXO  SP         DTC  NPHI  \\\n",
       "DEPT                                                                        \n",
       "25.000   NaN        NaN  NaN   NaN   NaN   NaN  NaN NaN  206.224609   NaN   \n",
       "25.152   NaN        NaN  NaN   NaN   NaN   NaN  NaN NaN  206.224625   NaN   \n",
       "25.304   NaN        NaN  NaN   NaN   NaN   NaN  NaN NaN  206.224655   NaN   \n",
       "25.456   NaN        NaN  NaN   NaN   NaN   NaN  NaN NaN  206.224670   NaN   \n",
       "25.608   NaN        NaN  NaN   NaN   NaN   NaN  NaN NaN  206.224701   NaN   \n",
       "\n",
       "        PEF  GR  RHOB  DRHO  DEPTH_MD  X_LOC  Y_LOC  Z_LOC  \n",
       "DEPT                                                        \n",
       "25.000  NaN NaN   NaN   NaN       NaN    NaN    NaN    NaN  \n",
       "25.152  NaN NaN   NaN   NaN       NaN    NaN    NaN    NaN  \n",
       "25.304  NaN NaN   NaN   NaN       NaN    NaN    NaN    NaN  \n",
       "25.456  NaN NaN   NaN   NaN       NaN    NaN    NaN    NaN  \n",
       "25.608  NaN NaN   NaN   NaN       NaN    NaN    NaN    NaN  "
      ]
     },
     "execution_count": 4,
     "metadata": {},
     "output_type": "execute_result"
    }
   ],
   "source": [
    "df1.head()"
   ]
  },
  {
   "cell_type": "code",
   "execution_count": 9,
   "id": "6f88d1cd",
   "metadata": {},
   "outputs": [
    {
     "name": "stdout",
     "output_type": "stream",
     "text": [
      "[   nan 65000. 30000. 65030. 70000. 99000. 80000. 86000. 74000.]\n",
      "[   nan 65000. 65030. 70000. 74000. 99000. 30000. 80000. 70032.]\n",
      "[   nan 65000. 30000. 70032. 80000. 70000. 65030.]\n",
      "[   nan 65000. 65030. 30000. 70000. 99000. 80000.]\n"
     ]
    }
   ],
   "source": [
    "print(df1[\"FORCE_2020_LITHOFACIES_LITHOLOGY\"].unique())\n",
    "print(df2[\"FORCE_2020_LITHOFACIES_LITHOLOGY\"].unique())\n",
    "print(df3[\"FORCE_2020_LITHOFACIES_LITHOLOGY\"].unique())\n",
    "print(df4[\"FORCE_2020_LITHOFACIES_LITHOLOGY\"].unique())"
   ]
  },
  {
   "cell_type": "code",
   "execution_count": 10,
   "id": "038e612c",
   "metadata": {},
   "outputs": [],
   "source": [
    "# Import test data\n",
    "\n",
    "las5 = lasio.read(\"../well-log-data/31_2-21 S.las\")"
   ]
  },
  {
   "cell_type": "code",
   "execution_count": 11,
   "id": "ee0f6d3a",
   "metadata": {},
   "outputs": [],
   "source": [
    "test_df = las5.df()"
   ]
  },
  {
   "cell_type": "code",
   "execution_count": 12,
   "id": "e8a8253f",
   "metadata": {},
   "outputs": [
    {
     "name": "stdout",
     "output_type": "stream",
     "text": [
      "[   nan 70000. 80000. 65000. 65030. 30000. 90000.]\n"
     ]
    }
   ],
   "source": [
    "print(test_df[\"FORCE_2020_LITHOFACIES_LITHOLOGY\"].unique())"
   ]
  },
  {
   "cell_type": "markdown",
   "id": "52e6a4e3",
   "metadata": {},
   "source": [
    "## Preparation of Data"
   ]
  },
  {
   "cell_type": "code",
   "execution_count": null,
   "id": "bc44d4f5",
   "metadata": {},
   "outputs": [],
   "source": [
    "print(\"df1\")\n",
    "display(df1.info())\n",
    "print(\"/n df2\")\n",
    "display(df2.info())\n",
    "print(\"/n df3\")\n",
    "display(df3.info())\n",
    "print(\"/n df4\")\n",
    "display(df4.info())"
   ]
  }
 ],
 "metadata": {
  "kernelspec": {
   "display_name": "Python 3 (ipykernel)",
   "language": "python",
   "name": "python3"
  },
  "language_info": {
   "codemirror_mode": {
    "name": "ipython",
    "version": 3
   },
   "file_extension": ".py",
   "mimetype": "text/x-python",
   "name": "python",
   "nbconvert_exporter": "python",
   "pygments_lexer": "ipython3",
   "version": "3.9.12"
  }
 },
 "nbformat": 4,
 "nbformat_minor": 5
}
