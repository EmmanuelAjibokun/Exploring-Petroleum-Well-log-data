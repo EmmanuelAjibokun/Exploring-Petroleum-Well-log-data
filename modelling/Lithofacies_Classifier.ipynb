{
 "cells": [
  {
   "cell_type": "markdown",
   "id": "d2461e5d",
   "metadata": {},
   "source": [
    "Goal: \n",
    "    To classify Lithofacies Lithology"
   ]
  },
  {
   "cell_type": "code",
   "execution_count": 1,
   "id": "a9009745",
   "metadata": {},
   "outputs": [],
   "source": [
    "import pandas as pd\n",
    "import matplotlib.pyplot as plt\n",
    "import numpy as np\n",
    "import lasio"
   ]
  },
  {
   "cell_type": "markdown",
   "id": "ec986e9c",
   "metadata": {},
   "source": [
    "las5 = lasio.read(\"./visualize-well-log/train-data/15_9-13.las.txt\")"
   ]
  },
  {
   "cell_type": "markdown",
   "id": "d38c306f",
   "metadata": {},
   "source": [
    "df5 = las5.df()"
   ]
  },
  {
   "cell_type": "markdown",
   "id": "2cf87213",
   "metadata": {},
   "source": [
    "df5.info()"
   ]
  },
  {
   "cell_type": "code",
   "execution_count": 2,
   "id": "0eb62d21",
   "metadata": {},
   "outputs": [],
   "source": [
    "# Train data\n",
    "\n",
    "las1 = lasio.read(\"../well-log-data/15_9-13.las\")\n",
    "las2 = lasio.read(\"../well-log-data/16_8-1.las\")\n",
    "las3 = lasio.read(\"../well-log-data/25_11-5.las\")\n",
    "las4 = lasio.read(\"../well-log-data/25_6-3.las\")"
   ]
  },
  {
   "cell_type": "code",
   "execution_count": 3,
   "id": "5cc91680",
   "metadata": {},
   "outputs": [],
   "source": [
    "# convert las files to dataframe\n",
    "\n",
    "df1 = las1.df()\n",
    "df2 = las2.df()\n",
    "df3 = las3.df()\n",
    "df4 = las4.df()"
   ]
  },
  {
   "cell_type": "code",
   "execution_count": 4,
   "id": "6d9590de",
   "metadata": {},
   "outputs": [
    {
     "data": {
      "text/html": [
       "<div>\n",
       "<style scoped>\n",
       "    .dataframe tbody tr th:only-of-type {\n",
       "        vertical-align: middle;\n",
       "    }\n",
       "\n",
       "    .dataframe tbody tr th {\n",
       "        vertical-align: top;\n",
       "    }\n",
       "\n",
       "    .dataframe thead th {\n",
       "        text-align: right;\n",
       "    }\n",
       "</style>\n",
       "<table border=\"1\" class=\"dataframe\">\n",
       "  <thead>\n",
       "    <tr style=\"text-align: right;\">\n",
       "      <th></th>\n",
       "      <th>FORCE_2020_LITHOFACIES_CONFIDENCE</th>\n",
       "      <th>FORCE_2020_LITHOFACIES_LITHOLOGY</th>\n",
       "      <th>CALI</th>\n",
       "      <th>MUDWEIGHT</th>\n",
       "      <th>ROP</th>\n",
       "      <th>RDEP</th>\n",
       "      <th>RSHA</th>\n",
       "      <th>RMED</th>\n",
       "      <th>RXO</th>\n",
       "      <th>SP</th>\n",
       "      <th>DTC</th>\n",
       "      <th>NPHI</th>\n",
       "      <th>PEF</th>\n",
       "      <th>GR</th>\n",
       "      <th>RHOB</th>\n",
       "      <th>DRHO</th>\n",
       "      <th>DEPTH_MD</th>\n",
       "      <th>X_LOC</th>\n",
       "      <th>Y_LOC</th>\n",
       "      <th>Z_LOC</th>\n",
       "    </tr>\n",
       "    <tr>\n",
       "      <th>DEPT</th>\n",
       "      <th></th>\n",
       "      <th></th>\n",
       "      <th></th>\n",
       "      <th></th>\n",
       "      <th></th>\n",
       "      <th></th>\n",
       "      <th></th>\n",
       "      <th></th>\n",
       "      <th></th>\n",
       "      <th></th>\n",
       "      <th></th>\n",
       "      <th></th>\n",
       "      <th></th>\n",
       "      <th></th>\n",
       "      <th></th>\n",
       "      <th></th>\n",
       "      <th></th>\n",
       "      <th></th>\n",
       "      <th></th>\n",
       "      <th></th>\n",
       "    </tr>\n",
       "  </thead>\n",
       "  <tbody>\n",
       "    <tr>\n",
       "      <th>25.000</th>\n",
       "      <td>NaN</td>\n",
       "      <td>NaN</td>\n",
       "      <td>NaN</td>\n",
       "      <td>NaN</td>\n",
       "      <td>NaN</td>\n",
       "      <td>NaN</td>\n",
       "      <td>NaN</td>\n",
       "      <td>NaN</td>\n",
       "      <td>NaN</td>\n",
       "      <td>NaN</td>\n",
       "      <td>206.224609</td>\n",
       "      <td>NaN</td>\n",
       "      <td>NaN</td>\n",
       "      <td>NaN</td>\n",
       "      <td>NaN</td>\n",
       "      <td>NaN</td>\n",
       "      <td>NaN</td>\n",
       "      <td>NaN</td>\n",
       "      <td>NaN</td>\n",
       "      <td>NaN</td>\n",
       "    </tr>\n",
       "    <tr>\n",
       "      <th>25.152</th>\n",
       "      <td>NaN</td>\n",
       "      <td>NaN</td>\n",
       "      <td>NaN</td>\n",
       "      <td>NaN</td>\n",
       "      <td>NaN</td>\n",
       "      <td>NaN</td>\n",
       "      <td>NaN</td>\n",
       "      <td>NaN</td>\n",
       "      <td>NaN</td>\n",
       "      <td>NaN</td>\n",
       "      <td>206.224625</td>\n",
       "      <td>NaN</td>\n",
       "      <td>NaN</td>\n",
       "      <td>NaN</td>\n",
       "      <td>NaN</td>\n",
       "      <td>NaN</td>\n",
       "      <td>NaN</td>\n",
       "      <td>NaN</td>\n",
       "      <td>NaN</td>\n",
       "      <td>NaN</td>\n",
       "    </tr>\n",
       "    <tr>\n",
       "      <th>25.304</th>\n",
       "      <td>NaN</td>\n",
       "      <td>NaN</td>\n",
       "      <td>NaN</td>\n",
       "      <td>NaN</td>\n",
       "      <td>NaN</td>\n",
       "      <td>NaN</td>\n",
       "      <td>NaN</td>\n",
       "      <td>NaN</td>\n",
       "      <td>NaN</td>\n",
       "      <td>NaN</td>\n",
       "      <td>206.224655</td>\n",
       "      <td>NaN</td>\n",
       "      <td>NaN</td>\n",
       "      <td>NaN</td>\n",
       "      <td>NaN</td>\n",
       "      <td>NaN</td>\n",
       "      <td>NaN</td>\n",
       "      <td>NaN</td>\n",
       "      <td>NaN</td>\n",
       "      <td>NaN</td>\n",
       "    </tr>\n",
       "    <tr>\n",
       "      <th>25.456</th>\n",
       "      <td>NaN</td>\n",
       "      <td>NaN</td>\n",
       "      <td>NaN</td>\n",
       "      <td>NaN</td>\n",
       "      <td>NaN</td>\n",
       "      <td>NaN</td>\n",
       "      <td>NaN</td>\n",
       "      <td>NaN</td>\n",
       "      <td>NaN</td>\n",
       "      <td>NaN</td>\n",
       "      <td>206.224670</td>\n",
       "      <td>NaN</td>\n",
       "      <td>NaN</td>\n",
       "      <td>NaN</td>\n",
       "      <td>NaN</td>\n",
       "      <td>NaN</td>\n",
       "      <td>NaN</td>\n",
       "      <td>NaN</td>\n",
       "      <td>NaN</td>\n",
       "      <td>NaN</td>\n",
       "    </tr>\n",
       "    <tr>\n",
       "      <th>25.608</th>\n",
       "      <td>NaN</td>\n",
       "      <td>NaN</td>\n",
       "      <td>NaN</td>\n",
       "      <td>NaN</td>\n",
       "      <td>NaN</td>\n",
       "      <td>NaN</td>\n",
       "      <td>NaN</td>\n",
       "      <td>NaN</td>\n",
       "      <td>NaN</td>\n",
       "      <td>NaN</td>\n",
       "      <td>206.224701</td>\n",
       "      <td>NaN</td>\n",
       "      <td>NaN</td>\n",
       "      <td>NaN</td>\n",
       "      <td>NaN</td>\n",
       "      <td>NaN</td>\n",
       "      <td>NaN</td>\n",
       "      <td>NaN</td>\n",
       "      <td>NaN</td>\n",
       "      <td>NaN</td>\n",
       "    </tr>\n",
       "  </tbody>\n",
       "</table>\n",
       "</div>"
      ],
      "text/plain": [
       "        FORCE_2020_LITHOFACIES_CONFIDENCE  FORCE_2020_LITHOFACIES_LITHOLOGY  \\\n",
       "DEPT                                                                          \n",
       "25.000                                NaN                               NaN   \n",
       "25.152                                NaN                               NaN   \n",
       "25.304                                NaN                               NaN   \n",
       "25.456                                NaN                               NaN   \n",
       "25.608                                NaN                               NaN   \n",
       "\n",
       "        CALI  MUDWEIGHT  ROP  RDEP  RSHA  RMED  RXO  SP         DTC  NPHI  \\\n",
       "DEPT                                                                        \n",
       "25.000   NaN        NaN  NaN   NaN   NaN   NaN  NaN NaN  206.224609   NaN   \n",
       "25.152   NaN        NaN  NaN   NaN   NaN   NaN  NaN NaN  206.224625   NaN   \n",
       "25.304   NaN        NaN  NaN   NaN   NaN   NaN  NaN NaN  206.224655   NaN   \n",
       "25.456   NaN        NaN  NaN   NaN   NaN   NaN  NaN NaN  206.224670   NaN   \n",
       "25.608   NaN        NaN  NaN   NaN   NaN   NaN  NaN NaN  206.224701   NaN   \n",
       "\n",
       "        PEF  GR  RHOB  DRHO  DEPTH_MD  X_LOC  Y_LOC  Z_LOC  \n",
       "DEPT                                                        \n",
       "25.000  NaN NaN   NaN   NaN       NaN    NaN    NaN    NaN  \n",
       "25.152  NaN NaN   NaN   NaN       NaN    NaN    NaN    NaN  \n",
       "25.304  NaN NaN   NaN   NaN       NaN    NaN    NaN    NaN  \n",
       "25.456  NaN NaN   NaN   NaN       NaN    NaN    NaN    NaN  \n",
       "25.608  NaN NaN   NaN   NaN       NaN    NaN    NaN    NaN  "
      ]
     },
     "execution_count": 4,
     "metadata": {},
     "output_type": "execute_result"
    }
   ],
   "source": [
    "df1.head()"
   ]
  },
  {
   "cell_type": "code",
   "execution_count": 5,
   "id": "ce46c5b2",
   "metadata": {},
   "outputs": [
    {
     "name": "stdout",
     "output_type": "stream",
     "text": [
      "[   nan 65000. 30000. 65030. 70000. 99000. 80000. 86000. 74000.]\n",
      "[   nan 65000. 65030. 70000. 74000. 99000. 30000. 80000. 70032.]\n",
      "[   nan 65000. 30000. 70032. 80000. 70000. 65030.]\n",
      "[   nan 65000. 65030. 30000. 70000. 99000. 80000.]\n"
     ]
    }
   ],
   "source": [
    "print(df1[\"FORCE_2020_LITHOFACIES_LITHOLOGY\"].unique())\n",
    "print(df2[\"FORCE_2020_LITHOFACIES_LITHOLOGY\"].unique())\n",
    "print(df3[\"FORCE_2020_LITHOFACIES_LITHOLOGY\"].unique())\n",
    "print(df4[\"FORCE_2020_LITHOFACIES_LITHOLOGY\"].unique())"
   ]
  },
  {
   "cell_type": "code",
   "execution_count": 6,
   "id": "925658be",
   "metadata": {},
   "outputs": [],
   "source": [
    "# Import test data\n",
    "\n",
    "las5 = lasio.read(\"../well-log-data/31_2-21 S.las\")"
   ]
  },
  {
   "cell_type": "code",
   "execution_count": 7,
   "id": "689c4495",
   "metadata": {},
   "outputs": [],
   "source": [
    "test_df = las5.df()"
   ]
  },
  {
   "cell_type": "code",
   "execution_count": 8,
   "id": "78458f5f",
   "metadata": {},
   "outputs": [
    {
     "name": "stdout",
     "output_type": "stream",
     "text": [
      "[   nan 70000. 80000. 65000. 65030. 30000. 90000.]\n"
     ]
    }
   ],
   "source": [
    "print(test_df[\"FORCE_2020_LITHOFACIES_LITHOLOGY\"].unique())"
   ]
  },
  {
   "cell_type": "markdown",
   "id": "483a4f4e",
   "metadata": {},
   "source": [
    "## Preparation of Data\n",
    "### Preparing Train Dataset"
   ]
  },
  {
   "cell_type": "code",
   "execution_count": 9,
   "id": "da144dcf",
   "metadata": {},
   "outputs": [
    {
     "name": "stdout",
     "output_type": "stream",
     "text": [
      "df1\n",
      "<class 'pandas.core.frame.DataFrame'>\n",
      "Float64Index: 21441 entries, 25.0 to 3283.88\n",
      "Data columns (total 20 columns):\n",
      " #   Column                             Non-Null Count  Dtype  \n",
      "---  ------                             --------------  -----  \n",
      " 0   FORCE_2020_LITHOFACIES_CONFIDENCE  18277 non-null  float64\n",
      " 1   FORCE_2020_LITHOFACIES_LITHOLOGY   18270 non-null  float64\n",
      " 2   CALI                               18345 non-null  float64\n",
      " 3   MUDWEIGHT                          17520 non-null  float64\n",
      " 4   ROP                                20297 non-null  float64\n",
      " 5   RDEP                               20956 non-null  float64\n",
      " 6   RSHA                               1623 non-null   float64\n",
      " 7   RMED                               20957 non-null  float64\n",
      " 8   RXO                                1627 non-null   float64\n",
      " 9   SP                                 20956 non-null  float64\n",
      " 10  DTC                                21282 non-null  float64\n",
      " 11  NPHI                               14105 non-null  float64\n",
      " 12  PEF                                16446 non-null  float64\n",
      " 13  GR                                 20900 non-null  float64\n",
      " 14  RHOB                               18345 non-null  float64\n",
      " 15  DRHO                               18345 non-null  float64\n",
      " 16  DEPTH_MD                           20956 non-null  float64\n",
      " 17  X_LOC                              20956 non-null  float64\n",
      " 18  Y_LOC                              20956 non-null  float64\n",
      " 19  Z_LOC                              20956 non-null  float64\n",
      "dtypes: float64(20)\n",
      "memory usage: 3.4 MB\n"
     ]
    },
    {
     "data": {
      "text/plain": [
       "None"
      ]
     },
     "metadata": {},
     "output_type": "display_data"
    },
    {
     "name": "stdout",
     "output_type": "stream",
     "text": [
      "/n df2\n",
      "<class 'pandas.core.frame.DataFrame'>\n",
      "Float64Index: 14586 entries, 96.975196838 to 2313.8951968\n",
      "Data columns (total 18 columns):\n",
      " #   Column                             Non-Null Count  Dtype  \n",
      "---  ------                             --------------  -----  \n",
      " 0   FORCE_2020_LITHOFACIES_CONFIDENCE  6700 non-null   float64\n",
      " 1   FORCE_2020_LITHOFACIES_LITHOLOGY   6685 non-null   float64\n",
      " 2   CALI                               6709 non-null   float64\n",
      " 3   MUDWEIGHT                          13706 non-null  float64\n",
      " 4   ROP                                14418 non-null  float64\n",
      " 5   RDEP                               11888 non-null  float64\n",
      " 6   RSHA                               11888 non-null  float64\n",
      " 7   RMED                               11887 non-null  float64\n",
      " 8   SP                                 11888 non-null  float64\n",
      " 9   DTC                                13935 non-null  float64\n",
      " 10  NPHI                               4987 non-null   float64\n",
      " 11  GR                                 14540 non-null  float64\n",
      " 12  RHOB                               6709 non-null   float64\n",
      " 13  DRHO                               6712 non-null   float64\n",
      " 14  DEPTH_MD                           11888 non-null  float64\n",
      " 15  X_LOC                              11888 non-null  float64\n",
      " 16  Y_LOC                              11888 non-null  float64\n",
      " 17  Z_LOC                              11888 non-null  float64\n",
      "dtypes: float64(18)\n",
      "memory usage: 2.1 MB\n"
     ]
    },
    {
     "data": {
      "text/plain": [
       "None"
      ]
     },
     "metadata": {},
     "output_type": "display_data"
    },
    {
     "name": "stdout",
     "output_type": "stream",
     "text": [
      "/n df3\n",
      "<class 'pandas.core.frame.DataFrame'>\n",
      "Float64Index: 13337 entries, 146.60871887 to 2173.6807189\n",
      "Data columns (total 19 columns):\n",
      " #   Column                             Non-Null Count  Dtype  \n",
      "---  ------                             --------------  -----  \n",
      " 0   FORCE_2020_LITHOFACIES_CONFIDENCE  5059 non-null   float64\n",
      " 1   FORCE_2020_LITHOFACIES_LITHOLOGY   5060 non-null   float64\n",
      " 2   CALI                               11777 non-null  float64\n",
      " 3   BS                                 13266 non-null  float64\n",
      " 4   DCAL                               11777 non-null  float64\n",
      " 5   MUDWEIGHT                          12783 non-null  float64\n",
      " 6   ROP                                12807 non-null  float64\n",
      " 7   RDEP                               11730 non-null  float64\n",
      " 8   RMED                               11731 non-null  float64\n",
      " 9   SP                                 11686 non-null  float64\n",
      " 10  DTC                                10571 non-null  float64\n",
      " 11  NPHI                               6660 non-null   float64\n",
      " 12  GR                                 13279 non-null  float64\n",
      " 13  RHOB                               5159 non-null   float64\n",
      " 14  DRHO                               5157 non-null   float64\n",
      " 15  DEPTH_MD                           11730 non-null  float64\n",
      " 16  X_LOC                              11730 non-null  float64\n",
      " 17  Y_LOC                              11730 non-null  float64\n",
      " 18  Z_LOC                              11730 non-null  float64\n",
      "dtypes: float64(19)\n",
      "memory usage: 2.0 MB\n"
     ]
    },
    {
     "data": {
      "text/plain": [
       "None"
      ]
     },
     "metadata": {},
     "output_type": "display_data"
    },
    {
     "name": "stdout",
     "output_type": "stream",
     "text": [
      "/n df4\n",
      "<class 'pandas.core.frame.DataFrame'>\n",
      "Float64Index: 15388 entries, 138.09972888 to 2476.9237289\n",
      "Data columns (total 20 columns):\n",
      " #   Column                             Non-Null Count  Dtype  \n",
      "---  ------                             --------------  -----  \n",
      " 0   FORCE_2020_LITHOFACIES_CONFIDENCE  12009 non-null  float64\n",
      " 1   FORCE_2020_LITHOFACIES_LITHOLOGY   11994 non-null  float64\n",
      " 2   CALI                               12039 non-null  float64\n",
      " 3   BS                                 15060 non-null  float64\n",
      " 4   MUDWEIGHT                          8230 non-null   float64\n",
      " 5   ROP                                15372 non-null  float64\n",
      " 6   RDEP                               15013 non-null  float64\n",
      " 7   RSHA                               8245 non-null   float64\n",
      " 8   RMED                               14972 non-null  float64\n",
      " 9   RMIC                               8246 non-null   float64\n",
      " 10  SP                                 5020 non-null   float64\n",
      " 11  DTS                                12119 non-null  float64\n",
      " 12  DTC                                12170 non-null  float64\n",
      " 13  NPHI                               8221 non-null   float64\n",
      " 14  GR                                 14894 non-null  float64\n",
      " 15  RHOB                               8247 non-null   float64\n",
      " 16  DEPTH_MD                           15013 non-null  float64\n",
      " 17  X_LOC                              15013 non-null  float64\n",
      " 18  Y_LOC                              15013 non-null  float64\n",
      " 19  Z_LOC                              15013 non-null  float64\n",
      "dtypes: float64(20)\n",
      "memory usage: 2.5 MB\n"
     ]
    },
    {
     "data": {
      "text/plain": [
       "None"
      ]
     },
     "metadata": {},
     "output_type": "display_data"
    }
   ],
   "source": [
    "print(\"df1\")\n",
    "display(df1.info())\n",
    "print(\"/n df2\")\n",
    "display(df2.info())\n",
    "print(\"/n df3\")\n",
    "display(df3.info())\n",
    "print(\"/n df4\")\n",
    "display(df4.info())"
   ]
  },
  {
   "cell_type": "code",
   "execution_count": 10,
   "id": "cfa0d257",
   "metadata": {
    "scrolled": true
   },
   "outputs": [
    {
     "data": {
      "text/plain": [
       "FORCE_2020_LITHOFACIES_CONFIDENCE     3164\n",
       "FORCE_2020_LITHOFACIES_LITHOLOGY      3171\n",
       "CALI                                  3096\n",
       "MUDWEIGHT                             3921\n",
       "ROP                                   1144\n",
       "RDEP                                   485\n",
       "RSHA                                 19818\n",
       "RMED                                   484\n",
       "RXO                                  19814\n",
       "SP                                     485\n",
       "DTC                                    159\n",
       "NPHI                                  7336\n",
       "PEF                                   4995\n",
       "GR                                     541\n",
       "RHOB                                  3096\n",
       "DRHO                                  3096\n",
       "DEPTH_MD                               485\n",
       "X_LOC                                  485\n",
       "Y_LOC                                  485\n",
       "Z_LOC                                  485\n",
       "dtype: int64"
      ]
     },
     "metadata": {},
     "output_type": "display_data"
    },
    {
     "data": {
      "text/plain": [
       "FORCE_2020_LITHOFACIES_CONFIDENCE    7886\n",
       "FORCE_2020_LITHOFACIES_LITHOLOGY     7901\n",
       "CALI                                 7877\n",
       "MUDWEIGHT                             880\n",
       "ROP                                   168\n",
       "RDEP                                 2698\n",
       "RSHA                                 2698\n",
       "RMED                                 2699\n",
       "SP                                   2698\n",
       "DTC                                   651\n",
       "NPHI                                 9599\n",
       "GR                                     46\n",
       "RHOB                                 7877\n",
       "DRHO                                 7874\n",
       "DEPTH_MD                             2698\n",
       "X_LOC                                2698\n",
       "Y_LOC                                2698\n",
       "Z_LOC                                2698\n",
       "dtype: int64"
      ]
     },
     "metadata": {},
     "output_type": "display_data"
    },
    {
     "data": {
      "text/plain": [
       "FORCE_2020_LITHOFACIES_CONFIDENCE    8278\n",
       "FORCE_2020_LITHOFACIES_LITHOLOGY     8277\n",
       "CALI                                 1560\n",
       "BS                                     71\n",
       "DCAL                                 1560\n",
       "MUDWEIGHT                             554\n",
       "ROP                                   530\n",
       "RDEP                                 1607\n",
       "RMED                                 1606\n",
       "SP                                   1651\n",
       "DTC                                  2766\n",
       "NPHI                                 6677\n",
       "GR                                     58\n",
       "RHOB                                 8178\n",
       "DRHO                                 8180\n",
       "DEPTH_MD                             1607\n",
       "X_LOC                                1607\n",
       "Y_LOC                                1607\n",
       "Z_LOC                                1607\n",
       "dtype: int64"
      ]
     },
     "metadata": {},
     "output_type": "display_data"
    },
    {
     "data": {
      "text/plain": [
       "FORCE_2020_LITHOFACIES_CONFIDENCE     3379\n",
       "FORCE_2020_LITHOFACIES_LITHOLOGY      3394\n",
       "CALI                                  3349\n",
       "BS                                     328\n",
       "MUDWEIGHT                             7158\n",
       "ROP                                     16\n",
       "RDEP                                   375\n",
       "RSHA                                  7143\n",
       "RMED                                   416\n",
       "RMIC                                  7142\n",
       "SP                                   10368\n",
       "DTS                                   3269\n",
       "DTC                                   3218\n",
       "NPHI                                  7167\n",
       "GR                                     494\n",
       "RHOB                                  7141\n",
       "DEPTH_MD                               375\n",
       "X_LOC                                  375\n",
       "Y_LOC                                  375\n",
       "Z_LOC                                  375\n",
       "dtype: int64"
      ]
     },
     "metadata": {},
     "output_type": "display_data"
    }
   ],
   "source": [
    "display(df1.isna().sum())\n",
    "display(df2.isna().sum())\n",
    "display(df3.isna().sum())\n",
    "display(df4.isna().sum())"
   ]
  },
  {
   "cell_type": "markdown",
   "id": "1f0c412b",
   "metadata": {},
   "source": [
    "#### Drop columns that are <70%"
   ]
  },
  {
   "cell_type": "code",
   "execution_count": 11,
   "id": "cc285365",
   "metadata": {},
   "outputs": [],
   "source": [
    "df1 = df1.drop([\"RSHA\", \"RXO\"], axis=1)\n",
    "df2 = df2.drop([\"DRHO\"], axis=1)\n",
    "df3 = df3.drop([\"DRHO\"], axis=1)\n",
    "# df4 = df4.drop([\"RHOB\"], axis=1)"
   ]
  },
  {
   "cell_type": "markdown",
   "id": "8151956d",
   "metadata": {},
   "source": [
    "#### Drop columns that are not mutually included in all dataset"
   ]
  },
  {
   "cell_type": "code",
   "execution_count": 12,
   "id": "4b983dc6",
   "metadata": {},
   "outputs": [
    {
     "name": "stdout",
     "output_type": "stream",
     "text": [
      "df1\n",
      "<class 'pandas.core.frame.DataFrame'>\n",
      "Float64Index: 21441 entries, 25.0 to 3283.88\n",
      "Data columns (total 18 columns):\n",
      " #   Column                             Non-Null Count  Dtype  \n",
      "---  ------                             --------------  -----  \n",
      " 0   FORCE_2020_LITHOFACIES_CONFIDENCE  18277 non-null  float64\n",
      " 1   FORCE_2020_LITHOFACIES_LITHOLOGY   18270 non-null  float64\n",
      " 2   CALI                               18345 non-null  float64\n",
      " 3   MUDWEIGHT                          17520 non-null  float64\n",
      " 4   ROP                                20297 non-null  float64\n",
      " 5   RDEP                               20956 non-null  float64\n",
      " 6   RMED                               20957 non-null  float64\n",
      " 7   SP                                 20956 non-null  float64\n",
      " 8   DTC                                21282 non-null  float64\n",
      " 9   NPHI                               14105 non-null  float64\n",
      " 10  PEF                                16446 non-null  float64\n",
      " 11  GR                                 20900 non-null  float64\n",
      " 12  RHOB                               18345 non-null  float64\n",
      " 13  DRHO                               18345 non-null  float64\n",
      " 14  DEPTH_MD                           20956 non-null  float64\n",
      " 15  X_LOC                              20956 non-null  float64\n",
      " 16  Y_LOC                              20956 non-null  float64\n",
      " 17  Z_LOC                              20956 non-null  float64\n",
      "dtypes: float64(18)\n",
      "memory usage: 3.1 MB\n"
     ]
    },
    {
     "data": {
      "text/plain": [
       "None"
      ]
     },
     "metadata": {},
     "output_type": "display_data"
    },
    {
     "name": "stdout",
     "output_type": "stream",
     "text": [
      "/n df2\n",
      "<class 'pandas.core.frame.DataFrame'>\n",
      "Float64Index: 14586 entries, 96.975196838 to 2313.8951968\n",
      "Data columns (total 17 columns):\n",
      " #   Column                             Non-Null Count  Dtype  \n",
      "---  ------                             --------------  -----  \n",
      " 0   FORCE_2020_LITHOFACIES_CONFIDENCE  6700 non-null   float64\n",
      " 1   FORCE_2020_LITHOFACIES_LITHOLOGY   6685 non-null   float64\n",
      " 2   CALI                               6709 non-null   float64\n",
      " 3   MUDWEIGHT                          13706 non-null  float64\n",
      " 4   ROP                                14418 non-null  float64\n",
      " 5   RDEP                               11888 non-null  float64\n",
      " 6   RSHA                               11888 non-null  float64\n",
      " 7   RMED                               11887 non-null  float64\n",
      " 8   SP                                 11888 non-null  float64\n",
      " 9   DTC                                13935 non-null  float64\n",
      " 10  NPHI                               4987 non-null   float64\n",
      " 11  GR                                 14540 non-null  float64\n",
      " 12  RHOB                               6709 non-null   float64\n",
      " 13  DEPTH_MD                           11888 non-null  float64\n",
      " 14  X_LOC                              11888 non-null  float64\n",
      " 15  Y_LOC                              11888 non-null  float64\n",
      " 16  Z_LOC                              11888 non-null  float64\n",
      "dtypes: float64(17)\n",
      "memory usage: 2.0 MB\n"
     ]
    },
    {
     "data": {
      "text/plain": [
       "None"
      ]
     },
     "metadata": {},
     "output_type": "display_data"
    },
    {
     "name": "stdout",
     "output_type": "stream",
     "text": [
      "/n df3\n",
      "<class 'pandas.core.frame.DataFrame'>\n",
      "Float64Index: 13337 entries, 146.60871887 to 2173.6807189\n",
      "Data columns (total 18 columns):\n",
      " #   Column                             Non-Null Count  Dtype  \n",
      "---  ------                             --------------  -----  \n",
      " 0   FORCE_2020_LITHOFACIES_CONFIDENCE  5059 non-null   float64\n",
      " 1   FORCE_2020_LITHOFACIES_LITHOLOGY   5060 non-null   float64\n",
      " 2   CALI                               11777 non-null  float64\n",
      " 3   BS                                 13266 non-null  float64\n",
      " 4   DCAL                               11777 non-null  float64\n",
      " 5   MUDWEIGHT                          12783 non-null  float64\n",
      " 6   ROP                                12807 non-null  float64\n",
      " 7   RDEP                               11730 non-null  float64\n",
      " 8   RMED                               11731 non-null  float64\n",
      " 9   SP                                 11686 non-null  float64\n",
      " 10  DTC                                10571 non-null  float64\n",
      " 11  NPHI                               6660 non-null   float64\n",
      " 12  GR                                 13279 non-null  float64\n",
      " 13  RHOB                               5159 non-null   float64\n",
      " 14  DEPTH_MD                           11730 non-null  float64\n",
      " 15  X_LOC                              11730 non-null  float64\n",
      " 16  Y_LOC                              11730 non-null  float64\n",
      " 17  Z_LOC                              11730 non-null  float64\n",
      "dtypes: float64(18)\n",
      "memory usage: 1.9 MB\n"
     ]
    },
    {
     "data": {
      "text/plain": [
       "None"
      ]
     },
     "metadata": {},
     "output_type": "display_data"
    },
    {
     "name": "stdout",
     "output_type": "stream",
     "text": [
      "/n df4\n",
      "<class 'pandas.core.frame.DataFrame'>\n",
      "Float64Index: 15388 entries, 138.09972888 to 2476.9237289\n",
      "Data columns (total 20 columns):\n",
      " #   Column                             Non-Null Count  Dtype  \n",
      "---  ------                             --------------  -----  \n",
      " 0   FORCE_2020_LITHOFACIES_CONFIDENCE  12009 non-null  float64\n",
      " 1   FORCE_2020_LITHOFACIES_LITHOLOGY   11994 non-null  float64\n",
      " 2   CALI                               12039 non-null  float64\n",
      " 3   BS                                 15060 non-null  float64\n",
      " 4   MUDWEIGHT                          8230 non-null   float64\n",
      " 5   ROP                                15372 non-null  float64\n",
      " 6   RDEP                               15013 non-null  float64\n",
      " 7   RSHA                               8245 non-null   float64\n",
      " 8   RMED                               14972 non-null  float64\n",
      " 9   RMIC                               8246 non-null   float64\n",
      " 10  SP                                 5020 non-null   float64\n",
      " 11  DTS                                12119 non-null  float64\n",
      " 12  DTC                                12170 non-null  float64\n",
      " 13  NPHI                               8221 non-null   float64\n",
      " 14  GR                                 14894 non-null  float64\n",
      " 15  RHOB                               8247 non-null   float64\n",
      " 16  DEPTH_MD                           15013 non-null  float64\n",
      " 17  X_LOC                              15013 non-null  float64\n",
      " 18  Y_LOC                              15013 non-null  float64\n",
      " 19  Z_LOC                              15013 non-null  float64\n",
      "dtypes: float64(20)\n",
      "memory usage: 2.5 MB\n"
     ]
    },
    {
     "data": {
      "text/plain": [
       "None"
      ]
     },
     "metadata": {},
     "output_type": "display_data"
    }
   ],
   "source": [
    "print(\"df1\")\n",
    "display(df1.info())\n",
    "print(\"/n df2\")\n",
    "display(df2.info())\n",
    "print(\"/n df3\")\n",
    "display(df3.info())\n",
    "print(\"/n df4\")\n",
    "display(df4.info())"
   ]
  },
  {
   "cell_type": "code",
   "execution_count": 13,
   "id": "60525635",
   "metadata": {},
   "outputs": [],
   "source": [
    "df1 = df1.drop([\"PEF\", \"DRHO\"], axis=1)\n",
    "df2 = df2.drop([\"RSHA\"], axis=1)\n",
    "df3 = df3.drop([\"BS\", \"DCAL\"], axis=1)\n",
    "df4 = df4.drop([\"DTS\", \"RSHA\", \"RMIC\", \"BS\"], axis=1)"
   ]
  },
  {
   "cell_type": "code",
   "execution_count": 14,
   "id": "21da44ae",
   "metadata": {
    "scrolled": true
   },
   "outputs": [
    {
     "name": "stdout",
     "output_type": "stream",
     "text": [
      "df1\n",
      "<class 'pandas.core.frame.DataFrame'>\n",
      "Float64Index: 21441 entries, 25.0 to 3283.88\n",
      "Data columns (total 16 columns):\n",
      " #   Column                             Non-Null Count  Dtype  \n",
      "---  ------                             --------------  -----  \n",
      " 0   FORCE_2020_LITHOFACIES_CONFIDENCE  18277 non-null  float64\n",
      " 1   FORCE_2020_LITHOFACIES_LITHOLOGY   18270 non-null  float64\n",
      " 2   CALI                               18345 non-null  float64\n",
      " 3   MUDWEIGHT                          17520 non-null  float64\n",
      " 4   ROP                                20297 non-null  float64\n",
      " 5   RDEP                               20956 non-null  float64\n",
      " 6   RMED                               20957 non-null  float64\n",
      " 7   SP                                 20956 non-null  float64\n",
      " 8   DTC                                21282 non-null  float64\n",
      " 9   NPHI                               14105 non-null  float64\n",
      " 10  GR                                 20900 non-null  float64\n",
      " 11  RHOB                               18345 non-null  float64\n",
      " 12  DEPTH_MD                           20956 non-null  float64\n",
      " 13  X_LOC                              20956 non-null  float64\n",
      " 14  Y_LOC                              20956 non-null  float64\n",
      " 15  Z_LOC                              20956 non-null  float64\n",
      "dtypes: float64(16)\n",
      "memory usage: 2.8 MB\n"
     ]
    },
    {
     "data": {
      "text/plain": [
       "None"
      ]
     },
     "metadata": {},
     "output_type": "display_data"
    },
    {
     "name": "stdout",
     "output_type": "stream",
     "text": [
      "/n df2\n",
      "<class 'pandas.core.frame.DataFrame'>\n",
      "Float64Index: 14586 entries, 96.975196838 to 2313.8951968\n",
      "Data columns (total 16 columns):\n",
      " #   Column                             Non-Null Count  Dtype  \n",
      "---  ------                             --------------  -----  \n",
      " 0   FORCE_2020_LITHOFACIES_CONFIDENCE  6700 non-null   float64\n",
      " 1   FORCE_2020_LITHOFACIES_LITHOLOGY   6685 non-null   float64\n",
      " 2   CALI                               6709 non-null   float64\n",
      " 3   MUDWEIGHT                          13706 non-null  float64\n",
      " 4   ROP                                14418 non-null  float64\n",
      " 5   RDEP                               11888 non-null  float64\n",
      " 6   RMED                               11887 non-null  float64\n",
      " 7   SP                                 11888 non-null  float64\n",
      " 8   DTC                                13935 non-null  float64\n",
      " 9   NPHI                               4987 non-null   float64\n",
      " 10  GR                                 14540 non-null  float64\n",
      " 11  RHOB                               6709 non-null   float64\n",
      " 12  DEPTH_MD                           11888 non-null  float64\n",
      " 13  X_LOC                              11888 non-null  float64\n",
      " 14  Y_LOC                              11888 non-null  float64\n",
      " 15  Z_LOC                              11888 non-null  float64\n",
      "dtypes: float64(16)\n",
      "memory usage: 1.9 MB\n"
     ]
    },
    {
     "data": {
      "text/plain": [
       "None"
      ]
     },
     "metadata": {},
     "output_type": "display_data"
    },
    {
     "name": "stdout",
     "output_type": "stream",
     "text": [
      "/n df3\n",
      "<class 'pandas.core.frame.DataFrame'>\n",
      "Float64Index: 13337 entries, 146.60871887 to 2173.6807189\n",
      "Data columns (total 16 columns):\n",
      " #   Column                             Non-Null Count  Dtype  \n",
      "---  ------                             --------------  -----  \n",
      " 0   FORCE_2020_LITHOFACIES_CONFIDENCE  5059 non-null   float64\n",
      " 1   FORCE_2020_LITHOFACIES_LITHOLOGY   5060 non-null   float64\n",
      " 2   CALI                               11777 non-null  float64\n",
      " 3   MUDWEIGHT                          12783 non-null  float64\n",
      " 4   ROP                                12807 non-null  float64\n",
      " 5   RDEP                               11730 non-null  float64\n",
      " 6   RMED                               11731 non-null  float64\n",
      " 7   SP                                 11686 non-null  float64\n",
      " 8   DTC                                10571 non-null  float64\n",
      " 9   NPHI                               6660 non-null   float64\n",
      " 10  GR                                 13279 non-null  float64\n",
      " 11  RHOB                               5159 non-null   float64\n",
      " 12  DEPTH_MD                           11730 non-null  float64\n",
      " 13  X_LOC                              11730 non-null  float64\n",
      " 14  Y_LOC                              11730 non-null  float64\n",
      " 15  Z_LOC                              11730 non-null  float64\n",
      "dtypes: float64(16)\n",
      "memory usage: 1.7 MB\n"
     ]
    },
    {
     "data": {
      "text/plain": [
       "None"
      ]
     },
     "metadata": {},
     "output_type": "display_data"
    },
    {
     "name": "stdout",
     "output_type": "stream",
     "text": [
      "/n df4\n",
      "<class 'pandas.core.frame.DataFrame'>\n",
      "Float64Index: 15388 entries, 138.09972888 to 2476.9237289\n",
      "Data columns (total 16 columns):\n",
      " #   Column                             Non-Null Count  Dtype  \n",
      "---  ------                             --------------  -----  \n",
      " 0   FORCE_2020_LITHOFACIES_CONFIDENCE  12009 non-null  float64\n",
      " 1   FORCE_2020_LITHOFACIES_LITHOLOGY   11994 non-null  float64\n",
      " 2   CALI                               12039 non-null  float64\n",
      " 3   MUDWEIGHT                          8230 non-null   float64\n",
      " 4   ROP                                15372 non-null  float64\n",
      " 5   RDEP                               15013 non-null  float64\n",
      " 6   RMED                               14972 non-null  float64\n",
      " 7   SP                                 5020 non-null   float64\n",
      " 8   DTC                                12170 non-null  float64\n",
      " 9   NPHI                               8221 non-null   float64\n",
      " 10  GR                                 14894 non-null  float64\n",
      " 11  RHOB                               8247 non-null   float64\n",
      " 12  DEPTH_MD                           15013 non-null  float64\n",
      " 13  X_LOC                              15013 non-null  float64\n",
      " 14  Y_LOC                              15013 non-null  float64\n",
      " 15  Z_LOC                              15013 non-null  float64\n",
      "dtypes: float64(16)\n",
      "memory usage: 2.0 MB\n"
     ]
    },
    {
     "data": {
      "text/plain": [
       "None"
      ]
     },
     "metadata": {},
     "output_type": "display_data"
    }
   ],
   "source": [
    "print(\"df1\")\n",
    "display(df1.info())\n",
    "print(\"/n df2\")\n",
    "display(df2.info())\n",
    "print(\"/n df3\")\n",
    "display(df3.info())\n",
    "print(\"/n df4\")\n",
    "display(df4.info())"
   ]
  },
  {
   "cell_type": "code",
   "execution_count": 15,
   "id": "dd626c3e",
   "metadata": {},
   "outputs": [
    {
     "data": {
      "text/plain": [
       "(21441, 16)"
      ]
     },
     "metadata": {},
     "output_type": "display_data"
    },
    {
     "data": {
      "text/plain": [
       "(14586, 16)"
      ]
     },
     "metadata": {},
     "output_type": "display_data"
    },
    {
     "data": {
      "text/plain": [
       "(13337, 16)"
      ]
     },
     "metadata": {},
     "output_type": "display_data"
    },
    {
     "data": {
      "text/plain": [
       "(15388, 16)"
      ]
     },
     "metadata": {},
     "output_type": "display_data"
    }
   ],
   "source": [
    "display(df1.shape,df2.shape,df3.shape, df4.shape)"
   ]
  },
  {
   "cell_type": "code",
   "execution_count": 16,
   "id": "c6661e6b",
   "metadata": {},
   "outputs": [
    {
     "data": {
      "text/plain": [
       "(64752, 16)"
      ]
     },
     "execution_count": 16,
     "metadata": {},
     "output_type": "execute_result"
    }
   ],
   "source": [
    "merged_df = pd.concat([df1, df2, df3, df4])\n",
    "merged_df.shape"
   ]
  },
  {
   "cell_type": "code",
   "execution_count": 17,
   "id": "9f86a831",
   "metadata": {
    "scrolled": true
   },
   "outputs": [
    {
     "data": {
      "text/plain": [
       "array([   nan, 65000., 30000., 65030., 70000., 99000., 80000., 86000.,\n",
       "       74000., 70032.])"
      ]
     },
     "execution_count": 17,
     "metadata": {},
     "output_type": "execute_result"
    }
   ],
   "source": [
    "merged_df[\"FORCE_2020_LITHOFACIES_LITHOLOGY\"].unique()"
   ]
  },
  {
   "attachments": {
    "lithology.jpg": {
     "image/jpeg": "[encoded data removed]"
    }
   },
   "cell_type": "markdown",
   "id": "82d25980",
   "metadata": {},
   "source": [
    "![lithology.jpg](attachment:lithology.jpg)"
   ]
  },
  {
   "cell_type": "code",
   "execution_count": 18,
   "id": "33d19bb7",
   "metadata": {},
   "outputs": [],
   "source": [
    "lithology = {\n",
    "    30000: [0, \"Sandstone\"],\n",
    "    65000: [1, \"Shale\"],\n",
    "    65030: [2, \"Sandstone/Stone\"],\n",
    "    70000: [3, \"Limestone\"],\n",
    "    70032: [4, \"Chalk\"],\n",
    "    74000: [5, \"Dolomite\"],\n",
    "    80000: [6, \"Marl\"],\n",
    "    86000: [7, \"Anhydrite\"],\n",
    "    99000: [8, \"Tuff\"],\n",
    "    90000: [9, \"Coal\"]\n",
    "}"
   ]
  },
  {
   "cell_type": "code",
   "execution_count": 19,
   "id": "275e39b5",
   "metadata": {},
   "outputs": [
    {
     "data": {
      "text/plain": [
       "'Sandstone'"
      ]
     },
     "execution_count": 19,
     "metadata": {},
     "output_type": "execute_result"
    }
   ],
   "source": [
    "lithology[30000][1]"
   ]
  },
  {
   "cell_type": "markdown",
   "id": "d2d74427",
   "metadata": {},
   "source": [
    "#### Replace column's entries with corresponding discrete values"
   ]
  },
  {
   "cell_type": "code",
   "execution_count": 20,
   "id": "337ece35",
   "metadata": {},
   "outputs": [],
   "source": [
    "for key, value in lithology.items():\n",
    "        merged_df.loc[merged_df[\"FORCE_2020_LITHOFACIES_LITHOLOGY\"] == key, \"FORCE_2020_LITHOFACIES_LITHOLOGY\"] = lithology[key][0]"
   ]
  },
  {
   "cell_type": "code",
   "execution_count": 21,
   "id": "672b2343",
   "metadata": {},
   "outputs": [
    {
     "name": "stdout",
     "output_type": "stream",
     "text": [
      "<class 'pandas.core.frame.DataFrame'>\n",
      "Float64Index: 64752 entries, 25.0 to 2476.9237289\n",
      "Data columns (total 16 columns):\n",
      " #   Column                             Non-Null Count  Dtype  \n",
      "---  ------                             --------------  -----  \n",
      " 0   FORCE_2020_LITHOFACIES_CONFIDENCE  42045 non-null  float64\n",
      " 1   FORCE_2020_LITHOFACIES_LITHOLOGY   42009 non-null  float64\n",
      " 2   CALI                               48870 non-null  float64\n",
      " 3   MUDWEIGHT                          52239 non-null  float64\n",
      " 4   ROP                                62894 non-null  float64\n",
      " 5   RDEP                               59587 non-null  float64\n",
      " 6   RMED                               59547 non-null  float64\n",
      " 7   SP                                 49550 non-null  float64\n",
      " 8   DTC                                57958 non-null  float64\n",
      " 9   NPHI                               33973 non-null  float64\n",
      " 10  GR                                 63613 non-null  float64\n",
      " 11  RHOB                               38460 non-null  float64\n",
      " 12  DEPTH_MD                           59587 non-null  float64\n",
      " 13  X_LOC                              59587 non-null  float64\n",
      " 14  Y_LOC                              59587 non-null  float64\n",
      " 15  Z_LOC                              59587 non-null  float64\n",
      "dtypes: float64(16)\n",
      "memory usage: 8.4 MB\n"
     ]
    }
   ],
   "source": [
    "merged_df.info()"
   ]
  },
  {
   "cell_type": "code",
   "execution_count": 22,
   "id": "5fb786c1",
   "metadata": {},
   "outputs": [
    {
     "data": {
      "text/plain": [
       "array([nan,  1.,  0.,  2.,  3.,  8.,  6.,  7.,  5.,  4.])"
      ]
     },
     "execution_count": 22,
     "metadata": {},
     "output_type": "execute_result"
    }
   ],
   "source": [
    "merged_df[\"FORCE_2020_LITHOFACIES_LITHOLOGY\"].unique()"
   ]
  },
  {
   "cell_type": "markdown",
   "id": "09b963ae",
   "metadata": {},
   "source": [
    "### Preparing Test Dataset"
   ]
  },
  {
   "cell_type": "code",
   "execution_count": 23,
   "id": "a5c3a359",
   "metadata": {},
   "outputs": [
    {
     "name": "stdout",
     "output_type": "stream",
     "text": [
      "<class 'pandas.core.frame.DataFrame'>\n",
      "Float64Index: 18731 entries, 372.0084 to 3218.9684\n",
      "Data columns (total 19 columns):\n",
      " #   Column                             Non-Null Count  Dtype  \n",
      "---  ------                             --------------  -----  \n",
      " 0   FORCE_2020_LITHOFACIES_CONFIDENCE  7841 non-null   float64\n",
      " 1   FORCE_2020_LITHOFACIES_LITHOLOGY   7840 non-null   float64\n",
      " 2   CALI                               7842 non-null   float64\n",
      " 3   BS                                 18674 non-null  float64\n",
      " 4   ROPA                               18680 non-null  float64\n",
      " 5   ROP                                18664 non-null  float64\n",
      " 6   RDEP                               18567 non-null  float64\n",
      " 7   RMED                               18524 non-null  float64\n",
      " 8   DTS                                15252 non-null  float64\n",
      " 9   DTC                                18199 non-null  float64\n",
      " 10  NPHI                               7835 non-null   float64\n",
      " 11  PEF                                7800 non-null   float64\n",
      " 12  GR                                 18666 non-null  float64\n",
      " 13  RHOB                               7800 non-null   float64\n",
      " 14  DRHO                               7846 non-null   float64\n",
      " 15  DEPTH_MD                           18567 non-null  float64\n",
      " 16  X_LOC                              18567 non-null  float64\n",
      " 17  Y_LOC                              18567 non-null  float64\n",
      " 18  Z_LOC                              18567 non-null  float64\n",
      "dtypes: float64(19)\n",
      "memory usage: 2.9 MB\n"
     ]
    }
   ],
   "source": [
    "test_df.info()"
   ]
  },
  {
   "cell_type": "code",
   "execution_count": 24,
   "id": "c1a907fb",
   "metadata": {
    "scrolled": true
   },
   "outputs": [
    {
     "name": "stdout",
     "output_type": "stream",
     "text": [
      "<class 'pandas.core.frame.DataFrame'>\n",
      "Float64Index: 18731 entries, 372.0084 to 3218.9684\n",
      "Data columns (total 14 columns):\n",
      " #   Column                             Non-Null Count  Dtype  \n",
      "---  ------                             --------------  -----  \n",
      " 0   FORCE_2020_LITHOFACIES_CONFIDENCE  7841 non-null   float64\n",
      " 1   FORCE_2020_LITHOFACIES_LITHOLOGY   7840 non-null   float64\n",
      " 2   CALI                               7842 non-null   float64\n",
      " 3   ROP                                18664 non-null  float64\n",
      " 4   RDEP                               18567 non-null  float64\n",
      " 5   RMED                               18524 non-null  float64\n",
      " 6   DTC                                18199 non-null  float64\n",
      " 7   NPHI                               7835 non-null   float64\n",
      " 8   GR                                 18666 non-null  float64\n",
      " 9   RHOB                               7800 non-null   float64\n",
      " 10  DEPTH_MD                           18567 non-null  float64\n",
      " 11  X_LOC                              18567 non-null  float64\n",
      " 12  Y_LOC                              18567 non-null  float64\n",
      " 13  Z_LOC                              18567 non-null  float64\n",
      "dtypes: float64(14)\n",
      "memory usage: 2.1 MB\n"
     ]
    }
   ],
   "source": [
    "test_df.drop([\"BS\", \"ROPA\", \"DTS\", \"PEF\", \"DRHO\"], axis=1, inplace=True)\n",
    "test_df.info()"
   ]
  },
  {
   "cell_type": "markdown",
   "id": "facb717c",
   "metadata": {},
   "source": [
    "Looking at our test dataset, we can see that the columns available here doesn't match the ones in our merged dataset. \n",
    "we would be drop the columns in the merged df that are not in the test df"
   ]
  },
  {
   "cell_type": "code",
   "execution_count": 25,
   "id": "a481a206",
   "metadata": {},
   "outputs": [
    {
     "name": "stdout",
     "output_type": "stream",
     "text": [
      "<class 'pandas.core.frame.DataFrame'>\n",
      "Float64Index: 64752 entries, 25.0 to 2476.9237289\n",
      "Data columns (total 14 columns):\n",
      " #   Column                             Non-Null Count  Dtype  \n",
      "---  ------                             --------------  -----  \n",
      " 0   FORCE_2020_LITHOFACIES_CONFIDENCE  42045 non-null  float64\n",
      " 1   FORCE_2020_LITHOFACIES_LITHOLOGY   42009 non-null  float64\n",
      " 2   CALI                               48870 non-null  float64\n",
      " 3   ROP                                62894 non-null  float64\n",
      " 4   RDEP                               59587 non-null  float64\n",
      " 5   RMED                               59547 non-null  float64\n",
      " 6   DTC                                57958 non-null  float64\n",
      " 7   NPHI                               33973 non-null  float64\n",
      " 8   GR                                 63613 non-null  float64\n",
      " 9   RHOB                               38460 non-null  float64\n",
      " 10  DEPTH_MD                           59587 non-null  float64\n",
      " 11  X_LOC                              59587 non-null  float64\n",
      " 12  Y_LOC                              59587 non-null  float64\n",
      " 13  Z_LOC                              59587 non-null  float64\n",
      "dtypes: float64(14)\n",
      "memory usage: 7.4 MB\n"
     ]
    }
   ],
   "source": [
    "merged_df.drop([\"MUDWEIGHT\", \"SP\"], axis=1, inplace=True)\n",
    "merged_df.info()"
   ]
  },
  {
   "cell_type": "code",
   "execution_count": 26,
   "id": "64b9c65f",
   "metadata": {},
   "outputs": [
    {
     "name": "stdout",
     "output_type": "stream",
     "text": [
      "<class 'pandas.core.frame.DataFrame'>\n",
      "Float64Index: 18731 entries, 372.0084 to 3218.9684\n",
      "Data columns (total 14 columns):\n",
      " #   Column                             Non-Null Count  Dtype  \n",
      "---  ------                             --------------  -----  \n",
      " 0   FORCE_2020_LITHOFACIES_CONFIDENCE  7841 non-null   float64\n",
      " 1   FORCE_2020_LITHOFACIES_LITHOLOGY   7840 non-null   float64\n",
      " 2   CALI                               7842 non-null   float64\n",
      " 3   ROP                                18664 non-null  float64\n",
      " 4   RDEP                               18567 non-null  float64\n",
      " 5   RMED                               18524 non-null  float64\n",
      " 6   DTC                                18199 non-null  float64\n",
      " 7   NPHI                               7835 non-null   float64\n",
      " 8   GR                                 18666 non-null  float64\n",
      " 9   RHOB                               7800 non-null   float64\n",
      " 10  DEPTH_MD                           18567 non-null  float64\n",
      " 11  X_LOC                              18567 non-null  float64\n",
      " 12  Y_LOC                              18567 non-null  float64\n",
      " 13  Z_LOC                              18567 non-null  float64\n",
      "dtypes: float64(14)\n",
      "memory usage: 2.1 MB\n"
     ]
    }
   ],
   "source": [
    "test_df.info()"
   ]
  },
  {
   "cell_type": "code",
   "execution_count": 27,
   "id": "1a02903c",
   "metadata": {},
   "outputs": [
    {
     "data": {
      "text/plain": [
       "array([   nan, 70000., 80000., 65000., 65030., 30000., 90000.])"
      ]
     },
     "execution_count": 27,
     "metadata": {},
     "output_type": "execute_result"
    }
   ],
   "source": [
    "test_df[\"FORCE_2020_LITHOFACIES_LITHOLOGY\"].unique()"
   ]
  },
  {
   "cell_type": "code",
   "execution_count": 28,
   "id": "70305b72",
   "metadata": {},
   "outputs": [],
   "source": [
    "# change columns datatype from float64 to int64\n",
    "test_df[\"FORCE_2020_LITHOFACIES_LITHOLOGY\"] = test_df[\"FORCE_2020_LITHOFACIES_LITHOLOGY\"].astype(\"Int64\")"
   ]
  },
  {
   "cell_type": "code",
   "execution_count": 29,
   "id": "8a2007ec",
   "metadata": {},
   "outputs": [
    {
     "name": "stdout",
     "output_type": "stream",
     "text": [
      "<class 'pandas.core.frame.DataFrame'>\n",
      "Float64Index: 64752 entries, 25.0 to 2476.9237289\n",
      "Data columns (total 14 columns):\n",
      " #   Column                             Non-Null Count  Dtype  \n",
      "---  ------                             --------------  -----  \n",
      " 0   FORCE_2020_LITHOFACIES_CONFIDENCE  42045 non-null  float64\n",
      " 1   FORCE_2020_LITHOFACIES_LITHOLOGY   42009 non-null  float64\n",
      " 2   CALI                               48870 non-null  float64\n",
      " 3   ROP                                62894 non-null  float64\n",
      " 4   RDEP                               59587 non-null  float64\n",
      " 5   RMED                               59547 non-null  float64\n",
      " 6   DTC                                57958 non-null  float64\n",
      " 7   NPHI                               33973 non-null  float64\n",
      " 8   GR                                 63613 non-null  float64\n",
      " 9   RHOB                               38460 non-null  float64\n",
      " 10  DEPTH_MD                           59587 non-null  float64\n",
      " 11  X_LOC                              59587 non-null  float64\n",
      " 12  Y_LOC                              59587 non-null  float64\n",
      " 13  Z_LOC                              59587 non-null  float64\n",
      "dtypes: float64(14)\n",
      "memory usage: 7.4 MB\n"
     ]
    }
   ],
   "source": [
    "merged_df.info()"
   ]
  },
  {
   "cell_type": "code",
   "execution_count": 30,
   "id": "550e7099",
   "metadata": {},
   "outputs": [],
   "source": [
    "merged_df[\"FORCE_2020_LITHOFACIES_LITHOLOGY\"] = merged_df[\"FORCE_2020_LITHOFACIES_LITHOLOGY\"].astype(\"Int64\")"
   ]
  },
  {
   "cell_type": "code",
   "execution_count": 31,
   "id": "e71c06bd",
   "metadata": {},
   "outputs": [
    {
     "data": {
      "text/plain": [
       "<IntegerArray>\n",
       "[<NA>, 1, 0, 2, 3, 8, 6, 7, 5, 4]\n",
       "Length: 10, dtype: Int64"
      ]
     },
     "execution_count": 31,
     "metadata": {},
     "output_type": "execute_result"
    }
   ],
   "source": [
    "merged_df[\"FORCE_2020_LITHOFACIES_LITHOLOGY\"].unique()"
   ]
  },
  {
   "cell_type": "code",
   "execution_count": 32,
   "id": "c5ec1608",
   "metadata": {},
   "outputs": [
    {
     "data": {
      "text/plain": [
       "<IntegerArray>\n",
       "[<NA>, 70000, 80000, 65000, 65030, 30000, 90000]\n",
       "Length: 7, dtype: Int64"
      ]
     },
     "execution_count": 32,
     "metadata": {},
     "output_type": "execute_result"
    }
   ],
   "source": [
    "test_df[\"FORCE_2020_LITHOFACIES_LITHOLOGY\"].unique()"
   ]
  },
  {
   "cell_type": "markdown",
   "id": "9965490c",
   "metadata": {},
   "source": [
    "#### Replace column's entries with corresponding discrete values"
   ]
  },
  {
   "cell_type": "code",
   "execution_count": 33,
   "id": "2d3411ae",
   "metadata": {},
   "outputs": [],
   "source": [
    "for key, value in lithology.items():\n",
    "    test_df.loc[test_df[\"FORCE_2020_LITHOFACIES_LITHOLOGY\"] == key, \"FORCE_2020_LITHOFACIES_LITHOLOGY\"] = lithology[key][0]"
   ]
  },
  {
   "cell_type": "code",
   "execution_count": 34,
   "id": "412e7ef9",
   "metadata": {},
   "outputs": [
    {
     "data": {
      "text/plain": [
       "<IntegerArray>\n",
       "[<NA>, 3, 6, 1, 2, 0, 9]\n",
       "Length: 7, dtype: Int64"
      ]
     },
     "execution_count": 34,
     "metadata": {},
     "output_type": "execute_result"
    }
   ],
   "source": [
    "test_df[\"FORCE_2020_LITHOFACIES_LITHOLOGY\"].unique()"
   ]
  },
  {
   "cell_type": "code",
   "execution_count": 35,
   "id": "55a201cf",
   "metadata": {},
   "outputs": [
    {
     "data": {
      "text/html": [
       "<div>\n",
       "<style scoped>\n",
       "    .dataframe tbody tr th:only-of-type {\n",
       "        vertical-align: middle;\n",
       "    }\n",
       "\n",
       "    .dataframe tbody tr th {\n",
       "        vertical-align: top;\n",
       "    }\n",
       "\n",
       "    .dataframe thead th {\n",
       "        text-align: right;\n",
       "    }\n",
       "</style>\n",
       "<table border=\"1\" class=\"dataframe\">\n",
       "  <thead>\n",
       "    <tr style=\"text-align: right;\">\n",
       "      <th></th>\n",
       "      <th>FORCE_2020_LITHOFACIES_CONFIDENCE</th>\n",
       "      <th>FORCE_2020_LITHOFACIES_LITHOLOGY</th>\n",
       "      <th>CALI</th>\n",
       "      <th>ROP</th>\n",
       "      <th>RDEP</th>\n",
       "      <th>RMED</th>\n",
       "      <th>DTC</th>\n",
       "      <th>NPHI</th>\n",
       "      <th>GR</th>\n",
       "      <th>RHOB</th>\n",
       "      <th>DEPTH_MD</th>\n",
       "      <th>X_LOC</th>\n",
       "      <th>Y_LOC</th>\n",
       "      <th>Z_LOC</th>\n",
       "    </tr>\n",
       "  </thead>\n",
       "  <tbody>\n",
       "    <tr>\n",
       "      <th>count</th>\n",
       "      <td>7841.000000</td>\n",
       "      <td>7840.000000</td>\n",
       "      <td>7842.000000</td>\n",
       "      <td>18664.000000</td>\n",
       "      <td>18567.000000</td>\n",
       "      <td>18524.000000</td>\n",
       "      <td>18199.000000</td>\n",
       "      <td>7835.000000</td>\n",
       "      <td>18666.000000</td>\n",
       "      <td>7800.000000</td>\n",
       "      <td>18567.000000</td>\n",
       "      <td>18567.000000</td>\n",
       "      <td>1.856700e+04</td>\n",
       "      <td>18567.000000</td>\n",
       "    </tr>\n",
       "    <tr>\n",
       "      <th>mean</th>\n",
       "      <td>1.007014</td>\n",
       "      <td>1.127041</td>\n",
       "      <td>8.645759</td>\n",
       "      <td>30.832899</td>\n",
       "      <td>2.620270</td>\n",
       "      <td>2.552476</td>\n",
       "      <td>113.930604</td>\n",
       "      <td>0.282503</td>\n",
       "      <td>88.059741</td>\n",
       "      <td>2.423469</td>\n",
       "      <td>1790.928400</td>\n",
       "      <td>525234.926210</td>\n",
       "      <td>6.759899e+06</td>\n",
       "      <td>-1697.212986</td>\n",
       "    </tr>\n",
       "    <tr>\n",
       "      <th>std</th>\n",
       "      <td>0.083463</td>\n",
       "      <td>1.125013</td>\n",
       "      <td>0.354859</td>\n",
       "      <td>22.168637</td>\n",
       "      <td>10.496727</td>\n",
       "      <td>8.401663</td>\n",
       "      <td>33.930530</td>\n",
       "      <td>0.079752</td>\n",
       "      <td>28.029797</td>\n",
       "      <td>0.140661</td>\n",
       "      <td>814.716285</td>\n",
       "      <td>152.418737</td>\n",
       "      <td>1.216211e+02</td>\n",
       "      <td>752.738270</td>\n",
       "    </tr>\n",
       "    <tr>\n",
       "      <th>min</th>\n",
       "      <td>1.000000</td>\n",
       "      <td>0.000000</td>\n",
       "      <td>8.350532</td>\n",
       "      <td>0.000000</td>\n",
       "      <td>0.196063</td>\n",
       "      <td>0.218748</td>\n",
       "      <td>51.216694</td>\n",
       "      <td>0.005246</td>\n",
       "      <td>9.397405</td>\n",
       "      <td>1.259571</td>\n",
       "      <td>379.912415</td>\n",
       "      <td>524869.937500</td>\n",
       "      <td>6.759756e+06</td>\n",
       "      <td>-2964.480713</td>\n",
       "    </tr>\n",
       "    <tr>\n",
       "      <th>25%</th>\n",
       "      <td>1.000000</td>\n",
       "      <td>1.000000</td>\n",
       "      <td>8.485698</td>\n",
       "      <td>16.759844</td>\n",
       "      <td>0.962309</td>\n",
       "      <td>0.942606</td>\n",
       "      <td>83.164452</td>\n",
       "      <td>0.239417</td>\n",
       "      <td>72.368660</td>\n",
       "      <td>2.356557</td>\n",
       "      <td>1085.420410</td>\n",
       "      <td>525136.281250</td>\n",
       "      <td>6.759822e+06</td>\n",
       "      <td>-2349.475097</td>\n",
       "    </tr>\n",
       "    <tr>\n",
       "      <th>50%</th>\n",
       "      <td>1.000000</td>\n",
       "      <td>1.000000</td>\n",
       "      <td>8.536774</td>\n",
       "      <td>27.777618</td>\n",
       "      <td>1.429376</td>\n",
       "      <td>1.405266</td>\n",
       "      <td>103.830116</td>\n",
       "      <td>0.289869</td>\n",
       "      <td>89.986179</td>\n",
       "      <td>2.432674</td>\n",
       "      <td>1790.928345</td>\n",
       "      <td>525287.062500</td>\n",
       "      <td>6.759851e+06</td>\n",
       "      <td>-1730.521484</td>\n",
       "    </tr>\n",
       "    <tr>\n",
       "      <th>75%</th>\n",
       "      <td>1.000000</td>\n",
       "      <td>1.000000</td>\n",
       "      <td>8.642059</td>\n",
       "      <td>42.716022</td>\n",
       "      <td>3.237903</td>\n",
       "      <td>3.178944</td>\n",
       "      <td>148.459099</td>\n",
       "      <td>0.327477</td>\n",
       "      <td>100.472012</td>\n",
       "      <td>2.518349</td>\n",
       "      <td>2496.436401</td>\n",
       "      <td>525345.437500</td>\n",
       "      <td>6.759974e+06</td>\n",
       "      <td>-1053.585938</td>\n",
       "    </tr>\n",
       "    <tr>\n",
       "      <th>max</th>\n",
       "      <td>2.000000</td>\n",
       "      <td>9.000000</td>\n",
       "      <td>12.631611</td>\n",
       "      <td>1270.482178</td>\n",
       "      <td>1122.036377</td>\n",
       "      <td>679.883728</td>\n",
       "      <td>183.871933</td>\n",
       "      <td>0.906257</td>\n",
       "      <td>243.851028</td>\n",
       "      <td>3.209886</td>\n",
       "      <td>3201.944336</td>\n",
       "      <td>525414.312500</td>\n",
       "      <td>6.760192e+06</td>\n",
       "      <td>-348.912415</td>\n",
       "    </tr>\n",
       "  </tbody>\n",
       "</table>\n",
       "</div>"
      ],
      "text/plain": [
       "       FORCE_2020_LITHOFACIES_CONFIDENCE  FORCE_2020_LITHOFACIES_LITHOLOGY  \\\n",
       "count                        7841.000000                       7840.000000   \n",
       "mean                            1.007014                          1.127041   \n",
       "std                             0.083463                          1.125013   \n",
       "min                             1.000000                          0.000000   \n",
       "25%                             1.000000                          1.000000   \n",
       "50%                             1.000000                          1.000000   \n",
       "75%                             1.000000                          1.000000   \n",
       "max                             2.000000                          9.000000   \n",
       "\n",
       "              CALI           ROP          RDEP          RMED           DTC  \\\n",
       "count  7842.000000  18664.000000  18567.000000  18524.000000  18199.000000   \n",
       "mean      8.645759     30.832899      2.620270      2.552476    113.930604   \n",
       "std       0.354859     22.168637     10.496727      8.401663     33.930530   \n",
       "min       8.350532      0.000000      0.196063      0.218748     51.216694   \n",
       "25%       8.485698     16.759844      0.962309      0.942606     83.164452   \n",
       "50%       8.536774     27.777618      1.429376      1.405266    103.830116   \n",
       "75%       8.642059     42.716022      3.237903      3.178944    148.459099   \n",
       "max      12.631611   1270.482178   1122.036377    679.883728    183.871933   \n",
       "\n",
       "              NPHI            GR         RHOB      DEPTH_MD          X_LOC  \\\n",
       "count  7835.000000  18666.000000  7800.000000  18567.000000   18567.000000   \n",
       "mean      0.282503     88.059741     2.423469   1790.928400  525234.926210   \n",
       "std       0.079752     28.029797     0.140661    814.716285     152.418737   \n",
       "min       0.005246      9.397405     1.259571    379.912415  524869.937500   \n",
       "25%       0.239417     72.368660     2.356557   1085.420410  525136.281250   \n",
       "50%       0.289869     89.986179     2.432674   1790.928345  525287.062500   \n",
       "75%       0.327477    100.472012     2.518349   2496.436401  525345.437500   \n",
       "max       0.906257    243.851028     3.209886   3201.944336  525414.312500   \n",
       "\n",
       "              Y_LOC         Z_LOC  \n",
       "count  1.856700e+04  18567.000000  \n",
       "mean   6.759899e+06  -1697.212986  \n",
       "std    1.216211e+02    752.738270  \n",
       "min    6.759756e+06  -2964.480713  \n",
       "25%    6.759822e+06  -2349.475097  \n",
       "50%    6.759851e+06  -1730.521484  \n",
       "75%    6.759974e+06  -1053.585938  \n",
       "max    6.760192e+06   -348.912415  "
      ]
     },
     "execution_count": 35,
     "metadata": {},
     "output_type": "execute_result"
    }
   ],
   "source": [
    "test_df.describe()"
   ]
  },
  {
   "cell_type": "markdown",
   "id": "aa296a6a",
   "metadata": {},
   "source": [
    "### drop rows where FORCE_2020_LITHOFACIES_LITHOLOGY is nan"
   ]
  },
  {
   "cell_type": "code",
   "execution_count": 36,
   "id": "4b8b5de8",
   "metadata": {},
   "outputs": [],
   "source": [
    "merged_df.dropna(subset=[\"FORCE_2020_LITHOFACIES_LITHOLOGY\"], inplace=True)"
   ]
  },
  {
   "cell_type": "code",
   "execution_count": 37,
   "id": "746c1211",
   "metadata": {},
   "outputs": [],
   "source": [
    "test_df.dropna(subset=[\"FORCE_2020_LITHOFACIES_LITHOLOGY\"], inplace=True)"
   ]
  },
  {
   "cell_type": "code",
   "execution_count": 38,
   "id": "950c4d52",
   "metadata": {},
   "outputs": [
    {
     "data": {
      "text/plain": [
       "FORCE_2020_LITHOFACIES_CONFIDENCE      0\n",
       "FORCE_2020_LITHOFACIES_LITHOLOGY       0\n",
       "CALI                                   0\n",
       "ROP                                    0\n",
       "RDEP                                   0\n",
       "RMED                                   0\n",
       "DTC                                  154\n",
       "NPHI                                  28\n",
       "GR                                     0\n",
       "RHOB                                  45\n",
       "DEPTH_MD                               0\n",
       "X_LOC                                  0\n",
       "Y_LOC                                  0\n",
       "Z_LOC                                  0\n",
       "dtype: int64"
      ]
     },
     "execution_count": 38,
     "metadata": {},
     "output_type": "execute_result"
    }
   ],
   "source": [
    "test_df.isna().sum()"
   ]
  },
  {
   "cell_type": "code",
   "execution_count": 39,
   "id": "326b0cab",
   "metadata": {},
   "outputs": [
    {
     "data": {
      "text/plain": [
       "FORCE_2020_LITHOFACIES_CONFIDENCE       6\n",
       "FORCE_2020_LITHOFACIES_LITHOLOGY        0\n",
       "CALI                                    0\n",
       "ROP                                   179\n",
       "RDEP                                    0\n",
       "RMED                                   41\n",
       "DTC                                   193\n",
       "NPHI                                 9731\n",
       "GR                                      9\n",
       "RHOB                                 3795\n",
       "DEPTH_MD                                0\n",
       "X_LOC                                   0\n",
       "Y_LOC                                   0\n",
       "Z_LOC                                   0\n",
       "dtype: int64"
      ]
     },
     "execution_count": 39,
     "metadata": {},
     "output_type": "execute_result"
    }
   ],
   "source": [
    "merged_df.isna().sum()"
   ]
  },
  {
   "cell_type": "markdown",
   "id": "ca5365d2",
   "metadata": {},
   "source": [
    "# Building the XGBoost Machine learning model"
   ]
  },
  {
   "cell_type": "code",
   "execution_count": 40,
   "id": "3586b78b",
   "metadata": {},
   "outputs": [],
   "source": [
    "import xgboost as xgb"
   ]
  },
  {
   "cell_type": "code",
   "execution_count": 41,
   "id": "af89199c",
   "metadata": {},
   "outputs": [],
   "source": [
    "model = xgb.XGBClassifier()"
   ]
  },
  {
   "cell_type": "markdown",
   "id": "e3d0c077",
   "metadata": {},
   "source": [
    "### Split dataset into X_train and y_train"
   ]
  },
  {
   "cell_type": "code",
   "execution_count": 42,
   "id": "e19a7f2f",
   "metadata": {},
   "outputs": [],
   "source": [
    "X_train = merged_df.drop(\"FORCE_2020_LITHOFACIES_LITHOLOGY\", axis=1)\n",
    "y_train = merged_df[\"FORCE_2020_LITHOFACIES_LITHOLOGY\"]"
   ]
  },
  {
   "cell_type": "code",
   "execution_count": 43,
   "id": "261c25a5",
   "metadata": {},
   "outputs": [],
   "source": [
    "X_test = test_df.drop(\"FORCE_2020_LITHOFACIES_LITHOLOGY\", axis=1)\n",
    "y_test = test_df[\"FORCE_2020_LITHOFACIES_LITHOLOGY\"]"
   ]
  },
  {
   "cell_type": "code",
   "execution_count": 44,
   "id": "e81a01fe",
   "metadata": {},
   "outputs": [
    {
     "name": "stdout",
     "output_type": "stream",
     "text": [
      "<class 'pandas.core.series.Series'>\n",
      "Float64Index: 42009 entries, 494.528 to 2451.5397289\n",
      "Series name: FORCE_2020_LITHOFACIES_LITHOLOGY\n",
      "Non-Null Count  Dtype\n",
      "--------------  -----\n",
      "42009 non-null  Int64\n",
      "dtypes: Int64(1)\n",
      "memory usage: 697.4 KB\n"
     ]
    }
   ],
   "source": [
    "y_train.info()"
   ]
  },
  {
   "cell_type": "code",
   "execution_count": 45,
   "id": "1e654194",
   "metadata": {},
   "outputs": [
    {
     "data": {
      "text/plain": [
       "XGBClassifier(base_score=None, booster=None, callbacks=None,\n",
       "              colsample_bylevel=None, colsample_bynode=None,\n",
       "              colsample_bytree=None, device=None, early_stopping_rounds=None,\n",
       "              enable_categorical=False, eval_metric=None, feature_types=None,\n",
       "              gamma=None, grow_policy=None, importance_type=None,\n",
       "              interaction_constraints=None, learning_rate=None, max_bin=None,\n",
       "              max_cat_threshold=None, max_cat_to_onehot=None,\n",
       "              max_delta_step=None, max_depth=None, max_leaves=None,\n",
       "              min_child_weight=None, missing=nan, monotone_constraints=None,\n",
       "              multi_strategy=None, n_estimators=None, n_jobs=None,\n",
       "              num_parallel_tree=None, objective='multi:softprob', ...)"
      ]
     },
     "execution_count": 45,
     "metadata": {},
     "output_type": "execute_result"
    }
   ],
   "source": [
    "model.fit(X_train, y_train)"
   ]
  },
  {
   "cell_type": "markdown",
   "id": "aae9fb1e",
   "metadata": {
    "collapsed": true
   },
   "source": [
    "model.score(X_test, y_test)"
   ]
  },
  {
   "cell_type": "markdown",
   "id": "6e92551b",
   "metadata": {},
   "source": []
  },
  {
   "cell_type": "markdown",
   "id": "f5851995",
   "metadata": {},
   "source": [
    "### Feature Engineering\n",
    "After failed attempt at testing our model, the error message seems to be from our target values not being properly represented\n",
    "we would be using the `pd.dummies` to encode the entire column"
   ]
  },
  {
   "cell_type": "markdown",
   "id": "55d948dd",
   "metadata": {},
   "source": [
    "dummies = pd.get_dummies(merged_df[\"FORCE_2020_LITHOFACIES_LITHOLOGY\"])\n",
    "dummies"
   ]
  },
  {
   "cell_type": "markdown",
   "id": "a3b6bdae",
   "metadata": {},
   "source": [
    "dummies.info()"
   ]
  },
  {
   "cell_type": "markdown",
   "id": "40dfeeb0",
   "metadata": {},
   "source": [
    "Drop one of the dummie variable columns, to avoid getting in a dummy variable trap"
   ]
  },
  {
   "cell_type": "markdown",
   "id": "304b3d51",
   "metadata": {},
   "source": [
    "new_merged_df = pd.concat([merged_df, dummies], axis=1)"
   ]
  },
  {
   "cell_type": "markdown",
   "id": "a8abe92c",
   "metadata": {},
   "source": [
    "new_merged_df = new_merged_df.drop([\"FORCE_2020_LITHOFACIES_LITHOLOGY\", 8], axis=1)"
   ]
  },
  {
   "cell_type": "markdown",
   "id": "c39cc892",
   "metadata": {},
   "source": [
    "X_train = new_merged_df.drop([0, 1, 2, 3, 4, 5, 6, 7], axis=1)\n",
    "y_train = new_merged_df[[0, 1, 2, 3, 4, 5, 6, 7]]"
   ]
  },
  {
   "cell_type": "markdown",
   "id": "748eb312",
   "metadata": {},
   "source": [
    "X_train.info()"
   ]
  },
  {
   "cell_type": "markdown",
   "id": "2c339d6b",
   "metadata": {},
   "source": [
    "y_train.info()"
   ]
  },
  {
   "cell_type": "markdown",
   "id": "4ebfa42e",
   "metadata": {
    "scrolled": true
   },
   "source": [
    "encoded_model = xgb.XGBClassifier()\n",
    "encoded_model.fit(X_train, y_train)"
   ]
  },
  {
   "cell_type": "markdown",
   "id": "e278ef8a",
   "metadata": {
    "scrolled": true
   },
   "source": [
    "# encoding for the test set\n",
    "dummies = pd.get_dummies(test_df[\"FORCE_2020_LITHOFACIES_LITHOLOGY\"])\n",
    "dummies"
   ]
  },
  {
   "cell_type": "markdown",
   "id": "25f24630",
   "metadata": {},
   "source": [
    "new_test_df = pd.concat([test_df, dummies], axis=1)\n",
    "new_test_df = new_test_df.drop([\"FORCE_2020_LITHOFACIES_LITHOLOGY\", 9], axis=1)"
   ]
  },
  {
   "cell_type": "markdown",
   "id": "0fcf9913",
   "metadata": {},
   "source": [
    "X_test = new_test_df.drop([0, 1, 2, 3, 6], axis=1)\n",
    "y_test = new_test_df[[0, 1, 2, 3, 6]]"
   ]
  },
  {
   "cell_type": "markdown",
   "id": "906bf6e7",
   "metadata": {},
   "source": [
    "y_test.shape"
   ]
  },
  {
   "cell_type": "markdown",
   "id": "381566ef",
   "metadata": {},
   "source": [
    "y_train.shape"
   ]
  },
  {
   "cell_type": "markdown",
   "id": "a703ffdd",
   "metadata": {
    "collapsed": true
   },
   "source": [
    "encoded_model.score(X_test, y_test)"
   ]
  },
  {
   "cell_type": "markdown",
   "id": "5175b692",
   "metadata": {},
   "source": [
    "y_test.head()"
   ]
  },
  {
   "cell_type": "markdown",
   "id": "58db086e",
   "metadata": {},
   "source": [
    "y_train.head()"
   ]
  },
  {
   "cell_type": "markdown",
   "id": "1b05f9d9",
   "metadata": {},
   "source": [
    "new_cols = [4, 5, 7]\n",
    "for col in new_cols:\n",
    "    y_test[col] = 0  # Fill new columns with zeros"
   ]
  },
  {
   "cell_type": "markdown",
   "id": "2682eb71",
   "metadata": {},
   "source": [
    "y_test.info()"
   ]
  },
  {
   "cell_type": "markdown",
   "id": "582fc61f",
   "metadata": {},
   "source": [
    "y_test.shape"
   ]
  },
  {
   "cell_type": "markdown",
   "id": "033df5f6",
   "metadata": {},
   "source": [
    "encoded_model.score(X_test, y_test)"
   ]
  },
  {
   "cell_type": "markdown",
   "id": "2b06d9e2",
   "metadata": {},
   "source": [
    "y_preds = encoded_model.predict(X_test)"
   ]
  },
  {
   "cell_type": "code",
   "execution_count": 46,
   "id": "6e72d629",
   "metadata": {},
   "outputs": [],
   "source": [
    "from sklearn.metrics import accuracy_score, precision_score, recall_score, f1_score"
   ]
  },
  {
   "cell_type": "code",
   "execution_count": 47,
   "id": "ba8fa78d",
   "metadata": {},
   "outputs": [],
   "source": [
    "def evaluate_preds(y_true, y_preds):\n",
    "    \"\"\"\n",
    "    Performs evaluation comparison on y_true labels vs. y_pred\n",
    "    \"\"\"\n",
    "    \n",
    "    accuracy = accuracy_score(y_true, y_preds)\n",
    "    precision = precision_score(y_true, y_preds, average='micro')\n",
    "    recall = recall_score(y_true, y_preds, average='micro')\n",
    "    f1 = f1_score(y_true, y_preds, average='micro')\n",
    "    metric_dict = {\"accuracy\": round(accuracy, 2),\n",
    "                  \"precision\": round(precision, 2),\n",
    "                  \"recall\": round(recall, 2),\n",
    "                  \"f1\": round(f1, 2)}\n",
    "    print(f\"Acc: {accuracy * 100:.2f}%\")\n",
    "    print(f\"Precision: {precision:.2f}\")\n",
    "    print(f\"Recall: {recall:.2f}\")\n",
    "    print(f\"F1 score: {f1:.2f}\")\n",
    "    \n",
    "    return metric_dict"
   ]
  },
  {
   "cell_type": "markdown",
   "id": "2be043d2",
   "metadata": {},
   "source": [
    "baseline_metrics = evaluate_preds(y_test, y_preds)\n",
    "baseline_metrics"
   ]
  },
  {
   "cell_type": "markdown",
   "id": "430db969",
   "metadata": {},
   "source": [
    "### Adjust Hyper Parameter for new model"
   ]
  },
  {
   "cell_type": "markdown",
   "id": "51c191b1",
   "metadata": {},
   "source": [
    "xgb_clf_2 = xgb.XGBClassifier(max_depth=10, n_estimators=100)"
   ]
  },
  {
   "cell_type": "markdown",
   "id": "a4895b76",
   "metadata": {
    "scrolled": true
   },
   "source": [
    "xgb_clf_2.fit(X_train, y_train)\n",
    "y_preds_2 = xgb_clf_2.predict(X_test)"
   ]
  },
  {
   "cell_type": "markdown",
   "id": "29cac724",
   "metadata": {},
   "source": [
    "clf_2_metrics = evaluate_preds(y_test, y_preds_2)\n",
    "clf_2_metrics"
   ]
  },
  {
   "cell_type": "markdown",
   "id": "01de25a0",
   "metadata": {},
   "source": [
    "## Hyper Parameter Optimization"
   ]
  },
  {
   "cell_type": "code",
   "execution_count": 48,
   "id": "5b17d4ec",
   "metadata": {},
   "outputs": [],
   "source": [
    "params={\n",
    "    \"learning_rate\": [0.05, 0.10, 0.15, 0.20, 0.25, 0.30 ],\n",
    "    \"max_depth\": [ 3, 4, 5, 6, 8, 10, 12, 15],\n",
    "    \"min_child_weight\": [ 1, 3, 5, 7 ],\n",
    "    \"gamma\": [ 0.0, 0.1, 0.2 , 0.3, 0.4 ],\n",
    "    \"colsample_bytree\": [ 0.3, 0.4, 0.5 , 0.7 ]\n",
    "}"
   ]
  },
  {
   "cell_type": "markdown",
   "id": "9c24af24",
   "metadata": {},
   "source": [
    "### Using RandomizedSearchCV to highlight the best params combination"
   ]
  },
  {
   "cell_type": "code",
   "execution_count": 49,
   "id": "d6548188",
   "metadata": {},
   "outputs": [],
   "source": [
    "from sklearn.model_selection import RandomizedSearchCV, GridSearchCV"
   ]
  },
  {
   "cell_type": "markdown",
   "id": "ac1e9450",
   "metadata": {},
   "source": [
    "random_search = RandomizedSearchCV(encoded_model, param_distributions=params, n_iter=5, scoring=\"roc_auc\", n_jobs=-1, cv=5, verbose=3)"
   ]
  },
  {
   "cell_type": "markdown",
   "id": "2ecf9f5d",
   "metadata": {},
   "source": [
    "random_search"
   ]
  },
  {
   "cell_type": "markdown",
   "id": "6d78f6ef",
   "metadata": {},
   "source": [
    "random_search.fit(X_train, y_train)"
   ]
  },
  {
   "cell_type": "markdown",
   "id": "7f307801",
   "metadata": {},
   "source": [
    "random_search.best_params_"
   ]
  },
  {
   "cell_type": "markdown",
   "id": "3b3af040",
   "metadata": {},
   "source": [
    "rs_y_preds = random_search.predict(X_test)\n",
    "rs_metrics = evaluate_preds(y_test, rs_y_preds)"
   ]
  },
  {
   "cell_type": "markdown",
   "id": "d3ad4fa5",
   "metadata": {},
   "source": [
    "merged_df.head()"
   ]
  },
  {
   "cell_type": "markdown",
   "id": "83286a03",
   "metadata": {},
   "source": [
    "merged_df[\"FORCE_2020_LITHOFACIES_LITHOLOGY\"].unique()"
   ]
  },
  {
   "cell_type": "markdown",
   "id": "743c193e",
   "metadata": {},
   "source": [
    "## Import RandomForestClassifier model"
   ]
  },
  {
   "cell_type": "code",
   "execution_count": 50,
   "id": "84c76f73",
   "metadata": {},
   "outputs": [],
   "source": [
    "from sklearn.ensemble import RandomForestClassifier"
   ]
  },
  {
   "cell_type": "code",
   "execution_count": 51,
   "id": "824a450e",
   "metadata": {},
   "outputs": [],
   "source": [
    "clf = RandomForestClassifier(n_estimators=100)"
   ]
  },
  {
   "cell_type": "code",
   "execution_count": 52,
   "id": "1f12ede7",
   "metadata": {},
   "outputs": [],
   "source": [
    "### Split into train and test dataset"
   ]
  },
  {
   "cell_type": "code",
   "execution_count": 53,
   "id": "90832c33",
   "metadata": {},
   "outputs": [
    {
     "data": {
      "text/plain": [
       "(42009, 14)"
      ]
     },
     "execution_count": 53,
     "metadata": {},
     "output_type": "execute_result"
    }
   ],
   "source": [
    "merged_df.shape"
   ]
  },
  {
   "cell_type": "code",
   "execution_count": 54,
   "id": "fdd455ff",
   "metadata": {},
   "outputs": [
    {
     "data": {
      "text/plain": [
       "(7840, 14)"
      ]
     },
     "execution_count": 54,
     "metadata": {},
     "output_type": "execute_result"
    }
   ],
   "source": [
    "test_df.shape"
   ]
  },
  {
   "cell_type": "code",
   "execution_count": 55,
   "id": "405dfb50",
   "metadata": {},
   "outputs": [
    {
     "data": {
      "text/plain": [
       "FORCE_2020_LITHOFACIES_CONFIDENCE       6\n",
       "FORCE_2020_LITHOFACIES_LITHOLOGY        0\n",
       "CALI                                    0\n",
       "ROP                                   179\n",
       "RDEP                                    0\n",
       "RMED                                   41\n",
       "DTC                                   193\n",
       "NPHI                                 9731\n",
       "GR                                      9\n",
       "RHOB                                 3795\n",
       "DEPTH_MD                                0\n",
       "X_LOC                                   0\n",
       "Y_LOC                                   0\n",
       "Z_LOC                                   0\n",
       "dtype: int64"
      ]
     },
     "execution_count": 55,
     "metadata": {},
     "output_type": "execute_result"
    }
   ],
   "source": [
    "merged_df.isna().sum()"
   ]
  },
  {
   "cell_type": "code",
   "execution_count": 56,
   "id": "e3fa50fc",
   "metadata": {},
   "outputs": [
    {
     "data": {
      "text/plain": [
       "FORCE_2020_LITHOFACIES_CONFIDENCE      0\n",
       "FORCE_2020_LITHOFACIES_LITHOLOGY       0\n",
       "CALI                                   0\n",
       "ROP                                    0\n",
       "RDEP                                   0\n",
       "RMED                                   0\n",
       "DTC                                  154\n",
       "NPHI                                  28\n",
       "GR                                     0\n",
       "RHOB                                  45\n",
       "DEPTH_MD                               0\n",
       "X_LOC                                  0\n",
       "Y_LOC                                  0\n",
       "Z_LOC                                  0\n",
       "dtype: int64"
      ]
     },
     "execution_count": 56,
     "metadata": {},
     "output_type": "execute_result"
    }
   ],
   "source": [
    "test_df.isna().sum()"
   ]
  },
  {
   "cell_type": "code",
   "execution_count": 57,
   "id": "42655d78",
   "metadata": {},
   "outputs": [
    {
     "data": {
      "text/plain": [
       "FORCE_2020_LITHOFACIES_CONFIDENCE    0\n",
       "FORCE_2020_LITHOFACIES_LITHOLOGY     0\n",
       "CALI                                 0\n",
       "ROP                                  0\n",
       "RDEP                                 0\n",
       "RMED                                 0\n",
       "DTC                                  0\n",
       "NPHI                                 0\n",
       "GR                                   0\n",
       "RHOB                                 0\n",
       "DEPTH_MD                             0\n",
       "X_LOC                                0\n",
       "Y_LOC                                0\n",
       "Z_LOC                                0\n",
       "dtype: int64"
      ]
     },
     "execution_count": 57,
     "metadata": {},
     "output_type": "execute_result"
    }
   ],
   "source": [
    "merged_df.dropna(inplace=True)\n",
    "merged_df.isna().sum()"
   ]
  },
  {
   "cell_type": "code",
   "execution_count": 89,
   "id": "2d2778ac",
   "metadata": {},
   "outputs": [
    {
     "data": {
      "text/html": [
       "<div>\n",
       "<style scoped>\n",
       "    .dataframe tbody tr th:only-of-type {\n",
       "        vertical-align: middle;\n",
       "    }\n",
       "\n",
       "    .dataframe tbody tr th {\n",
       "        vertical-align: top;\n",
       "    }\n",
       "\n",
       "    .dataframe thead th {\n",
       "        text-align: right;\n",
       "    }\n",
       "</style>\n",
       "<table border=\"1\" class=\"dataframe\">\n",
       "  <thead>\n",
       "    <tr style=\"text-align: right;\">\n",
       "      <th></th>\n",
       "      <th>FORCE_2020_LITHOFACIES_CONFIDENCE</th>\n",
       "      <th>FORCE_2020_LITHOFACIES_LITHOLOGY</th>\n",
       "      <th>CALI</th>\n",
       "      <th>ROP</th>\n",
       "      <th>RDEP</th>\n",
       "      <th>RMED</th>\n",
       "      <th>DTC</th>\n",
       "      <th>NPHI</th>\n",
       "      <th>GR</th>\n",
       "      <th>RHOB</th>\n",
       "      <th>DEPTH_MD</th>\n",
       "      <th>X_LOC</th>\n",
       "      <th>Y_LOC</th>\n",
       "      <th>Z_LOC</th>\n",
       "    </tr>\n",
       "  </thead>\n",
       "  <tbody>\n",
       "    <tr>\n",
       "      <th>count</th>\n",
       "      <td>31934.000000</td>\n",
       "      <td>31934.000000</td>\n",
       "      <td>31934.000000</td>\n",
       "      <td>31934.000000</td>\n",
       "      <td>31934.000000</td>\n",
       "      <td>31934.000000</td>\n",
       "      <td>31934.000000</td>\n",
       "      <td>31934.000000</td>\n",
       "      <td>31934.000000</td>\n",
       "      <td>31934.000000</td>\n",
       "      <td>31934.000000</td>\n",
       "      <td>31934.000000</td>\n",
       "      <td>3.193400e+04</td>\n",
       "      <td>31934.000000</td>\n",
       "    </tr>\n",
       "    <tr>\n",
       "      <th>mean</th>\n",
       "      <td>1.182752</td>\n",
       "      <td>1.585927</td>\n",
       "      <td>11.740156</td>\n",
       "      <td>38.586875</td>\n",
       "      <td>1.500075</td>\n",
       "      <td>1.529178</td>\n",
       "      <td>121.042012</td>\n",
       "      <td>0.428394</td>\n",
       "      <td>67.904198</td>\n",
       "      <td>2.186289</td>\n",
       "      <td>1994.461670</td>\n",
       "      <td>461104.123774</td>\n",
       "      <td>6.524594e+06</td>\n",
       "      <td>-1969.355291</td>\n",
       "    </tr>\n",
       "    <tr>\n",
       "      <th>std</th>\n",
       "      <td>0.492688</td>\n",
       "      <td>1.783455</td>\n",
       "      <td>3.168625</td>\n",
       "      <td>55.331240</td>\n",
       "      <td>1.874161</td>\n",
       "      <td>1.746316</td>\n",
       "      <td>26.157129</td>\n",
       "      <td>0.129519</td>\n",
       "      <td>28.611148</td>\n",
       "      <td>0.210988</td>\n",
       "      <td>494.941671</td>\n",
       "      <td>23507.826600</td>\n",
       "      <td>6.350813e+04</td>\n",
       "      <td>494.696291</td>\n",
       "    </tr>\n",
       "    <tr>\n",
       "      <th>min</th>\n",
       "      <td>1.000000</td>\n",
       "      <td>0.000000</td>\n",
       "      <td>7.073111</td>\n",
       "      <td>0.138586</td>\n",
       "      <td>0.242654</td>\n",
       "      <td>0.341708</td>\n",
       "      <td>50.758595</td>\n",
       "      <td>0.037976</td>\n",
       "      <td>5.849710</td>\n",
       "      <td>1.493417</td>\n",
       "      <td>1138.703980</td>\n",
       "      <td>437594.125000</td>\n",
       "      <td>6.470976e+06</td>\n",
       "      <td>-3233.868652</td>\n",
       "    </tr>\n",
       "    <tr>\n",
       "      <th>25%</th>\n",
       "      <td>1.000000</td>\n",
       "      <td>1.000000</td>\n",
       "      <td>8.971709</td>\n",
       "      <td>7.116441</td>\n",
       "      <td>0.696926</td>\n",
       "      <td>0.749126</td>\n",
       "      <td>96.578419</td>\n",
       "      <td>0.337652</td>\n",
       "      <td>46.751624</td>\n",
       "      <td>2.040754</td>\n",
       "      <td>1625.961426</td>\n",
       "      <td>437626.125000</td>\n",
       "      <td>6.470982e+06</td>\n",
       "      <td>-2234.341248</td>\n",
       "    </tr>\n",
       "    <tr>\n",
       "      <th>50%</th>\n",
       "      <td>1.000000</td>\n",
       "      <td>1.000000</td>\n",
       "      <td>11.833512</td>\n",
       "      <td>25.437870</td>\n",
       "      <td>0.992239</td>\n",
       "      <td>1.011533</td>\n",
       "      <td>128.671097</td>\n",
       "      <td>0.446670</td>\n",
       "      <td>68.818073</td>\n",
       "      <td>2.142625</td>\n",
       "      <td>1930.061462</td>\n",
       "      <td>463756.000000</td>\n",
       "      <td>6.479870e+06</td>\n",
       "      <td>-1905.135070</td>\n",
       "    </tr>\n",
       "    <tr>\n",
       "      <th>75%</th>\n",
       "      <td>1.000000</td>\n",
       "      <td>1.000000</td>\n",
       "      <td>13.679868</td>\n",
       "      <td>41.433830</td>\n",
       "      <td>1.715923</td>\n",
       "      <td>1.777130</td>\n",
       "      <td>143.837753</td>\n",
       "      <td>0.516540</td>\n",
       "      <td>89.814335</td>\n",
       "      <td>2.362035</td>\n",
       "      <td>2259.864746</td>\n",
       "      <td>495703.148438</td>\n",
       "      <td>6.618250e+06</td>\n",
       "      <td>-1601.112884</td>\n",
       "    </tr>\n",
       "    <tr>\n",
       "      <th>max</th>\n",
       "      <td>3.000000</td>\n",
       "      <td>8.000000</td>\n",
       "      <td>23.329569</td>\n",
       "      <td>1083.425415</td>\n",
       "      <td>54.472031</td>\n",
       "      <td>55.211597</td>\n",
       "      <td>196.940887</td>\n",
       "      <td>0.993175</td>\n",
       "      <td>499.022583</td>\n",
       "      <td>2.889454</td>\n",
       "      <td>3259.711914</td>\n",
       "      <td>495738.656250</td>\n",
       "      <td>6.618270e+06</td>\n",
       "      <td>-1113.655396</td>\n",
       "    </tr>\n",
       "  </tbody>\n",
       "</table>\n",
       "</div>"
      ],
      "text/plain": [
       "       FORCE_2020_LITHOFACIES_CONFIDENCE  FORCE_2020_LITHOFACIES_LITHOLOGY  \\\n",
       "count                       31934.000000                      31934.000000   \n",
       "mean                            1.182752                          1.585927   \n",
       "std                             0.492688                          1.783455   \n",
       "min                             1.000000                          0.000000   \n",
       "25%                             1.000000                          1.000000   \n",
       "50%                             1.000000                          1.000000   \n",
       "75%                             1.000000                          1.000000   \n",
       "max                             3.000000                          8.000000   \n",
       "\n",
       "               CALI           ROP          RDEP          RMED           DTC  \\\n",
       "count  31934.000000  31934.000000  31934.000000  31934.000000  31934.000000   \n",
       "mean      11.740156     38.586875      1.500075      1.529178    121.042012   \n",
       "std        3.168625     55.331240      1.874161      1.746316     26.157129   \n",
       "min        7.073111      0.138586      0.242654      0.341708     50.758595   \n",
       "25%        8.971709      7.116441      0.696926      0.749126     96.578419   \n",
       "50%       11.833512     25.437870      0.992239      1.011533    128.671097   \n",
       "75%       13.679868     41.433830      1.715923      1.777130    143.837753   \n",
       "max       23.329569   1083.425415     54.472031     55.211597    196.940887   \n",
       "\n",
       "               NPHI            GR          RHOB      DEPTH_MD          X_LOC  \\\n",
       "count  31934.000000  31934.000000  31934.000000  31934.000000   31934.000000   \n",
       "mean       0.428394     67.904198      2.186289   1994.461670  461104.123774   \n",
       "std        0.129519     28.611148      0.210988    494.941671   23507.826600   \n",
       "min        0.037976      5.849710      1.493417   1138.703980  437594.125000   \n",
       "25%        0.337652     46.751624      2.040754   1625.961426  437626.125000   \n",
       "50%        0.446670     68.818073      2.142625   1930.061462  463756.000000   \n",
       "75%        0.516540     89.814335      2.362035   2259.864746  495703.148438   \n",
       "max        0.993175    499.022583      2.889454   3259.711914  495738.656250   \n",
       "\n",
       "              Y_LOC         Z_LOC  \n",
       "count  3.193400e+04  31934.000000  \n",
       "mean   6.524594e+06  -1969.355291  \n",
       "std    6.350813e+04    494.696291  \n",
       "min    6.470976e+06  -3233.868652  \n",
       "25%    6.470982e+06  -2234.341248  \n",
       "50%    6.479870e+06  -1905.135070  \n",
       "75%    6.618250e+06  -1601.112884  \n",
       "max    6.618270e+06  -1113.655396  "
      ]
     },
     "execution_count": 89,
     "metadata": {},
     "output_type": "execute_result"
    }
   ],
   "source": [
    "merged_df.describe()"
   ]
  },
  {
   "cell_type": "code",
   "execution_count": 58,
   "id": "6a62b9d1",
   "metadata": {},
   "outputs": [
    {
     "data": {
      "text/plain": [
       "FORCE_2020_LITHOFACIES_CONFIDENCE    0\n",
       "FORCE_2020_LITHOFACIES_LITHOLOGY     0\n",
       "CALI                                 0\n",
       "ROP                                  0\n",
       "RDEP                                 0\n",
       "RMED                                 0\n",
       "DTC                                  0\n",
       "NPHI                                 0\n",
       "GR                                   0\n",
       "RHOB                                 0\n",
       "DEPTH_MD                             0\n",
       "X_LOC                                0\n",
       "Y_LOC                                0\n",
       "Z_LOC                                0\n",
       "dtype: int64"
      ]
     },
     "execution_count": 58,
     "metadata": {},
     "output_type": "execute_result"
    }
   ],
   "source": [
    "test_df.dropna(inplace=True)\n",
    "test_df.isna().sum()"
   ]
  },
  {
   "cell_type": "code",
   "execution_count": 90,
   "id": "1a75c068",
   "metadata": {},
   "outputs": [
    {
     "data": {
      "text/html": [
       "<div>\n",
       "<style scoped>\n",
       "    .dataframe tbody tr th:only-of-type {\n",
       "        vertical-align: middle;\n",
       "    }\n",
       "\n",
       "    .dataframe tbody tr th {\n",
       "        vertical-align: top;\n",
       "    }\n",
       "\n",
       "    .dataframe thead th {\n",
       "        text-align: right;\n",
       "    }\n",
       "</style>\n",
       "<table border=\"1\" class=\"dataframe\">\n",
       "  <thead>\n",
       "    <tr style=\"text-align: right;\">\n",
       "      <th></th>\n",
       "      <th>FORCE_2020_LITHOFACIES_CONFIDENCE</th>\n",
       "      <th>FORCE_2020_LITHOFACIES_LITHOLOGY</th>\n",
       "      <th>CALI</th>\n",
       "      <th>ROP</th>\n",
       "      <th>RDEP</th>\n",
       "      <th>RMED</th>\n",
       "      <th>DTC</th>\n",
       "      <th>NPHI</th>\n",
       "      <th>GR</th>\n",
       "      <th>RHOB</th>\n",
       "      <th>DEPTH_MD</th>\n",
       "      <th>X_LOC</th>\n",
       "      <th>Y_LOC</th>\n",
       "      <th>Z_LOC</th>\n",
       "      <th>Predicted_Lithofacies</th>\n",
       "    </tr>\n",
       "  </thead>\n",
       "  <tbody>\n",
       "    <tr>\n",
       "      <th>count</th>\n",
       "      <td>7637.000000</td>\n",
       "      <td>7637.000000</td>\n",
       "      <td>7637.000000</td>\n",
       "      <td>7637.000000</td>\n",
       "      <td>7637.000000</td>\n",
       "      <td>7637.000000</td>\n",
       "      <td>7637.000000</td>\n",
       "      <td>7637.000000</td>\n",
       "      <td>7637.000000</td>\n",
       "      <td>7637.000000</td>\n",
       "      <td>7637.000000</td>\n",
       "      <td>7637.000000</td>\n",
       "      <td>7.637000e+03</td>\n",
       "      <td>7637.000000</td>\n",
       "      <td>7637.000000</td>\n",
       "    </tr>\n",
       "    <tr>\n",
       "      <th>mean</th>\n",
       "      <td>1.007202</td>\n",
       "      <td>1.105670</td>\n",
       "      <td>8.628648</td>\n",
       "      <td>18.250968</td>\n",
       "      <td>4.135757</td>\n",
       "      <td>3.931837</td>\n",
       "      <td>86.814657</td>\n",
       "      <td>0.283717</td>\n",
       "      <td>94.053317</td>\n",
       "      <td>2.424214</td>\n",
       "      <td>2587.276025</td>\n",
       "      <td>525102.021810</td>\n",
       "      <td>6.760003e+06</td>\n",
       "      <td>-2428.301043</td>\n",
       "      <td>1.293571</td>\n",
       "    </tr>\n",
       "    <tr>\n",
       "      <th>std</th>\n",
       "      <td>0.084563</td>\n",
       "      <td>1.089122</td>\n",
       "      <td>0.255025</td>\n",
       "      <td>10.912010</td>\n",
       "      <td>15.066587</td>\n",
       "      <td>9.295297</td>\n",
       "      <td>13.293936</td>\n",
       "      <td>0.079773</td>\n",
       "      <td>36.753762</td>\n",
       "      <td>0.140003</td>\n",
       "      <td>335.349920</td>\n",
       "      <td>129.268869</td>\n",
       "      <td>1.079532e+02</td>\n",
       "      <td>289.940413</td>\n",
       "      <td>0.911757</td>\n",
       "    </tr>\n",
       "    <tr>\n",
       "      <th>min</th>\n",
       "      <td>1.000000</td>\n",
       "      <td>0.000000</td>\n",
       "      <td>8.350532</td>\n",
       "      <td>0.000000</td>\n",
       "      <td>0.196063</td>\n",
       "      <td>0.221645</td>\n",
       "      <td>51.216694</td>\n",
       "      <td>0.005246</td>\n",
       "      <td>11.948602</td>\n",
       "      <td>1.259571</td>\n",
       "      <td>2006.768433</td>\n",
       "      <td>524880.812500</td>\n",
       "      <td>6.759818e+06</td>\n",
       "      <td>-2933.491699</td>\n",
       "      <td>0.000000</td>\n",
       "    </tr>\n",
       "    <tr>\n",
       "      <th>25%</th>\n",
       "      <td>1.000000</td>\n",
       "      <td>1.000000</td>\n",
       "      <td>8.484835</td>\n",
       "      <td>10.625960</td>\n",
       "      <td>2.156236</td>\n",
       "      <td>2.108694</td>\n",
       "      <td>79.577675</td>\n",
       "      <td>0.241251</td>\n",
       "      <td>75.044930</td>\n",
       "      <td>2.358122</td>\n",
       "      <td>2296.936279</td>\n",
       "      <td>524990.562500</td>\n",
       "      <td>6.759909e+06</td>\n",
       "      <td>-2678.802979</td>\n",
       "      <td>1.000000</td>\n",
       "    </tr>\n",
       "    <tr>\n",
       "      <th>50%</th>\n",
       "      <td>1.000000</td>\n",
       "      <td>1.000000</td>\n",
       "      <td>8.535439</td>\n",
       "      <td>17.003277</td>\n",
       "      <td>3.353575</td>\n",
       "      <td>3.227577</td>\n",
       "      <td>84.137650</td>\n",
       "      <td>0.291729</td>\n",
       "      <td>95.143021</td>\n",
       "      <td>2.432551</td>\n",
       "      <td>2587.104492</td>\n",
       "      <td>525101.125000</td>\n",
       "      <td>6.760003e+06</td>\n",
       "      <td>-2427.824707</td>\n",
       "      <td>1.000000</td>\n",
       "    </tr>\n",
       "    <tr>\n",
       "      <th>75%</th>\n",
       "      <td>1.000000</td>\n",
       "      <td>1.000000</td>\n",
       "      <td>8.642564</td>\n",
       "      <td>24.712185</td>\n",
       "      <td>4.854348</td>\n",
       "      <td>4.650319</td>\n",
       "      <td>90.863632</td>\n",
       "      <td>0.328090</td>\n",
       "      <td>104.733299</td>\n",
       "      <td>2.518784</td>\n",
       "      <td>2877.424316</td>\n",
       "      <td>525213.000000</td>\n",
       "      <td>6.760098e+06</td>\n",
       "      <td>-2177.079590</td>\n",
       "      <td>1.000000</td>\n",
       "    </tr>\n",
       "    <tr>\n",
       "      <th>max</th>\n",
       "      <td>2.000000</td>\n",
       "      <td>9.000000</td>\n",
       "      <td>10.154138</td>\n",
       "      <td>98.062454</td>\n",
       "      <td>1122.036377</td>\n",
       "      <td>613.506958</td>\n",
       "      <td>135.261414</td>\n",
       "      <td>0.906257</td>\n",
       "      <td>243.851028</td>\n",
       "      <td>3.209886</td>\n",
       "      <td>3168.200439</td>\n",
       "      <td>525328.125000</td>\n",
       "      <td>6.760185e+06</td>\n",
       "      <td>-1927.132935</td>\n",
       "      <td>4.000000</td>\n",
       "    </tr>\n",
       "  </tbody>\n",
       "</table>\n",
       "</div>"
      ],
      "text/plain": [
       "       FORCE_2020_LITHOFACIES_CONFIDENCE  FORCE_2020_LITHOFACIES_LITHOLOGY  \\\n",
       "count                        7637.000000                       7637.000000   \n",
       "mean                            1.007202                          1.105670   \n",
       "std                             0.084563                          1.089122   \n",
       "min                             1.000000                          0.000000   \n",
       "25%                             1.000000                          1.000000   \n",
       "50%                             1.000000                          1.000000   \n",
       "75%                             1.000000                          1.000000   \n",
       "max                             2.000000                          9.000000   \n",
       "\n",
       "              CALI          ROP         RDEP         RMED          DTC  \\\n",
       "count  7637.000000  7637.000000  7637.000000  7637.000000  7637.000000   \n",
       "mean      8.628648    18.250968     4.135757     3.931837    86.814657   \n",
       "std       0.255025    10.912010    15.066587     9.295297    13.293936   \n",
       "min       8.350532     0.000000     0.196063     0.221645    51.216694   \n",
       "25%       8.484835    10.625960     2.156236     2.108694    79.577675   \n",
       "50%       8.535439    17.003277     3.353575     3.227577    84.137650   \n",
       "75%       8.642564    24.712185     4.854348     4.650319    90.863632   \n",
       "max      10.154138    98.062454  1122.036377   613.506958   135.261414   \n",
       "\n",
       "              NPHI           GR         RHOB     DEPTH_MD          X_LOC  \\\n",
       "count  7637.000000  7637.000000  7637.000000  7637.000000    7637.000000   \n",
       "mean      0.283717    94.053317     2.424214  2587.276025  525102.021810   \n",
       "std       0.079773    36.753762     0.140003   335.349920     129.268869   \n",
       "min       0.005246    11.948602     1.259571  2006.768433  524880.812500   \n",
       "25%       0.241251    75.044930     2.358122  2296.936279  524990.562500   \n",
       "50%       0.291729    95.143021     2.432551  2587.104492  525101.125000   \n",
       "75%       0.328090   104.733299     2.518784  2877.424316  525213.000000   \n",
       "max       0.906257   243.851028     3.209886  3168.200439  525328.125000   \n",
       "\n",
       "              Y_LOC        Z_LOC  Predicted_Lithofacies  \n",
       "count  7.637000e+03  7637.000000            7637.000000  \n",
       "mean   6.760003e+06 -2428.301043               1.293571  \n",
       "std    1.079532e+02   289.940413               0.911757  \n",
       "min    6.759818e+06 -2933.491699               0.000000  \n",
       "25%    6.759909e+06 -2678.802979               1.000000  \n",
       "50%    6.760003e+06 -2427.824707               1.000000  \n",
       "75%    6.760098e+06 -2177.079590               1.000000  \n",
       "max    6.760185e+06 -1927.132935               4.000000  "
      ]
     },
     "execution_count": 90,
     "metadata": {},
     "output_type": "execute_result"
    }
   ],
   "source": [
    "test_df.describe()"
   ]
  },
  {
   "cell_type": "code",
   "execution_count": 93,
   "id": "af38508d",
   "metadata": {},
   "outputs": [
    {
     "data": {
      "text/plain": [
       "array([5.95604897, 5.61439466, 5.51632118, ..., 0.77195448, 0.80860251,\n",
       "       0.80652905])"
      ]
     },
     "execution_count": 93,
     "metadata": {},
     "output_type": "execute_result"
    }
   ],
   "source": [
    "test_df[\"RDEP\"].unique()"
   ]
  },
  {
   "cell_type": "markdown",
   "id": "e2e95b38",
   "metadata": {},
   "source": [
    "### Split dataset into X_train and y_train"
   ]
  },
  {
   "cell_type": "code",
   "execution_count": 59,
   "id": "b9c08ae2",
   "metadata": {},
   "outputs": [],
   "source": [
    "X_train = merged_df.drop(\"FORCE_2020_LITHOFACIES_LITHOLOGY\", axis=1)\n",
    "y_train = merged_df[\"FORCE_2020_LITHOFACIES_LITHOLOGY\"]"
   ]
  },
  {
   "cell_type": "code",
   "execution_count": 60,
   "id": "12640989",
   "metadata": {},
   "outputs": [],
   "source": [
    "X_test = test_df.drop(\"FORCE_2020_LITHOFACIES_LITHOLOGY\", axis=1)\n",
    "y_test = test_df[\"FORCE_2020_LITHOFACIES_LITHOLOGY\"]"
   ]
  },
  {
   "cell_type": "code",
   "execution_count": 61,
   "id": "4da587f2",
   "metadata": {},
   "outputs": [
    {
     "name": "stdout",
     "output_type": "stream",
     "text": [
      "<class 'pandas.core.series.Series'>\n",
      "Float64Index: 31934 entries, 1138.704 to 2450.4757289\n",
      "Series name: FORCE_2020_LITHOFACIES_LITHOLOGY\n",
      "Non-Null Count  Dtype\n",
      "--------------  -----\n",
      "31934 non-null  Int64\n",
      "dtypes: Int64(1)\n",
      "memory usage: 530.2 KB\n"
     ]
    }
   ],
   "source": [
    "y_train.info()"
   ]
  },
  {
   "cell_type": "code",
   "execution_count": 62,
   "id": "eb93078d",
   "metadata": {},
   "outputs": [],
   "source": [
    "y_train = y_train.astype('int')"
   ]
  },
  {
   "cell_type": "code",
   "execution_count": 63,
   "id": "cf591b68",
   "metadata": {},
   "outputs": [],
   "source": [
    "y_test = y_test.astype('int')"
   ]
  },
  {
   "cell_type": "code",
   "execution_count": 64,
   "id": "fb9f44c7",
   "metadata": {},
   "outputs": [
    {
     "name": "stdout",
     "output_type": "stream",
     "text": [
      "<class 'pandas.core.series.Series'>\n",
      "Float64Index: 7637 entries, 2006.7684 to 3168.2004\n",
      "Series name: FORCE_2020_LITHOFACIES_LITHOLOGY\n",
      "Non-Null Count  Dtype\n",
      "--------------  -----\n",
      "7637 non-null   int32\n",
      "dtypes: int32(1)\n",
      "memory usage: 89.5 KB\n"
     ]
    }
   ],
   "source": [
    "y_test.info()"
   ]
  },
  {
   "cell_type": "code",
   "execution_count": 65,
   "id": "f04d3c22",
   "metadata": {
    "scrolled": false
   },
   "outputs": [
    {
     "data": {
      "text/plain": [
       "RandomForestClassifier()"
      ]
     },
     "execution_count": 65,
     "metadata": {},
     "output_type": "execute_result"
    }
   ],
   "source": [
    "clf.fit(X_train, y_train)"
   ]
  },
  {
   "cell_type": "code",
   "execution_count": 66,
   "id": "42b64f9f",
   "metadata": {},
   "outputs": [
    {
     "data": {
      "text/plain": [
       "0.7196543145214089"
      ]
     },
     "execution_count": 66,
     "metadata": {},
     "output_type": "execute_result"
    }
   ],
   "source": [
    "clf.score(X_test, y_test)"
   ]
  },
  {
   "cell_type": "code",
   "execution_count": 67,
   "id": "7e47c733",
   "metadata": {},
   "outputs": [],
   "source": [
    "clf_y_preds = clf.predict(X_test)"
   ]
  },
  {
   "cell_type": "code",
   "execution_count": 68,
   "id": "1338d552",
   "metadata": {},
   "outputs": [
    {
     "name": "stdout",
     "output_type": "stream",
     "text": [
      "Acc: 71.97%\n",
      "Precision: 0.72\n",
      "Recall: 0.72\n",
      "F1 score: 0.72\n"
     ]
    }
   ],
   "source": [
    "baseline_metrics = evaluate_preds(y_test, clf_y_preds)"
   ]
  },
  {
   "cell_type": "markdown",
   "id": "cb7fa8b1",
   "metadata": {},
   "source": [
    "#### tune classifiers hyper parameters by hand"
   ]
  },
  {
   "cell_type": "code",
   "execution_count": 69,
   "id": "285a1e0a",
   "metadata": {},
   "outputs": [
    {
     "name": "stdout",
     "output_type": "stream",
     "text": [
      "Acc: 73.97%\n",
      "Precision: 0.74\n",
      "Recall: 0.74\n",
      "F1 score: 0.74\n"
     ]
    }
   ],
   "source": [
    "clf_2 = RandomForestClassifier(n_estimators=100,\n",
    "                              max_depth=10)\n",
    "clf_2.fit(X_train, y_train)\n",
    "clf_2_y_preds = clf_2.predict(X_test)\n",
    "clf_2_metrics = evaluate_preds(y_test, clf_2_y_preds)"
   ]
  },
  {
   "cell_type": "code",
   "execution_count": 70,
   "id": "d669f33e",
   "metadata": {},
   "outputs": [
    {
     "name": "stdout",
     "output_type": "stream",
     "text": [
      "Acc: 73.97%\n",
      "Precision: 0.74\n",
      "Recall: 0.74\n",
      "F1 score: 0.74\n"
     ]
    }
   ],
   "source": [
    "clf_3 = RandomForestClassifier(n_estimators=350,\n",
    "                              max_depth=15)\n",
    "clf_3.fit(X_train, y_train)\n",
    "clf_3_y_preds = clf_2.predict(X_test)\n",
    "clf_3_metrics = evaluate_preds(y_test, clf_2_y_preds)"
   ]
  },
  {
   "cell_type": "code",
   "execution_count": 71,
   "id": "4d465ff3",
   "metadata": {},
   "outputs": [
    {
     "name": "stdout",
     "output_type": "stream",
     "text": [
      "Acc: 73.97%\n",
      "Precision: 0.74\n",
      "Recall: 0.74\n",
      "F1 score: 0.74\n"
     ]
    }
   ],
   "source": [
    "clf_4 = RandomForestClassifier(n_estimators=200,\n",
    "                              max_depth=10)\n",
    "clf_4.fit(X_train, y_train)\n",
    "clf_4_y_preds = clf_2.predict(X_test)\n",
    "clf_4_metrics = evaluate_preds(y_test, clf_2_y_preds)"
   ]
  },
  {
   "cell_type": "markdown",
   "id": "9de22a0e",
   "metadata": {},
   "source": [
    "### Tune Hyper parameters using RandomSearchCV"
   ]
  },
  {
   "cell_type": "markdown",
   "id": "6219c6e1",
   "metadata": {},
   "source": [
    "grid = {\"n_estimators\": [10, 100, 200, 500, 1000, 1200],\n",
    "       \"max_depth\": [None, 5, 10, 20, 30],\n",
    "       \"max_features\": [\"auto\", \"sqrt\"],\n",
    "       \"min_samples_split\": [2, 4, 6],\n",
    "       \"min_samples_leaf\": [1, 2, 4]}\n",
    "np.random.seed(42)"
   ]
  },
  {
   "cell_type": "markdown",
   "id": "e7b361fc",
   "metadata": {},
   "source": [
    "clf_3 = RandomizedSearchCV(clf, param_distributions=grid, n_iter=5, scoring=\"roc_auc\", n_jobs=-1, cv=5, verbose=3)\n",
    "clf_3.fit(X_train, y_train)\n",
    "clf_3_y_preds = clf_3.predict(X_test)\n",
    "clf_3_metrics = evaluate_preds(y_test, clf_3_y_preds)"
   ]
  },
  {
   "cell_type": "markdown",
   "id": "e164ac9d",
   "metadata": {},
   "source": [
    "### Using the Confusion Matrix on the clf_2 model\n",
    "\"Confusion Matrix\":  It is a quick way to compare the labels a model predicts and the actual labels it was supposed to predict. In essence, giving you an idea of where the model is getting confused"
   ]
  },
  {
   "cell_type": "code",
   "execution_count": 72,
   "id": "6c29c165",
   "metadata": {},
   "outputs": [
    {
     "data": {
      "text/plain": [
       "array([[ 790,  159,    5,  430,    0,    0,    0],\n",
       "       [   4, 4513,    2,  554,    0,    0,    0],\n",
       "       [  32,  463,   18,  214,    0,    0,    0],\n",
       "       [   0,   11,    0,  328,    1,    0,    0],\n",
       "       [   0,    0,    0,    0,    0,    0,    0],\n",
       "       [   0,   39,    0,    1,    0,    0,    0],\n",
       "       [  22,   47,    0,    4,    0,    0,    0]], dtype=int64)"
      ]
     },
     "execution_count": 72,
     "metadata": {},
     "output_type": "execute_result"
    }
   ],
   "source": [
    "from sklearn.metrics import confusion_matrix\n",
    "confusion_matrix(y_test, clf_2_y_preds)"
   ]
  },
  {
   "cell_type": "code",
   "execution_count": 73,
   "id": "9c190d61",
   "metadata": {},
   "outputs": [
    {
     "data": {
      "text/html": [
       "<div>\n",
       "<style scoped>\n",
       "    .dataframe tbody tr th:only-of-type {\n",
       "        vertical-align: middle;\n",
       "    }\n",
       "\n",
       "    .dataframe tbody tr th {\n",
       "        vertical-align: top;\n",
       "    }\n",
       "\n",
       "    .dataframe thead th {\n",
       "        text-align: right;\n",
       "    }\n",
       "</style>\n",
       "<table border=\"1\" class=\"dataframe\">\n",
       "  <thead>\n",
       "    <tr style=\"text-align: right;\">\n",
       "      <th>Predicted Labels</th>\n",
       "      <th>0</th>\n",
       "      <th>1</th>\n",
       "      <th>2</th>\n",
       "      <th>3</th>\n",
       "      <th>4</th>\n",
       "    </tr>\n",
       "    <tr>\n",
       "      <th>Actual Labels</th>\n",
       "      <th></th>\n",
       "      <th></th>\n",
       "      <th></th>\n",
       "      <th></th>\n",
       "      <th></th>\n",
       "    </tr>\n",
       "  </thead>\n",
       "  <tbody>\n",
       "    <tr>\n",
       "      <th>0</th>\n",
       "      <td>790</td>\n",
       "      <td>159</td>\n",
       "      <td>5</td>\n",
       "      <td>430</td>\n",
       "      <td>0</td>\n",
       "    </tr>\n",
       "    <tr>\n",
       "      <th>1</th>\n",
       "      <td>4</td>\n",
       "      <td>4513</td>\n",
       "      <td>2</td>\n",
       "      <td>554</td>\n",
       "      <td>0</td>\n",
       "    </tr>\n",
       "    <tr>\n",
       "      <th>2</th>\n",
       "      <td>32</td>\n",
       "      <td>463</td>\n",
       "      <td>18</td>\n",
       "      <td>214</td>\n",
       "      <td>0</td>\n",
       "    </tr>\n",
       "    <tr>\n",
       "      <th>3</th>\n",
       "      <td>0</td>\n",
       "      <td>11</td>\n",
       "      <td>0</td>\n",
       "      <td>328</td>\n",
       "      <td>1</td>\n",
       "    </tr>\n",
       "    <tr>\n",
       "      <th>6</th>\n",
       "      <td>0</td>\n",
       "      <td>39</td>\n",
       "      <td>0</td>\n",
       "      <td>1</td>\n",
       "      <td>0</td>\n",
       "    </tr>\n",
       "    <tr>\n",
       "      <th>9</th>\n",
       "      <td>22</td>\n",
       "      <td>47</td>\n",
       "      <td>0</td>\n",
       "      <td>4</td>\n",
       "      <td>0</td>\n",
       "    </tr>\n",
       "  </tbody>\n",
       "</table>\n",
       "</div>"
      ],
      "text/plain": [
       "Predicted Labels    0     1   2    3  4\n",
       "Actual Labels                          \n",
       "0                 790   159   5  430  0\n",
       "1                   4  4513   2  554  0\n",
       "2                  32   463  18  214  0\n",
       "3                   0    11   0  328  1\n",
       "6                   0    39   0    1  0\n",
       "9                  22    47   0    4  0"
      ]
     },
     "execution_count": 73,
     "metadata": {},
     "output_type": "execute_result"
    }
   ],
   "source": [
    "# Visualize confustion matrix with pd.crosstab\n",
    "pd.crosstab(y_test,\n",
    "           clf_2_y_preds,\n",
    "           rownames=[\"Actual Labels\"],\n",
    "           colnames=[\"Predicted Labels\"])"
   ]
  },
  {
   "cell_type": "markdown",
   "id": "f08717c4",
   "metadata": {},
   "source": [
    "### Creating a confusion matrix using Scikit-learn\n",
    "To use the new method of creating a confusion matrix with Scikit-learn you will need sklearn version 1.0+"
   ]
  },
  {
   "cell_type": "code",
   "execution_count": 74,
   "id": "a8799b1f",
   "metadata": {},
   "outputs": [
    {
     "data": {
      "text/plain": [
       "'1.0.2'"
      ]
     },
     "execution_count": 74,
     "metadata": {},
     "output_type": "execute_result"
    }
   ],
   "source": [
    "import sklearn\n",
    "sklearn.__version__"
   ]
  },
  {
   "cell_type": "code",
   "execution_count": 75,
   "id": "77ec64a2",
   "metadata": {},
   "outputs": [
    {
     "data": {
      "text/plain": [
       "<sklearn.metrics._plot.confusion_matrix.ConfusionMatrixDisplay at 0x1f3ea538c70>"
      ]
     },
     "execution_count": 75,
     "metadata": {},
     "output_type": "execute_result"
    },
    {
     "data": {
      "image/png": "[encoded data removed]",
      "text/plain": [
       "<Figure size 432x288 with 2 Axes>"
      ]
     },
     "metadata": {
      "needs_background": "light"
     },
     "output_type": "display_data"
    }
   ],
   "source": [
    "from sklearn.metrics import ConfusionMatrixDisplay\n",
    "\n",
    "ConfusionMatrixDisplay.from_predictions(y_true=y_test,\n",
    "                                       y_pred=clf_2_y_preds)"
   ]
  },
  {
   "cell_type": "markdown",
   "id": "bf9c0ae0",
   "metadata": {},
   "source": [
    "## Helper function to visualize the lithology curve"
   ]
  },
  {
   "cell_type": "markdown",
   "id": "e1bdf893",
   "metadata": {},
   "source": [
    "### Never run this cell\n",
    "lithology = {\n",
    "    30000: [0, \"Sandstone\"],\n",
    "    65000: [1, \"Shale\"],\n",
    "    65030: [2, \"Sandstone/Stone\"],\n",
    "    70000: [3, \"Limestone\"],\n",
    "    70032: [4, \"Chalk\"],\n",
    "    74000: [5, \"Dolomite\"],\n",
    "    80000: [6, \"Marl\"],\n",
    "    86000: [7, \"Anhydrite\"],\n",
    "    99000: [8, \"Tuff\"],\n",
    "    90000: [9, \"Coal\"]\n",
    "}\n",
    "[1, 0, 2, 3, 8, 6, 7, 5, 4]\n",
    "[\"Sandstone\", \"Shale\", \"Sandstone/Stone\", \"Limestone\", \"Tuff\", \"Marl\", \"Anhydrite\", \"Dolomite\", \"Chalk\", \"Coal\"]"
   ]
  },
  {
   "cell_type": "code",
   "execution_count": 76,
   "id": "6a6bd8f7",
   "metadata": {},
   "outputs": [],
   "source": [
    "test_df[\"Predicted_Lithofacies\"] = clf_2_y_preds"
   ]
  },
  {
   "cell_type": "code",
   "execution_count": 77,
   "id": "106cfddc",
   "metadata": {
    "scrolled": true
   },
   "outputs": [
    {
     "data": {
      "text/plain": [
       "<IntegerArray>\n",
       "[3, 6, 1, 2, 0, 9]\n",
       "Length: 6, dtype: Int64"
      ]
     },
     "execution_count": 77,
     "metadata": {},
     "output_type": "execute_result"
    }
   ],
   "source": [
    "test_df[\"FORCE_2020_LITHOFACIES_LITHOLOGY\"].unique()"
   ]
  },
  {
   "cell_type": "code",
   "execution_count": 78,
   "id": "71ae12e6",
   "metadata": {},
   "outputs": [
    {
     "data": {
      "text/plain": [
       "array([4, 3, 1, 0, 2])"
      ]
     },
     "execution_count": 78,
     "metadata": {},
     "output_type": "execute_result"
    }
   ],
   "source": [
    "test_df[\"Predicted_Lithofacies\"].unique()"
   ]
  },
  {
   "cell_type": "code",
   "execution_count": 79,
   "id": "698f22f6",
   "metadata": {},
   "outputs": [],
   "source": [
    "def make_facies_log_plot(logs, x1, x2, x3, x4, x5, Depth=False):\n",
    "\n",
    "    logs = logs.fillna(0)\n",
    "    if Depth == False:\n",
    "        logs['Depth'] = logs.index\n",
    "        Depth = 'Depth'\n",
    "        ztop=logs.Depth.min(); zbot=logs.Depth.max()\n",
    "    \n",
    "    else:\n",
    "        logs['Depth'] = logs[Depth]\n",
    "        Depth = 'Depth'\n",
    "        ztop=logs.Depth.min(); zbot=logs.Depth.max()\n",
    "        \n",
    "    logs = logs.sort_values(by='Depth', ascending=True)\n",
    "\n",
    "    facies_colors = [\n",
    "        '#196F3D', '#FF0000', '#00FFFF', '#000000', '#ff9900', '#00cc00', '#660099', '#ff8100', '#7400b6', \"#0099ff\"\n",
    "    ]\n",
    "\n",
    "    facies_labels = [\n",
    "        \"Sandstone\", \"Shale\", \"SS/Stone\", \"Limestone\", \"Chalk\", \"Dolomite\", \"Marl\", \"Anhydrite\", \"Tuff\", \"Coal\"\n",
    "    ]\n",
    "\n",
    "    facies_colormap = {}\n",
    "    for ind, label in enumerate(facies_labels):\n",
    "        facies_colormap[label] = facies_colors[ind]\n",
    "\n",
    "    no = 10\n",
    "    #no = len(list(dict(logs[target].value_counts())))\n",
    "    cmap_facies = colors.ListedColormap(\n",
    "            facies_colors[0 : no], 'indexed'\n",
    "            )\n",
    "\n",
    "    cluster=np.repeat(np.expand_dims(logs[\"FORCE_2020_LITHOFACIES_LITHOLOGY\"].astype(float).values,1), 100, 1)\n",
    "    cluster1=np.repeat(np.expand_dims(logs[\"Predicted_Lithofacies\"].astype(float).values,1), 100, 1)\n",
    "    \n",
    "    f, ax = plt.subplots(nrows=1, ncols=7, figsize=(12, 12))\n",
    "    ax[0].plot(logs[x1], logs.Depth, '-g')\n",
    "    ax[1].plot(logs[x2], logs.Depth, '-')\n",
    "    ax[2].plot(logs[x3], logs.Depth, '-', color='0.5')\n",
    "    ax[3].plot(logs[x4], logs.Depth, '-', color='r')\n",
    "    ax[4].plot(logs[x5], logs.Depth, '-', color='black')\n",
    "    im=ax[5].imshow(cluster, interpolation='none', aspect='auto',\n",
    "                    cmap=cmap_facies,vmin=0,vmax=9)\n",
    "    im1=ax[6].imshow(cluster1, interpolation='none', aspect='auto',\n",
    "                    cmap=cmap_facies,vmin=0,vmax=9)\n",
    "    \n",
    "    divider = make_axes_locatable(ax[6])\n",
    "    cax = divider.append_axes(\"right\", size=\"20%\", pad=0.05)\n",
    "    cbar=plt.colorbar(im, cax=cax)\n",
    "    cbar.set_label((10*' ').join([\n",
    "        \"Sandstone\", \"Shale\", \"SS/Stone\", \"Limestone\", \"Chalk\", \"Dolomite\", \"Marl\", \"Anhydrite\", \"Tuff\", \"Coal\"\n",
    "    ]))\n",
    "    cbar.set_ticks(range(0,1)); cbar.set_ticklabels('')\n",
    "    cbar1=plt.colorbar(im1, cax=cax)\n",
    "    cbar1.set_label((10*' ').join([\n",
    "        \"Sandstone\", \"Shale\", \"SS/Stone\", \"Limestone\", \"Chalk\", \"Dolomite\", \"Marl\", \"Anhydrite\", \"Tuff\", \"Coal\"\n",
    "    ]))\n",
    "    cbar1.set_ticks(range(0,1)); cbar1.set_ticklabels('')\n",
    "    \n",
    "    for i in range(len(ax)-2):\n",
    "        ax[i].set_ylim(ztop,zbot)\n",
    "        ax[i].invert_yaxis()\n",
    "        ax[i].grid()\n",
    "        ax[i].locator_params(axis='x', nbins=3)\n",
    "    \n",
    "    ax[0].set_xlabel(x1)\n",
    "    ax[0].set_xlim(0, logs[x1].max())\n",
    "    ax[1].set_xlabel(x2)\n",
    "    ax[1].set_xlim(1.8, logs[x2].max())\n",
    "    ax[2].set_xlabel(x3)\n",
    "    ax[2].set_xlim(0, logs[x3].max())\n",
    "    ax[3].set_xlabel(x4)\n",
    "    ax[3].set_xlim(0, logs[x4].max())\n",
    "    ax[4].set_xlabel(x5)\n",
    "    ax[4].set_xscale('log')\n",
    "    ax[4].set_xlim(logs[x5].min(), logs[x5].max())\n",
    "    ax[5].set_xlabel('Actual Lithofacies')\n",
    "    ax[6].set_xlabel('Predicted Lithofacies')\n",
    "    \n",
    "    ax[1].set_yticklabels([]); ax[2].set_yticklabels([]); ax[3].set_yticklabels([])\n",
    "    ax[4].set_yticklabels([]); ax[5].set_yticklabels([]); ax[6].set_yticklabels([])\n",
    "    ax[5].set_xticklabels([]), ax[6].set_xticklabels([])\n",
    "    f.suptitle('Well: NNNNN 05', fontsize=14,y=0.94)"
   ]
  },
  {
   "cell_type": "code",
   "execution_count": null,
   "id": "d1493491",
   "metadata": {},
   "outputs": [],
   "source": []
  },
  {
   "cell_type": "code",
   "execution_count": 80,
   "id": "2b8bf201",
   "metadata": {},
   "outputs": [],
   "source": [
    "import matplotlib.colors as colors"
   ]
  },
  {
   "cell_type": "code",
   "execution_count": 81,
   "id": "6fe03c37",
   "metadata": {},
   "outputs": [],
   "source": [
    "from mpl_toolkits.axes_grid1 import make_axes_locatable"
   ]
  },
  {
   "cell_type": "code",
   "execution_count": 139,
   "id": "794b4801",
   "metadata": {},
   "outputs": [],
   "source": [
    "def make_well_facies_log_plot(logs, x1, x2, x3, x4, Depth=False):\n",
    "\n",
    "    logs = logs.fillna(0)\n",
    "    if Depth == False:\n",
    "        logs['Depth'] = logs.index\n",
    "        Depth = 'Depth'\n",
    "        ztop=logs.Depth.min(); zbot=logs.Depth.max()\n",
    "    \n",
    "    else:\n",
    "        logs['Depth'] = logs[Depth]\n",
    "        Depth = 'Depth'\n",
    "        ztop=logs.Depth.min(); zbot=logs.Depth.max()\n",
    "        \n",
    "    logs = logs.sort_values(by='Depth', ascending=True)\n",
    "\n",
    "    facies_colors = [\n",
    "        '#196F3D', '#FF0000', '#00FFFF', '#000000', '#ff9900', '#00cc00', '#660099', '#ff8100', '#7400b6', \"#0099ff\"\n",
    "    ]\n",
    "\n",
    "    facies_labels = [\n",
    "        \"Sandstone\", \"Shale\", \"SS/Stone\", \"Limestone\", \"Chalk\", \"Dolomite\", \"Marl\", \"Anhydrite\", \"Tuff\", \"Coal\"\n",
    "    ]\n",
    "\n",
    "    facies_colormap = {}\n",
    "    for ind, label in enumerate(facies_labels):\n",
    "        facies_colormap[label] = facies_colors[ind]\n",
    "\n",
    "    no = 10\n",
    "    #no = len(list(dict(logs[target].value_counts())))\n",
    "    cmap_facies = colors.ListedColormap(\n",
    "            facies_colors[0 : no], 'indexed'\n",
    "            )\n",
    "\n",
    "    cluster=np.repeat(np.expand_dims(logs[\"FORCE_2020_LITHOFACIES_LITHOLOGY\"].astype(float).values,1), 100, 1)\n",
    "    cluster1=np.repeat(np.expand_dims(logs[\"Predicted_Lithofacies\"].astype(float).values,1), 100, 1)\n",
    "    \n",
    "    \n",
    "    f, ax = plt.subplots(nrows=1, ncols=6, figsize=(12, 12))\n",
    "    \n",
    "    # Plotting the first four curves\n",
    "    ax[0].plot(logs[x1], logs['Depth'], color='green', lw=0.5)\n",
    "    ax[1].plot(logs[x2], logs['Depth'], color='red', lw=0.5)\n",
    "#     ax[2].plot(logs[x3], logs['Depth'], color='blue', lw=0.5)\n",
    "    ax[2]= ax[1].twiny()\n",
    "    ax[2].plot(logs[x3], logs['Depth'], color='blue', lw=0.5)\n",
    "    ax[3].plot(logs[x4], logs['Depth'], color='black', lw=0.5)\n",
    "    \n",
    "    # Plotting lithofacies\n",
    "    im=ax[4].imshow(cluster, interpolation='none', aspect='auto',\n",
    "                    cmap=cmap_facies,vmin=0,vmax=9)\n",
    "    im1=ax[5].imshow(cluster1, interpolation='none', aspect='auto',\n",
    "                    cmap=cmap_facies,vmin=0,vmax=9)\n",
    "    \n",
    "    # Colorbars for lithofacies\n",
    "    divider = make_axes_locatable(ax[5])\n",
    "    cax = divider.append_axes(\"right\", size=\"20%\", pad=0.05)\n",
    "    cbar=plt.colorbar(im, cax=cax)\n",
    "    cbar.set_label((10*' ').join([\n",
    "        \"Sandstone\", \"Shale\", \"SS/Stone\", \"Limestone\", \"Chalk\", \"Dolomite\", \"Marl\", \"Anhydrite\", \"Tuff\", \"Coal\"\n",
    "    ]))\n",
    "    cbar.set_ticks(range(0,1)); cbar.set_ticklabels('')\n",
    "    cbar1=plt.colorbar(im1, cax=cax)\n",
    "    cbar1.set_label((10*' ').join([\n",
    "        \"Sandstone\", \"Shale\", \"SS/Stone\", \"Limestone\", \"Chalk\", \"Dolomite\", \"Marl\", \"Anhydrite\", \"Tuff\", \"Coal\"\n",
    "    ]))\n",
    "    cbar1.set_ticks(range(0,1)); cbar1.set_ticklabels('')\n",
    "    \n",
    "    # Common elements for each subplot\n",
    "    curve_names = [\"Gamma (gAPI)\", \"Density (g/cm3)\", \"Neutron (m3/m3)\", \"Resistivity (ohm.m)\"]\n",
    "    curve_colors = [\"green\", \"red\", \"blue\", \"black\"]\n",
    "    \n",
    "    for i, axi in enumerate(ax[:4]):\n",
    "        axi.set_ylim(ztop, zbot)\n",
    "        axi.set_xlabel(curve_names[i], color=curve_colors[i])\n",
    "        axi.xaxis.set_ticks_position(\"top\")\n",
    "        axi.xaxis.set_label_position(\"top\")\n",
    "        axi.grid()\n",
    "        if i == 2:\n",
    "#             axi.spines[\"top\"].set_position((\"axes\", 1.5))\n",
    "            axi.spines[\"top\"].set_position((\"axes\", 1.06))\n",
    "            print(\"yes\", i)\n",
    "#         axi.set_xlim(0, logs[curve_names[i].split()[0]].max())\n",
    "    \n",
    "    for axi in [ax[0], ax[3]]:\n",
    "        plt.setp(axi.get_yticklabels(), visible=False)\n",
    "    \n",
    "    ax[0].set_xlim(logs[x1].min(), logs[x1].max())\n",
    "    ax[1].set_xlim(logs[x2].min(), logs[x2].max())\n",
    "    ax[2].set_xlim(logs[x3].max(), logs[x3].min())\n",
    "    ax[3].set_xlim(1, 15)\n",
    "    ax[4].set_xlabel('Actual Lithofacies')\n",
    "    ax[5].set_xlabel('Predicted Lithofacies')\n",
    "    \n",
    "    ax[1].set_yticklabels([]); ax[2].set_yticklabels([]); ax[3].set_yticklabels([])\n",
    "    ax[4].set_yticklabels([]); ax[5].set_yticklabels([])\n",
    "    ax[4].set_xticklabels([]), ax[5].set_xticklabels([])\n",
    "    f.suptitle('Well: NNNNN 05', fontsize=14,y=0.98)"
   ]
  },
  {
   "cell_type": "code",
   "execution_count": 140,
   "id": "f05bb6df",
   "metadata": {},
   "outputs": [
    {
     "name": "stdout",
     "output_type": "stream",
     "text": [
      "yes 2\n"
     ]
    },
    {
     "data": {
      "image/png": "[encoded data removed]",
      "text/plain": [
       "<Figure size 864x864 with 8 Axes>"
      ]
     },
     "metadata": {
      "needs_background": "light"
     },
     "output_type": "display_data"
    }
   ],
   "source": [
    "make_well_facies_log_plot(test_df, \"GR\", \"RHOB\", \"NPHI\", \"RDEP\")"
   ]
  },
  {
   "cell_type": "code",
   "execution_count": 84,
   "id": "e94fa9ae",
   "metadata": {},
   "outputs": [
    {
     "data": {
      "text/html": [
       "<div>\n",
       "<style scoped>\n",
       "    .dataframe tbody tr th:only-of-type {\n",
       "        vertical-align: middle;\n",
       "    }\n",
       "\n",
       "    .dataframe tbody tr th {\n",
       "        vertical-align: top;\n",
       "    }\n",
       "\n",
       "    .dataframe thead th {\n",
       "        text-align: right;\n",
       "    }\n",
       "</style>\n",
       "<table border=\"1\" class=\"dataframe\">\n",
       "  <thead>\n",
       "    <tr style=\"text-align: right;\">\n",
       "      <th></th>\n",
       "      <th>FORCE_2020_LITHOFACIES_CONFIDENCE</th>\n",
       "      <th>FORCE_2020_LITHOFACIES_LITHOLOGY</th>\n",
       "      <th>CALI</th>\n",
       "      <th>ROP</th>\n",
       "      <th>RDEP</th>\n",
       "      <th>RMED</th>\n",
       "      <th>DTC</th>\n",
       "      <th>NPHI</th>\n",
       "      <th>GR</th>\n",
       "      <th>RHOB</th>\n",
       "      <th>DEPTH_MD</th>\n",
       "      <th>X_LOC</th>\n",
       "      <th>Y_LOC</th>\n",
       "      <th>Z_LOC</th>\n",
       "      <th>Predicted_Lithofacies</th>\n",
       "    </tr>\n",
       "    <tr>\n",
       "      <th>DEPT</th>\n",
       "      <th></th>\n",
       "      <th></th>\n",
       "      <th></th>\n",
       "      <th></th>\n",
       "      <th></th>\n",
       "      <th></th>\n",
       "      <th></th>\n",
       "      <th></th>\n",
       "      <th></th>\n",
       "      <th></th>\n",
       "      <th></th>\n",
       "      <th></th>\n",
       "      <th></th>\n",
       "      <th></th>\n",
       "      <th></th>\n",
       "    </tr>\n",
       "  </thead>\n",
       "  <tbody>\n",
       "    <tr>\n",
       "      <th>2006.7684</th>\n",
       "      <td>1.0</td>\n",
       "      <td>3</td>\n",
       "      <td>8.697309</td>\n",
       "      <td>34.552341</td>\n",
       "      <td>5.956049</td>\n",
       "      <td>6.200212</td>\n",
       "      <td>70.086960</td>\n",
       "      <td>0.108459</td>\n",
       "      <td>17.730841</td>\n",
       "      <td>2.521080</td>\n",
       "      <td>2006.768433</td>\n",
       "      <td>525328.1250</td>\n",
       "      <td>6759817.5</td>\n",
       "      <td>-1927.132935</td>\n",
       "      <td>4</td>\n",
       "    </tr>\n",
       "    <tr>\n",
       "      <th>2006.9204</th>\n",
       "      <td>1.0</td>\n",
       "      <td>3</td>\n",
       "      <td>8.695830</td>\n",
       "      <td>7.031337</td>\n",
       "      <td>5.614395</td>\n",
       "      <td>5.379041</td>\n",
       "      <td>70.030708</td>\n",
       "      <td>0.106238</td>\n",
       "      <td>16.300020</td>\n",
       "      <td>2.528838</td>\n",
       "      <td>2006.920410</td>\n",
       "      <td>525328.0625</td>\n",
       "      <td>6759817.5</td>\n",
       "      <td>-1927.264160</td>\n",
       "      <td>3</td>\n",
       "    </tr>\n",
       "    <tr>\n",
       "      <th>2007.0724</th>\n",
       "      <td>1.0</td>\n",
       "      <td>3</td>\n",
       "      <td>8.675874</td>\n",
       "      <td>7.773739</td>\n",
       "      <td>5.516321</td>\n",
       "      <td>5.238172</td>\n",
       "      <td>70.130882</td>\n",
       "      <td>0.104951</td>\n",
       "      <td>14.588662</td>\n",
       "      <td>2.524606</td>\n",
       "      <td>2007.072388</td>\n",
       "      <td>525328.0000</td>\n",
       "      <td>6759817.5</td>\n",
       "      <td>-1927.395386</td>\n",
       "      <td>3</td>\n",
       "    </tr>\n",
       "    <tr>\n",
       "      <th>2007.2244</th>\n",
       "      <td>1.0</td>\n",
       "      <td>3</td>\n",
       "      <td>8.655269</td>\n",
       "      <td>7.981925</td>\n",
       "      <td>5.454278</td>\n",
       "      <td>5.303133</td>\n",
       "      <td>70.183006</td>\n",
       "      <td>0.101850</td>\n",
       "      <td>14.689638</td>\n",
       "      <td>2.532143</td>\n",
       "      <td>2007.224365</td>\n",
       "      <td>525327.9375</td>\n",
       "      <td>6759817.5</td>\n",
       "      <td>-1927.526611</td>\n",
       "      <td>3</td>\n",
       "    </tr>\n",
       "    <tr>\n",
       "      <th>2007.3764</th>\n",
       "      <td>1.0</td>\n",
       "      <td>3</td>\n",
       "      <td>8.625407</td>\n",
       "      <td>8.184565</td>\n",
       "      <td>5.412792</td>\n",
       "      <td>5.343600</td>\n",
       "      <td>70.248016</td>\n",
       "      <td>0.100543</td>\n",
       "      <td>15.783114</td>\n",
       "      <td>2.532869</td>\n",
       "      <td>2007.376343</td>\n",
       "      <td>525327.9375</td>\n",
       "      <td>6759817.5</td>\n",
       "      <td>-1927.657837</td>\n",
       "      <td>3</td>\n",
       "    </tr>\n",
       "  </tbody>\n",
       "</table>\n",
       "</div>"
      ],
      "text/plain": [
       "           FORCE_2020_LITHOFACIES_CONFIDENCE  \\\n",
       "DEPT                                           \n",
       "2006.7684                                1.0   \n",
       "2006.9204                                1.0   \n",
       "2007.0724                                1.0   \n",
       "2007.2244                                1.0   \n",
       "2007.3764                                1.0   \n",
       "\n",
       "           FORCE_2020_LITHOFACIES_LITHOLOGY      CALI        ROP      RDEP  \\\n",
       "DEPT                                                                         \n",
       "2006.7684                                 3  8.697309  34.552341  5.956049   \n",
       "2006.9204                                 3  8.695830   7.031337  5.614395   \n",
       "2007.0724                                 3  8.675874   7.773739  5.516321   \n",
       "2007.2244                                 3  8.655269   7.981925  5.454278   \n",
       "2007.3764                                 3  8.625407   8.184565  5.412792   \n",
       "\n",
       "               RMED        DTC      NPHI         GR      RHOB     DEPTH_MD  \\\n",
       "DEPT                                                                         \n",
       "2006.7684  6.200212  70.086960  0.108459  17.730841  2.521080  2006.768433   \n",
       "2006.9204  5.379041  70.030708  0.106238  16.300020  2.528838  2006.920410   \n",
       "2007.0724  5.238172  70.130882  0.104951  14.588662  2.524606  2007.072388   \n",
       "2007.2244  5.303133  70.183006  0.101850  14.689638  2.532143  2007.224365   \n",
       "2007.3764  5.343600  70.248016  0.100543  15.783114  2.532869  2007.376343   \n",
       "\n",
       "                 X_LOC      Y_LOC        Z_LOC  Predicted_Lithofacies  \n",
       "DEPT                                                                   \n",
       "2006.7684  525328.1250  6759817.5 -1927.132935                      4  \n",
       "2006.9204  525328.0625  6759817.5 -1927.264160                      3  \n",
       "2007.0724  525328.0000  6759817.5 -1927.395386                      3  \n",
       "2007.2244  525327.9375  6759817.5 -1927.526611                      3  \n",
       "2007.3764  525327.9375  6759817.5 -1927.657837                      3  "
      ]
     },
     "execution_count": 84,
     "metadata": {},
     "output_type": "execute_result"
    }
   ],
   "source": [
    "test_df.head()"
   ]
  },
  {
   "cell_type": "code",
   "execution_count": null,
   "id": "f7150e70",
   "metadata": {},
   "outputs": [],
   "source": []
  },
  {
   "cell_type": "code",
   "execution_count": null,
   "id": "538f0b98",
   "metadata": {
    "scrolled": true
   },
   "outputs": [],
   "source": []
  },
  {
   "cell_type": "code",
   "execution_count": 85,
   "id": "828c9eed",
   "metadata": {
    "scrolled": false
   },
   "outputs": [
    {
     "data": {
      "image/png": "[encoded data removed]",
      "text/plain": [
       "<Figure size 864x864 with 8 Axes>"
      ]
     },
     "metadata": {
      "needs_background": "light"
     },
     "output_type": "display_data"
    }
   ],
   "source": [
    "make_facies_log_plot(test_df, \"GR\", \"CALI\", \"DTC\", \"NPHI\", \"RDEP\")"
   ]
  },
  {
   "cell_type": "code",
   "execution_count": 86,
   "id": "b9fa14f7",
   "metadata": {},
   "outputs": [],
   "source": [
    "# from hyperopt import fmin, tpe, hp"
   ]
  },
  {
   "cell_type": "code",
   "execution_count": null,
   "id": "63ab2bc9",
   "metadata": {},
   "outputs": [],
   "source": []
  }
 ],
 "metadata": {
  "kernelspec": {
   "display_name": "Python 3 (ipykernel)",
   "language": "python",
   "name": "python3"
  },
  "language_info": {
   "codemirror_mode": {
    "name": "ipython",
    "version": 3
   },
   "file_extension": ".py",
   "mimetype": "text/x-python",
   "name": "python",
   "nbconvert_exporter": "python",
   "pygments_lexer": "ipython3",
   "version": "3.9.12"
  }
 },
 "nbformat": 4,
 "nbformat_minor": 5
}
