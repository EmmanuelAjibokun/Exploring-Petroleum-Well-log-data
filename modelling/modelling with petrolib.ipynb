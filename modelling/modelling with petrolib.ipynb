{
 "cells": [
  {
   "cell_type": "code",
   "execution_count": null,
   "id": "63a19f36",
   "metadata": {},
   "outputs": [],
   "source": [
    "# # Install Package\n",
    "\n",
    "# %pip install petrolib==1.2.4.1"
   ]
  },
  {
   "cell_type": "code",
   "execution_count": 2,
   "id": "f5719095",
   "metadata": {},
   "outputs": [
    {
     "name": "stdout",
     "output_type": "stream",
     "text": [
      "Note: you may need to restart the kernel to use updated packages.Requirement already satisfied: petrolib in c:\\users\\manny\\anaconda3\\lib\\site-packages (1.2.4.1)\n",
      "\n",
      "Collecting petrolib\n",
      "  Downloading petrolib-1.2.6-py3-none-any.whl (32 kB)\n",
      "Collecting contextily\n",
      "  Downloading contextily-1.5.0-py3-none-any.whl (17 kB)\n",
      "Requirement already satisfied: numpy in c:\\users\\manny\\anaconda3\\lib\\site-packages (from petrolib) (1.21.5)\n",
      "Requirement already satisfied: lasio in c:\\users\\manny\\anaconda3\\lib\\site-packages (from petrolib) (0.31)\n",
      "Collecting geopandas\n",
      "  Downloading geopandas-0.14.3-py3-none-any.whl (1.1 MB)\n",
      "Requirement already satisfied: scipy in c:\\users\\manny\\anaconda3\\lib\\site-packages (from petrolib) (1.7.3)\n",
      "Requirement already satisfied: pandas in c:\\users\\manny\\anaconda3\\lib\\site-packages (from petrolib) (1.4.2)\n",
      "Requirement already satisfied: seaborn in c:\\users\\manny\\anaconda3\\lib\\site-packages (from petrolib) (0.11.2)\n",
      "Requirement already satisfied: matplotlib in c:\\users\\manny\\anaconda3\\lib\\site-packages (from petrolib) (3.5.1)\n",
      "Requirement already satisfied: requests in c:\\users\\manny\\anaconda3\\lib\\site-packages (from contextily->petrolib) (2.27.1)\n",
      "Requirement already satisfied: joblib in c:\\users\\manny\\anaconda3\\lib\\site-packages (from contextily->petrolib) (1.1.0)\n",
      "Requirement already satisfied: pillow in c:\\users\\manny\\anaconda3\\lib\\site-packages (from contextily->petrolib) (9.0.1)\n",
      "Collecting xyzservices\n",
      "  Downloading xyzservices-2023.10.1-py3-none-any.whl (56 kB)\n",
      "Collecting mercantile\n",
      "  Downloading mercantile-1.2.1-py3-none-any.whl (14 kB)\n",
      "Collecting geopy\n",
      "  Downloading geopy-2.4.1-py3-none-any.whl (125 kB)\n",
      "Collecting rasterio\n",
      "  Downloading rasterio-1.3.9-cp39-cp39-win_amd64.whl (23.4 MB)\n",
      "Collecting shapely>=1.8.0\n",
      "  Downloading shapely-2.0.2-cp39-cp39-win_amd64.whl (1.4 MB)\n",
      "Collecting fiona>=1.8.21\n",
      "  Downloading fiona-1.9.5-cp39-cp39-win_amd64.whl (22.9 MB)\n",
      "Requirement already satisfied: packaging in c:\\users\\manny\\anaconda3\\lib\\site-packages (from geopandas->petrolib) (21.3)\n",
      "Collecting pyproj>=3.3.0\n",
      "  Downloading pyproj-3.6.1-cp39-cp39-win_amd64.whl (6.1 MB)\n",
      "Collecting cligj>=0.5\n",
      "  Downloading cligj-0.7.2-py3-none-any.whl (7.1 kB)\n",
      "Collecting click-plugins>=1.0\n",
      "  Downloading click_plugins-1.1.1-py2.py3-none-any.whl (7.5 kB)\n",
      "Requirement already satisfied: six in c:\\users\\manny\\anaconda3\\lib\\site-packages (from fiona>=1.8.21->geopandas->petrolib) (1.16.0)\n",
      "Requirement already satisfied: setuptools in c:\\users\\manny\\anaconda3\\lib\\site-packages (from fiona>=1.8.21->geopandas->petrolib) (61.2.0)\n",
      "Requirement already satisfied: importlib-metadata in c:\\users\\manny\\anaconda3\\lib\\site-packages (from fiona>=1.8.21->geopandas->petrolib) (4.11.3)\n",
      "Requirement already satisfied: attrs>=19.2.0 in c:\\users\\manny\\anaconda3\\lib\\site-packages (from fiona>=1.8.21->geopandas->petrolib) (21.4.0)\n",
      "Requirement already satisfied: certifi in c:\\users\\manny\\anaconda3\\lib\\site-packages (from fiona>=1.8.21->geopandas->petrolib) (2021.10.8)\n",
      "Requirement already satisfied: click~=8.0 in c:\\users\\manny\\anaconda3\\lib\\site-packages (from fiona>=1.8.21->geopandas->petrolib) (8.0.4)\n",
      "Requirement already satisfied: colorama in c:\\users\\manny\\anaconda3\\lib\\site-packages (from click~=8.0->fiona>=1.8.21->geopandas->petrolib) (0.4.4)\n",
      "Requirement already satisfied: pytz>=2020.1 in c:\\users\\manny\\anaconda3\\lib\\site-packages (from pandas->petrolib) (2021.3)\n",
      "Requirement already satisfied: python-dateutil>=2.8.1 in c:\\users\\manny\\anaconda3\\lib\\site-packages (from pandas->petrolib) (2.8.2)\n",
      "Collecting geographiclib<3,>=1.52\n",
      "  Downloading geographiclib-2.0-py3-none-any.whl (40 kB)\n",
      "Requirement already satisfied: zipp>=0.5 in c:\\users\\manny\\anaconda3\\lib\\site-packages (from importlib-metadata->fiona>=1.8.21->geopandas->petrolib) (3.7.0)\n",
      "Requirement already satisfied: fonttools>=4.22.0 in c:\\users\\manny\\anaconda3\\lib\\site-packages (from matplotlib->petrolib) (4.25.0)\n",
      "Requirement already satisfied: kiwisolver>=1.0.1 in c:\\users\\manny\\anaconda3\\lib\\site-packages (from matplotlib->petrolib) (1.3.2)\n",
      "Requirement already satisfied: pyparsing>=2.2.1 in c:\\users\\manny\\anaconda3\\lib\\site-packages (from matplotlib->petrolib) (3.0.4)\n",
      "Requirement already satisfied: cycler>=0.10 in c:\\users\\manny\\anaconda3\\lib\\site-packages (from matplotlib->petrolib) (0.11.0)\n",
      "Collecting snuggs>=1.4.1\n",
      "  Downloading snuggs-1.4.7-py3-none-any.whl (5.4 kB)\n",
      "Collecting affine\n",
      "  Downloading affine-2.4.0-py3-none-any.whl (15 kB)\n",
      "Requirement already satisfied: urllib3<1.27,>=1.21.1 in c:\\users\\manny\\anaconda3\\lib\\site-packages (from requests->contextily->petrolib) (1.26.9)\n",
      "Requirement already satisfied: charset-normalizer~=2.0.0 in c:\\users\\manny\\anaconda3\\lib\\site-packages (from requests->contextily->petrolib) (2.0.4)\n",
      "Requirement already satisfied: idna<4,>=2.5 in c:\\users\\manny\\anaconda3\\lib\\site-packages (from requests->contextily->petrolib) (3.3)\n",
      "Installing collected packages: snuggs, geographiclib, cligj, click-plugins, affine, xyzservices, shapely, rasterio, pyproj, mercantile, geopy, fiona, geopandas, contextily, petrolib\n",
      "  Attempting uninstall: petrolib\n",
      "    Found existing installation: petrolib 1.2.4.1\n",
      "    Uninstalling petrolib-1.2.4.1:\n",
      "      Successfully uninstalled petrolib-1.2.4.1\n",
      "Successfully installed affine-2.4.0 click-plugins-1.1.1 cligj-0.7.2 contextily-1.5.0 fiona-1.9.5 geographiclib-2.0 geopandas-0.14.3 geopy-2.4.1 mercantile-1.2.1 petrolib-1.2.6 pyproj-3.6.1 rasterio-1.3.9 shapely-2.0.2 snuggs-1.4.7 xyzservices-2023.10.1\n"
     ]
    }
   ],
   "source": [
    "pip install -U petrolib"
   ]
  },
  {
   "cell_type": "code",
   "execution_count": 3,
   "id": "1b648911",
   "metadata": {},
   "outputs": [],
   "source": [
    "import petrolib"
   ]
  },
  {
   "cell_type": "code",
   "execution_count": 4,
   "id": "4f95c7f9",
   "metadata": {},
   "outputs": [],
   "source": [
    "# Load packages\n",
    "import pandas as pd\n",
    "from pathlib import Path\n",
    "from warnings import filterwarnings\n",
    "from matplotlib import pyplot as plt\n",
    "filterwarnings('ignore')\n",
    "\n",
    "import petrolib\n",
    "\n",
    "from petrolib.file_reader import load_las\n",
    "from petrolib.procs import process_data, set_alias, trim, model_facies\n",
    "from petrolib.stats import displayFreq, Correlation\n",
    "from petrolib.interp import crossPlot, picketPlot\n",
    "from petrolib.plots import *\n",
    "from petrolib.workflow import Quanti"
   ]
  },
  {
   "cell_type": "code",
   "execution_count": 5,
   "id": "18948200",
   "metadata": {},
   "outputs": [
    {
     "data": {
      "text/plain": [
       "'1.2.6'"
      ]
     },
     "execution_count": 5,
     "metadata": {},
     "output_type": "execute_result"
    }
   ],
   "source": [
    "petrolib.__version__"
   ]
  },
  {
   "cell_type": "code",
   "execution_count": 6,
   "id": "9ca7e83f",
   "metadata": {},
   "outputs": [],
   "source": [
    "path = Path('./')\n",
    "\n",
    "from glob import glob\n",
    "paths = sorted(glob('data/*.las'))"
   ]
  },
  {
   "cell_type": "code",
   "execution_count": 8,
   "id": "9c44fa96",
   "metadata": {},
   "outputs": [],
   "source": [
    "path = Path('./')\n",
    "\n",
    "from glob import glob\n",
    "paths = sorted(glob('../train-data/*.las'))"
   ]
  },
  {
   "cell_type": "code",
   "execution_count": 9,
   "id": "205ee1d8",
   "metadata": {},
   "outputs": [
    {
     "data": {
      "text/plain": [
       "[]"
      ]
     },
     "execution_count": 9,
     "metadata": {},
     "output_type": "execute_result"
    }
   ],
   "source": [
    "paths"
   ]
  },
  {
   "cell_type": "code",
   "execution_count": null,
   "id": "ed7179cd",
   "metadata": {},
   "outputs": [],
   "source": []
  }
 ],
 "metadata": {
  "kernelspec": {
   "display_name": "Python 3 (ipykernel)",
   "language": "python",
   "name": "python3"
  },
  "language_info": {
   "codemirror_mode": {
    "name": "ipython",
    "version": 3
   },
   "file_extension": ".py",
   "mimetype": "text/x-python",
   "name": "python",
   "nbconvert_exporter": "python",
   "pygments_lexer": "ipython3",
   "version": "3.9.12"
  }
 },
 "nbformat": 4,
 "nbformat_minor": 5
}
