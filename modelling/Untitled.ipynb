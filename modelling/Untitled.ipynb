{
 "cells": [
  {
   "cell_type": "code",
   "execution_count": 10,
   "id": "ea7379d0",
   "metadata": {},
   "outputs": [],
   "source": [
    "import pandas as pd\n",
    "import sklearn\n",
    "import matplotlib.pyplot as plt\n",
    "import seaborn as sns\n",
    "import numpy as np"
   ]
  },
  {
   "cell_type": "code",
   "execution_count": 9,
   "id": "abc99724",
   "metadata": {},
   "outputs": [],
   "source": [
    "import sklearn"
   ]
  },
  {
   "cell_type": "markdown",
   "id": "6462a30b",
   "metadata": {},
   "source": [
    "# Welcome to Geostatistics class"
   ]
  },
  {
   "cell_type": "markdown",
   "id": "68f5d8fd",
   "metadata": {},
   "source": [
    "# What is machine learning?\n",
    "    It is the ability of computer to learn from data, without being explicitly programmed.\n",
    "\n",
    "### Types of machine learning\n",
    "#### Supervised learning: \n",
    "    this is the process of learning in which machines or algorithms are trained with labelled datasets, which act as the supervisor, teaching the machine to predict the output currectly. In supervised learning process, input data and correct output data are applied to the algorithm to learn function `f` which maps the input variable `X` with output variable `Y` based on training examples. `Y` is f(x) where `y` is the predicted output, `x` is the applied input. \n",
    "\n",
    "#### types of supervised learning\n",
    "1. classification problems: the following are examples\n",
    "    decision tree, randomforest, bayes classifier, support vector machine.\n",
    "2. Regression task: some algorithms for this are:\n",
    "    linear regression, non linear regression, polynomial regression, randomforest, support forest, decision tree regression, lasso regression.\n",
    "    \n",
    "##### Real life classification task\n",
    "    1. classification of an area into natural disaster categories, such as flood susceptability\n",
    "    2. classification of images such as landsat images into land cover images\n",
    "    3. classification of imcomming emails into spam and non spams\n",
    "    4. classification of customers into categories based on purchasing behaviour\n",
    "    \n",
    "`Supervised learning deals with labelled data while unsupervised learning deals with unlabelled data.`\n",
    "\n",
    "##### Real life Regression problems\n",
    "    It has to do with relationship or dependencies between two or more variables\n",
    "    1. Financial forcasting\n",
    "    2. Weather Forcasting\n",
    "    3. Business sales forcasting\n",
    "    4. Time series modelling\n",
    "    5. Share market trend predictions\n",
    "    \n",
    "Unsupervised Learning\n",
    "This is the process of learning in which machines or algorithms find patterns in unlabelled input data with the aim of finding relationship within the data in order to group data point, datasets are analysed to self discover importants naturally occuring patterns in the training data.\n",
    "Steps in supervised learning\n",
    "    1. determine the type of training dataset required\n",
    "    2. acquire labelled training datasets\n",
    "    3. split dataset into training and testing datasets\n",
    "    4. determin the features of training datasets\n",
    "    5. select appropraite algorithm for training\n",
    "    6. train the algorithm with the training data\n",
    "    7. test or evaluate the accuracy of the trained model by applying the testing data\n",
    "    8. repeat step 6 if the predicted output is low until model accuracy is improved upon\n",
    "    \n",
    "    Training of model: Using training data in order for the model to learn about each type of model set and be able to identify similar pattern in the dataset.\n",
    "    \n",
    "    testing of model: it means applying testing data to the model trained with training data"
   ]
  },
  {
   "cell_type": "code",
   "execution_count": null,
   "id": "7e5bea10",
   "metadata": {},
   "outputs": [],
   "source": []
  }
 ],
 "metadata": {
  "kernelspec": {
   "display_name": "Python 3 (ipykernel)",
   "language": "python",
   "name": "python3"
  },
  "language_info": {
   "codemirror_mode": {
    "name": "ipython",
    "version": 3
   },
   "file_extension": ".py",
   "mimetype": "text/x-python",
   "name": "python",
   "nbconvert_exporter": "python",
   "pygments_lexer": "ipython3",
   "version": "3.9.12"
  }
 },
 "nbformat": 4,
 "nbformat_minor": 5
}
